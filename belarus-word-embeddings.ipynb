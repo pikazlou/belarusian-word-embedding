{
 "cells": [
  {
   "cell_type": "code",
   "execution_count": 1,
   "id": "de7b8b0c",
   "metadata": {},
   "outputs": [],
   "source": [
    "import re\n",
    "import gensim\n",
    "from gensim.parsing.preprocessing import strip_punctuation, strip_short, strip_numeric, strip_multiple_whitespaces, remove_stopwords\n",
    "from gensim.models.word2vec import LineSentence\n",
    "from gensim.models import Word2Vec\n",
    "from gensim.models.callbacks import CallbackAny2Vec\n",
    "import urllib.request\n",
    "import zipfile\n",
    "import lzma\n",
    "import shutil\n",
    "import matplotlib.pyplot as plt"
   ]
  },
  {
   "cell_type": "code",
   "execution_count": 2,
   "id": "7dc6904a",
   "metadata": {},
   "outputs": [
    {
     "name": "stderr",
     "output_type": "stream",
     "text": [
      "INFO:root:Logging initialized\n"
     ]
    }
   ],
   "source": [
    "import logging\n",
    "logging.basicConfig(level=logging.INFO, force = True)\n",
    "logger = logging.getLogger()\n",
    "logger.info(\"Logging initialized\")"
   ]
  },
  {
   "cell_type": "code",
   "execution_count": 3,
   "id": "63844db8",
   "metadata": {},
   "outputs": [
    {
     "data": {
      "text/plain": [
       "('GrammarDB.zip', <http.client.HTTPMessage at 0x17a84bb10>)"
      ]
     },
     "execution_count": 3,
     "metadata": {},
     "output_type": "execute_result"
    }
   ],
   "source": [
    "#Link found here: https://metatext.io/datasets/cc100-belarusian\n",
    "urllib.request.urlretrieve('https://data.statmt.org/cc-100/be.txt.xz', \n",
    "                           'be.txt.xz')\n",
    "\n",
    "urllib.request.urlretrieve('https://github.com/Belarus/GrammarDB/archive/refs/tags/PUBLICATION_2021.zip', \n",
    "                           'GrammarDB.zip')"
   ]
  },
  {
   "cell_type": "code",
   "execution_count": 4,
   "id": "999d375c",
   "metadata": {},
   "outputs": [],
   "source": [
    "with lzma.open(\"be.txt.xz\", \"rb\") as fsrc:\n",
    "    with open(\"be.txt\", \"wb\") as fdst:\n",
    "        shutil.copyfileobj(fsrc, fdst)\n",
    "\n",
    "with zipfile.ZipFile('GrammarDB.zip', 'r') as zip_ref:\n",
    "    zip_ref.extractall('.')"
   ]
  },
  {
   "cell_type": "code",
   "execution_count": 5,
   "id": "49326e47",
   "metadata": {},
   "outputs": [],
   "source": [
    "import xml.dom.minidom\n",
    "from itertools import islice\n",
    "\n",
    "def calculate_mapping_from_forms_to_base(filepath, tag_prefixes=[]):\n",
    "    xml_doc = xml.dom.minidom.parse(filepath)\n",
    "    paradigms = xml_doc.getElementsByTagName('Paradigm')\n",
    "    result = {}\n",
    "    collision_count = 0\n",
    "    collisions = set()\n",
    "    for paradigm in paradigms:\n",
    "        tag = paradigm.getAttribute('tag')\n",
    "        if len(tag_prefixes) == 0 or any([tag.startswith(p) for p in tag_prefixes]):\n",
    "            variants = paradigm.getElementsByTagName('Variant')\n",
    "            for variant in variants:\n",
    "                base = variant.getAttribute('lemma').replace(\"+\", \"\").lower()\n",
    "                forms = variant.getElementsByTagName('Form')\n",
    "                local_map = {}\n",
    "                citation_count = max([form.getAttribute('slouniki').count(',') for form in forms]) + 1\n",
    "                for form in forms:\n",
    "                    if len(form.childNodes) > 0:\n",
    "                        word = form.childNodes[0].data.replace(\"+\", \"\").lower()\n",
    "                        local_map[word] = (base, citation_count)\n",
    "                for k, v in local_map.items():\n",
    "                    if k in result:\n",
    "                        if result[k][1] == v[1] and result[k][0] != v[0]:\n",
    "                            collision_count += 1\n",
    "                            collisions.add(v[0])\n",
    "                            collisions.add(result[k][0])\n",
    "                        elif result[k][1] < v[1]:\n",
    "                            result[k] = v\n",
    "                    else:\n",
    "                        result[k] = v\n",
    "                    \n",
    "    logger.info(f\"Collisions (forms leading to different base word, and having same amount of citation): {collision_count}\")\n",
    "    logger.info(f\"Examples of collisions: {list(islice(collisions, 5))}\")\n",
    "    for k in result:\n",
    "        result[k] = result[k][0]\n",
    "    return result"
   ]
  },
  {
   "cell_type": "code",
   "execution_count": 6,
   "id": "048cd3f1",
   "metadata": {},
   "outputs": [
    {
     "name": "stderr",
     "output_type": "stream",
     "text": [
      "INFO:root:Collisions (forms leading to different base word, and having same amount of citation): 2597\n",
      "INFO:root:Examples of collisions: ['скарадзіць', 'нахмыліць', 'вырушыцца', 'адхіляцца', 'пагоршаць']\n",
      "INFO:root:Collisions (forms leading to different base word, and having same amount of citation): 33\n",
      "INFO:root:Examples of collisions: ['мачулішча', 'мачулішчы', 'герцэгавіна', 'полацак', 'герцагавіна']\n",
      "INFO:root:Collisions (forms leading to different base word, and having same amount of citation): 1345\n",
      "INFO:root:Examples of collisions: ['ашуканец', 'выскрабкі', 'басок', 'вершнік', 'звязка']\n",
      "INFO:root:Collisions (forms leading to different base word, and having same amount of citation): 1155\n",
      "INFO:root:Examples of collisions: ['касмач', 'камін', 'наждачок', 'птушаня', 'лічыльнікі']\n",
      "INFO:root:Collisions (forms leading to different base word, and having same amount of citation): 954\n",
      "INFO:root:Examples of collisions: ['ціролец', 'схоў', 'сперматагонія', 'флабафен', 'этруска']\n",
      "INFO:root:Collisions (forms leading to different base word, and having same amount of citation): 51\n",
      "INFO:root:Examples of collisions: ['дакалумбавы', 'крэчатаў', 'вітавы', 'дэкартаў', 'дэкартавы']\n",
      "INFO:root:Collisions (forms leading to different base word, and having same amount of citation): 37\n",
      "INFO:root:Examples of collisions: ['пупартаў', 'чэпікаў', 'чыжовы', 'пупартавы', 'чэпікавы']\n"
     ]
    }
   ],
   "source": [
    "#verbs\n",
    "v = calculate_mapping_from_forms_to_base('GrammarDB-PUBLICATION_2021/V.xml')\n",
    "\n",
    "#proper nouns\n",
    "np = calculate_mapping_from_forms_to_base('GrammarDB-PUBLICATION_2021/NP.xml', ['NPII'])\n",
    "\n",
    "#nouns\n",
    "n1 = calculate_mapping_from_forms_to_base('GrammarDB-PUBLICATION_2021/N1.xml')\n",
    "n2 = calculate_mapping_from_forms_to_base('GrammarDB-PUBLICATION_2021/N2.xml')\n",
    "n3 = calculate_mapping_from_forms_to_base('GrammarDB-PUBLICATION_2021/N3.xml')\n",
    "\n",
    "#adjectives\n",
    "adj1 = calculate_mapping_from_forms_to_base('GrammarDB-PUBLICATION_2021/A1.xml', ['ARP', 'AQP'])\n",
    "adj2 = calculate_mapping_from_forms_to_base('GrammarDB-PUBLICATION_2021/A2.xml', ['ARP', 'AQP'])\n",
    "\n",
    "WORD_MAP = {}\n",
    "WORD_MAP.update(v)\n",
    "WORD_MAP.update(np)\n",
    "WORD_MAP.update(n1)\n",
    "WORD_MAP.update(n2)\n",
    "WORD_MAP.update(n3)\n",
    "WORD_MAP.update(adj1)\n",
    "WORD_MAP.update(adj2)"
   ]
  },
  {
   "cell_type": "code",
   "execution_count": 7,
   "id": "a11b12a9",
   "metadata": {},
   "outputs": [
    {
     "name": "stdout",
     "output_type": "stream",
     "text": [
      "2262708\n"
     ]
    }
   ],
   "source": [
    "print(len(WORD_MAP))"
   ]
  },
  {
   "cell_type": "code",
   "execution_count": 8,
   "id": "48c63417",
   "metadata": {},
   "outputs": [
    {
     "name": "stdout",
     "output_type": "stream",
     "text": [
      "рух\n",
      "беларусь\n"
     ]
    }
   ],
   "source": [
    "print(WORD_MAP['рухам'])\n",
    "print(WORD_MAP['беларусі'])"
   ]
  },
  {
   "cell_type": "code",
   "execution_count": 9,
   "id": "ca36540b",
   "metadata": {},
   "outputs": [],
   "source": [
    "def strip_trailing_newline(iterable):\n",
    "    for i in iterable:\n",
    "        yield i.rstrip()\n",
    "\n",
    "CHARACTERS_MAP = {'’': '\\'', 'ý': 'ў', ' ў': ' у', 'i': 'і', 'ньн': 'нн', 'цьц': 'цц', 'сьц': 'сц', 'сьл':'сл', 'дзьдз': 'ддз', 'сьв': 'св', 'зьв': 'зв', 'сьп': 'сп', 'сьс': 'сс', 'сьн': 'сн', 'зьм': 'зм', 'зьн': 'зн', 'зьл': 'зл'}\n",
    "def replace_characters(iterable):\n",
    "    for s in iterable:\n",
    "        for k, v in CHARACTERS_MAP.items():\n",
    "            s = s.replace(k, v)\n",
    "        yield s\n",
    "\n",
    "def split_sentences(iterable):\n",
    "    for i in iterable:\n",
    "        merged_dots = re.sub(\"[\\.]+\", \".\", i)\n",
    "        sentences = merged_dots.split('.')\n",
    "        for s in sentences:\n",
    "            yield s\n",
    "\n",
    "STOPWORDS = []\n",
    "removed_words = []\n",
    "def preprocess_sentences(iterable):\n",
    "    for i in iterable:\n",
    "        s = strip_multiple_whitespaces(strip_numeric(strip_short(strip_punctuation(i))))\n",
    "        s = s.lower()\n",
    "        s = re.sub(\"[«»“”„…—°′²]\", \"\", s)\n",
    "        s = remove_stopwords(s, stopwords=STOPWORDS)\n",
    "        words = s.split()\n",
    "        s = ' '.join([WORD_MAP[w] for w in words if w in WORD_MAP])\n",
    "        removed_words.extend([w for w in words if w not in WORD_MAP])\n",
    "        yield s\n",
    "\n",
    "def remove_short_lines(iterable):\n",
    "    for i in iterable:\n",
    "        if not i.isspace() and len(i) >= 20:\n",
    "            yield i\n"
   ]
  },
  {
   "cell_type": "code",
   "execution_count": 10,
   "id": "1044a584",
   "metadata": {},
   "outputs": [],
   "source": [
    "with open('be.txt', 'r') as original_file:\n",
    "    with open('processed-corpus.txt', 'w') as sentences_file:\n",
    "        with open('removed-words.txt', 'w') as removed_words_file:\n",
    "            for s in remove_short_lines(preprocess_sentences(split_sentences(replace_characters(strip_trailing_newline(original_file))))):\n",
    "                sentences_file.write(s + \"\\n\")\n",
    "                removed_words_file.write(' '.join(removed_words) + \"\\n\")\n",
    "                removed_words.clear()"
   ]
  },
  {
   "cell_type": "code",
   "execution_count": 11,
   "id": "ab9fc39e",
   "metadata": {},
   "outputs": [],
   "source": [
    "loss_list = []\n",
    "class Callback(CallbackAny2Vec):\n",
    "    def __init__(self):\n",
    "        self.epoch = 0\n",
    "\n",
    "    def on_epoch_end(self, model):\n",
    "        loss = model.get_latest_training_loss()\n",
    "        loss_list.append(loss)\n",
    "        logger.info('Loss after epoch {}:{}'.format(self.epoch, loss))\n",
    "        model.running_training_loss = 0.0\n",
    "        self.epoch = self.epoch + 1"
   ]
  },
  {
   "cell_type": "code",
   "execution_count": 12,
   "id": "61e8337d",
   "metadata": {},
   "outputs": [
    {
     "name": "stderr",
     "output_type": "stream",
     "text": [
      "INFO:gensim.utils:Word2Vec lifecycle event {'params': 'Word2Vec<vocab=0, vector_size=100, alpha=0.025>', 'datetime': '2023-05-05T10:16:24.394852', 'gensim': '4.3.1', 'python': '3.11.3 | packaged by conda-forge | (main, Apr  6 2023, 09:05:00) [Clang 14.0.6 ]', 'platform': 'macOS-12.6-x86_64-i386-64bit', 'event': 'created'}\n"
     ]
    }
   ],
   "source": [
    "model = Word2Vec(vector_size=100, window=3, min_count=10, workers=5)"
   ]
  },
  {
   "cell_type": "code",
   "execution_count": 13,
   "id": "35054bd1",
   "metadata": {},
   "outputs": [],
   "source": [
    "sentences = LineSentence('processed-corpus.txt')"
   ]
  },
  {
   "cell_type": "code",
   "execution_count": 14,
   "id": "615cf92b",
   "metadata": {},
   "outputs": [
    {
     "name": "stderr",
     "output_type": "stream",
     "text": [
      "INFO:gensim.models.word2vec:collecting all words and their counts\n",
      "INFO:gensim.models.word2vec:PROGRESS: at sentence #0, processed 0 words, keeping 0 word types\n",
      "INFO:gensim.models.word2vec:PROGRESS: at sentence #5000000, processed 41353448 words, keeping 101039 word types\n",
      "INFO:gensim.models.word2vec:PROGRESS: at sentence #10000000, processed 82784072 words, keeping 114213 word types\n",
      "INFO:gensim.models.word2vec:PROGRESS: at sentence #15000000, processed 124129473 words, keeping 121720 word types\n",
      "INFO:gensim.models.word2vec:PROGRESS: at sentence #20000000, processed 165510513 words, keeping 126666 word types\n",
      "INFO:gensim.models.word2vec:collected 129343 word types from a corpus of 193789105 raw words and 23429177 sentences\n",
      "INFO:gensim.models.word2vec:Creating a fresh vocabulary\n",
      "INFO:gensim.utils:Word2Vec lifecycle event {'msg': 'effective_min_count=10 retains 78934 unique words (61.03% of original 129343, drops 50409)', 'datetime': '2023-05-05T10:17:38.971814', 'gensim': '4.3.1', 'python': '3.11.3 | packaged by conda-forge | (main, Apr  6 2023, 09:05:00) [Clang 14.0.6 ]', 'platform': 'macOS-12.6-x86_64-i386-64bit', 'event': 'prepare_vocab'}\n",
      "INFO:gensim.utils:Word2Vec lifecycle event {'msg': 'effective_min_count=10 leaves 193619610 word corpus (99.91% of original 193789105, drops 169495)', 'datetime': '2023-05-05T10:17:38.973040', 'gensim': '4.3.1', 'python': '3.11.3 | packaged by conda-forge | (main, Apr  6 2023, 09:05:00) [Clang 14.0.6 ]', 'platform': 'macOS-12.6-x86_64-i386-64bit', 'event': 'prepare_vocab'}\n",
      "INFO:gensim.models.word2vec:deleting the raw counts dictionary of 129343 items\n",
      "INFO:gensim.models.word2vec:sample=0.001 downsamples 19 most-common words\n",
      "INFO:gensim.utils:Word2Vec lifecycle event {'msg': 'downsampling leaves estimated 187015272.51547945 word corpus (96.6%% of prior 193619610)', 'datetime': '2023-05-05T10:17:39.250631', 'gensim': '4.3.1', 'python': '3.11.3 | packaged by conda-forge | (main, Apr  6 2023, 09:05:00) [Clang 14.0.6 ]', 'platform': 'macOS-12.6-x86_64-i386-64bit', 'event': 'prepare_vocab'}\n",
      "INFO:gensim.models.word2vec:estimated required memory for 78934 words and 100 dimensions: 102614200 bytes\n",
      "INFO:gensim.models.word2vec:resetting layer weights\n",
      "INFO:gensim.utils:Word2Vec lifecycle event {'update': False, 'trim_rule': 'None', 'datetime': '2023-05-05T10:17:39.776023', 'gensim': '4.3.1', 'python': '3.11.3 | packaged by conda-forge | (main, Apr  6 2023, 09:05:00) [Clang 14.0.6 ]', 'platform': 'macOS-12.6-x86_64-i386-64bit', 'event': 'build_vocab'}\n"
     ]
    }
   ],
   "source": [
    "model.build_vocab(sentences, progress_per=5000000)"
   ]
  },
  {
   "cell_type": "code",
   "execution_count": 15,
   "id": "867dc13c",
   "metadata": {},
   "outputs": [
    {
     "name": "stderr",
     "output_type": "stream",
     "text": [
      "INFO:gensim.utils:Word2Vec lifecycle event {'msg': 'training model with 5 workers on 78934 vocabulary and 100 features, using sg=0 hs=0 sample=0.001 negative=5 window=3 shrink_windows=True', 'datetime': '2023-05-05T10:17:54.191014', 'gensim': '4.3.1', 'python': '3.11.3 | packaged by conda-forge | (main, Apr  6 2023, 09:05:00) [Clang 14.0.6 ]', 'platform': 'macOS-12.6-x86_64-i386-64bit', 'event': 'train'}\n",
      "INFO:gensim.models.word2vec:EPOCH 0 - PROGRESS: at 0.80% examples, 1493237 words/s, in_qsize 9, out_qsize 0\n",
      "INFO:gensim.models.word2vec:EPOCH 0: training on 193789105 raw words (187017073 effective words) took 131.4s, 1423628 effective words/s\n",
      "INFO:root:Loss after epoch 0:38100428.0\n",
      "INFO:gensim.models.word2vec:EPOCH 1 - PROGRESS: at 0.72% examples, 1348792 words/s, in_qsize 9, out_qsize 0\n",
      "INFO:gensim.models.word2vec:EPOCH 1: training on 193789105 raw words (187014748 effective words) took 125.8s, 1487075 effective words/s\n",
      "INFO:root:Loss after epoch 1:47589192.0\n",
      "INFO:gensim.models.word2vec:EPOCH 2 - PROGRESS: at 0.75% examples, 1389288 words/s, in_qsize 9, out_qsize 0\n",
      "INFO:gensim.models.word2vec:EPOCH 2: training on 193789105 raw words (187018719 effective words) took 125.9s, 1485744 effective words/s\n",
      "INFO:root:Loss after epoch 2:46308784.0\n",
      "INFO:gensim.models.word2vec:EPOCH 3 - PROGRESS: at 0.76% examples, 1425869 words/s, in_qsize 8, out_qsize 1\n",
      "INFO:gensim.models.word2vec:EPOCH 3: training on 193789105 raw words (187013297 effective words) took 125.3s, 1492425 effective words/s\n",
      "INFO:root:Loss after epoch 3:45342504.0\n",
      "INFO:gensim.models.word2vec:EPOCH 4 - PROGRESS: at 0.75% examples, 1384229 words/s, in_qsize 9, out_qsize 0\n",
      "INFO:gensim.models.word2vec:EPOCH 4: training on 193789105 raw words (187014965 effective words) took 125.6s, 1488723 effective words/s\n",
      "INFO:root:Loss after epoch 4:44166472.0\n",
      "INFO:gensim.models.word2vec:EPOCH 5 - PROGRESS: at 0.76% examples, 1410389 words/s, in_qsize 9, out_qsize 0\n",
      "INFO:gensim.models.word2vec:EPOCH 5: training on 193789105 raw words (187015123 effective words) took 126.2s, 1482084 effective words/s\n",
      "INFO:root:Loss after epoch 5:43663200.0\n",
      "INFO:gensim.models.word2vec:EPOCH 6 - PROGRESS: at 0.75% examples, 1395919 words/s, in_qsize 8, out_qsize 2\n",
      "INFO:gensim.models.word2vec:EPOCH 6: training on 193789105 raw words (187014794 effective words) took 125.2s, 1494313 effective words/s\n",
      "INFO:root:Loss after epoch 6:43059828.0\n",
      "INFO:gensim.models.word2vec:EPOCH 7 - PROGRESS: at 0.73% examples, 1357683 words/s, in_qsize 9, out_qsize 3\n",
      "INFO:gensim.models.word2vec:EPOCH 7: training on 193789105 raw words (187015398 effective words) took 129.5s, 1444609 effective words/s\n",
      "INFO:root:Loss after epoch 7:42723244.0\n",
      "INFO:gensim.models.word2vec:EPOCH 8 - PROGRESS: at 0.75% examples, 1384611 words/s, in_qsize 9, out_qsize 0\n",
      "INFO:gensim.models.word2vec:EPOCH 8: training on 193789105 raw words (187014893 effective words) took 132.0s, 1417104 effective words/s\n",
      "INFO:root:Loss after epoch 8:42237512.0\n",
      "INFO:gensim.models.word2vec:EPOCH 9 - PROGRESS: at 0.55% examples, 1016566 words/s, in_qsize 9, out_qsize 0\n",
      "INFO:gensim.models.word2vec:EPOCH 9: training on 193789105 raw words (187015101 effective words) took 129.0s, 1449886 effective words/s\n",
      "INFO:root:Loss after epoch 9:41830816.0\n",
      "INFO:gensim.models.word2vec:EPOCH 10 - PROGRESS: at 0.79% examples, 1415866 words/s, in_qsize 10, out_qsize 0\n",
      "INFO:gensim.models.word2vec:EPOCH 10: training on 193789105 raw words (187016946 effective words) took 125.7s, 1488343 effective words/s\n",
      "INFO:root:Loss after epoch 10:41576748.0\n",
      "INFO:gensim.models.word2vec:EPOCH 11 - PROGRESS: at 0.80% examples, 1461639 words/s, in_qsize 9, out_qsize 0\n",
      "INFO:gensim.models.word2vec:EPOCH 11: training on 193789105 raw words (187016206 effective words) took 123.5s, 1513975 effective words/s\n",
      "INFO:root:Loss after epoch 11:41217368.0\n",
      "INFO:gensim.models.word2vec:EPOCH 12 - PROGRESS: at 0.79% examples, 1464357 words/s, in_qsize 10, out_qsize 0\n",
      "INFO:gensim.models.word2vec:EPOCH 12: training on 193789105 raw words (187016357 effective words) took 124.1s, 1506548 effective words/s\n",
      "INFO:root:Loss after epoch 12:40988348.0\n",
      "INFO:gensim.models.word2vec:EPOCH 13 - PROGRESS: at 0.75% examples, 1403671 words/s, in_qsize 9, out_qsize 0\n",
      "INFO:gensim.models.word2vec:EPOCH 13: training on 193789105 raw words (187014286 effective words) took 125.4s, 1491721 effective words/s\n",
      "INFO:root:Loss after epoch 13:40868828.0\n",
      "INFO:gensim.models.word2vec:EPOCH 14 - PROGRESS: at 0.77% examples, 1435246 words/s, in_qsize 10, out_qsize 1\n",
      "INFO:gensim.models.word2vec:EPOCH 14: training on 193789105 raw words (187017259 effective words) took 125.7s, 1487463 effective words/s\n",
      "INFO:root:Loss after epoch 14:40629272.0\n",
      "INFO:gensim.models.word2vec:EPOCH 15 - PROGRESS: at 0.77% examples, 1411475 words/s, in_qsize 9, out_qsize 0\n",
      "INFO:gensim.models.word2vec:EPOCH 15: training on 193789105 raw words (187016710 effective words) took 125.2s, 1493624 effective words/s\n",
      "INFO:root:Loss after epoch 15:40727528.0\n",
      "INFO:gensim.models.word2vec:EPOCH 16 - PROGRESS: at 0.78% examples, 1425214 words/s, in_qsize 9, out_qsize 1\n",
      "INFO:gensim.models.word2vec:EPOCH 16: training on 193789105 raw words (187016196 effective words) took 127.9s, 1462745 effective words/s\n",
      "INFO:root:Loss after epoch 16:40649292.0\n",
      "INFO:gensim.models.word2vec:EPOCH 17 - PROGRESS: at 0.74% examples, 1368047 words/s, in_qsize 9, out_qsize 1\n",
      "INFO:gensim.models.word2vec:EPOCH 17: training on 193789105 raw words (187015910 effective words) took 125.3s, 1493116 effective words/s\n",
      "INFO:root:Loss after epoch 17:40358428.0\n",
      "INFO:gensim.models.word2vec:EPOCH 18 - PROGRESS: at 0.77% examples, 1426399 words/s, in_qsize 9, out_qsize 0\n",
      "INFO:gensim.models.word2vec:EPOCH 18: training on 193789105 raw words (187017165 effective words) took 126.2s, 1482494 effective words/s\n",
      "INFO:root:Loss after epoch 18:40374164.0\n",
      "INFO:gensim.models.word2vec:EPOCH 19 - PROGRESS: at 0.69% examples, 1262749 words/s, in_qsize 10, out_qsize 3\n",
      "INFO:gensim.models.word2vec:EPOCH 19: training on 193789105 raw words (187016623 effective words) took 132.0s, 1417052 effective words/s\n",
      "INFO:root:Loss after epoch 19:40204200.0\n",
      "INFO:gensim.models.word2vec:EPOCH 20 - PROGRESS: at 0.75% examples, 1405074 words/s, in_qsize 9, out_qsize 0\n",
      "INFO:gensim.models.word2vec:EPOCH 20: training on 193789105 raw words (187013095 effective words) took 125.7s, 1487434 effective words/s\n",
      "INFO:root:Loss after epoch 20:39962652.0\n",
      "INFO:gensim.models.word2vec:EPOCH 21 - PROGRESS: at 0.76% examples, 1396966 words/s, in_qsize 10, out_qsize 0\n",
      "INFO:gensim.models.word2vec:EPOCH 21: training on 193789105 raw words (187012687 effective words) took 126.9s, 1474131 effective words/s\n",
      "INFO:root:Loss after epoch 21:39697688.0\n",
      "INFO:gensim.models.word2vec:EPOCH 22 - PROGRESS: at 0.74% examples, 1371594 words/s, in_qsize 8, out_qsize 1\n",
      "INFO:gensim.models.word2vec:EPOCH 22: training on 193789105 raw words (187014718 effective words) took 125.6s, 1488650 effective words/s\n",
      "INFO:root:Loss after epoch 22:39830372.0\n",
      "INFO:gensim.models.word2vec:EPOCH 23 - PROGRESS: at 0.76% examples, 1416247 words/s, in_qsize 9, out_qsize 0\n",
      "INFO:gensim.models.word2vec:EPOCH 23: training on 193789105 raw words (187013621 effective words) took 126.1s, 1483485 effective words/s\n",
      "INFO:root:Loss after epoch 23:39847672.0\n",
      "INFO:gensim.models.word2vec:EPOCH 24 - PROGRESS: at 0.74% examples, 1366954 words/s, in_qsize 9, out_qsize 0\n",
      "INFO:gensim.models.word2vec:EPOCH 24: training on 193789105 raw words (187014056 effective words) took 125.6s, 1488740 effective words/s\n",
      "INFO:root:Loss after epoch 24:39755188.0\n",
      "INFO:gensim.models.word2vec:EPOCH 25 - PROGRESS: at 0.78% examples, 1441526 words/s, in_qsize 9, out_qsize 0\n",
      "INFO:gensim.models.word2vec:EPOCH 25: training on 193789105 raw words (187015422 effective words) took 125.9s, 1485306 effective words/s\n",
      "INFO:root:Loss after epoch 25:39209144.0\n",
      "INFO:gensim.models.word2vec:EPOCH 26 - PROGRESS: at 0.74% examples, 1377645 words/s, in_qsize 9, out_qsize 0\n",
      "INFO:gensim.models.word2vec:EPOCH 26: training on 193789105 raw words (187009688 effective words) took 126.6s, 1477279 effective words/s\n",
      "INFO:root:Loss after epoch 26:39637164.0\n",
      "INFO:gensim.models.word2vec:EPOCH 27 - PROGRESS: at 0.77% examples, 1428859 words/s, in_qsize 9, out_qsize 0\n"
     ]
    },
    {
     "name": "stderr",
     "output_type": "stream",
     "text": [
      "INFO:gensim.models.word2vec:EPOCH 27: training on 193789105 raw words (187016636 effective words) took 124.3s, 1504733 effective words/s\n",
      "INFO:root:Loss after epoch 27:39622732.0\n",
      "INFO:gensim.models.word2vec:EPOCH 28 - PROGRESS: at 0.76% examples, 1425118 words/s, in_qsize 9, out_qsize 0\n",
      "INFO:gensim.models.word2vec:EPOCH 28: training on 193789105 raw words (187014393 effective words) took 123.8s, 1510022 effective words/s\n",
      "INFO:root:Loss after epoch 28:39749392.0\n",
      "INFO:gensim.models.word2vec:EPOCH 29 - PROGRESS: at 0.77% examples, 1420660 words/s, in_qsize 7, out_qsize 2\n",
      "INFO:gensim.models.word2vec:EPOCH 29: training on 193789105 raw words (187014477 effective words) took 124.4s, 1503695 effective words/s\n",
      "INFO:root:Loss after epoch 29:39323976.0\n",
      "INFO:gensim.models.word2vec:EPOCH 30 - PROGRESS: at 0.76% examples, 1405208 words/s, in_qsize 10, out_qsize 2\n",
      "INFO:gensim.models.word2vec:EPOCH 30: training on 193789105 raw words (187014882 effective words) took 123.8s, 1510757 effective words/s\n",
      "INFO:root:Loss after epoch 30:39423020.0\n",
      "INFO:gensim.models.word2vec:EPOCH 31 - PROGRESS: at 0.76% examples, 1420739 words/s, in_qsize 9, out_qsize 0\n",
      "INFO:gensim.models.word2vec:EPOCH 31: training on 193789105 raw words (187015911 effective words) took 124.9s, 1496969 effective words/s\n",
      "INFO:root:Loss after epoch 31:39357796.0\n",
      "INFO:gensim.models.word2vec:EPOCH 32 - PROGRESS: at 0.75% examples, 1388639 words/s, in_qsize 4, out_qsize 1\n",
      "INFO:gensim.models.word2vec:EPOCH 32: training on 193789105 raw words (187011615 effective words) took 127.3s, 1468572 effective words/s\n",
      "INFO:root:Loss after epoch 32:39561044.0\n",
      "INFO:gensim.models.word2vec:EPOCH 33 - PROGRESS: at 0.81% examples, 1507348 words/s, in_qsize 9, out_qsize 0\n",
      "INFO:gensim.models.word2vec:EPOCH 33: training on 193789105 raw words (187015524 effective words) took 129.0s, 1449939 effective words/s\n",
      "INFO:root:Loss after epoch 33:39574900.0\n",
      "INFO:gensim.models.word2vec:EPOCH 34 - PROGRESS: at 0.70% examples, 1292078 words/s, in_qsize 9, out_qsize 0\n",
      "INFO:gensim.models.word2vec:EPOCH 34: training on 193789105 raw words (187017810 effective words) took 134.4s, 1391456 effective words/s\n",
      "INFO:root:Loss after epoch 34:39305156.0\n",
      "INFO:gensim.models.word2vec:EPOCH 35 - PROGRESS: at 0.73% examples, 1360827 words/s, in_qsize 10, out_qsize 0\n",
      "INFO:gensim.models.word2vec:EPOCH 35: training on 193789105 raw words (187015278 effective words) took 129.4s, 1445184 effective words/s\n",
      "INFO:root:Loss after epoch 35:39263876.0\n",
      "INFO:gensim.models.word2vec:EPOCH 36 - PROGRESS: at 0.75% examples, 1398716 words/s, in_qsize 9, out_qsize 0\n",
      "INFO:gensim.models.word2vec:EPOCH 36: training on 193789105 raw words (187015215 effective words) took 129.2s, 1447539 effective words/s\n",
      "INFO:root:Loss after epoch 36:39541408.0\n",
      "INFO:gensim.models.word2vec:EPOCH 37 - PROGRESS: at 0.73% examples, 1336209 words/s, in_qsize 9, out_qsize 0\n",
      "INFO:gensim.models.word2vec:EPOCH 37: training on 193789105 raw words (187014069 effective words) took 133.5s, 1400776 effective words/s\n",
      "INFO:root:Loss after epoch 37:39359532.0\n",
      "INFO:gensim.models.word2vec:EPOCH 38 - PROGRESS: at 0.78% examples, 1437358 words/s, in_qsize 9, out_qsize 0\n",
      "INFO:gensim.models.word2vec:EPOCH 38: training on 193789105 raw words (187014884 effective words) took 129.4s, 1444984 effective words/s\n",
      "INFO:root:Loss after epoch 38:39329436.0\n",
      "INFO:gensim.models.word2vec:EPOCH 39 - PROGRESS: at 0.79% examples, 1449987 words/s, in_qsize 9, out_qsize 0\n",
      "INFO:gensim.models.word2vec:EPOCH 39: training on 193789105 raw words (187013727 effective words) took 125.9s, 1485601 effective words/s\n",
      "INFO:root:Loss after epoch 39:39265236.0\n",
      "INFO:gensim.models.word2vec:EPOCH 40 - PROGRESS: at 0.71% examples, 1314447 words/s, in_qsize 9, out_qsize 0\n",
      "INFO:gensim.models.word2vec:EPOCH 40: training on 193789105 raw words (187015303 effective words) took 126.8s, 1475297 effective words/s\n",
      "INFO:root:Loss after epoch 40:39080464.0\n",
      "INFO:gensim.models.word2vec:EPOCH 41 - PROGRESS: at 0.75% examples, 1393761 words/s, in_qsize 9, out_qsize 0\n",
      "INFO:gensim.models.word2vec:EPOCH 41: training on 193789105 raw words (187016656 effective words) took 126.6s, 1477071 effective words/s\n",
      "INFO:root:Loss after epoch 41:39159600.0\n",
      "INFO:gensim.models.word2vec:EPOCH 42 - PROGRESS: at 0.74% examples, 1371733 words/s, in_qsize 9, out_qsize 0\n",
      "INFO:gensim.models.word2vec:EPOCH 42: training on 193789105 raw words (187016647 effective words) took 129.6s, 1442916 effective words/s\n",
      "INFO:root:Loss after epoch 42:39399192.0\n",
      "INFO:gensim.models.word2vec:EPOCH 43 - PROGRESS: at 0.74% examples, 1372963 words/s, in_qsize 9, out_qsize 0\n",
      "INFO:gensim.models.word2vec:EPOCH 43: training on 193789105 raw words (187015908 effective words) took 126.1s, 1483031 effective words/s\n",
      "INFO:root:Loss after epoch 43:39132992.0\n",
      "INFO:gensim.models.word2vec:EPOCH 44 - PROGRESS: at 0.75% examples, 1401628 words/s, in_qsize 9, out_qsize 2\n",
      "INFO:gensim.models.word2vec:EPOCH 44: training on 193789105 raw words (187012160 effective words) took 127.7s, 1464562 effective words/s\n",
      "INFO:root:Loss after epoch 44:38930152.0\n",
      "INFO:gensim.models.word2vec:EPOCH 45 - PROGRESS: at 0.78% examples, 1435683 words/s, in_qsize 9, out_qsize 1\n",
      "INFO:gensim.models.word2vec:EPOCH 45: training on 193789105 raw words (187013443 effective words) took 125.3s, 1491958 effective words/s\n",
      "INFO:root:Loss after epoch 45:39267748.0\n",
      "INFO:gensim.models.word2vec:EPOCH 46 - PROGRESS: at 0.74% examples, 1386952 words/s, in_qsize 9, out_qsize 0\n",
      "INFO:gensim.models.word2vec:EPOCH 46: training on 193789105 raw words (187012768 effective words) took 127.1s, 1471884 effective words/s\n",
      "INFO:root:Loss after epoch 46:39152376.0\n",
      "INFO:gensim.models.word2vec:EPOCH 47 - PROGRESS: at 0.79% examples, 1473129 words/s, in_qsize 9, out_qsize 0\n",
      "INFO:gensim.models.word2vec:EPOCH 47: training on 193789105 raw words (187013843 effective words) took 126.7s, 1476541 effective words/s\n",
      "INFO:root:Loss after epoch 47:39299980.0\n",
      "INFO:gensim.models.word2vec:EPOCH 48 - PROGRESS: at 0.75% examples, 1405937 words/s, in_qsize 9, out_qsize 0\n",
      "INFO:gensim.models.word2vec:EPOCH 48: training on 193789105 raw words (187015752 effective words) took 127.1s, 1471179 effective words/s\n",
      "INFO:root:Loss after epoch 48:38941384.0\n",
      "INFO:gensim.models.word2vec:EPOCH 49 - PROGRESS: at 0.75% examples, 1395012 words/s, in_qsize 8, out_qsize 1\n",
      "INFO:gensim.models.word2vec:EPOCH 49: training on 193789105 raw words (187017160 effective words) took 125.2s, 1493338 effective words/s\n",
      "INFO:root:Loss after epoch 49:39086032.0\n",
      "INFO:gensim.models.word2vec:EPOCH 50 - PROGRESS: at 0.75% examples, 1397162 words/s, in_qsize 9, out_qsize 0\n",
      "INFO:gensim.models.word2vec:EPOCH 50: training on 193789105 raw words (187012047 effective words) took 126.3s, 1480483 effective words/s\n",
      "INFO:root:Loss after epoch 50:39099384.0\n",
      "INFO:gensim.models.word2vec:EPOCH 51 - PROGRESS: at 0.76% examples, 1414063 words/s, in_qsize 9, out_qsize 0\n",
      "INFO:gensim.models.word2vec:EPOCH 51: training on 193789105 raw words (187013138 effective words) took 124.8s, 1499037 effective words/s\n",
      "INFO:root:Loss after epoch 51:39242988.0\n",
      "INFO:gensim.models.word2vec:EPOCH 52 - PROGRESS: at 0.76% examples, 1412362 words/s, in_qsize 10, out_qsize 0\n",
      "INFO:gensim.models.word2vec:EPOCH 52: training on 193789105 raw words (187016174 effective words) took 125.7s, 1487208 effective words/s\n",
      "INFO:root:Loss after epoch 52:39018216.0\n",
      "INFO:gensim.models.word2vec:EPOCH 53 - PROGRESS: at 0.72% examples, 1333402 words/s, in_qsize 9, out_qsize 2\n",
      "INFO:gensim.models.word2vec:EPOCH 53: training on 193789105 raw words (187014156 effective words) took 127.0s, 1472279 effective words/s\n",
      "INFO:root:Loss after epoch 53:38881724.0\n",
      "INFO:gensim.models.word2vec:EPOCH 54 - PROGRESS: at 0.80% examples, 1483249 words/s, in_qsize 8, out_qsize 1\n",
      "INFO:gensim.models.word2vec:EPOCH 54: training on 193789105 raw words (187018107 effective words) took 125.7s, 1488170 effective words/s\n",
      "INFO:root:Loss after epoch 54:39036920.0\n",
      "INFO:gensim.models.word2vec:EPOCH 55 - PROGRESS: at 0.78% examples, 1454732 words/s, in_qsize 9, out_qsize 0\n",
      "INFO:gensim.models.word2vec:EPOCH 55: training on 193789105 raw words (187015271 effective words) took 124.8s, 1498709 effective words/s\n",
      "INFO:root:Loss after epoch 55:38926112.0\n"
     ]
    },
    {
     "name": "stderr",
     "output_type": "stream",
     "text": [
      "INFO:gensim.models.word2vec:EPOCH 56 - PROGRESS: at 0.77% examples, 1411917 words/s, in_qsize 7, out_qsize 4\n",
      "INFO:gensim.models.word2vec:EPOCH 56: training on 193789105 raw words (187015267 effective words) took 128.0s, 1460535 effective words/s\n",
      "INFO:root:Loss after epoch 56:39040568.0\n",
      "INFO:gensim.models.word2vec:EPOCH 57 - PROGRESS: at 0.73% examples, 1351910 words/s, in_qsize 8, out_qsize 1\n",
      "INFO:gensim.models.word2vec:EPOCH 57: training on 193789105 raw words (187018421 effective words) took 130.0s, 1438782 effective words/s\n",
      "INFO:root:Loss after epoch 57:39020972.0\n",
      "INFO:gensim.models.word2vec:EPOCH 58 - PROGRESS: at 0.71% examples, 1283781 words/s, in_qsize 3, out_qsize 1\n",
      "INFO:gensim.models.word2vec:EPOCH 58: training on 193789105 raw words (187020576 effective words) took 128.4s, 1455992 effective words/s\n",
      "INFO:root:Loss after epoch 58:38894656.0\n",
      "INFO:gensim.models.word2vec:EPOCH 59 - PROGRESS: at 0.71% examples, 1306528 words/s, in_qsize 9, out_qsize 1\n",
      "INFO:gensim.models.word2vec:EPOCH 59: training on 193789105 raw words (187016247 effective words) took 130.0s, 1438502 effective words/s\n",
      "INFO:root:Loss after epoch 59:39033696.0\n",
      "INFO:gensim.models.word2vec:EPOCH 60 - PROGRESS: at 0.75% examples, 1394341 words/s, in_qsize 9, out_qsize 0\n",
      "INFO:gensim.models.word2vec:EPOCH 60: training on 193789105 raw words (187015970 effective words) took 126.3s, 1481095 effective words/s\n",
      "INFO:root:Loss after epoch 60:39033680.0\n",
      "INFO:gensim.models.word2vec:EPOCH 61 - PROGRESS: at 0.76% examples, 1415237 words/s, in_qsize 9, out_qsize 0\n",
      "INFO:gensim.models.word2vec:EPOCH 61: training on 193789105 raw words (187016859 effective words) took 125.9s, 1484882 effective words/s\n",
      "INFO:root:Loss after epoch 61:39022484.0\n",
      "INFO:gensim.models.word2vec:EPOCH 62 - PROGRESS: at 0.79% examples, 1474149 words/s, in_qsize 7, out_qsize 2\n",
      "INFO:gensim.models.word2vec:EPOCH 62: training on 193789105 raw words (187016255 effective words) took 124.7s, 1499975 effective words/s\n",
      "INFO:root:Loss after epoch 62:39020440.0\n",
      "INFO:gensim.models.word2vec:EPOCH 63 - PROGRESS: at 0.78% examples, 1422905 words/s, in_qsize 9, out_qsize 0\n",
      "INFO:gensim.models.word2vec:EPOCH 63: training on 193789105 raw words (187018598 effective words) took 127.2s, 1469830 effective words/s\n",
      "INFO:root:Loss after epoch 63:38955984.0\n",
      "INFO:gensim.models.word2vec:EPOCH 64 - PROGRESS: at 0.76% examples, 1405867 words/s, in_qsize 9, out_qsize 0\n",
      "INFO:gensim.models.word2vec:EPOCH 64: training on 193789105 raw words (187015866 effective words) took 127.2s, 1470663 effective words/s\n",
      "INFO:root:Loss after epoch 64:38925140.0\n",
      "INFO:gensim.models.word2vec:EPOCH 65 - PROGRESS: at 0.78% examples, 1442949 words/s, in_qsize 9, out_qsize 0\n",
      "INFO:gensim.models.word2vec:EPOCH 65: training on 193789105 raw words (187015724 effective words) took 127.4s, 1468004 effective words/s\n",
      "INFO:root:Loss after epoch 65:38868756.0\n",
      "INFO:gensim.models.word2vec:EPOCH 66 - PROGRESS: at 0.77% examples, 1422663 words/s, in_qsize 9, out_qsize 0\n",
      "INFO:gensim.models.word2vec:EPOCH 66: training on 193789105 raw words (187015603 effective words) took 127.0s, 1472112 effective words/s\n",
      "INFO:root:Loss after epoch 66:38910904.0\n",
      "INFO:gensim.models.word2vec:EPOCH 67 - PROGRESS: at 0.75% examples, 1398208 words/s, in_qsize 9, out_qsize 0\n",
      "INFO:gensim.models.word2vec:EPOCH 67: training on 193789105 raw words (187015822 effective words) took 129.0s, 1449639 effective words/s\n",
      "INFO:root:Loss after epoch 67:39041220.0\n",
      "INFO:gensim.models.word2vec:EPOCH 68 - PROGRESS: at 0.75% examples, 1399067 words/s, in_qsize 8, out_qsize 2\n",
      "INFO:gensim.models.word2vec:EPOCH 68: training on 193789105 raw words (187012996 effective words) took 129.1s, 1448649 effective words/s\n",
      "INFO:root:Loss after epoch 68:38923360.0\n",
      "INFO:gensim.models.word2vec:EPOCH 69 - PROGRESS: at 0.75% examples, 1400946 words/s, in_qsize 9, out_qsize 0\n",
      "INFO:gensim.models.word2vec:EPOCH 69: training on 193789105 raw words (187017022 effective words) took 126.2s, 1481894 effective words/s\n",
      "INFO:root:Loss after epoch 69:38807280.0\n",
      "INFO:gensim.models.word2vec:EPOCH 70 - PROGRESS: at 0.73% examples, 1359494 words/s, in_qsize 6, out_qsize 0\n",
      "INFO:gensim.models.word2vec:EPOCH 70: training on 193789105 raw words (187012787 effective words) took 126.8s, 1474381 effective words/s\n",
      "INFO:root:Loss after epoch 70:39012128.0\n",
      "INFO:gensim.models.word2vec:EPOCH 71 - PROGRESS: at 0.71% examples, 1322554 words/s, in_qsize 7, out_qsize 2\n",
      "INFO:gensim.models.word2vec:EPOCH 71: training on 193789105 raw words (187015334 effective words) took 126.5s, 1478090 effective words/s\n",
      "INFO:root:Loss after epoch 71:39006736.0\n",
      "INFO:gensim.models.word2vec:EPOCH 72 - PROGRESS: at 0.75% examples, 1375202 words/s, in_qsize 9, out_qsize 0\n",
      "INFO:gensim.models.word2vec:EPOCH 72: training on 193789105 raw words (187019240 effective words) took 127.7s, 1464867 effective words/s\n",
      "INFO:root:Loss after epoch 72:38934252.0\n",
      "INFO:gensim.models.word2vec:EPOCH 73 - PROGRESS: at 0.70% examples, 1293098 words/s, in_qsize 9, out_qsize 0\n",
      "INFO:gensim.models.word2vec:EPOCH 73: training on 193789105 raw words (187015351 effective words) took 126.6s, 1476993 effective words/s\n",
      "INFO:root:Loss after epoch 73:38811360.0\n",
      "INFO:gensim.models.word2vec:EPOCH 74 - PROGRESS: at 0.78% examples, 1425163 words/s, in_qsize 9, out_qsize 0\n",
      "INFO:gensim.models.word2vec:EPOCH 74: training on 193789105 raw words (187015533 effective words) took 127.1s, 1471170 effective words/s\n",
      "INFO:root:Loss after epoch 74:38935940.0\n",
      "INFO:gensim.models.word2vec:EPOCH 75 - PROGRESS: at 0.79% examples, 1423813 words/s, in_qsize 10, out_qsize 0\n",
      "INFO:gensim.models.word2vec:EPOCH 75: training on 193789105 raw words (187014869 effective words) took 129.7s, 1441350 effective words/s\n",
      "INFO:root:Loss after epoch 75:38958876.0\n",
      "INFO:gensim.models.word2vec:EPOCH 76 - PROGRESS: at 0.76% examples, 1414399 words/s, in_qsize 9, out_qsize 0\n",
      "INFO:gensim.models.word2vec:EPOCH 76: training on 193789105 raw words (187013750 effective words) took 132.3s, 1413584 effective words/s\n",
      "INFO:root:Loss after epoch 76:38899288.0\n",
      "INFO:gensim.models.word2vec:EPOCH 77 - PROGRESS: at 0.67% examples, 1242776 words/s, in_qsize 9, out_qsize 0\n",
      "INFO:gensim.models.word2vec:EPOCH 77: training on 193789105 raw words (187016545 effective words) took 135.0s, 1385103 effective words/s\n",
      "INFO:root:Loss after epoch 77:38904556.0\n",
      "INFO:gensim.models.word2vec:EPOCH 78 - PROGRESS: at 0.69% examples, 1264559 words/s, in_qsize 8, out_qsize 1\n",
      "INFO:gensim.models.word2vec:EPOCH 78: training on 193789105 raw words (187012545 effective words) took 127.3s, 1468883 effective words/s\n",
      "INFO:root:Loss after epoch 78:38934856.0\n",
      "INFO:gensim.models.word2vec:EPOCH 79 - PROGRESS: at 0.74% examples, 1370135 words/s, in_qsize 9, out_qsize 3\n",
      "INFO:gensim.models.word2vec:EPOCH 79: training on 193789105 raw words (187017004 effective words) took 126.6s, 1477004 effective words/s\n",
      "INFO:root:Loss after epoch 79:38695232.0\n",
      "INFO:gensim.models.word2vec:EPOCH 80 - PROGRESS: at 0.74% examples, 1379893 words/s, in_qsize 9, out_qsize 0\n",
      "INFO:gensim.models.word2vec:EPOCH 80: training on 193789105 raw words (187013024 effective words) took 124.5s, 1502540 effective words/s\n",
      "INFO:root:Loss after epoch 80:38898516.0\n",
      "INFO:gensim.models.word2vec:EPOCH 81 - PROGRESS: at 0.76% examples, 1409367 words/s, in_qsize 9, out_qsize 0\n",
      "INFO:gensim.models.word2vec:EPOCH 81: training on 193789105 raw words (187011857 effective words) took 124.9s, 1496954 effective words/s\n",
      "INFO:root:Loss after epoch 81:38970052.0\n",
      "INFO:gensim.models.word2vec:EPOCH 82 - PROGRESS: at 0.74% examples, 1375976 words/s, in_qsize 9, out_qsize 0\n",
      "INFO:gensim.models.word2vec:EPOCH 82: training on 193789105 raw words (187017507 effective words) took 128.9s, 1450936 effective words/s\n",
      "INFO:root:Loss after epoch 82:39040332.0\n",
      "INFO:gensim.models.word2vec:EPOCH 83 - PROGRESS: at 0.75% examples, 1351412 words/s, in_qsize 9, out_qsize 3\n",
      "INFO:gensim.models.word2vec:EPOCH 83: training on 193789105 raw words (187014257 effective words) took 130.9s, 1428763 effective words/s\n",
      "INFO:root:Loss after epoch 83:38310172.0\n",
      "INFO:gensim.models.word2vec:EPOCH 84 - PROGRESS: at 0.72% examples, 1348639 words/s, in_qsize 8, out_qsize 1\n",
      "INFO:gensim.models.word2vec:EPOCH 84: training on 193789105 raw words (187013207 effective words) took 130.5s, 1433024 effective words/s\n"
     ]
    },
    {
     "name": "stderr",
     "output_type": "stream",
     "text": [
      "INFO:root:Loss after epoch 84:38769452.0\n",
      "INFO:gensim.models.word2vec:EPOCH 85 - PROGRESS: at 0.77% examples, 1421594 words/s, in_qsize 9, out_qsize 0\n",
      "INFO:gensim.models.word2vec:EPOCH 85: training on 193789105 raw words (187012697 effective words) took 128.1s, 1459392 effective words/s\n",
      "INFO:root:Loss after epoch 85:38958028.0\n",
      "INFO:gensim.models.word2vec:EPOCH 86 - PROGRESS: at 0.79% examples, 1461469 words/s, in_qsize 7, out_qsize 2\n",
      "INFO:gensim.models.word2vec:EPOCH 86: training on 193789105 raw words (187016819 effective words) took 126.1s, 1482961 effective words/s\n",
      "INFO:root:Loss after epoch 86:38637516.0\n",
      "INFO:gensim.models.word2vec:EPOCH 87 - PROGRESS: at 0.69% examples, 1286188 words/s, in_qsize 9, out_qsize 0\n",
      "INFO:gensim.models.word2vec:EPOCH 87: training on 193789105 raw words (187012910 effective words) took 125.5s, 1490426 effective words/s\n",
      "INFO:root:Loss after epoch 87:38915280.0\n",
      "INFO:gensim.models.word2vec:EPOCH 88 - PROGRESS: at 0.78% examples, 1436507 words/s, in_qsize 9, out_qsize 0\n",
      "INFO:gensim.models.word2vec:EPOCH 88: training on 193789105 raw words (187014781 effective words) took 124.3s, 1504106 effective words/s\n",
      "INFO:root:Loss after epoch 88:38731988.0\n",
      "INFO:gensim.models.word2vec:EPOCH 89 - PROGRESS: at 0.74% examples, 1374465 words/s, in_qsize 9, out_qsize 0\n",
      "INFO:gensim.models.word2vec:EPOCH 89: training on 193789105 raw words (187016051 effective words) took 126.2s, 1481982 effective words/s\n",
      "INFO:root:Loss after epoch 89:38738720.0\n",
      "INFO:gensim.models.word2vec:EPOCH 90 - PROGRESS: at 0.72% examples, 1342429 words/s, in_qsize 9, out_qsize 4\n",
      "INFO:gensim.models.word2vec:EPOCH 90: training on 193789105 raw words (187013775 effective words) took 127.5s, 1467245 effective words/s\n",
      "INFO:root:Loss after epoch 90:38727736.0\n",
      "INFO:gensim.models.word2vec:EPOCH 91 - PROGRESS: at 0.79% examples, 1459023 words/s, in_qsize 9, out_qsize 0\n",
      "INFO:gensim.models.word2vec:EPOCH 91: training on 193789105 raw words (187014972 effective words) took 124.6s, 1500451 effective words/s\n",
      "INFO:root:Loss after epoch 91:39086348.0\n",
      "INFO:gensim.models.word2vec:EPOCH 92 - PROGRESS: at 0.76% examples, 1411982 words/s, in_qsize 9, out_qsize 0\n",
      "INFO:gensim.models.word2vec:EPOCH 92: training on 193789105 raw words (187014564 effective words) took 124.9s, 1496757 effective words/s\n",
      "INFO:root:Loss after epoch 92:38791436.0\n",
      "INFO:gensim.models.word2vec:EPOCH 93 - PROGRESS: at 0.72% examples, 1325583 words/s, in_qsize 9, out_qsize 0\n",
      "INFO:gensim.models.word2vec:EPOCH 93: training on 193789105 raw words (187013022 effective words) took 129.6s, 1443096 effective words/s\n",
      "INFO:root:Loss after epoch 93:38853028.0\n",
      "INFO:gensim.models.word2vec:EPOCH 94 - PROGRESS: at 0.74% examples, 1377876 words/s, in_qsize 9, out_qsize 0\n",
      "INFO:gensim.models.word2vec:EPOCH 94: training on 193789105 raw words (187015609 effective words) took 123.5s, 1514543 effective words/s\n",
      "INFO:root:Loss after epoch 94:39349516.0\n",
      "INFO:gensim.models.word2vec:EPOCH 95 - PROGRESS: at 0.77% examples, 1434706 words/s, in_qsize 7, out_qsize 2\n",
      "INFO:gensim.models.word2vec:EPOCH 95: training on 193789105 raw words (187016813 effective words) took 132.3s, 1413720 effective words/s\n",
      "INFO:root:Loss after epoch 95:38597408.0\n",
      "INFO:gensim.models.word2vec:EPOCH 96 - PROGRESS: at 0.73% examples, 1368219 words/s, in_qsize 9, out_qsize 0\n",
      "INFO:gensim.models.word2vec:EPOCH 96: training on 193789105 raw words (187016196 effective words) took 128.8s, 1451824 effective words/s\n",
      "INFO:root:Loss after epoch 96:38579472.0\n",
      "INFO:gensim.models.word2vec:EPOCH 97 - PROGRESS: at 0.75% examples, 1406147 words/s, in_qsize 9, out_qsize 0\n",
      "INFO:gensim.models.word2vec:EPOCH 97: training on 193789105 raw words (187015414 effective words) took 127.3s, 1469415 effective words/s\n",
      "INFO:root:Loss after epoch 97:38938036.0\n",
      "INFO:gensim.models.word2vec:EPOCH 98 - PROGRESS: at 0.75% examples, 1405200 words/s, in_qsize 9, out_qsize 0\n",
      "INFO:gensim.models.word2vec:EPOCH 98: training on 193789105 raw words (187012327 effective words) took 124.1s, 1506938 effective words/s\n",
      "INFO:root:Loss after epoch 98:38846432.0\n",
      "INFO:gensim.models.word2vec:EPOCH 99 - PROGRESS: at 0.75% examples, 1389848 words/s, in_qsize 7, out_qsize 3\n",
      "INFO:gensim.models.word2vec:EPOCH 99: training on 193789105 raw words (187012968 effective words) took 125.5s, 1490483 effective words/s\n",
      "INFO:root:Loss after epoch 99:38900056.0\n",
      "INFO:gensim.utils:Word2Vec lifecycle event {'msg': 'training on 19378910500 raw words (18701516964 effective words) took 12711.6s, 1471217 effective words/s', 'datetime': '2023-05-05T13:50:09.456155', 'gensim': '4.3.1', 'python': '3.11.3 | packaged by conda-forge | (main, Apr  6 2023, 09:05:00) [Clang 14.0.6 ]', 'platform': 'macOS-12.6-x86_64-i386-64bit', 'event': 'train'}\n"
     ]
    },
    {
     "data": {
      "text/plain": [
       "(18701516964, 19378910500)"
      ]
     },
     "execution_count": 15,
     "metadata": {},
     "output_type": "execute_result"
    }
   ],
   "source": [
    "#we override alpha with small values, since default values result in poor train performance. See loss plot below\n",
    "model.train(sentences, epochs=100, start_alpha=0.0001, end_alpha=0.00001, total_examples=model.corpus_count, total_words=model.corpus_total_words, compute_loss=True, report_delay=300, callbacks=[Callback()])\n"
   ]
  },
  {
   "cell_type": "code",
   "execution_count": 16,
   "id": "d5e1b267",
   "metadata": {},
   "outputs": [
    {
     "data": {
      "text/plain": [
       "[<matplotlib.lines.Line2D at 0x198cda950>]"
      ]
     },
     "execution_count": 16,
     "metadata": {},
     "output_type": "execute_result"
    },
    {
     "data": {
      "image/png": "[encoded data removed]",
      "text/plain": [
       "<Figure size 640x480 with 1 Axes>"
      ]
     },
     "metadata": {},
     "output_type": "display_data"
    }
   ],
   "source": [
    "plt.plot(loss_list)"
   ]
  },
  {
   "cell_type": "markdown",
   "id": "a42f370d",
   "metadata": {},
   "source": [
    "For comaprison, below is the loss plot when using default (larger) values for alpha. Note, that during training alpha is decreasing linearly from start value to end value. With default values in use the loss goes down near the end, once alpha gets smaller values."
   ]
  },
  {
   "cell_type": "code",
   "execution_count": 17,
   "id": "56eaea48",
   "metadata": {},
   "outputs": [
    {
     "data": {
      "text/plain": [
       "[<matplotlib.lines.Line2D at 0x1f13a5c50>]"
      ]
     },
     "execution_count": 17,
     "metadata": {},
     "output_type": "execute_result"
    },
    {
     "data": {
      "image/png": "[encoded data removed]",
      "text/plain": [
       "<Figure size 640x480 with 1 Axes>"
      ]
     },
     "metadata": {},
     "output_type": "display_data"
    }
   ],
   "source": [
    "default_alpha_loss_list = [45621836.0, 44355904.0, 44249936.0, 44104492.0, 44107028.0, 44097436.0, 44270596.0, 44089604.0, 44185456.0, 44285424.0, 44182396.0, 44126032.0, 44408908.0, 44199988.0, 44425624.0, 44209516.0, 44227556.0, 44041368.0, 44373620.0, 44456688.0, 44070200.0, 43995008.0, 44134528.0, 44107632.0, 43802268.0, 44047244.0, 43904480.0, 43939264.0, 43987436.0, 43859148.0, 43961468.0, 44073332.0, 43907992.0, 43725336.0, 43849884.0, 43924944.0, 43826232.0, 43496588.0, 43605268.0, 43641544.0, 43543980.0, 43537204.0, 43491140.0, 43373268.0, 43624628.0, 43330720.0, 43449924.0, 43234040.0, 43097712.0, 44565932.0, 43416728.0, 43234072.0, 43260536.0, 43074152.0, 43096868.0, 42714596.0, 43268708.0, 42984456.0, 43917916.0, 43035192.0, 42818392.0, 42656488.0, 42411144.0, 42707748.0, 42523348.0, 42491780.0, 42605616.0, 42294312.0, 42310540.0, 42306532.0, 42327836.0, 42028380.0, 43780020.0, 41960848.0, 41753348.0, 41644528.0, 42072300.0, 41830796.0, 41535968.0, 41507712.0, 41336916.0, 41256888.0, 41069008.0, 40828812.0, 40791320.0, 40758012.0, 40487952.0, 40521400.0, 40385292.0, 40164828.0, 41217672.0, 39945608.0, 39633816.0, 39335348.0, 39096012.0, 39050096.0, 38497092.0, 38436708.0, 38193532.0, 37834140.0]\n",
    "plt.plot(default_alpha_loss_list)"
   ]
  },
  {
   "cell_type": "code",
   "execution_count": 18,
   "id": "47482d49",
   "metadata": {},
   "outputs": [
    {
     "data": {
      "text/plain": [
       "[('кошка', 0.8631081581115723),\n",
       " ('котка', 0.861184298992157),\n",
       " ('жывёліна', 0.8527911305427551),\n",
       " ('кот', 0.8515926003456116),\n",
       " ('дзік', 0.8432290554046631),\n",
       " ('кацяня', 0.840110719203949),\n",
       " ('пацук', 0.8306185007095337),\n",
       " ('конь', 0.8235841989517212),\n",
       " ('сабачка', 0.8149210214614868),\n",
       " ('воўк', 0.8096913695335388),\n",
       " ('шчанюк', 0.8085706830024719),\n",
       " ('муха', 0.8075309991836548),\n",
       " ('авечка', 0.8019874095916748),\n",
       " ('малпа', 0.8019631505012512),\n",
       " ('звер', 0.799534797668457),\n",
       " ('асёл', 0.7950820326805115),\n",
       " ('лісіца', 0.7932342886924744),\n",
       " ('мядзведзь', 0.7911040186882019),\n",
       " ('каза', 0.7823615074157715),\n",
       " ('зграя', 0.7814828157424927)]"
      ]
     },
     "execution_count": 18,
     "metadata": {},
     "output_type": "execute_result"
    }
   ],
   "source": [
    "model.wv.most_similar('сабака', topn=20)"
   ]
  },
  {
   "cell_type": "code",
   "execution_count": 19,
   "id": "0090e873",
   "metadata": {},
   "outputs": [
    {
     "data": {
      "text/plain": [
       "['быць',\n",
       " 'год',\n",
       " 'беларускі',\n",
       " 'беларусь',\n",
       " 'каль',\n",
       " 'ала',\n",
       " 'чалавек',\n",
       " 'магчы',\n",
       " 'час',\n",
       " 'усё']"
      ]
     },
     "execution_count": 19,
     "metadata": {},
     "output_type": "execute_result"
    }
   ],
   "source": [
    "model.wv.index_to_key[:10]"
   ]
  },
  {
   "cell_type": "code",
   "execution_count": 20,
   "id": "d587b37a",
   "metadata": {},
   "outputs": [],
   "source": [
    "# tsne for visualization\n",
    "# plotly for interactivity https://towardsdatascience.com/how-to-train-a-word2vec-model-from-scratch-with-gensim-c457d587e031\n",
    "# save filtered out wods into separat file to verify\n",
    "# dont explicitly list stop words\n",
    "# prepare assessment data (50 words with 10 most similar wods for them)\n",
    "# remove words after training\n",
    "# increase corpus\n",
    "# increase dimensionality"
   ]
  },
  {
   "cell_type": "code",
   "execution_count": 21,
   "id": "ec534c05",
   "metadata": {},
   "outputs": [
    {
     "name": "stderr",
     "output_type": "stream",
     "text": [
      "INFO:gensim.utils:Word2Vec lifecycle event {'fname_or_handle': 'word2vec-100-bel-cc100.model', 'separately': 'None', 'sep_limit': 10485760, 'ignore': frozenset(), 'datetime': '2023-05-05T13:52:27.977904', 'gensim': '4.3.1', 'python': '3.11.3 | packaged by conda-forge | (main, Apr  6 2023, 09:05:00) [Clang 14.0.6 ]', 'platform': 'macOS-12.6-x86_64-i386-64bit', 'event': 'saving'}\n",
      "INFO:gensim.utils:not storing attribute cum_table\n",
      "INFO:gensim.utils:saved word2vec-100-bel-cc100.model\n"
     ]
    }
   ],
   "source": [
    "model.save(\"word2vec-100-bel-cc100.model\")"
   ]
  },
  {
   "cell_type": "code",
   "execution_count": 22,
   "id": "389e42e0",
   "metadata": {},
   "outputs": [
    {
     "name": "stderr",
     "output_type": "stream",
     "text": [
      "INFO:gensim.models.keyedvectors:storing 78934x100 projection weights into word2vec-100-bel-cc100.vectors\n"
     ]
    }
   ],
   "source": [
    "model.wv.save_word2vec_format('word2vec-100-bel-cc100.vectors')"
   ]
  },
  {
   "cell_type": "code",
   "execution_count": null,
   "id": "cf953cbf",
   "metadata": {},
   "outputs": [],
   "source": []
  }
 ],
 "metadata": {
  "kernelspec": {
   "display_name": "Python 3 (ipykernel)",
   "language": "python",
   "name": "python3"
  },
  "language_info": {
   "codemirror_mode": {
    "name": "ipython",
    "version": 3
   },
   "file_extension": ".py",
   "mimetype": "text/x-python",
   "name": "python",
   "nbconvert_exporter": "python",
   "pygments_lexer": "ipython3",
   "version": "3.11.3"
  }
 },
 "nbformat": 4,
 "nbformat_minor": 5
}
