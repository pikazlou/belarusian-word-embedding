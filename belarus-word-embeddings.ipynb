{
 "cells": [
  {
   "cell_type": "code",
   "execution_count": 12,
   "id": "de7b8b0c",
   "metadata": {},
   "outputs": [],
   "source": [
    "import re\n",
    "import string\n",
    "import gensim\n",
    "from gensim import utils\n",
    "from gensim.parsing.preprocessing import strip_punctuation, strip_short, strip_numeric, strip_multiple_whitespaces, remove_stopwords\n",
    "from gensim.models.word2vec import LineSentence\n",
    "from gensim.models import Word2Vec\n",
    "from gensim.models.callbacks import CallbackAny2Vec\n",
    "import urllib.request\n",
    "import zipfile\n",
    "import lzma\n",
    "import shutil\n",
    "import matplotlib.pyplot as plt"
   ]
  },
  {
   "cell_type": "code",
   "execution_count": 2,
   "id": "7dc6904a",
   "metadata": {},
   "outputs": [
    {
     "name": "stderr",
     "output_type": "stream",
     "text": [
      "INFO:root:Logging initialized\n"
     ]
    }
   ],
   "source": [
    "import logging\n",
    "logging.basicConfig(level=logging.INFO, force = True)\n",
    "logger = logging.getLogger()\n",
    "logger.info(\"Logging initialized\")"
   ]
  },
  {
   "cell_type": "code",
   "execution_count": 3,
   "id": "63844db8",
   "metadata": {},
   "outputs": [
    {
     "data": {
      "text/plain": [
       "('GrammarDB.zip', <http.client.HTTPMessage at 0x1763afb90>)"
      ]
     },
     "execution_count": 3,
     "metadata": {},
     "output_type": "execute_result"
    }
   ],
   "source": [
    "#Link found here: https://metatext.io/datasets/cc100-belarusian\n",
    "urllib.request.urlretrieve('https://data.statmt.org/cc-100/be.txt.xz', \n",
    "                           'be.txt.xz')\n",
    "\n",
    "urllib.request.urlretrieve('https://github.com/Belarus/GrammarDB/archive/refs/tags/PUBLICATION_2021.zip', \n",
    "                           'GrammarDB.zip')"
   ]
  },
  {
   "cell_type": "code",
   "execution_count": 4,
   "id": "999d375c",
   "metadata": {},
   "outputs": [],
   "source": [
    "with lzma.open(\"be.txt.xz\", \"rb\") as fsrc:\n",
    "    with open(\"be.txt\", \"wb\") as fdst:\n",
    "        shutil.copyfileobj(fsrc, fdst)\n",
    "\n",
    "with zipfile.ZipFile('GrammarDB.zip', 'r') as zip_ref:\n",
    "    zip_ref.extractall('.')"
   ]
  },
  {
   "cell_type": "code",
   "execution_count": 5,
   "id": "49326e47",
   "metadata": {},
   "outputs": [],
   "source": [
    "import xml.dom.minidom\n",
    "from itertools import islice\n",
    "\n",
    "def calculate_mapping_from_forms_to_base(filepath, tag_prefixes=[]):\n",
    "    xml_doc = xml.dom.minidom.parse(filepath)\n",
    "    paradigms = xml_doc.getElementsByTagName('Paradigm')\n",
    "    result = {}\n",
    "    collision_count = 0\n",
    "    collisions = set()\n",
    "    for paradigm in paradigms:\n",
    "        tag = paradigm.getAttribute('tag')\n",
    "        if len(tag_prefixes) == 0 or any([tag.startswith(p) for p in tag_prefixes]):\n",
    "            variants = paradigm.getElementsByTagName('Variant')\n",
    "            for variant in variants:\n",
    "                base = variant.getAttribute('lemma').replace(\"+\", \"\").lower()\n",
    "                if base not in BASE_FORM_BLACKLIST:\n",
    "                    forms = variant.getElementsByTagName('Form')\n",
    "                    local_map = {}\n",
    "                    citation_count = max([form.getAttribute('slouniki').count(',') for form in forms]) + 1\n",
    "                    for form in forms:\n",
    "                        if len(form.childNodes) > 0:\n",
    "                            word = form.childNodes[0].data.replace(\"+\", \"\").lower()\n",
    "                            local_map[word] = (base, citation_count)\n",
    "                    for k, v in local_map.items():\n",
    "                        if k in result:\n",
    "                            if result[k][1] == v[1] and result[k][0] != v[0]:\n",
    "                                collision_count += 1\n",
    "                                collisions.add(v[0])\n",
    "                                collisions.add(result[k][0])\n",
    "                            elif result[k][1] < v[1]:\n",
    "                                result[k] = v\n",
    "                        else:\n",
    "                            result[k] = v\n",
    "                    \n",
    "    logger.info(f\"Collisions (forms leading to different base word, and having same amount of citation): {collision_count}\")\n",
    "    logger.info(f\"Examples of collisions: {list(islice(collisions, 5))}\")\n",
    "    for k in result:\n",
    "        result[k] = result[k][0]\n",
    "    return result"
   ]
  },
  {
   "cell_type": "code",
   "execution_count": 6,
   "id": "6184b181",
   "metadata": {},
   "outputs": [],
   "source": [
    "BASE_FORM_BLACKLIST = [\n",
    "    'як' # can mean 'bull', but mostly used as particle \n",
    "] + [chr(ord('а')+delta) for delta in range(0, 32)] # alphabet letters\n",
    "\n",
    "DERIVED_FORM_BLACKLIST = [\n",
    "    'але', # can mean geographic place 'Ала', but mostly used as particle 'але'\n",
    "    'калі', # weird form of 'калій' - 'каль', but used as particle 'калі'\n",
    "    'вось', # can mean 'axis', but mostly used as particle\n",
    "    'нам', # can mean short form of 'намеснік', but mostly used as pronoun 'мы'\n",
    "    'наша', # some weird noun 'наша', but mostly used as pronoun 'мы'\n",
    "    'нашы', # can be used as noun, but motly used as pronoun 'мы'\n",
    "    'яму' # can be used as rare noun 'ям', but mostly used as pronoun 'ён'\n",
    "]"
   ]
  },
  {
   "cell_type": "code",
   "execution_count": 7,
   "id": "048cd3f1",
   "metadata": {},
   "outputs": [
    {
     "name": "stderr",
     "output_type": "stream",
     "text": [
      "INFO:root:Collisions (forms leading to different base word, and having same amount of citation): 2597\n",
      "INFO:root:Examples of collisions: ['прагледзець', 'сцішыцца', 'пашырыцца', 'расхіляць', 'паднапнуцца']\n",
      "INFO:root:Collisions (forms leading to different base word, and having same amount of citation): 33\n",
      "INFO:root:Examples of collisions: ['герцагавіна', 'мачулішча', 'полацк', 'дняпро', 'палесціна']\n",
      "INFO:root:Collisions (forms leading to different base word, and having same amount of citation): 1345\n",
      "INFO:root:Examples of collisions: ['выхаванец', 'выжал', 'грам', 'асушак', 'дзятлянё']\n",
      "INFO:root:Collisions (forms leading to different base word, and having same amount of citation): 1155\n",
      "INFO:root:Examples of collisions: ['казачка', 'лашачанё', 'пакуса', 'кліка', 'маніпула']\n",
      "INFO:root:Collisions (forms leading to different base word, and having same amount of citation): 954\n",
      "INFO:root:Examples of collisions: ['тарпа', 'трыножак', 'рэспубліканец', 'сябар', 'фламандка']\n",
      "INFO:root:Collisions (forms leading to different base word, and having same amount of citation): 51\n",
      "INFO:root:Examples of collisions: ['дугласавы', 'жакардаў', 'дэкартавы', 'жакардавы', 'крэчатавы']\n",
      "INFO:root:Collisions (forms leading to different base word, and having same amount of citation): 37\n",
      "INFO:root:Examples of collisions: ['чыжоў', 'пупартаў', 'пупартавы', 'шчупакоў', 'чэпікавы']\n"
     ]
    }
   ],
   "source": [
    "#verbs\n",
    "v = calculate_mapping_from_forms_to_base('GrammarDB-PUBLICATION_2021/V.xml')\n",
    "\n",
    "#proper nouns\n",
    "np = calculate_mapping_from_forms_to_base('GrammarDB-PUBLICATION_2021/NP.xml', ['NPII'])\n",
    "\n",
    "#nouns\n",
    "n1 = calculate_mapping_from_forms_to_base('GrammarDB-PUBLICATION_2021/N1.xml')\n",
    "n2 = calculate_mapping_from_forms_to_base('GrammarDB-PUBLICATION_2021/N2.xml')\n",
    "n3 = calculate_mapping_from_forms_to_base('GrammarDB-PUBLICATION_2021/N3.xml')\n",
    "\n",
    "#adjectives\n",
    "adj1 = calculate_mapping_from_forms_to_base('GrammarDB-PUBLICATION_2021/A1.xml', ['ARP', 'AQP'])\n",
    "adj2 = calculate_mapping_from_forms_to_base('GrammarDB-PUBLICATION_2021/A2.xml', ['ARP', 'AQP'])\n",
    "\n",
    "WORD_MAP = {}\n",
    "WORD_MAP.update(v)\n",
    "WORD_MAP.update(np)\n",
    "WORD_MAP.update(n1)\n",
    "WORD_MAP.update(n2)\n",
    "WORD_MAP.update(n3)\n",
    "WORD_MAP.update(adj1)\n",
    "WORD_MAP.update(adj2)"
   ]
  },
  {
   "cell_type": "code",
   "execution_count": 8,
   "id": "a11b12a9",
   "metadata": {},
   "outputs": [
    {
     "name": "stdout",
     "output_type": "stream",
     "text": [
      "2262675\n"
     ]
    }
   ],
   "source": [
    "print(len(WORD_MAP))"
   ]
  },
  {
   "cell_type": "code",
   "execution_count": 9,
   "id": "48c63417",
   "metadata": {},
   "outputs": [
    {
     "name": "stdout",
     "output_type": "stream",
     "text": [
      "рух\n",
      "беларусь\n"
     ]
    }
   ],
   "source": [
    "print(WORD_MAP['рухам'])\n",
    "print(WORD_MAP['беларусі'])"
   ]
  },
  {
   "cell_type": "code",
   "execution_count": 13,
   "id": "ca36540b",
   "metadata": {},
   "outputs": [],
   "source": [
    "def strip_trailing_newline(iterable):\n",
    "    for i in iterable:\n",
    "        yield i.rstrip()\n",
    "\n",
    "# this function is based on gensim.parser.preprocessing.strip_punctuation\n",
    "# we replace gensim's version to correctly handle symbol ' in words, such as п'еса or кар'ера\n",
    "RE_PUNCTUATION = re.compile(r'([%s])+' % re.escape(string.punctuation.replace(\"'\",\"\")), re.UNICODE)\n",
    "def strip_punctuation(s):\n",
    "    s = utils.to_unicode(s)\n",
    "    return RE_PUNCTUATION.sub(\" \", s)\n",
    "\n",
    "CHARACTERS_MAP = {'’': '\\'', 'ý': 'ў', ' ў': ' у', 'i': 'і', 'ньн': 'нн', 'цьц': 'цц', 'сьц': 'сц', 'сьл':'сл', 'дзьдз': 'ддз', 'сьв': 'св', 'зьв': 'зв', 'сьп': 'сп', 'сьс': 'сс', 'сьн': 'сн', 'зьм': 'зм', 'зьн': 'зн', 'зьл': 'зл'}\n",
    "def replace_characters(iterable):\n",
    "    for s in iterable:\n",
    "        for k, v in CHARACTERS_MAP.items():\n",
    "            s = s.replace(k, v)\n",
    "        yield s\n",
    "\n",
    "def split_sentences(iterable):\n",
    "    for i in iterable:\n",
    "        merged_dots = re.sub(\"[\\.]+\", \".\", i)\n",
    "        sentences = merged_dots.split('.')\n",
    "        for s in sentences:\n",
    "            yield s\n",
    "\n",
    "def process_and_filter_word(raw_words):\n",
    "    valid_words = []\n",
    "    removed_words = []\n",
    "    for w in raw_words:\n",
    "        w = w.strip(\"'\")\n",
    "        if w in WORD_MAP:\n",
    "            valid_words.append(WORD_MAP[w])\n",
    "        else:\n",
    "            removed_words.append(w)\n",
    "    return (valid_words, removed_words)\n",
    "\n",
    "global_removed_words = []\n",
    "def preprocess_sentences(iterable):\n",
    "    for i in iterable:\n",
    "        s = strip_multiple_whitespaces(strip_numeric(strip_short(strip_punctuation(i))))\n",
    "        s = s.lower()\n",
    "        s = re.sub(\"[«»“”„…—°′²]\", \"\", s)\n",
    "        s = remove_stopwords(s, stopwords=DERIVED_FORM_BLACKLIST)\n",
    "        valid_words, removed_words = process_and_filter_word(s.split())\n",
    "        s = ' '.join(valid_words)\n",
    "        global_removed_words.extend(removed_words)\n",
    "        yield s\n",
    "\n",
    "def remove_short_lines(iterable):\n",
    "    for i in iterable:\n",
    "        if not i.isspace() and len(i) >= 20:\n",
    "            yield i\n"
   ]
  },
  {
   "cell_type": "code",
   "execution_count": 15,
   "id": "1044a584",
   "metadata": {},
   "outputs": [],
   "source": [
    "with open('be.txt', 'r') as original_file:\n",
    "    with open('processed-corpus.txt', 'w') as sentences_file:\n",
    "        with open('removed-words.txt', 'w') as removed_words_file:\n",
    "            for s in remove_short_lines(preprocess_sentences(split_sentences(replace_characters(strip_trailing_newline(original_file))))):\n",
    "                sentences_file.write(s + \"\\n\")\n",
    "                removed_words_file.write(' '.join(global_removed_words) + \"\\n\")\n",
    "                global_removed_words.clear()"
   ]
  },
  {
   "cell_type": "code",
   "execution_count": 16,
   "id": "ab9fc39e",
   "metadata": {},
   "outputs": [],
   "source": [
    "loss_list = []\n",
    "class Callback(CallbackAny2Vec):\n",
    "    def __init__(self):\n",
    "        self.epoch = 0\n",
    "\n",
    "    def on_epoch_end(self, model):\n",
    "        loss = model.get_latest_training_loss()\n",
    "        loss_list.append(loss)\n",
    "        logger.info('Loss after epoch {}:{}'.format(self.epoch, loss))\n",
    "        model.running_training_loss = 0.0\n",
    "        self.epoch = self.epoch + 1"
   ]
  },
  {
   "cell_type": "code",
   "execution_count": 17,
   "id": "61e8337d",
   "metadata": {},
   "outputs": [
    {
     "name": "stderr",
     "output_type": "stream",
     "text": [
      "INFO:gensim.utils:Word2Vec lifecycle event {'params': 'Word2Vec<vocab=0, vector_size=100, alpha=0.025>', 'datetime': '2023-05-15T11:48:31.444476', 'gensim': '4.3.1', 'python': '3.11.3 | packaged by conda-forge | (main, Apr  6 2023, 09:05:00) [Clang 14.0.6 ]', 'platform': 'macOS-12.6-x86_64-i386-64bit', 'event': 'created'}\n"
     ]
    }
   ],
   "source": [
    "model = Word2Vec(vector_size=100, window=3, min_count=10, workers=5)"
   ]
  },
  {
   "cell_type": "code",
   "execution_count": 18,
   "id": "35054bd1",
   "metadata": {},
   "outputs": [],
   "source": [
    "sentences = LineSentence('processed-corpus.txt')"
   ]
  },
  {
   "cell_type": "code",
   "execution_count": 19,
   "id": "615cf92b",
   "metadata": {},
   "outputs": [
    {
     "name": "stderr",
     "output_type": "stream",
     "text": [
      "INFO:gensim.models.word2vec:collecting all words and their counts\n",
      "INFO:gensim.models.word2vec:PROGRESS: at sentence #0, processed 0 words, keeping 0 word types\n",
      "INFO:gensim.models.word2vec:PROGRESS: at sentence #5000000, processed 40721009 words, keeping 101595 word types\n",
      "INFO:gensim.models.word2vec:PROGRESS: at sentence #10000000, processed 81523167 words, keeping 114831 word types\n",
      "INFO:gensim.models.word2vec:PROGRESS: at sentence #15000000, processed 122232896 words, keeping 122367 word types\n",
      "INFO:gensim.models.word2vec:PROGRESS: at sentence #20000000, processed 162993408 words, keeping 127348 word types\n",
      "INFO:gensim.models.word2vec:collected 130020 word types from a corpus of 190588768 raw words and 23398388 sentences\n",
      "INFO:gensim.models.word2vec:Creating a fresh vocabulary\n",
      "INFO:gensim.utils:Word2Vec lifecycle event {'msg': 'effective_min_count=10 retains 79356 unique words (61.03% of original 130020, drops 50664)', 'datetime': '2023-05-15T11:49:36.192546', 'gensim': '4.3.1', 'python': '3.11.3 | packaged by conda-forge | (main, Apr  6 2023, 09:05:00) [Clang 14.0.6 ]', 'platform': 'macOS-12.6-x86_64-i386-64bit', 'event': 'prepare_vocab'}\n",
      "INFO:gensim.utils:Word2Vec lifecycle event {'msg': 'effective_min_count=10 leaves 190418529 word corpus (99.91% of original 190588768, drops 170239)', 'datetime': '2023-05-15T11:49:36.193152', 'gensim': '4.3.1', 'python': '3.11.3 | packaged by conda-forge | (main, Apr  6 2023, 09:05:00) [Clang 14.0.6 ]', 'platform': 'macOS-12.6-x86_64-i386-64bit', 'event': 'prepare_vocab'}\n",
      "INFO:gensim.models.word2vec:deleting the raw counts dictionary of 130020 items\n",
      "INFO:gensim.models.word2vec:sample=0.001 downsamples 16 most-common words\n",
      "INFO:gensim.utils:Word2Vec lifecycle event {'msg': 'downsampling leaves estimated 184961020.08562082 word corpus (97.1%% of prior 190418529)', 'datetime': '2023-05-15T11:49:36.460049', 'gensim': '4.3.1', 'python': '3.11.3 | packaged by conda-forge | (main, Apr  6 2023, 09:05:00) [Clang 14.0.6 ]', 'platform': 'macOS-12.6-x86_64-i386-64bit', 'event': 'prepare_vocab'}\n",
      "INFO:gensim.models.word2vec:estimated required memory for 79356 words and 100 dimensions: 103162800 bytes\n",
      "INFO:gensim.models.word2vec:resetting layer weights\n",
      "INFO:gensim.utils:Word2Vec lifecycle event {'update': False, 'trim_rule': 'None', 'datetime': '2023-05-15T11:49:36.969859', 'gensim': '4.3.1', 'python': '3.11.3 | packaged by conda-forge | (main, Apr  6 2023, 09:05:00) [Clang 14.0.6 ]', 'platform': 'macOS-12.6-x86_64-i386-64bit', 'event': 'build_vocab'}\n"
     ]
    }
   ],
   "source": [
    "model.build_vocab(sentences, progress_per=5000000)"
   ]
  },
  {
   "cell_type": "code",
   "execution_count": 20,
   "id": "867dc13c",
   "metadata": {},
   "outputs": [
    {
     "name": "stderr",
     "output_type": "stream",
     "text": [
      "INFO:gensim.utils:Word2Vec lifecycle event {'msg': 'training model with 5 workers on 79356 vocabulary and 100 features, using sg=0 hs=0 sample=0.001 negative=5 window=3 shrink_windows=True', 'datetime': '2023-05-15T11:49:36.975377', 'gensim': '4.3.1', 'python': '3.11.3 | packaged by conda-forge | (main, Apr  6 2023, 09:05:00) [Clang 14.0.6 ]', 'platform': 'macOS-12.6-x86_64-i386-64bit', 'event': 'train'}\n",
      "INFO:gensim.models.word2vec:EPOCH 0 - PROGRESS: at 0.81% examples, 1464105 words/s, in_qsize 9, out_qsize 0\n",
      "INFO:gensim.models.word2vec:EPOCH 0: training on 190588768 raw words (184959766 effective words) took 130.2s, 1420359 effective words/s\n",
      "INFO:root:Loss after epoch 0:37690976.0\n",
      "INFO:gensim.models.word2vec:EPOCH 1 - PROGRESS: at 0.77% examples, 1413344 words/s, in_qsize 9, out_qsize 0\n",
      "INFO:gensim.models.word2vec:EPOCH 1: training on 190588768 raw words (184962164 effective words) took 126.1s, 1466544 effective words/s\n",
      "INFO:root:Loss after epoch 1:46830940.0\n",
      "INFO:gensim.models.word2vec:EPOCH 2 - PROGRESS: at 0.75% examples, 1371371 words/s, in_qsize 9, out_qsize 1\n",
      "INFO:gensim.models.word2vec:EPOCH 2: training on 190588768 raw words (184964654 effective words) took 129.3s, 1430204 effective words/s\n",
      "INFO:root:Loss after epoch 2:46684364.0\n",
      "INFO:gensim.models.word2vec:EPOCH 3 - PROGRESS: at 0.66% examples, 1208165 words/s, in_qsize 9, out_qsize 0\n",
      "INFO:gensim.models.word2vec:EPOCH 3: training on 190588768 raw words (184959938 effective words) took 129.7s, 1426466 effective words/s\n",
      "INFO:root:Loss after epoch 3:44963196.0\n",
      "INFO:gensim.models.word2vec:EPOCH 4 - PROGRESS: at 0.75% examples, 1364201 words/s, in_qsize 9, out_qsize 0\n",
      "INFO:gensim.models.word2vec:EPOCH 4: training on 190588768 raw words (184959408 effective words) took 131.0s, 1412425 effective words/s\n",
      "INFO:root:Loss after epoch 4:44384996.0\n",
      "INFO:gensim.models.word2vec:EPOCH 5 - PROGRESS: at 0.75% examples, 1384987 words/s, in_qsize 10, out_qsize 0\n",
      "INFO:gensim.models.word2vec:EPOCH 5: training on 190588768 raw words (184961386 effective words) took 136.4s, 1355851 effective words/s\n",
      "INFO:root:Loss after epoch 5:43019652.0\n",
      "INFO:gensim.models.word2vec:EPOCH 6 - PROGRESS: at 0.68% examples, 1257197 words/s, in_qsize 9, out_qsize 0\n",
      "INFO:gensim.models.word2vec:EPOCH 6: training on 190588768 raw words (184960365 effective words) took 133.8s, 1382213 effective words/s\n",
      "INFO:root:Loss after epoch 6:42716736.0\n",
      "INFO:gensim.models.word2vec:EPOCH 7 - PROGRESS: at 0.70% examples, 1268408 words/s, in_qsize 8, out_qsize 1\n",
      "INFO:gensim.models.word2vec:EPOCH 7: training on 190588768 raw words (184959489 effective words) took 131.3s, 1408631 effective words/s\n",
      "INFO:root:Loss after epoch 7:42252040.0\n",
      "INFO:gensim.models.word2vec:EPOCH 8 - PROGRESS: at 0.77% examples, 1396214 words/s, in_qsize 9, out_qsize 0\n",
      "INFO:gensim.models.word2vec:EPOCH 8: training on 190588768 raw words (184959646 effective words) took 128.4s, 1440143 effective words/s\n",
      "INFO:root:Loss after epoch 8:42057824.0\n",
      "INFO:gensim.models.word2vec:EPOCH 9 - PROGRESS: at 0.71% examples, 1316139 words/s, in_qsize 10, out_qsize 1\n",
      "INFO:gensim.models.word2vec:EPOCH 9: training on 190588768 raw words (184962184 effective words) took 127.9s, 1446546 effective words/s\n",
      "INFO:root:Loss after epoch 9:42010240.0\n",
      "INFO:gensim.models.word2vec:EPOCH 10 - PROGRESS: at 0.77% examples, 1412638 words/s, in_qsize 10, out_qsize 0\n",
      "INFO:gensim.models.word2vec:EPOCH 10: training on 190588768 raw words (184959316 effective words) took 130.6s, 1416405 effective words/s\n",
      "INFO:root:Loss after epoch 10:41421036.0\n",
      "INFO:gensim.models.word2vec:EPOCH 11 - PROGRESS: at 0.71% examples, 1315559 words/s, in_qsize 8, out_qsize 1\n",
      "INFO:gensim.models.word2vec:EPOCH 11: training on 190588768 raw words (184960586 effective words) took 130.3s, 1419332 effective words/s\n",
      "INFO:root:Loss after epoch 11:41152568.0\n",
      "INFO:gensim.models.word2vec:EPOCH 12 - PROGRESS: at 0.74% examples, 1366117 words/s, in_qsize 7, out_qsize 2\n",
      "INFO:gensim.models.word2vec:EPOCH 12: training on 190588768 raw words (184962559 effective words) took 129.3s, 1430947 effective words/s\n",
      "INFO:root:Loss after epoch 12:40504624.0\n",
      "INFO:gensim.models.word2vec:EPOCH 13 - PROGRESS: at 0.73% examples, 1335067 words/s, in_qsize 8, out_qsize 2\n",
      "INFO:gensim.models.word2vec:EPOCH 13: training on 190588768 raw words (184961341 effective words) took 129.9s, 1424317 effective words/s\n",
      "INFO:root:Loss after epoch 13:41073820.0\n",
      "INFO:gensim.models.word2vec:EPOCH 14 - PROGRESS: at 0.77% examples, 1414860 words/s, in_qsize 9, out_qsize 0\n",
      "INFO:gensim.models.word2vec:EPOCH 14: training on 190588768 raw words (184958897 effective words) took 129.9s, 1423678 effective words/s\n",
      "INFO:root:Loss after epoch 14:40722364.0\n",
      "INFO:gensim.models.word2vec:EPOCH 15 - PROGRESS: at 0.77% examples, 1415812 words/s, in_qsize 9, out_qsize 0\n",
      "INFO:gensim.models.word2vec:EPOCH 15: training on 190588768 raw words (184958423 effective words) took 129.0s, 1434167 effective words/s\n",
      "INFO:root:Loss after epoch 15:40800972.0\n",
      "INFO:gensim.models.word2vec:EPOCH 16 - PROGRESS: at 0.73% examples, 1323169 words/s, in_qsize 10, out_qsize 0\n",
      "INFO:gensim.models.word2vec:EPOCH 16: training on 190588768 raw words (184960557 effective words) took 130.3s, 1419824 effective words/s\n",
      "INFO:root:Loss after epoch 16:40197156.0\n",
      "INFO:gensim.models.word2vec:EPOCH 17 - PROGRESS: at 0.70% examples, 1292762 words/s, in_qsize 10, out_qsize 0\n",
      "INFO:gensim.models.word2vec:EPOCH 17: training on 190588768 raw words (184960904 effective words) took 130.7s, 1414796 effective words/s\n",
      "INFO:root:Loss after epoch 17:40129512.0\n",
      "INFO:gensim.models.word2vec:EPOCH 18 - PROGRESS: at 0.71% examples, 1302009 words/s, in_qsize 7, out_qsize 2\n",
      "INFO:gensim.models.word2vec:EPOCH 18: training on 190588768 raw words (184963331 effective words) took 133.1s, 1389297 effective words/s\n",
      "INFO:root:Loss after epoch 18:40172624.0\n",
      "INFO:gensim.models.word2vec:EPOCH 19 - PROGRESS: at 0.76% examples, 1389928 words/s, in_qsize 9, out_qsize 0\n",
      "INFO:gensim.models.word2vec:EPOCH 19: training on 190588768 raw words (184961883 effective words) took 132.7s, 1393392 effective words/s\n",
      "INFO:root:Loss after epoch 19:39699012.0\n",
      "INFO:gensim.models.word2vec:EPOCH 20 - PROGRESS: at 0.75% examples, 1367394 words/s, in_qsize 9, out_qsize 0\n",
      "INFO:gensim.models.word2vec:EPOCH 20: training on 190588768 raw words (184962023 effective words) took 130.9s, 1413390 effective words/s\n",
      "INFO:root:Loss after epoch 20:39763200.0\n",
      "INFO:gensim.models.word2vec:EPOCH 21 - PROGRESS: at 0.76% examples, 1404363 words/s, in_qsize 9, out_qsize 0\n",
      "INFO:gensim.models.word2vec:EPOCH 21: training on 190588768 raw words (184957980 effective words) took 132.0s, 1401104 effective words/s\n",
      "INFO:root:Loss after epoch 21:39548308.0\n",
      "INFO:gensim.models.word2vec:EPOCH 22 - PROGRESS: at 0.69% examples, 1262325 words/s, in_qsize 9, out_qsize 0\n",
      "INFO:gensim.models.word2vec:EPOCH 22: training on 190588768 raw words (184960711 effective words) took 129.6s, 1427199 effective words/s\n",
      "INFO:root:Loss after epoch 22:39813900.0\n",
      "INFO:gensim.models.word2vec:EPOCH 23 - PROGRESS: at 0.78% examples, 1424301 words/s, in_qsize 9, out_qsize 0\n",
      "INFO:gensim.models.word2vec:EPOCH 23: training on 190588768 raw words (184960123 effective words) took 128.3s, 1441873 effective words/s\n",
      "INFO:root:Loss after epoch 23:39770616.0\n",
      "INFO:gensim.models.word2vec:EPOCH 24 - PROGRESS: at 0.76% examples, 1357446 words/s, in_qsize 9, out_qsize 0\n",
      "INFO:gensim.models.word2vec:EPOCH 24: training on 190588768 raw words (184963653 effective words) took 129.7s, 1425604 effective words/s\n",
      "INFO:root:Loss after epoch 24:39534568.0\n",
      "INFO:gensim.models.word2vec:EPOCH 25 - PROGRESS: at 0.74% examples, 1356328 words/s, in_qsize 9, out_qsize 0\n",
      "INFO:gensim.models.word2vec:EPOCH 25: training on 190588768 raw words (184960447 effective words) took 129.9s, 1423679 effective words/s\n",
      "INFO:root:Loss after epoch 25:39179708.0\n",
      "INFO:gensim.models.word2vec:EPOCH 26 - PROGRESS: at 0.79% examples, 1448122 words/s, in_qsize 7, out_qsize 2\n",
      "INFO:gensim.models.word2vec:EPOCH 26: training on 190588768 raw words (184961950 effective words) took 129.2s, 1431968 effective words/s\n",
      "INFO:root:Loss after epoch 26:39356272.0\n",
      "INFO:gensim.models.word2vec:EPOCH 27 - PROGRESS: at 0.75% examples, 1375311 words/s, in_qsize 7, out_qsize 2\n"
     ]
    },
    {
     "name": "stderr",
     "output_type": "stream",
     "text": [
      "INFO:gensim.models.word2vec:EPOCH 27: training on 190588768 raw words (184962944 effective words) took 125.4s, 1474733 effective words/s\n",
      "INFO:root:Loss after epoch 27:39344724.0\n",
      "INFO:gensim.models.word2vec:EPOCH 28 - PROGRESS: at 0.76% examples, 1402919 words/s, in_qsize 9, out_qsize 0\n",
      "INFO:gensim.models.word2vec:EPOCH 28: training on 190588768 raw words (184962830 effective words) took 131.4s, 1407384 effective words/s\n",
      "INFO:root:Loss after epoch 28:39083948.0\n",
      "INFO:gensim.models.word2vec:EPOCH 29 - PROGRESS: at 0.78% examples, 1432646 words/s, in_qsize 9, out_qsize 0\n",
      "INFO:gensim.models.word2vec:EPOCH 29: training on 190588768 raw words (184958648 effective words) took 129.3s, 1430813 effective words/s\n",
      "INFO:root:Loss after epoch 29:39276796.0\n",
      "INFO:gensim.models.word2vec:EPOCH 30 - PROGRESS: at 0.74% examples, 1353684 words/s, in_qsize 9, out_qsize 0\n",
      "INFO:gensim.models.word2vec:EPOCH 30: training on 190588768 raw words (184961177 effective words) took 133.2s, 1388686 effective words/s\n",
      "INFO:root:Loss after epoch 30:39259992.0\n",
      "INFO:gensim.models.word2vec:EPOCH 31 - PROGRESS: at 0.72% examples, 1320850 words/s, in_qsize 9, out_qsize 0\n",
      "INFO:gensim.models.word2vec:EPOCH 31: training on 190588768 raw words (184962795 effective words) took 130.1s, 1421917 effective words/s\n",
      "INFO:root:Loss after epoch 31:39176512.0\n",
      "INFO:gensim.models.word2vec:EPOCH 32 - PROGRESS: at 0.69% examples, 1273736 words/s, in_qsize 9, out_qsize 3\n",
      "INFO:gensim.models.word2vec:EPOCH 32: training on 190588768 raw words (184960865 effective words) took 137.6s, 1344660 effective words/s\n",
      "INFO:root:Loss after epoch 32:39031992.0\n",
      "INFO:gensim.models.word2vec:EPOCH 33 - PROGRESS: at 0.71% examples, 1317029 words/s, in_qsize 10, out_qsize 3\n",
      "INFO:gensim.models.word2vec:EPOCH 33: training on 190588768 raw words (184962724 effective words) took 136.5s, 1354578 effective words/s\n",
      "INFO:root:Loss after epoch 33:38699320.0\n",
      "INFO:gensim.models.word2vec:EPOCH 34 - PROGRESS: at 0.68% examples, 1245434 words/s, in_qsize 8, out_qsize 1\n",
      "INFO:gensim.models.word2vec:EPOCH 34: training on 190588768 raw words (184960696 effective words) took 136.4s, 1356056 effective words/s\n",
      "INFO:root:Loss after epoch 34:39113200.0\n",
      "INFO:gensim.models.word2vec:EPOCH 35 - PROGRESS: at 0.73% examples, 1344528 words/s, in_qsize 9, out_qsize 0\n",
      "INFO:gensim.models.word2vec:EPOCH 35: training on 190588768 raw words (184960563 effective words) took 136.3s, 1356800 effective words/s\n",
      "INFO:root:Loss after epoch 35:39040020.0\n",
      "INFO:gensim.models.word2vec:EPOCH 36 - PROGRESS: at 0.71% examples, 1304743 words/s, in_qsize 9, out_qsize 0\n",
      "INFO:gensim.models.word2vec:EPOCH 36: training on 190588768 raw words (184960034 effective words) took 136.2s, 1357532 effective words/s\n",
      "INFO:root:Loss after epoch 36:39051452.0\n",
      "INFO:gensim.models.word2vec:EPOCH 37 - PROGRESS: at 0.72% examples, 1322252 words/s, in_qsize 9, out_qsize 0\n",
      "INFO:gensim.models.word2vec:EPOCH 37: training on 190588768 raw words (184961651 effective words) took 135.7s, 1362854 effective words/s\n",
      "INFO:root:Loss after epoch 37:38995668.0\n",
      "INFO:gensim.models.word2vec:EPOCH 38 - PROGRESS: at 0.66% examples, 1214614 words/s, in_qsize 9, out_qsize 0\n",
      "INFO:gensim.models.word2vec:EPOCH 38: training on 190588768 raw words (184961703 effective words) took 135.9s, 1361181 effective words/s\n",
      "INFO:root:Loss after epoch 38:38924700.0\n",
      "INFO:gensim.models.word2vec:EPOCH 39 - PROGRESS: at 0.71% examples, 1307199 words/s, in_qsize 9, out_qsize 1\n",
      "INFO:gensim.models.word2vec:EPOCH 39: training on 190588768 raw words (184958217 effective words) took 133.8s, 1382435 effective words/s\n",
      "INFO:root:Loss after epoch 39:38827844.0\n",
      "INFO:gensim.models.word2vec:EPOCH 40 - PROGRESS: at 0.75% examples, 1370802 words/s, in_qsize 9, out_qsize 0\n",
      "INFO:gensim.models.word2vec:EPOCH 40: training on 190588768 raw words (184960923 effective words) took 137.0s, 1349724 effective words/s\n",
      "INFO:root:Loss after epoch 40:38928640.0\n",
      "INFO:gensim.models.word2vec:EPOCH 41 - PROGRESS: at 0.68% examples, 1237188 words/s, in_qsize 9, out_qsize 0\n",
      "INFO:gensim.models.word2vec:EPOCH 41: training on 190588768 raw words (184960965 effective words) took 136.4s, 1355706 effective words/s\n",
      "INFO:root:Loss after epoch 41:38852000.0\n",
      "INFO:gensim.models.word2vec:EPOCH 42 - PROGRESS: at 0.69% examples, 1245505 words/s, in_qsize 9, out_qsize 0\n",
      "INFO:gensim.models.word2vec:EPOCH 42: training on 190588768 raw words (184961057 effective words) took 136.1s, 1358529 effective words/s\n",
      "INFO:root:Loss after epoch 42:38902980.0\n",
      "INFO:gensim.models.word2vec:EPOCH 43 - PROGRESS: at 0.68% examples, 1236070 words/s, in_qsize 10, out_qsize 1\n",
      "INFO:gensim.models.word2vec:EPOCH 43: training on 190588768 raw words (184962499 effective words) took 137.9s, 1340916 effective words/s\n",
      "INFO:root:Loss after epoch 43:38946280.0\n",
      "INFO:gensim.models.word2vec:EPOCH 44 - PROGRESS: at 0.69% examples, 1268037 words/s, in_qsize 8, out_qsize 1\n",
      "INFO:gensim.models.word2vec:EPOCH 44: training on 190588768 raw words (184960600 effective words) took 136.2s, 1357970 effective words/s\n",
      "INFO:root:Loss after epoch 44:38911460.0\n",
      "INFO:gensim.models.word2vec:EPOCH 45 - PROGRESS: at 0.70% examples, 1278828 words/s, in_qsize 8, out_qsize 4\n",
      "INFO:gensim.models.word2vec:EPOCH 45: training on 190588768 raw words (184960914 effective words) took 135.7s, 1363162 effective words/s\n",
      "INFO:root:Loss after epoch 45:38523948.0\n",
      "INFO:gensim.models.word2vec:EPOCH 46 - PROGRESS: at 0.71% examples, 1301098 words/s, in_qsize 9, out_qsize 0\n",
      "INFO:gensim.models.word2vec:EPOCH 46: training on 190588768 raw words (184961955 effective words) took 135.5s, 1364619 effective words/s\n",
      "INFO:root:Loss after epoch 46:38528032.0\n",
      "INFO:gensim.models.word2vec:EPOCH 47 - PROGRESS: at 0.72% examples, 1320992 words/s, in_qsize 9, out_qsize 0\n",
      "INFO:gensim.models.word2vec:EPOCH 47: training on 190588768 raw words (184962795 effective words) took 136.0s, 1359772 effective words/s\n",
      "INFO:root:Loss after epoch 47:38717704.0\n",
      "INFO:gensim.models.word2vec:EPOCH 48 - PROGRESS: at 0.70% examples, 1289110 words/s, in_qsize 9, out_qsize 0\n",
      "INFO:gensim.models.word2vec:EPOCH 48: training on 190588768 raw words (184960022 effective words) took 135.6s, 1364250 effective words/s\n",
      "INFO:root:Loss after epoch 48:38688332.0\n",
      "INFO:gensim.models.word2vec:EPOCH 49 - PROGRESS: at 0.70% examples, 1284716 words/s, in_qsize 9, out_qsize 0\n",
      "INFO:gensim.models.word2vec:EPOCH 49: training on 190588768 raw words (184962924 effective words) took 135.8s, 1362031 effective words/s\n",
      "INFO:root:Loss after epoch 49:38684868.0\n",
      "INFO:gensim.models.word2vec:EPOCH 50 - PROGRESS: at 0.73% examples, 1335267 words/s, in_qsize 8, out_qsize 1\n",
      "INFO:gensim.models.word2vec:EPOCH 50: training on 190588768 raw words (184961831 effective words) took 136.5s, 1354573 effective words/s\n",
      "INFO:root:Loss after epoch 50:38749308.0\n",
      "INFO:gensim.models.word2vec:EPOCH 51 - PROGRESS: at 0.70% examples, 1280286 words/s, in_qsize 9, out_qsize 0\n",
      "INFO:gensim.models.word2vec:EPOCH 51: training on 190588768 raw words (184960736 effective words) took 137.1s, 1348873 effective words/s\n",
      "INFO:root:Loss after epoch 51:38816864.0\n",
      "INFO:gensim.models.word2vec:EPOCH 52 - PROGRESS: at 0.73% examples, 1341657 words/s, in_qsize 9, out_qsize 0\n",
      "INFO:gensim.models.word2vec:EPOCH 52: training on 190588768 raw words (184959871 effective words) took 136.0s, 1360165 effective words/s\n",
      "INFO:root:Loss after epoch 52:38488204.0\n",
      "INFO:gensim.models.word2vec:EPOCH 53 - PROGRESS: at 0.70% examples, 1291443 words/s, in_qsize 10, out_qsize 0\n",
      "INFO:gensim.models.word2vec:EPOCH 53: training on 190588768 raw words (184959066 effective words) took 137.1s, 1349386 effective words/s\n",
      "INFO:root:Loss after epoch 53:38765768.0\n",
      "INFO:gensim.models.word2vec:EPOCH 54 - PROGRESS: at 0.69% examples, 1262318 words/s, in_qsize 9, out_qsize 0\n",
      "INFO:gensim.models.word2vec:EPOCH 54: training on 190588768 raw words (184963454 effective words) took 135.8s, 1361805 effective words/s\n",
      "INFO:root:Loss after epoch 54:38585116.0\n",
      "INFO:gensim.models.word2vec:EPOCH 55 - PROGRESS: at 0.73% examples, 1335344 words/s, in_qsize 9, out_qsize 0\n",
      "INFO:gensim.models.word2vec:EPOCH 55: training on 190588768 raw words (184963025 effective words) took 136.0s, 1359885 effective words/s\n",
      "INFO:root:Loss after epoch 55:38623616.0\n"
     ]
    },
    {
     "name": "stderr",
     "output_type": "stream",
     "text": [
      "INFO:gensim.models.word2vec:EPOCH 56 - PROGRESS: at 0.70% examples, 1279047 words/s, in_qsize 9, out_qsize 0\n",
      "INFO:gensim.models.word2vec:EPOCH 56: training on 190588768 raw words (184959553 effective words) took 135.5s, 1364647 effective words/s\n",
      "INFO:root:Loss after epoch 56:38492964.0\n",
      "INFO:gensim.models.word2vec:EPOCH 57 - PROGRESS: at 0.72% examples, 1273617 words/s, in_qsize 7, out_qsize 2\n",
      "INFO:gensim.models.word2vec:EPOCH 57: training on 190588768 raw words (184959517 effective words) took 136.1s, 1359389 effective words/s\n",
      "INFO:root:Loss after epoch 57:38747280.0\n",
      "INFO:gensim.models.word2vec:EPOCH 58 - PROGRESS: at 0.72% examples, 1325790 words/s, in_qsize 10, out_qsize 0\n",
      "INFO:gensim.models.word2vec:EPOCH 58: training on 190588768 raw words (184958481 effective words) took 131.3s, 1408542 effective words/s\n",
      "INFO:root:Loss after epoch 58:38423132.0\n",
      "INFO:gensim.models.word2vec:EPOCH 59 - PROGRESS: at 0.77% examples, 1414438 words/s, in_qsize 10, out_qsize 0\n",
      "INFO:gensim.models.word2vec:EPOCH 59: training on 190588768 raw words (184959089 effective words) took 131.5s, 1406605 effective words/s\n",
      "INFO:root:Loss after epoch 59:38311036.0\n",
      "INFO:gensim.models.word2vec:EPOCH 60 - PROGRESS: at 0.75% examples, 1359208 words/s, in_qsize 10, out_qsize 1\n",
      "INFO:gensim.models.word2vec:EPOCH 60: training on 190588768 raw words (184959531 effective words) took 129.8s, 1425015 effective words/s\n",
      "INFO:root:Loss after epoch 60:38609168.0\n",
      "INFO:gensim.models.word2vec:EPOCH 61 - PROGRESS: at 0.73% examples, 1344664 words/s, in_qsize 9, out_qsize 0\n",
      "INFO:gensim.models.word2vec:EPOCH 61: training on 190588768 raw words (184964123 effective words) took 129.6s, 1426710 effective words/s\n",
      "INFO:root:Loss after epoch 61:38450388.0\n",
      "INFO:gensim.models.word2vec:EPOCH 62 - PROGRESS: at 0.71% examples, 1306432 words/s, in_qsize 7, out_qsize 2\n",
      "INFO:gensim.models.word2vec:EPOCH 62: training on 190588768 raw words (184960528 effective words) took 131.0s, 1412252 effective words/s\n",
      "INFO:root:Loss after epoch 62:38698764.0\n",
      "INFO:gensim.models.word2vec:EPOCH 63 - PROGRESS: at 0.76% examples, 1396083 words/s, in_qsize 9, out_qsize 2\n",
      "INFO:gensim.models.word2vec:EPOCH 63: training on 190588768 raw words (184962982 effective words) took 133.1s, 1389362 effective words/s\n",
      "INFO:root:Loss after epoch 63:38166200.0\n",
      "INFO:gensim.models.word2vec:EPOCH 64 - PROGRESS: at 0.76% examples, 1384210 words/s, in_qsize 9, out_qsize 0\n",
      "INFO:gensim.models.word2vec:EPOCH 64: training on 190588768 raw words (184961525 effective words) took 129.8s, 1424675 effective words/s\n",
      "INFO:root:Loss after epoch 64:38842964.0\n",
      "INFO:gensim.models.word2vec:EPOCH 65 - PROGRESS: at 0.71% examples, 1304473 words/s, in_qsize 9, out_qsize 0\n",
      "INFO:gensim.models.word2vec:EPOCH 65: training on 190588768 raw words (184957872 effective words) took 131.5s, 1406215 effective words/s\n",
      "INFO:root:Loss after epoch 65:38437712.0\n",
      "INFO:gensim.models.word2vec:EPOCH 66 - PROGRESS: at 0.74% examples, 1365375 words/s, in_qsize 10, out_qsize 0\n",
      "INFO:gensim.models.word2vec:EPOCH 66: training on 190588768 raw words (184959785 effective words) took 129.3s, 1429941 effective words/s\n",
      "INFO:root:Loss after epoch 66:38600096.0\n",
      "INFO:gensim.models.word2vec:EPOCH 67 - PROGRESS: at 0.70% examples, 1286177 words/s, in_qsize 9, out_qsize 0\n",
      "INFO:gensim.models.word2vec:EPOCH 67: training on 190588768 raw words (184963031 effective words) took 131.1s, 1410948 effective words/s\n",
      "INFO:root:Loss after epoch 67:38562208.0\n",
      "INFO:gensim.models.word2vec:EPOCH 68 - PROGRESS: at 0.73% examples, 1345300 words/s, in_qsize 6, out_qsize 3\n",
      "INFO:gensim.models.word2vec:EPOCH 68: training on 190588768 raw words (184961767 effective words) took 131.7s, 1404247 effective words/s\n",
      "INFO:root:Loss after epoch 68:38703832.0\n",
      "INFO:gensim.models.word2vec:EPOCH 69 - PROGRESS: at 0.73% examples, 1306575 words/s, in_qsize 10, out_qsize 3\n",
      "INFO:gensim.models.word2vec:EPOCH 69: training on 190588768 raw words (184963544 effective words) took 131.6s, 1405847 effective words/s\n",
      "INFO:root:Loss after epoch 69:38590492.0\n",
      "INFO:gensim.models.word2vec:EPOCH 70 - PROGRESS: at 0.74% examples, 1345166 words/s, in_qsize 9, out_qsize 0\n",
      "INFO:gensim.models.word2vec:EPOCH 70: training on 190588768 raw words (184961549 effective words) took 131.6s, 1405641 effective words/s\n",
      "INFO:root:Loss after epoch 70:38485564.0\n",
      "INFO:gensim.models.word2vec:EPOCH 71 - PROGRESS: at 0.70% examples, 1289947 words/s, in_qsize 8, out_qsize 0\n",
      "INFO:gensim.models.word2vec:EPOCH 71: training on 190588768 raw words (184959224 effective words) took 131.4s, 1407928 effective words/s\n",
      "INFO:root:Loss after epoch 71:38541648.0\n",
      "INFO:gensim.models.word2vec:EPOCH 72 - PROGRESS: at 0.71% examples, 1300303 words/s, in_qsize 9, out_qsize 1\n",
      "INFO:gensim.models.word2vec:EPOCH 72: training on 190588768 raw words (184961566 effective words) took 133.9s, 1381182 effective words/s\n",
      "INFO:root:Loss after epoch 72:38550764.0\n",
      "INFO:gensim.models.word2vec:EPOCH 73 - PROGRESS: at 0.73% examples, 1335612 words/s, in_qsize 7, out_qsize 2\n",
      "INFO:gensim.models.word2vec:EPOCH 73: training on 190588768 raw words (184960702 effective words) took 127.9s, 1445887 effective words/s\n",
      "INFO:root:Loss after epoch 73:38565128.0\n",
      "INFO:gensim.models.word2vec:EPOCH 74 - PROGRESS: at 0.72% examples, 1330553 words/s, in_qsize 8, out_qsize 3\n",
      "INFO:gensim.models.word2vec:EPOCH 74: training on 190588768 raw words (184960683 effective words) took 129.9s, 1423446 effective words/s\n",
      "INFO:root:Loss after epoch 74:38421956.0\n",
      "INFO:gensim.models.word2vec:EPOCH 75 - PROGRESS: at 0.68% examples, 1256864 words/s, in_qsize 9, out_qsize 0\n",
      "INFO:gensim.models.word2vec:EPOCH 75: training on 190588768 raw words (184959943 effective words) took 133.6s, 1384218 effective words/s\n",
      "INFO:root:Loss after epoch 75:38574864.0\n",
      "INFO:gensim.models.word2vec:EPOCH 76 - PROGRESS: at 0.66% examples, 1207577 words/s, in_qsize 9, out_qsize 0\n",
      "INFO:gensim.models.word2vec:EPOCH 76: training on 190588768 raw words (184961326 effective words) took 132.2s, 1398800 effective words/s\n",
      "INFO:root:Loss after epoch 76:38140332.0\n",
      "INFO:gensim.models.word2vec:EPOCH 77 - PROGRESS: at 0.73% examples, 1341762 words/s, in_qsize 10, out_qsize 1\n",
      "INFO:gensim.models.word2vec:EPOCH 77: training on 190588768 raw words (184961121 effective words) took 130.1s, 1421403 effective words/s\n",
      "INFO:root:Loss after epoch 77:38423244.0\n",
      "INFO:gensim.models.word2vec:EPOCH 78 - PROGRESS: at 0.74% examples, 1331911 words/s, in_qsize 9, out_qsize 0\n",
      "INFO:gensim.models.word2vec:EPOCH 78: training on 190588768 raw words (184960265 effective words) took 131.5s, 1406813 effective words/s\n",
      "INFO:root:Loss after epoch 78:38453976.0\n",
      "INFO:gensim.models.word2vec:EPOCH 79 - PROGRESS: at 0.73% examples, 1318904 words/s, in_qsize 9, out_qsize 3\n",
      "INFO:gensim.models.word2vec:EPOCH 79: training on 190588768 raw words (184960403 effective words) took 128.6s, 1438288 effective words/s\n",
      "INFO:root:Loss after epoch 79:38611828.0\n",
      "INFO:gensim.models.word2vec:EPOCH 80 - PROGRESS: at 0.74% examples, 1366121 words/s, in_qsize 9, out_qsize 0\n",
      "INFO:gensim.models.word2vec:EPOCH 80: training on 190588768 raw words (184964304 effective words) took 128.8s, 1436314 effective words/s\n",
      "INFO:root:Loss after epoch 80:38725200.0\n",
      "INFO:gensim.models.word2vec:EPOCH 81 - PROGRESS: at 0.86% examples, 1578715 words/s, in_qsize 0, out_qsize 0\n",
      "INFO:gensim.models.word2vec:EPOCH 81: training on 190588768 raw words (184959983 effective words) took 124.7s, 1482788 effective words/s\n",
      "INFO:root:Loss after epoch 81:40272108.0\n",
      "INFO:gensim.models.word2vec:EPOCH 82 - PROGRESS: at 0.78% examples, 1430565 words/s, in_qsize 9, out_qsize 0\n",
      "INFO:gensim.models.word2vec:EPOCH 82: training on 190588768 raw words (184959856 effective words) took 128.4s, 1440692 effective words/s\n",
      "INFO:root:Loss after epoch 82:38362808.0\n",
      "INFO:gensim.models.word2vec:EPOCH 83 - PROGRESS: at 0.69% examples, 1264154 words/s, in_qsize 6, out_qsize 1\n",
      "INFO:gensim.models.word2vec:EPOCH 83: training on 190588768 raw words (184963780 effective words) took 129.7s, 1426332 effective words/s\n",
      "INFO:root:Loss after epoch 83:38440936.0\n",
      "INFO:gensim.models.word2vec:EPOCH 84 - PROGRESS: at 0.73% examples, 1334086 words/s, in_qsize 8, out_qsize 1\n",
      "INFO:gensim.models.word2vec:EPOCH 84: training on 190588768 raw words (184961926 effective words) took 137.1s, 1349081 effective words/s\n"
     ]
    },
    {
     "name": "stderr",
     "output_type": "stream",
     "text": [
      "INFO:root:Loss after epoch 84:38594976.0\n",
      "INFO:gensim.models.word2vec:EPOCH 85 - PROGRESS: at 0.73% examples, 1323962 words/s, in_qsize 9, out_qsize 1\n",
      "INFO:gensim.models.word2vec:EPOCH 85: training on 190588768 raw words (184963169 effective words) took 133.8s, 1382595 effective words/s\n",
      "INFO:root:Loss after epoch 85:38724716.0\n",
      "INFO:gensim.models.word2vec:EPOCH 86 - PROGRESS: at 0.76% examples, 1394116 words/s, in_qsize 9, out_qsize 2\n",
      "INFO:gensim.models.word2vec:EPOCH 86: training on 190588768 raw words (184962307 effective words) took 129.4s, 1429659 effective words/s\n",
      "INFO:root:Loss after epoch 86:38542600.0\n",
      "INFO:gensim.models.word2vec:EPOCH 87 - PROGRESS: at 0.75% examples, 1368644 words/s, in_qsize 9, out_qsize 0\n",
      "INFO:gensim.models.word2vec:EPOCH 87: training on 190588768 raw words (184960686 effective words) took 128.8s, 1436426 effective words/s\n",
      "INFO:root:Loss after epoch 87:38424664.0\n",
      "INFO:gensim.models.word2vec:EPOCH 88 - PROGRESS: at 0.75% examples, 1375890 words/s, in_qsize 9, out_qsize 0\n",
      "INFO:gensim.models.word2vec:EPOCH 88: training on 190588768 raw words (184963611 effective words) took 127.9s, 1446675 effective words/s\n",
      "INFO:root:Loss after epoch 88:38497612.0\n",
      "INFO:gensim.models.word2vec:EPOCH 89 - PROGRESS: at 0.75% examples, 1353233 words/s, in_qsize 9, out_qsize 0\n",
      "INFO:gensim.models.word2vec:EPOCH 89: training on 190588768 raw words (184961454 effective words) took 127.7s, 1448965 effective words/s\n",
      "INFO:root:Loss after epoch 89:38551544.0\n",
      "INFO:gensim.models.word2vec:EPOCH 90 - PROGRESS: at 0.74% examples, 1348835 words/s, in_qsize 8, out_qsize 2\n",
      "INFO:gensim.models.word2vec:EPOCH 90: training on 190588768 raw words (184960840 effective words) took 129.1s, 1432267 effective words/s\n",
      "INFO:root:Loss after epoch 90:38356924.0\n",
      "INFO:gensim.models.word2vec:EPOCH 91 - PROGRESS: at 0.78% examples, 1430644 words/s, in_qsize 10, out_qsize 0\n",
      "INFO:gensim.models.word2vec:EPOCH 91: training on 190588768 raw words (184962592 effective words) took 128.4s, 1441028 effective words/s\n",
      "INFO:root:Loss after epoch 91:38347528.0\n",
      "INFO:gensim.models.word2vec:EPOCH 92 - PROGRESS: at 0.75% examples, 1383611 words/s, in_qsize 10, out_qsize 1\n",
      "INFO:gensim.models.word2vec:EPOCH 92: training on 190588768 raw words (184960917 effective words) took 128.4s, 1440806 effective words/s\n",
      "INFO:root:Loss after epoch 92:38368040.0\n",
      "INFO:gensim.models.word2vec:EPOCH 93 - PROGRESS: at 0.78% examples, 1423762 words/s, in_qsize 10, out_qsize 1\n",
      "INFO:gensim.models.word2vec:EPOCH 93: training on 190588768 raw words (184961307 effective words) took 128.6s, 1438762 effective words/s\n",
      "INFO:root:Loss after epoch 93:38533732.0\n",
      "INFO:gensim.models.word2vec:EPOCH 94 - PROGRESS: at 0.76% examples, 1395095 words/s, in_qsize 10, out_qsize 0\n",
      "INFO:gensim.models.word2vec:EPOCH 94: training on 190588768 raw words (184963345 effective words) took 129.1s, 1432277 effective words/s\n",
      "INFO:root:Loss after epoch 94:38375512.0\n",
      "INFO:gensim.models.word2vec:EPOCH 95 - PROGRESS: at 0.70% examples, 1274526 words/s, in_qsize 9, out_qsize 2\n",
      "INFO:gensim.models.word2vec:EPOCH 95: training on 190588768 raw words (184960298 effective words) took 128.7s, 1436841 effective words/s\n",
      "INFO:root:Loss after epoch 95:38478552.0\n",
      "INFO:gensim.models.word2vec:EPOCH 96 - PROGRESS: at 0.75% examples, 1361460 words/s, in_qsize 10, out_qsize 0\n",
      "INFO:gensim.models.word2vec:EPOCH 96: training on 190588768 raw words (184961175 effective words) took 128.5s, 1439020 effective words/s\n",
      "INFO:root:Loss after epoch 96:38596672.0\n",
      "INFO:gensim.models.word2vec:EPOCH 97 - PROGRESS: at 0.76% examples, 1402059 words/s, in_qsize 9, out_qsize 0\n",
      "INFO:gensim.models.word2vec:EPOCH 97: training on 190588768 raw words (184963678 effective words) took 128.8s, 1436577 effective words/s\n",
      "INFO:root:Loss after epoch 97:40615456.0\n",
      "INFO:gensim.models.word2vec:EPOCH 98 - PROGRESS: at 0.73% examples, 1345658 words/s, in_qsize 9, out_qsize 0\n",
      "INFO:gensim.models.word2vec:EPOCH 98: training on 190588768 raw words (184959193 effective words) took 130.7s, 1415586 effective words/s\n",
      "INFO:root:Loss after epoch 98:38356292.0\n",
      "INFO:gensim.models.word2vec:EPOCH 99 - PROGRESS: at 0.77% examples, 1401477 words/s, in_qsize 9, out_qsize 0\n",
      "INFO:gensim.models.word2vec:EPOCH 99: training on 190588768 raw words (184963129 effective words) took 129.8s, 1425200 effective words/s\n",
      "INFO:root:Loss after epoch 99:38463168.0\n",
      "INFO:gensim.utils:Word2Vec lifecycle event {'msg': 'training on 19058876800 raw words (18496116828 effective words) took 13178.5s, 1403506 effective words/s', 'datetime': '2023-05-15T17:08:22.564135', 'gensim': '4.3.1', 'python': '3.11.3 | packaged by conda-forge | (main, Apr  6 2023, 09:05:00) [Clang 14.0.6 ]', 'platform': 'macOS-12.6-x86_64-i386-64bit', 'event': 'train'}\n"
     ]
    },
    {
     "data": {
      "text/plain": [
       "(18496116828, 19058876800)"
      ]
     },
     "execution_count": 20,
     "metadata": {},
     "output_type": "execute_result"
    }
   ],
   "source": [
    "#we override alpha with small values, since default values result in poor train performance. See loss plot below\n",
    "model.train(sentences, epochs=100, start_alpha=0.0001, end_alpha=0.00001, total_examples=model.corpus_count, total_words=model.corpus_total_words, compute_loss=True, report_delay=300, callbacks=[Callback()])\n"
   ]
  },
  {
   "cell_type": "code",
   "execution_count": 21,
   "id": "d5e1b267",
   "metadata": {},
   "outputs": [
    {
     "data": {
      "text/plain": [
       "[<matplotlib.lines.Line2D at 0x193d5e490>]"
      ]
     },
     "execution_count": 21,
     "metadata": {},
     "output_type": "execute_result"
    },
    {
     "data": {
      "image/png": "[encoded data removed]",
      "text/plain": [
       "<Figure size 640x480 with 1 Axes>"
      ]
     },
     "metadata": {},
     "output_type": "display_data"
    }
   ],
   "source": [
    "plt.plot(loss_list)"
   ]
  },
  {
   "cell_type": "markdown",
   "id": "a42f370d",
   "metadata": {},
   "source": [
    "For comaprison, below is the loss plot when using default (larger) values for alpha. Note, that during training alpha is decreasing linearly from start value to end value. With default values in use the loss goes down near the end, once alpha gets smaller values."
   ]
  },
  {
   "cell_type": "code",
   "execution_count": 22,
   "id": "56eaea48",
   "metadata": {},
   "outputs": [
    {
     "data": {
      "text/plain": [
       "[<matplotlib.lines.Line2D at 0x1d13cae90>]"
      ]
     },
     "execution_count": 22,
     "metadata": {},
     "output_type": "execute_result"
    },
    {
     "data": {
      "image/png": "[encoded data removed]",
      "text/plain": [
       "<Figure size 640x480 with 1 Axes>"
      ]
     },
     "metadata": {},
     "output_type": "display_data"
    }
   ],
   "source": [
    "default_alpha_loss_list = [45621836.0, 44355904.0, 44249936.0, 44104492.0, 44107028.0, 44097436.0, 44270596.0, 44089604.0, 44185456.0, 44285424.0, 44182396.0, 44126032.0, 44408908.0, 44199988.0, 44425624.0, 44209516.0, 44227556.0, 44041368.0, 44373620.0, 44456688.0, 44070200.0, 43995008.0, 44134528.0, 44107632.0, 43802268.0, 44047244.0, 43904480.0, 43939264.0, 43987436.0, 43859148.0, 43961468.0, 44073332.0, 43907992.0, 43725336.0, 43849884.0, 43924944.0, 43826232.0, 43496588.0, 43605268.0, 43641544.0, 43543980.0, 43537204.0, 43491140.0, 43373268.0, 43624628.0, 43330720.0, 43449924.0, 43234040.0, 43097712.0, 44565932.0, 43416728.0, 43234072.0, 43260536.0, 43074152.0, 43096868.0, 42714596.0, 43268708.0, 42984456.0, 43917916.0, 43035192.0, 42818392.0, 42656488.0, 42411144.0, 42707748.0, 42523348.0, 42491780.0, 42605616.0, 42294312.0, 42310540.0, 42306532.0, 42327836.0, 42028380.0, 43780020.0, 41960848.0, 41753348.0, 41644528.0, 42072300.0, 41830796.0, 41535968.0, 41507712.0, 41336916.0, 41256888.0, 41069008.0, 40828812.0, 40791320.0, 40758012.0, 40487952.0, 40521400.0, 40385292.0, 40164828.0, 41217672.0, 39945608.0, 39633816.0, 39335348.0, 39096012.0, 39050096.0, 38497092.0, 38436708.0, 38193532.0, 37834140.0]\n",
    "plt.plot(default_alpha_loss_list)"
   ]
  },
  {
   "cell_type": "code",
   "execution_count": 23,
   "id": "47482d49",
   "metadata": {},
   "outputs": [
    {
     "data": {
      "text/plain": [
       "[('кошка', 0.8691575527191162),\n",
       " ('котка', 0.8685966730117798),\n",
       " ('жывёліна', 0.8585942983627319),\n",
       " ('кот', 0.8582473397254944),\n",
       " ('дзік', 0.840313732624054),\n",
       " ('пацук', 0.8333262205123901),\n",
       " ('кацяня', 0.8316787481307983),\n",
       " ('сабачка', 0.8218266367912292),\n",
       " ('конь', 0.8173460960388184),\n",
       " ('муха', 0.8153590559959412),\n",
       " ('звер', 0.8099408745765686),\n",
       " ('воўк', 0.8042845726013184),\n",
       " ('малпа', 0.7975868582725525),\n",
       " ('лісіца', 0.7953977584838867),\n",
       " ('авечка', 0.7946085929870605),\n",
       " ('мядзведзь', 0.7914581894874573),\n",
       " ('асёл', 0.7907282114028931),\n",
       " ('зграя', 0.7903743386268616),\n",
       " ('каза', 0.7852661609649658),\n",
       " ('шчанюк', 0.7822042107582092)]"
      ]
     },
     "execution_count": 23,
     "metadata": {},
     "output_type": "execute_result"
    }
   ],
   "source": [
    "model.wv.most_similar('сабака', topn=20)"
   ]
  },
  {
   "cell_type": "code",
   "execution_count": 24,
   "id": "0090e873",
   "metadata": {},
   "outputs": [
    {
     "data": {
      "text/plain": [
       "['быць',\n",
       " 'год',\n",
       " 'беларускі',\n",
       " 'беларусь',\n",
       " 'чалавек',\n",
       " 'магчы',\n",
       " 'час',\n",
       " 'усё',\n",
       " 'дзень',\n",
       " 'большыць']"
      ]
     },
     "execution_count": 24,
     "metadata": {},
     "output_type": "execute_result"
    }
   ],
   "source": [
    "model.wv.index_to_key[:10]"
   ]
  },
  {
   "cell_type": "code",
   "execution_count": 25,
   "id": "d587b37a",
   "metadata": {},
   "outputs": [],
   "source": [
    "# tsne for visualization\n",
    "# plotly for interactivity https://towardsdatascience.com/how-to-train-a-word2vec-model-from-scratch-with-gensim-c457d587e031\n",
    "# save filtered out wods into separat file to verify\n",
    "# dont explicitly list stop words\n",
    "# prepare assessment data (50 words with 10 most similar wods for them)\n",
    "# remove words after training\n",
    "# increase corpus\n",
    "# increase dimensionality\n",
    "# merge е/ё , e.g. пачуцце/пачуццё\n",
    "# п'еса is split to 'п' і 'еса'"
   ]
  },
  {
   "cell_type": "code",
   "execution_count": 26,
   "id": "ec534c05",
   "metadata": {},
   "outputs": [
    {
     "name": "stderr",
     "output_type": "stream",
     "text": [
      "INFO:gensim.utils:Word2Vec lifecycle event {'fname_or_handle': 'word2vec-100-bel-cc100.model', 'separately': 'None', 'sep_limit': 10485760, 'ignore': frozenset(), 'datetime': '2023-05-15T17:08:23.098371', 'gensim': '4.3.1', 'python': '3.11.3 | packaged by conda-forge | (main, Apr  6 2023, 09:05:00) [Clang 14.0.6 ]', 'platform': 'macOS-12.6-x86_64-i386-64bit', 'event': 'saving'}\n",
      "INFO:gensim.utils:not storing attribute cum_table\n",
      "INFO:gensim.utils:saved word2vec-100-bel-cc100.model\n"
     ]
    }
   ],
   "source": [
    "model.save(\"word2vec-100-bel-cc100.model\")"
   ]
  },
  {
   "cell_type": "code",
   "execution_count": 27,
   "id": "389e42e0",
   "metadata": {},
   "outputs": [
    {
     "name": "stderr",
     "output_type": "stream",
     "text": [
      "INFO:gensim.models.keyedvectors:storing 79356x100 projection weights into word2vec-100-bel-cc100.vectors\n"
     ]
    }
   ],
   "source": [
    "model.wv.save_word2vec_format('word2vec-100-bel-cc100.vectors')"
   ]
  }
 ],
 "metadata": {
  "kernelspec": {
   "display_name": "Python 3 (ipykernel)",
   "language": "python",
   "name": "python3"
  },
  "language_info": {
   "codemirror_mode": {
    "name": "ipython",
    "version": 3
   },
   "file_extension": ".py",
   "mimetype": "text/x-python",
   "name": "python",
   "nbconvert_exporter": "python",
   "pygments_lexer": "ipython3",
   "version": "3.11.3"
  }
 },
 "nbformat": 4,
 "nbformat_minor": 5
}
