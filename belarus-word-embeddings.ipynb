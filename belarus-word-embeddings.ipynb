{
 "cells": [
  {
   "cell_type": "code",
   "execution_count": 1,
   "id": "de7b8b0c",
   "metadata": {},
   "outputs": [],
   "source": [
    "import re\n",
    "import gensim\n",
    "from gensim.parsing.preprocessing import strip_punctuation, strip_short, strip_numeric, strip_multiple_whitespaces, remove_stopwords\n",
    "from gensim.models.word2vec import LineSentence\n",
    "from gensim.models import Word2Vec\n",
    "from gensim.models.callbacks import CallbackAny2Vec\n",
    "import urllib.request\n",
    "import zipfile\n",
    "import lzma\n",
    "import shutil\n",
    "import matplotlib.pyplot as plt"
   ]
  },
  {
   "cell_type": "code",
   "execution_count": 2,
   "id": "7dc6904a",
   "metadata": {},
   "outputs": [
    {
     "name": "stderr",
     "output_type": "stream",
     "text": [
      "INFO:root:Logging initialized\n"
     ]
    }
   ],
   "source": [
    "import logging\n",
    "logging.basicConfig(level=logging.INFO, force = True)\n",
    "logger = logging.getLogger()\n",
    "logger.info(\"Logging initialized\")"
   ]
  },
  {
   "cell_type": "code",
   "execution_count": 3,
   "id": "63844db8",
   "metadata": {},
   "outputs": [
    {
     "data": {
      "text/plain": [
       "('GrammarDB.zip', <http.client.HTTPMessage at 0x17a7a8290>)"
      ]
     },
     "execution_count": 3,
     "metadata": {},
     "output_type": "execute_result"
    }
   ],
   "source": [
    "#Link found here: https://metatext.io/datasets/cc100-belarusian\n",
    "urllib.request.urlretrieve('https://data.statmt.org/cc-100/be.txt.xz', \n",
    "                           'be.txt.xz')\n",
    "\n",
    "urllib.request.urlretrieve('https://github.com/Belarus/GrammarDB/archive/refs/tags/PUBLICATION_2021.zip', \n",
    "                           'GrammarDB.zip')"
   ]
  },
  {
   "cell_type": "code",
   "execution_count": 4,
   "id": "999d375c",
   "metadata": {},
   "outputs": [],
   "source": [
    "with lzma.open(\"be.txt.xz\", \"rb\") as fsrc:\n",
    "    with open(\"be.txt\", \"wb\") as fdst:\n",
    "        shutil.copyfileobj(fsrc, fdst)\n",
    "\n",
    "with zipfile.ZipFile('GrammarDB.zip', 'r') as zip_ref:\n",
    "    zip_ref.extractall('.')"
   ]
  },
  {
   "cell_type": "code",
   "execution_count": 5,
   "id": "49326e47",
   "metadata": {},
   "outputs": [],
   "source": [
    "import xml.dom.minidom\n",
    "from itertools import islice\n",
    "\n",
    "def calculate_mapping_from_forms_to_base(filepath, tag_prefix1=\"\", tag_prefix2=\"\"):\n",
    "    xml_doc = xml.dom.minidom.parse(filepath)\n",
    "    paradigms = xml_doc.getElementsByTagName('Paradigm')\n",
    "    result = {}\n",
    "    collision_count = 0\n",
    "    collisions = set()\n",
    "    for paradigm in paradigms:\n",
    "        tag = paradigm.getAttribute('tag')\n",
    "        if tag.startswith(tag_prefix1) or tag.startswith(tag_prefix2):\n",
    "            variants = paradigm.getElementsByTagName('Variant')\n",
    "            for variant in variants:\n",
    "                base = variant.getAttribute('lemma').replace(\"+\", \"\").lower()\n",
    "                forms = variant.getElementsByTagName('Form')\n",
    "                local_map = {}\n",
    "                citation_count = max([form.getAttribute('slouniki').count(',') for form in forms]) + 1\n",
    "                for form in forms:\n",
    "                    if len(form.childNodes) > 0:\n",
    "                        word = form.childNodes[0].data.replace(\"+\", \"\").lower()\n",
    "                        local_map[word] = (base, citation_count)\n",
    "                for k, v in local_map.items():\n",
    "                    if k in result:\n",
    "                        if result[k][1] == v[1] and result[k][0] != v[0]:\n",
    "                            collision_count += 1\n",
    "                            collisions.add(v[0])\n",
    "                            collisions.add(result[k][0])\n",
    "                        elif result[k][1] < v[1]:\n",
    "                            result[k] = v\n",
    "                    else:\n",
    "                        result[k] = v\n",
    "                    \n",
    "    logger.info(f\"Collisions (forms leading to different base word, and having same amount of citation): {collision_count}\")\n",
    "    logger.info(f\"Examples of collisions: {list(islice(collisions, 5))}\")\n",
    "    for k in result:\n",
    "        result[k] = result[k][0]\n",
    "    return result"
   ]
  },
  {
   "cell_type": "code",
   "execution_count": 6,
   "id": "048cd3f1",
   "metadata": {},
   "outputs": [
    {
     "name": "stderr",
     "output_type": "stream",
     "text": [
      "INFO:root:Collisions (forms leading to different base word, and having same amount of citation): 2597\n",
      "INFO:root:Examples of collisions: ['пагрукатаць', 'дайграваць', 'зжэрціся', 'патрысціць', 'замірацца']\n",
      "INFO:root:Collisions (forms leading to different base word, and having same amount of citation): 139\n",
      "INFO:root:Examples of collisions: ['полацк', 'марк', 'каспараў', 'валер', 'жан']\n",
      "INFO:root:Collisions (forms leading to different base word, and having same amount of citation): 1345\n",
      "INFO:root:Examples of collisions: ['арчынец', 'генетык', 'баск', 'далмацінка', 'заафіт']\n",
      "INFO:root:Collisions (forms leading to different base word, and having same amount of citation): 1155\n",
      "INFO:root:Examples of collisions: ['мыт', 'кумок', 'канянё', 'пабіцце', 'пачуцце']\n",
      "INFO:root:Collisions (forms leading to different base word, and having same amount of citation): 954\n",
      "INFO:root:Examples of collisions: ['сума', 'трэска', 'ціролец', 'хронік', 'электратэхнік']\n",
      "INFO:root:Collisions (forms leading to different base word, and having same amount of citation): 51\n",
      "INFO:root:Examples of collisions: ['дугласаў', 'крэчатаў', 'дакалумбаў', 'дакалумбавы', 'жакардаў']\n",
      "INFO:root:Collisions (forms leading to different base word, and having same amount of citation): 37\n",
      "INFO:root:Examples of collisions: ['чыжоў', 'чыжовы', 'чэпікавы', 'шчупаковы', 'пупартавы']\n"
     ]
    }
   ],
   "source": [
    "#verbs\n",
    "v = calculate_mapping_from_forms_to_base('GrammarDB-PUBLICATION_2021/V.xml')\n",
    "\n",
    "#proper nouns\n",
    "np = calculate_mapping_from_forms_to_base('GrammarDB-PUBLICATION_2021/NP.xml', 'NPII')\n",
    "\n",
    "#nouns\n",
    "n1 = calculate_mapping_from_forms_to_base('GrammarDB-PUBLICATION_2021/N1.xml')\n",
    "n2 = calculate_mapping_from_forms_to_base('GrammarDB-PUBLICATION_2021/N2.xml')\n",
    "n3 = calculate_mapping_from_forms_to_base('GrammarDB-PUBLICATION_2021/N3.xml')\n",
    "\n",
    "#adjectives\n",
    "adj1 = calculate_mapping_from_forms_to_base('GrammarDB-PUBLICATION_2021/A1.xml', 'ARP', 'AQP')\n",
    "adj2 = calculate_mapping_from_forms_to_base('GrammarDB-PUBLICATION_2021/A2.xml', 'ARP', 'AQP')\n",
    "\n",
    "WORD_MAP = {}\n",
    "WORD_MAP.update(v)\n",
    "WORD_MAP.update(np)\n",
    "WORD_MAP.update(n1)\n",
    "WORD_MAP.update(n2)\n",
    "WORD_MAP.update(n3)\n",
    "WORD_MAP.update(adj1)\n",
    "WORD_MAP.update(adj2)"
   ]
  },
  {
   "cell_type": "code",
   "execution_count": 7,
   "id": "a11b12a9",
   "metadata": {},
   "outputs": [
    {
     "name": "stdout",
     "output_type": "stream",
     "text": [
      "2273218\n"
     ]
    }
   ],
   "source": [
    "print(len(WORD_MAP))"
   ]
  },
  {
   "cell_type": "code",
   "execution_count": 8,
   "id": "48c63417",
   "metadata": {},
   "outputs": [
    {
     "name": "stdout",
     "output_type": "stream",
     "text": [
      "рух\n",
      "беларусь\n"
     ]
    }
   ],
   "source": [
    "print(WORD_MAP['рухам'])\n",
    "print(WORD_MAP['беларусі'])"
   ]
  },
  {
   "cell_type": "code",
   "execution_count": 9,
   "id": "ca36540b",
   "metadata": {},
   "outputs": [],
   "source": [
    "def strip_trailing_newline(iterable):\n",
    "    for i in iterable:\n",
    "        yield i.rstrip()\n",
    "\n",
    "CHARACTERS_MAP = {'ý': 'ў', 'i': 'і', 'ньн': 'нн', 'цьц': 'цц', 'сьц': 'сц', 'сьл':'сл', 'дзьдз': 'ддз', ' ў': 'у'}\n",
    "def replace_characters(iterable):\n",
    "    for s in iterable:\n",
    "        for k, v in CHARACTERS_MAP.items():\n",
    "            s = s.replace(k, v)\n",
    "        yield s\n",
    "\n",
    "def split_sentences(iterable):\n",
    "    for i in iterable:\n",
    "        merged_dots = re.sub(\"[\\.]+\", \".\", i)\n",
    "        sentences = merged_dots.split('.')\n",
    "        for s in sentences:\n",
    "            yield s\n",
    "\n",
    "STOPWORDS = ['на', 'не', 'што', 'да', 'па', 'як', 'за', 'для', 'гэта', 'ад', 'але', 'калі', 'пра', 'у', 'яго', 'якія', 'ён', 'іх', 'мы', 'каб', 'толькі', 'аб', 'таксама', 'які', 'ці', 'быў', 'было', 'яны', 'так', 'вы', 'яе', 'будзе', 'пры', 'яшчэ', 'тым', 'таму', 'вельмі', 'былі', 'можна', 'яна', 'пасля', 'пад', 'можа', 'дзе', 'якая', 'тут', 'была', 'трэба', 'тое', 'таго', 'або', 'гэтым', 'бо', 'ўсё', 'хто', 'ня', 'нас', 'гэтага', 'быць', 'гэты', 'ёсць', 'праз', 'ўжо', 'са', 'нават', 'то', 'мяне', 'ім','ва', 'той', 'усе', 'без', 'чым', 'мне', 'мае', 'сябе', 'гэтай', 'там', 'усё', 'вось', 'ды', 'каля', 'якіх', 'ты', 'якой', 'ўсе', 'жа', 'ужо', 'паводле', 'будуць', 'аднак', 'могуць', 'сваю', 'ні', 'сваёй', 'яму', 'свае', 'гэтыя', 'проста', 'ўсіх', 'якім', 'падчас', 'тады', 'свой', 'вас', 'паміж', 'нам', 'раз', 'сваіх', 'нашай', 'менавіта', 'перад', 'вам', 'тых','зь','такім', 'свайго', 'над', 'зараз', 'амаль', 'чаму', 'ёй', 'чынам', 'напрыклад', 'якога', 'якое', 'сваім', 'можаце', 'га', 'хоць', 'бы', 'тыя', 'такія', 'потым', 'адным', 'такі', 'якую', 'сабе','сам','гэтых','мая','наш','зусім','чаго','наша','зноў','дык','такіх','нашага','адразу','каго','самі','ст','ну','нашы','нашым','самы','яно','гэтае','дзеля','куды','by','гг']\n",
    "def preprocess_sentences(iterable):\n",
    "    for i in iterable:\n",
    "        s = strip_multiple_whitespaces(strip_numeric(strip_short(strip_punctuation(i))))\n",
    "        s = s.lower()\n",
    "        s = re.sub(\"[«»“”„…—°′²]\", \"\", s)\n",
    "        s = remove_stopwords(s, stopwords=STOPWORDS)\n",
    "        s = ' '.join([WORD_MAP[w] for w in s.split() if w in WORD_MAP])\n",
    "        yield s\n",
    "\n",
    "def remove_short_lines(iterable):\n",
    "    for i in iterable:\n",
    "        if not i.isspace() and len(i) >= 20:\n",
    "            yield i\n"
   ]
  },
  {
   "cell_type": "code",
   "execution_count": 10,
   "id": "1044a584",
   "metadata": {},
   "outputs": [],
   "source": [
    "with open('be.txt', 'r') as original_file:\n",
    "    with open('processed-corpus.txt', 'w') as sentences_file:\n",
    "        for s in remove_short_lines(preprocess_sentences(split_sentences(replace_characters(strip_trailing_newline(original_file))))):\n",
    "            sentences_file.write(s + \"\\n\")"
   ]
  },
  {
   "cell_type": "code",
   "execution_count": 11,
   "id": "ab9fc39e",
   "metadata": {},
   "outputs": [],
   "source": [
    "loss_list = []\n",
    "class Callback(CallbackAny2Vec):\n",
    "    def __init__(self):\n",
    "        self.epoch = 0\n",
    "\n",
    "    def on_epoch_end(self, model):\n",
    "        loss = model.get_latest_training_loss()\n",
    "        loss_list.append(loss)\n",
    "        logger.info('Loss after epoch {}:{}'.format(self.epoch, loss))\n",
    "        model.running_training_loss = 0.0\n",
    "        self.epoch = self.epoch + 1"
   ]
  },
  {
   "cell_type": "code",
   "execution_count": 12,
   "id": "61e8337d",
   "metadata": {},
   "outputs": [
    {
     "name": "stderr",
     "output_type": "stream",
     "text": [
      "INFO:gensim.utils:Word2Vec lifecycle event {'params': 'Word2Vec<vocab=0, vector_size=100, alpha=0.025>', 'datetime': '2023-04-26T11:50:35.854939', 'gensim': '4.3.1', 'python': '3.11.3 | packaged by conda-forge | (main, Apr  6 2023, 09:05:00) [Clang 14.0.6 ]', 'platform': 'macOS-12.6-x86_64-i386-64bit', 'event': 'created'}\n"
     ]
    }
   ],
   "source": [
    "model = Word2Vec(vector_size=100, window=3, min_count=10, workers=5)"
   ]
  },
  {
   "cell_type": "code",
   "execution_count": 13,
   "id": "35054bd1",
   "metadata": {},
   "outputs": [],
   "source": [
    "sentences = LineSentence('processed-corpus.txt')"
   ]
  },
  {
   "cell_type": "code",
   "execution_count": 14,
   "id": "615cf92b",
   "metadata": {},
   "outputs": [
    {
     "name": "stderr",
     "output_type": "stream",
     "text": [
      "INFO:gensim.models.word2vec:collecting all words and their counts\n",
      "INFO:gensim.models.word2vec:PROGRESS: at sentence #0, processed 0 words, keeping 0 word types\n",
      "INFO:gensim.models.word2vec:PROGRESS: at sentence #5000000, processed 38306344 words, keeping 101549 word types\n",
      "INFO:gensim.models.word2vec:PROGRESS: at sentence #10000000, processed 76685325 words, keeping 114693 word types\n",
      "INFO:gensim.models.word2vec:PROGRESS: at sentence #15000000, processed 114979417 words, keeping 122208 word types\n",
      "INFO:gensim.models.word2vec:PROGRESS: at sentence #20000000, processed 153329676 words, keeping 127145 word types\n",
      "INFO:gensim.models.word2vec:collected 129310 word types from a corpus of 173972373 raw words and 22704237 sentences\n",
      "INFO:gensim.models.word2vec:Creating a fresh vocabulary\n",
      "INFO:gensim.utils:Word2Vec lifecycle event {'msg': 'effective_min_count=10 retains 78772 unique words (60.92% of original 129310, drops 50538)', 'datetime': '2023-04-26T11:51:39.649635', 'gensim': '4.3.1', 'python': '3.11.3 | packaged by conda-forge | (main, Apr  6 2023, 09:05:00) [Clang 14.0.6 ]', 'platform': 'macOS-12.6-x86_64-i386-64bit', 'event': 'prepare_vocab'}\n",
      "INFO:gensim.utils:Word2Vec lifecycle event {'msg': 'effective_min_count=10 leaves 173802806 word corpus (99.90% of original 173972373, drops 169567)', 'datetime': '2023-04-26T11:51:39.650296', 'gensim': '4.3.1', 'python': '3.11.3 | packaged by conda-forge | (main, Apr  6 2023, 09:05:00) [Clang 14.0.6 ]', 'platform': 'macOS-12.6-x86_64-i386-64bit', 'event': 'prepare_vocab'}\n",
      "INFO:gensim.models.word2vec:deleting the raw counts dictionary of 129310 items\n",
      "INFO:gensim.models.word2vec:sample=0.001 downsamples 11 most-common words\n",
      "INFO:gensim.utils:Word2Vec lifecycle event {'msg': 'downsampling leaves estimated 170380933.02596447 word corpus (98.0%% of prior 173802806)', 'datetime': '2023-04-26T11:51:39.924212', 'gensim': '4.3.1', 'python': '3.11.3 | packaged by conda-forge | (main, Apr  6 2023, 09:05:00) [Clang 14.0.6 ]', 'platform': 'macOS-12.6-x86_64-i386-64bit', 'event': 'prepare_vocab'}\n",
      "INFO:gensim.models.word2vec:estimated required memory for 78772 words and 100 dimensions: 102403600 bytes\n",
      "INFO:gensim.models.word2vec:resetting layer weights\n",
      "INFO:gensim.utils:Word2Vec lifecycle event {'update': False, 'trim_rule': 'None', 'datetime': '2023-04-26T11:51:40.438889', 'gensim': '4.3.1', 'python': '3.11.3 | packaged by conda-forge | (main, Apr  6 2023, 09:05:00) [Clang 14.0.6 ]', 'platform': 'macOS-12.6-x86_64-i386-64bit', 'event': 'build_vocab'}\n"
     ]
    }
   ],
   "source": [
    "model.build_vocab(sentences, progress_per=5000000)"
   ]
  },
  {
   "cell_type": "code",
   "execution_count": 15,
   "id": "867dc13c",
   "metadata": {},
   "outputs": [
    {
     "name": "stderr",
     "output_type": "stream",
     "text": [
      "INFO:gensim.utils:Word2Vec lifecycle event {'msg': 'training model with 5 workers on 78772 vocabulary and 100 features, using sg=0 hs=0 sample=0.001 negative=5 window=3 shrink_windows=True', 'datetime': '2023-04-26T11:51:40.450292', 'gensim': '4.3.1', 'python': '3.11.3 | packaged by conda-forge | (main, Apr  6 2023, 09:05:00) [Clang 14.0.6 ]', 'platform': 'macOS-12.6-x86_64-i386-64bit', 'event': 'train'}\n",
      "INFO:gensim.models.word2vec:EPOCH 0 - PROGRESS: at 0.85% examples, 1435522 words/s, in_qsize 9, out_qsize 0\n",
      "INFO:gensim.models.word2vec:EPOCH 0: training on 173972373 raw words (170383158 effective words) took 126.8s, 1343981 effective words/s\n",
      "INFO:root:Loss after epoch 0:35211104.0\n",
      "INFO:gensim.models.word2vec:EPOCH 1 - PROGRESS: at 0.81% examples, 1343085 words/s, in_qsize 8, out_qsize 1\n",
      "INFO:gensim.models.word2vec:EPOCH 1: training on 173972373 raw words (170381388 effective words) took 122.2s, 1394703 effective words/s\n",
      "INFO:root:Loss after epoch 1:44794812.0\n",
      "INFO:gensim.models.word2vec:EPOCH 2 - PROGRESS: at 0.78% examples, 1313838 words/s, in_qsize 10, out_qsize 1\n",
      "INFO:gensim.models.word2vec:EPOCH 2: training on 173972373 raw words (170380689 effective words) took 121.8s, 1398787 effective words/s\n",
      "INFO:root:Loss after epoch 2:44002540.0\n",
      "INFO:gensim.models.word2vec:EPOCH 3 - PROGRESS: at 0.78% examples, 1324212 words/s, in_qsize 7, out_qsize 2\n",
      "INFO:gensim.models.word2vec:EPOCH 3: training on 173972373 raw words (170382650 effective words) took 121.2s, 1405742 effective words/s\n",
      "INFO:root:Loss after epoch 3:43112152.0\n",
      "INFO:gensim.models.word2vec:EPOCH 4 - PROGRESS: at 0.76% examples, 1253480 words/s, in_qsize 10, out_qsize 0\n",
      "INFO:gensim.models.word2vec:EPOCH 4: training on 173972373 raw words (170381608 effective words) took 122.3s, 1392949 effective words/s\n",
      "INFO:root:Loss after epoch 4:42333168.0\n",
      "INFO:gensim.models.word2vec:EPOCH 5 - PROGRESS: at 0.74% examples, 1250790 words/s, in_qsize 9, out_qsize 0\n",
      "INFO:gensim.models.word2vec:EPOCH 5: training on 173972373 raw words (170381475 effective words) took 122.1s, 1394897 effective words/s\n",
      "INFO:root:Loss after epoch 5:41590528.0\n",
      "INFO:gensim.models.word2vec:EPOCH 6 - PROGRESS: at 0.80% examples, 1337068 words/s, in_qsize 9, out_qsize 0\n",
      "INFO:gensim.models.word2vec:EPOCH 6: training on 173972373 raw words (170381367 effective words) took 120.4s, 1415381 effective words/s\n",
      "INFO:root:Loss after epoch 6:40922516.0\n",
      "INFO:gensim.models.word2vec:EPOCH 7 - PROGRESS: at 0.83% examples, 1396167 words/s, in_qsize 9, out_qsize 0\n",
      "INFO:gensim.models.word2vec:EPOCH 7: training on 173972373 raw words (170381152 effective words) took 119.5s, 1425287 effective words/s\n",
      "INFO:root:Loss after epoch 7:40664464.0\n",
      "INFO:gensim.models.word2vec:EPOCH 8 - PROGRESS: at 0.84% examples, 1406494 words/s, in_qsize 9, out_qsize 0\n",
      "INFO:gensim.models.word2vec:EPOCH 8: training on 173972373 raw words (170381082 effective words) took 122.3s, 1392708 effective words/s\n",
      "INFO:root:Loss after epoch 8:40263880.0\n",
      "INFO:gensim.models.word2vec:EPOCH 9 - PROGRESS: at 0.75% examples, 1266907 words/s, in_qsize 9, out_qsize 2\n",
      "INFO:gensim.models.word2vec:EPOCH 9: training on 173972373 raw words (170381529 effective words) took 122.9s, 1386480 effective words/s\n",
      "INFO:root:Loss after epoch 9:39953004.0\n",
      "INFO:gensim.models.word2vec:EPOCH 10 - PROGRESS: at 0.81% examples, 1368719 words/s, in_qsize 9, out_qsize 0\n",
      "INFO:gensim.models.word2vec:EPOCH 10: training on 173972373 raw words (170380813 effective words) took 118.7s, 1435116 effective words/s\n",
      "INFO:root:Loss after epoch 10:39790468.0\n",
      "INFO:gensim.models.word2vec:EPOCH 11 - PROGRESS: at 0.78% examples, 1307851 words/s, in_qsize 9, out_qsize 0\n",
      "INFO:gensim.models.word2vec:EPOCH 11: training on 173972373 raw words (170381254 effective words) took 119.5s, 1425836 effective words/s\n",
      "INFO:root:Loss after epoch 11:39400520.0\n",
      "INFO:gensim.models.word2vec:EPOCH 12 - PROGRESS: at 0.81% examples, 1371722 words/s, in_qsize 9, out_qsize 0\n",
      "INFO:gensim.models.word2vec:EPOCH 12: training on 173972373 raw words (170382444 effective words) took 117.2s, 1453182 effective words/s\n",
      "INFO:root:Loss after epoch 12:38873168.0\n",
      "INFO:gensim.models.word2vec:EPOCH 13 - PROGRESS: at 0.85% examples, 1425571 words/s, in_qsize 9, out_qsize 0\n",
      "INFO:gensim.models.word2vec:EPOCH 13: training on 173972373 raw words (170384358 effective words) took 116.8s, 1458387 effective words/s\n",
      "INFO:root:Loss after epoch 13:38969556.0\n",
      "INFO:gensim.models.word2vec:EPOCH 14 - PROGRESS: at 0.84% examples, 1407979 words/s, in_qsize 9, out_qsize 0\n",
      "INFO:gensim.models.word2vec:EPOCH 14: training on 173972373 raw words (170377820 effective words) took 120.2s, 1417736 effective words/s\n",
      "INFO:root:Loss after epoch 14:38889388.0\n",
      "INFO:gensim.models.word2vec:EPOCH 15 - PROGRESS: at 0.78% examples, 1325656 words/s, in_qsize 9, out_qsize 0\n",
      "INFO:gensim.models.word2vec:EPOCH 15: training on 173972373 raw words (170379675 effective words) took 117.7s, 1447507 effective words/s\n",
      "INFO:root:Loss after epoch 15:38696788.0\n",
      "INFO:gensim.models.word2vec:EPOCH 16 - PROGRESS: at 0.82% examples, 1382212 words/s, in_qsize 9, out_qsize 0\n",
      "INFO:gensim.models.word2vec:EPOCH 16: training on 173972373 raw words (170379590 effective words) took 116.6s, 1461098 effective words/s\n",
      "INFO:root:Loss after epoch 16:38583400.0\n",
      "INFO:gensim.models.word2vec:EPOCH 17 - PROGRESS: at 0.82% examples, 1364263 words/s, in_qsize 10, out_qsize 0\n",
      "INFO:gensim.models.word2vec:EPOCH 17: training on 173972373 raw words (170381608 effective words) took 116.4s, 1463328 effective words/s\n",
      "INFO:root:Loss after epoch 17:38528064.0\n",
      "INFO:gensim.models.word2vec:EPOCH 18 - PROGRESS: at 0.82% examples, 1376034 words/s, in_qsize 9, out_qsize 0\n",
      "INFO:gensim.models.word2vec:EPOCH 18: training on 173972373 raw words (170382376 effective words) took 116.4s, 1464179 effective words/s\n",
      "INFO:root:Loss after epoch 18:38345152.0\n",
      "INFO:gensim.models.word2vec:EPOCH 19 - PROGRESS: at 0.83% examples, 1399871 words/s, in_qsize 9, out_qsize 0\n",
      "INFO:gensim.models.word2vec:EPOCH 19: training on 173972373 raw words (170380057 effective words) took 117.0s, 1456302 effective words/s\n",
      "INFO:root:Loss after epoch 19:38210792.0\n",
      "INFO:gensim.models.word2vec:EPOCH 20 - PROGRESS: at 0.84% examples, 1411219 words/s, in_qsize 10, out_qsize 0\n",
      "INFO:gensim.models.word2vec:EPOCH 20: training on 173972373 raw words (170380975 effective words) took 116.4s, 1463311 effective words/s\n",
      "INFO:root:Loss after epoch 20:38135296.0\n",
      "INFO:gensim.models.word2vec:EPOCH 21 - PROGRESS: at 0.84% examples, 1416487 words/s, in_qsize 10, out_qsize 1\n",
      "INFO:gensim.models.word2vec:EPOCH 21: training on 173972373 raw words (170381568 effective words) took 116.8s, 1458556 effective words/s\n",
      "INFO:root:Loss after epoch 21:38386592.0\n",
      "INFO:gensim.models.word2vec:EPOCH 22 - PROGRESS: at 0.81% examples, 1364238 words/s, in_qsize 9, out_qsize 0\n",
      "INFO:gensim.models.word2vec:EPOCH 22: training on 173972373 raw words (170379643 effective words) took 116.3s, 1465081 effective words/s\n",
      "INFO:root:Loss after epoch 22:38064636.0\n",
      "INFO:gensim.models.word2vec:EPOCH 23 - PROGRESS: at 0.83% examples, 1412020 words/s, in_qsize 8, out_qsize 0\n",
      "INFO:gensim.models.word2vec:EPOCH 23: training on 173972373 raw words (170381114 effective words) took 116.8s, 1458996 effective words/s\n",
      "INFO:root:Loss after epoch 23:38090736.0\n",
      "INFO:gensim.models.word2vec:EPOCH 24 - PROGRESS: at 0.81% examples, 1347929 words/s, in_qsize 9, out_qsize 3\n",
      "INFO:gensim.models.word2vec:EPOCH 24: training on 173972373 raw words (170380979 effective words) took 119.4s, 1427513 effective words/s\n",
      "INFO:root:Loss after epoch 24:37926472.0\n",
      "INFO:gensim.models.word2vec:EPOCH 25 - PROGRESS: at 0.82% examples, 1383758 words/s, in_qsize 8, out_qsize 1\n",
      "INFO:gensim.models.word2vec:EPOCH 25: training on 173972373 raw words (170380698 effective words) took 117.2s, 1454179 effective words/s\n",
      "INFO:root:Loss after epoch 25:37750880.0\n",
      "INFO:gensim.models.word2vec:EPOCH 26 - PROGRESS: at 0.81% examples, 1363686 words/s, in_qsize 7, out_qsize 2\n",
      "INFO:gensim.models.word2vec:EPOCH 26: training on 173972373 raw words (170378535 effective words) took 119.4s, 1426371 effective words/s\n",
      "INFO:root:Loss after epoch 26:37742932.0\n",
      "INFO:gensim.models.word2vec:EPOCH 27 - PROGRESS: at 0.83% examples, 1406230 words/s, in_qsize 9, out_qsize 0\n"
     ]
    },
    {
     "name": "stderr",
     "output_type": "stream",
     "text": [
      "INFO:gensim.models.word2vec:EPOCH 27: training on 173972373 raw words (170384694 effective words) took 118.2s, 1441341 effective words/s\n",
      "INFO:root:Loss after epoch 27:37670556.0\n",
      "INFO:gensim.models.word2vec:EPOCH 28 - PROGRESS: at 0.82% examples, 1393520 words/s, in_qsize 8, out_qsize 1\n",
      "INFO:gensim.models.word2vec:EPOCH 28: training on 173972373 raw words (170380280 effective words) took 117.2s, 1453177 effective words/s\n",
      "INFO:root:Loss after epoch 28:37434380.0\n",
      "INFO:gensim.models.word2vec:EPOCH 29 - PROGRESS: at 0.80% examples, 1345104 words/s, in_qsize 9, out_qsize 0\n",
      "INFO:gensim.models.word2vec:EPOCH 29: training on 173972373 raw words (170383211 effective words) took 118.4s, 1438794 effective words/s\n",
      "INFO:root:Loss after epoch 29:37672236.0\n",
      "INFO:gensim.models.word2vec:EPOCH 30 - PROGRESS: at 0.79% examples, 1345240 words/s, in_qsize 7, out_qsize 3\n",
      "INFO:gensim.models.word2vec:EPOCH 30: training on 173972373 raw words (170381009 effective words) took 118.7s, 1434937 effective words/s\n",
      "INFO:root:Loss after epoch 30:37409832.0\n",
      "INFO:gensim.models.word2vec:EPOCH 31 - PROGRESS: at 0.81% examples, 1360878 words/s, in_qsize 8, out_qsize 1\n",
      "INFO:gensim.models.word2vec:EPOCH 31: training on 173972373 raw words (170382873 effective words) took 118.4s, 1439521 effective words/s\n",
      "INFO:root:Loss after epoch 31:37641904.0\n",
      "INFO:gensim.models.word2vec:EPOCH 32 - PROGRESS: at 0.78% examples, 1316541 words/s, in_qsize 10, out_qsize 0\n",
      "INFO:gensim.models.word2vec:EPOCH 32: training on 173972373 raw words (170379834 effective words) took 119.1s, 1430731 effective words/s\n",
      "INFO:root:Loss after epoch 32:37272032.0\n",
      "INFO:gensim.models.word2vec:EPOCH 33 - PROGRESS: at 0.81% examples, 1378838 words/s, in_qsize 7, out_qsize 2\n",
      "INFO:gensim.models.word2vec:EPOCH 33: training on 173972373 raw words (170382815 effective words) took 121.0s, 1408582 effective words/s\n",
      "INFO:root:Loss after epoch 33:37473788.0\n",
      "INFO:gensim.models.word2vec:EPOCH 34 - PROGRESS: at 0.79% examples, 1324496 words/s, in_qsize 10, out_qsize 3\n",
      "INFO:gensim.models.word2vec:EPOCH 34: training on 173972373 raw words (170381169 effective words) took 117.5s, 1449612 effective words/s\n",
      "INFO:root:Loss after epoch 34:37556620.0\n",
      "INFO:gensim.models.word2vec:EPOCH 35 - PROGRESS: at 0.82% examples, 1397617 words/s, in_qsize 10, out_qsize 1\n",
      "INFO:gensim.models.word2vec:EPOCH 35: training on 173972373 raw words (170382311 effective words) took 117.4s, 1451200 effective words/s\n",
      "INFO:root:Loss after epoch 35:37440492.0\n",
      "INFO:gensim.models.word2vec:EPOCH 36 - PROGRESS: at 0.85% examples, 1424357 words/s, in_qsize 9, out_qsize 0\n",
      "INFO:gensim.models.word2vec:EPOCH 36: training on 173972373 raw words (170382379 effective words) took 118.1s, 1442277 effective words/s\n",
      "INFO:root:Loss after epoch 36:37363448.0\n",
      "INFO:gensim.models.word2vec:EPOCH 37 - PROGRESS: at 0.83% examples, 1414224 words/s, in_qsize 9, out_qsize 0\n",
      "INFO:gensim.models.word2vec:EPOCH 37: training on 173972373 raw words (170381083 effective words) took 116.9s, 1457883 effective words/s\n",
      "INFO:root:Loss after epoch 37:37339392.0\n",
      "INFO:gensim.models.word2vec:EPOCH 38 - PROGRESS: at 0.81% examples, 1352756 words/s, in_qsize 10, out_qsize 2\n",
      "INFO:gensim.models.word2vec:EPOCH 38: training on 173972373 raw words (170380824 effective words) took 119.9s, 1420962 effective words/s\n",
      "INFO:root:Loss after epoch 38:37503676.0\n",
      "INFO:gensim.models.word2vec:EPOCH 39 - PROGRESS: at 0.81% examples, 1370009 words/s, in_qsize 9, out_qsize 0\n",
      "INFO:gensim.models.word2vec:EPOCH 39: training on 173972373 raw words (170380553 effective words) took 116.9s, 1457687 effective words/s\n",
      "INFO:root:Loss after epoch 39:37209620.0\n",
      "INFO:gensim.models.word2vec:EPOCH 40 - PROGRESS: at 0.84% examples, 1392659 words/s, in_qsize 9, out_qsize 0\n",
      "INFO:gensim.models.word2vec:EPOCH 40: training on 173972373 raw words (170379283 effective words) took 116.9s, 1457320 effective words/s\n",
      "INFO:root:Loss after epoch 40:37315676.0\n",
      "INFO:gensim.models.word2vec:EPOCH 41 - PROGRESS: at 0.84% examples, 1419456 words/s, in_qsize 9, out_qsize 0\n",
      "INFO:gensim.models.word2vec:EPOCH 41: training on 173972373 raw words (170383557 effective words) took 116.8s, 1458831 effective words/s\n",
      "INFO:root:Loss after epoch 41:37250364.0\n",
      "INFO:gensim.models.word2vec:EPOCH 42 - PROGRESS: at 0.84% examples, 1417024 words/s, in_qsize 8, out_qsize 3\n",
      "INFO:gensim.models.word2vec:EPOCH 42: training on 173972373 raw words (170379135 effective words) took 116.9s, 1456967 effective words/s\n",
      "INFO:root:Loss after epoch 42:37162316.0\n",
      "INFO:gensim.models.word2vec:EPOCH 43 - PROGRESS: at 0.85% examples, 1435299 words/s, in_qsize 9, out_qsize 1\n",
      "INFO:gensim.models.word2vec:EPOCH 43: training on 173972373 raw words (170380750 effective words) took 116.8s, 1459148 effective words/s\n",
      "INFO:root:Loss after epoch 43:37038220.0\n",
      "INFO:gensim.models.word2vec:EPOCH 44 - PROGRESS: at 0.86% examples, 1463330 words/s, in_qsize 8, out_qsize 1\n",
      "INFO:gensim.models.word2vec:EPOCH 44: training on 173972373 raw words (170381222 effective words) took 117.7s, 1447554 effective words/s\n",
      "INFO:root:Loss after epoch 44:37092744.0\n",
      "INFO:gensim.models.word2vec:EPOCH 45 - PROGRESS: at 0.85% examples, 1432929 words/s, in_qsize 9, out_qsize 0\n",
      "INFO:gensim.models.word2vec:EPOCH 45: training on 173972373 raw words (170380762 effective words) took 116.9s, 1457314 effective words/s\n",
      "INFO:root:Loss after epoch 45:37249328.0\n",
      "INFO:gensim.models.word2vec:EPOCH 46 - PROGRESS: at 0.81% examples, 1370212 words/s, in_qsize 9, out_qsize 0\n",
      "INFO:gensim.models.word2vec:EPOCH 46: training on 173972373 raw words (170380701 effective words) took 119.0s, 1431471 effective words/s\n",
      "INFO:root:Loss after epoch 46:37256368.0\n",
      "INFO:gensim.models.word2vec:EPOCH 47 - PROGRESS: at 0.85% examples, 1426004 words/s, in_qsize 9, out_qsize 0\n",
      "INFO:gensim.models.word2vec:EPOCH 47: training on 173972373 raw words (170381224 effective words) took 118.1s, 1442257 effective words/s\n",
      "INFO:root:Loss after epoch 47:37052316.0\n",
      "INFO:gensim.models.word2vec:EPOCH 48 - PROGRESS: at 0.81% examples, 1342158 words/s, in_qsize 9, out_qsize 0\n",
      "INFO:gensim.models.word2vec:EPOCH 48: training on 173972373 raw words (170381304 effective words) took 116.5s, 1462082 effective words/s\n",
      "INFO:root:Loss after epoch 48:37140128.0\n",
      "INFO:gensim.models.word2vec:EPOCH 49 - PROGRESS: at 0.83% examples, 1402855 words/s, in_qsize 10, out_qsize 0\n",
      "INFO:gensim.models.word2vec:EPOCH 49: training on 173972373 raw words (170377995 effective words) took 117.5s, 1449577 effective words/s\n",
      "INFO:root:Loss after epoch 49:36932120.0\n",
      "INFO:gensim.models.word2vec:EPOCH 50 - PROGRESS: at 0.80% examples, 1347282 words/s, in_qsize 9, out_qsize 0\n",
      "INFO:gensim.models.word2vec:EPOCH 50: training on 173972373 raw words (170385418 effective words) took 117.6s, 1448316 effective words/s\n",
      "INFO:root:Loss after epoch 50:37180356.0\n",
      "INFO:gensim.models.word2vec:EPOCH 51 - PROGRESS: at 0.81% examples, 1371677 words/s, in_qsize 9, out_qsize 0\n",
      "INFO:gensim.models.word2vec:EPOCH 51: training on 173972373 raw words (170380927 effective words) took 119.0s, 1431714 effective words/s\n",
      "INFO:root:Loss after epoch 51:36911432.0\n",
      "INFO:gensim.models.word2vec:EPOCH 52 - PROGRESS: at 0.77% examples, 1303914 words/s, in_qsize 9, out_qsize 0\n",
      "INFO:gensim.models.word2vec:EPOCH 52: training on 173972373 raw words (170380555 effective words) took 119.0s, 1431912 effective words/s\n",
      "INFO:root:Loss after epoch 52:36926472.0\n",
      "INFO:gensim.models.word2vec:EPOCH 53 - PROGRESS: at 0.87% examples, 1476428 words/s, in_qsize 8, out_qsize 1\n",
      "INFO:gensim.models.word2vec:EPOCH 53: training on 173972373 raw words (170381598 effective words) took 117.5s, 1449979 effective words/s\n",
      "INFO:root:Loss after epoch 53:37048992.0\n",
      "INFO:gensim.models.word2vec:EPOCH 54 - PROGRESS: at 0.81% examples, 1369488 words/s, in_qsize 9, out_qsize 0\n",
      "INFO:gensim.models.word2vec:EPOCH 54: training on 173972373 raw words (170380825 effective words) took 116.9s, 1456929 effective words/s\n",
      "INFO:root:Loss after epoch 54:37137120.0\n",
      "INFO:gensim.models.word2vec:EPOCH 55 - PROGRESS: at 0.84% examples, 1410300 words/s, in_qsize 9, out_qsize 0\n",
      "INFO:gensim.models.word2vec:EPOCH 55: training on 173972373 raw words (170382621 effective words) took 116.8s, 1458313 effective words/s\n",
      "INFO:root:Loss after epoch 55:36934136.0\n"
     ]
    },
    {
     "name": "stderr",
     "output_type": "stream",
     "text": [
      "INFO:gensim.models.word2vec:EPOCH 56 - PROGRESS: at 0.85% examples, 1431765 words/s, in_qsize 9, out_qsize 0\n",
      "INFO:gensim.models.word2vec:EPOCH 56: training on 173972373 raw words (170381246 effective words) took 118.0s, 1443490 effective words/s\n",
      "INFO:root:Loss after epoch 56:36980868.0\n",
      "INFO:gensim.models.word2vec:EPOCH 57 - PROGRESS: at 0.80% examples, 1356076 words/s, in_qsize 7, out_qsize 2\n",
      "INFO:gensim.models.word2vec:EPOCH 57: training on 173972373 raw words (170384439 effective words) took 119.9s, 1420877 effective words/s\n",
      "INFO:root:Loss after epoch 57:36968420.0\n",
      "INFO:gensim.models.word2vec:EPOCH 58 - PROGRESS: at 0.85% examples, 1418032 words/s, in_qsize 9, out_qsize 0\n",
      "INFO:gensim.models.word2vec:EPOCH 58: training on 173972373 raw words (170380913 effective words) took 119.4s, 1427087 effective words/s\n",
      "INFO:root:Loss after epoch 58:36977560.0\n",
      "INFO:gensim.models.word2vec:EPOCH 59 - PROGRESS: at 0.79% examples, 1336789 words/s, in_qsize 8, out_qsize 1\n",
      "INFO:gensim.models.word2vec:EPOCH 59: training on 173972373 raw words (170382084 effective words) took 120.4s, 1415263 effective words/s\n",
      "INFO:root:Loss after epoch 59:37195468.0\n",
      "INFO:gensim.models.word2vec:EPOCH 60 - PROGRESS: at 0.85% examples, 1433691 words/s, in_qsize 9, out_qsize 0\n",
      "INFO:gensim.models.word2vec:EPOCH 60: training on 173972373 raw words (170381406 effective words) took 120.7s, 1412181 effective words/s\n",
      "INFO:root:Loss after epoch 60:36795224.0\n",
      "INFO:gensim.models.word2vec:EPOCH 61 - PROGRESS: at 0.77% examples, 1297981 words/s, in_qsize 8, out_qsize 1\n",
      "INFO:gensim.models.word2vec:EPOCH 61: training on 173972373 raw words (170380681 effective words) took 118.6s, 1436857 effective words/s\n",
      "INFO:root:Loss after epoch 61:37011336.0\n",
      "INFO:gensim.models.word2vec:EPOCH 62 - PROGRESS: at 0.77% examples, 1295080 words/s, in_qsize 8, out_qsize 1\n",
      "INFO:gensim.models.word2vec:EPOCH 62: training on 173972373 raw words (170382433 effective words) took 118.3s, 1440540 effective words/s\n",
      "INFO:root:Loss after epoch 62:36884524.0\n",
      "INFO:gensim.models.word2vec:EPOCH 63 - PROGRESS: at 0.81% examples, 1377617 words/s, in_qsize 9, out_qsize 0\n",
      "INFO:gensim.models.word2vec:EPOCH 63: training on 173972373 raw words (170383719 effective words) took 117.6s, 1448930 effective words/s\n",
      "INFO:root:Loss after epoch 63:36919980.0\n",
      "INFO:gensim.models.word2vec:EPOCH 64 - PROGRESS: at 0.81% examples, 1358447 words/s, in_qsize 6, out_qsize 3\n",
      "INFO:gensim.models.word2vec:EPOCH 64: training on 173972373 raw words (170379945 effective words) took 119.2s, 1428965 effective words/s\n",
      "INFO:root:Loss after epoch 64:37135664.0\n",
      "INFO:gensim.models.word2vec:EPOCH 65 - PROGRESS: at 0.83% examples, 1392902 words/s, in_qsize 10, out_qsize 0\n",
      "INFO:gensim.models.word2vec:EPOCH 65: training on 173972373 raw words (170378275 effective words) took 119.4s, 1426802 effective words/s\n",
      "INFO:root:Loss after epoch 65:37099860.0\n",
      "INFO:gensim.models.word2vec:EPOCH 66 - PROGRESS: at 0.78% examples, 1321900 words/s, in_qsize 9, out_qsize 0\n",
      "INFO:gensim.models.word2vec:EPOCH 66: training on 173972373 raw words (170379750 effective words) took 119.3s, 1428744 effective words/s\n",
      "INFO:root:Loss after epoch 66:36866816.0\n",
      "INFO:gensim.models.word2vec:EPOCH 67 - PROGRESS: at 0.84% examples, 1426535 words/s, in_qsize 9, out_qsize 0\n",
      "INFO:gensim.models.word2vec:EPOCH 67: training on 173972373 raw words (170381617 effective words) took 121.9s, 1397337 effective words/s\n",
      "INFO:root:Loss after epoch 67:37237348.0\n",
      "INFO:gensim.models.word2vec:EPOCH 68 - PROGRESS: at 0.81% examples, 1377452 words/s, in_qsize 9, out_qsize 0\n",
      "INFO:gensim.models.word2vec:EPOCH 68: training on 173972373 raw words (170382665 effective words) took 121.7s, 1400076 effective words/s\n",
      "INFO:root:Loss after epoch 68:37062916.0\n",
      "INFO:gensim.models.word2vec:EPOCH 69 - PROGRESS: at 0.82% examples, 1389427 words/s, in_qsize 10, out_qsize 0\n",
      "INFO:gensim.models.word2vec:EPOCH 69: training on 173972373 raw words (170379535 effective words) took 124.0s, 1373675 effective words/s\n",
      "INFO:root:Loss after epoch 69:36945124.0\n",
      "INFO:gensim.models.word2vec:EPOCH 70 - PROGRESS: at 0.79% examples, 1312986 words/s, in_qsize 9, out_qsize 0\n",
      "INFO:gensim.models.word2vec:EPOCH 70: training on 173972373 raw words (170381926 effective words) took 123.4s, 1380398 effective words/s\n",
      "INFO:root:Loss after epoch 70:37116728.0\n",
      "INFO:gensim.models.word2vec:EPOCH 71 - PROGRESS: at 0.78% examples, 1320044 words/s, in_qsize 8, out_qsize 1\n",
      "INFO:gensim.models.word2vec:EPOCH 71: training on 173972373 raw words (170381167 effective words) took 122.8s, 1386983 effective words/s\n",
      "INFO:root:Loss after epoch 71:37097752.0\n",
      "INFO:gensim.models.word2vec:EPOCH 72 - PROGRESS: at 0.80% examples, 1359288 words/s, in_qsize 10, out_qsize 1\n",
      "INFO:gensim.models.word2vec:EPOCH 72: training on 173972373 raw words (170381367 effective words) took 120.2s, 1417572 effective words/s\n",
      "INFO:root:Loss after epoch 72:36742736.0\n",
      "INFO:gensim.models.word2vec:EPOCH 73 - PROGRESS: at 0.65% examples, 1094128 words/s, in_qsize 9, out_qsize 3\n",
      "INFO:gensim.models.word2vec:EPOCH 73: training on 173972373 raw words (170380433 effective words) took 121.1s, 1407248 effective words/s\n",
      "INFO:root:Loss after epoch 73:37048684.0\n",
      "INFO:gensim.models.word2vec:EPOCH 74 - PROGRESS: at 0.82% examples, 1398562 words/s, in_qsize 9, out_qsize 0\n",
      "INFO:gensim.models.word2vec:EPOCH 74: training on 173972373 raw words (170382909 effective words) took 122.1s, 1395305 effective words/s\n",
      "INFO:root:Loss after epoch 74:36917892.0\n",
      "INFO:gensim.models.word2vec:EPOCH 75 - PROGRESS: at 0.78% examples, 1316265 words/s, in_qsize 10, out_qsize 1\n",
      "INFO:gensim.models.word2vec:EPOCH 75: training on 173972373 raw words (170381148 effective words) took 120.2s, 1417723 effective words/s\n",
      "INFO:root:Loss after epoch 75:36978420.0\n",
      "INFO:gensim.models.word2vec:EPOCH 76 - PROGRESS: at 0.79% examples, 1342348 words/s, in_qsize 9, out_qsize 2\n",
      "INFO:gensim.models.word2vec:EPOCH 76: training on 173972373 raw words (170382305 effective words) took 119.2s, 1429520 effective words/s\n",
      "INFO:root:Loss after epoch 76:36832676.0\n",
      "INFO:gensim.models.word2vec:EPOCH 77 - PROGRESS: at 0.79% examples, 1330266 words/s, in_qsize 9, out_qsize 0\n",
      "INFO:gensim.models.word2vec:EPOCH 77: training on 173972373 raw words (170380738 effective words) took 119.1s, 1430887 effective words/s\n",
      "INFO:root:Loss after epoch 77:36684004.0\n",
      "INFO:gensim.models.word2vec:EPOCH 78 - PROGRESS: at 0.82% examples, 1379108 words/s, in_qsize 9, out_qsize 0\n",
      "INFO:gensim.models.word2vec:EPOCH 78: training on 173972373 raw words (170381377 effective words) took 121.6s, 1401063 effective words/s\n",
      "INFO:root:Loss after epoch 78:36830444.0\n",
      "INFO:gensim.models.word2vec:EPOCH 79 - PROGRESS: at 0.84% examples, 1404064 words/s, in_qsize 9, out_qsize 0\n",
      "INFO:gensim.models.word2vec:EPOCH 79: training on 173972373 raw words (170379086 effective words) took 119.7s, 1423857 effective words/s\n",
      "INFO:root:Loss after epoch 79:36944312.0\n",
      "INFO:gensim.models.word2vec:EPOCH 80 - PROGRESS: at 0.80% examples, 1354996 words/s, in_qsize 9, out_qsize 0\n",
      "INFO:gensim.models.word2vec:EPOCH 80: training on 173972373 raw words (170380206 effective words) took 119.4s, 1426616 effective words/s\n",
      "INFO:root:Loss after epoch 80:36992452.0\n",
      "INFO:gensim.models.word2vec:EPOCH 81 - PROGRESS: at 0.83% examples, 1402659 words/s, in_qsize 8, out_qsize 1\n",
      "INFO:gensim.models.word2vec:EPOCH 81: training on 173972373 raw words (170381919 effective words) took 121.2s, 1405734 effective words/s\n",
      "INFO:root:Loss after epoch 81:36775200.0\n",
      "INFO:gensim.models.word2vec:EPOCH 82 - PROGRESS: at 0.81% examples, 1357076 words/s, in_qsize 9, out_qsize 0\n",
      "INFO:gensim.models.word2vec:EPOCH 82: training on 173972373 raw words (170379986 effective words) took 117.7s, 1448030 effective words/s\n",
      "INFO:root:Loss after epoch 82:36952420.0\n",
      "INFO:gensim.models.word2vec:EPOCH 83 - PROGRESS: at 0.80% examples, 1339823 words/s, in_qsize 9, out_qsize 0\n",
      "INFO:gensim.models.word2vec:EPOCH 83: training on 173972373 raw words (170381100 effective words) took 117.0s, 1456129 effective words/s\n",
      "INFO:root:Loss after epoch 83:36929852.0\n",
      "INFO:gensim.models.word2vec:EPOCH 84 - PROGRESS: at 0.85% examples, 1440366 words/s, in_qsize 9, out_qsize 0\n",
      "INFO:gensim.models.word2vec:EPOCH 84: training on 173972373 raw words (170380144 effective words) took 117.0s, 1456023 effective words/s\n"
     ]
    },
    {
     "name": "stderr",
     "output_type": "stream",
     "text": [
      "INFO:root:Loss after epoch 84:36932208.0\n",
      "INFO:gensim.models.word2vec:EPOCH 85 - PROGRESS: at 0.81% examples, 1366713 words/s, in_qsize 9, out_qsize 0\n",
      "INFO:gensim.models.word2vec:EPOCH 85: training on 173972373 raw words (170381191 effective words) took 118.5s, 1437582 effective words/s\n",
      "INFO:root:Loss after epoch 85:36828692.0\n",
      "INFO:gensim.models.word2vec:EPOCH 86 - PROGRESS: at 0.80% examples, 1345062 words/s, in_qsize 9, out_qsize 0\n",
      "INFO:gensim.models.word2vec:EPOCH 86: training on 173972373 raw words (170379302 effective words) took 118.4s, 1439362 effective words/s\n",
      "INFO:root:Loss after epoch 86:36901040.0\n",
      "INFO:gensim.models.word2vec:EPOCH 87 - PROGRESS: at 0.81% examples, 1355838 words/s, in_qsize 9, out_qsize 0\n",
      "INFO:gensim.models.word2vec:EPOCH 87: training on 173972373 raw words (170379227 effective words) took 117.2s, 1453268 effective words/s\n",
      "INFO:root:Loss after epoch 87:36864280.0\n",
      "INFO:gensim.models.word2vec:EPOCH 88 - PROGRESS: at 0.82% examples, 1397570 words/s, in_qsize 8, out_qsize 1\n",
      "INFO:gensim.models.word2vec:EPOCH 88: training on 173972373 raw words (170380567 effective words) took 117.1s, 1454414 effective words/s\n",
      "INFO:root:Loss after epoch 88:36633136.0\n",
      "INFO:gensim.models.word2vec:EPOCH 89 - PROGRESS: at 0.81% examples, 1360773 words/s, in_qsize 9, out_qsize 0\n",
      "INFO:gensim.models.word2vec:EPOCH 89: training on 173972373 raw words (170382507 effective words) took 122.5s, 1390967 effective words/s\n",
      "INFO:root:Loss after epoch 89:36861316.0\n",
      "INFO:gensim.models.word2vec:EPOCH 90 - PROGRESS: at 0.78% examples, 1323804 words/s, in_qsize 7, out_qsize 2\n",
      "INFO:gensim.models.word2vec:EPOCH 90: training on 173972373 raw words (170381280 effective words) took 122.0s, 1396068 effective words/s\n",
      "INFO:root:Loss after epoch 90:36969644.0\n",
      "INFO:gensim.models.word2vec:EPOCH 91 - PROGRESS: at 0.75% examples, 1263316 words/s, in_qsize 9, out_qsize 0\n",
      "INFO:gensim.models.word2vec:EPOCH 91: training on 173972373 raw words (170379803 effective words) took 120.4s, 1415089 effective words/s\n",
      "INFO:root:Loss after epoch 91:36920448.0\n",
      "INFO:gensim.models.word2vec:EPOCH 92 - PROGRESS: at 0.78% examples, 1328668 words/s, in_qsize 9, out_qsize 0\n",
      "INFO:gensim.models.word2vec:EPOCH 92: training on 173972373 raw words (170382342 effective words) took 122.4s, 1391617 effective words/s\n",
      "INFO:root:Loss after epoch 92:36823408.0\n",
      "INFO:gensim.models.word2vec:EPOCH 93 - PROGRESS: at 0.83% examples, 1400635 words/s, in_qsize 9, out_qsize 0\n",
      "INFO:gensim.models.word2vec:EPOCH 93: training on 173972373 raw words (170382022 effective words) took 119.1s, 1430154 effective words/s\n",
      "INFO:root:Loss after epoch 93:36761044.0\n",
      "INFO:gensim.models.word2vec:EPOCH 94 - PROGRESS: at 0.83% examples, 1389560 words/s, in_qsize 9, out_qsize 0\n",
      "INFO:gensim.models.word2vec:EPOCH 94: training on 173972373 raw words (170382615 effective words) took 123.1s, 1384326 effective words/s\n",
      "INFO:root:Loss after epoch 94:36674576.0\n",
      "INFO:gensim.models.word2vec:EPOCH 95 - PROGRESS: at 0.77% examples, 1309736 words/s, in_qsize 9, out_qsize 0\n",
      "INFO:gensim.models.word2vec:EPOCH 95: training on 173972373 raw words (170379293 effective words) took 118.7s, 1435721 effective words/s\n",
      "INFO:root:Loss after epoch 95:36818968.0\n",
      "INFO:gensim.models.word2vec:EPOCH 96 - PROGRESS: at 0.78% examples, 1326574 words/s, in_qsize 7, out_qsize 2\n",
      "INFO:gensim.models.word2vec:EPOCH 96: training on 173972373 raw words (170379028 effective words) took 118.3s, 1440673 effective words/s\n",
      "INFO:root:Loss after epoch 96:36789976.0\n",
      "INFO:gensim.models.word2vec:EPOCH 97 - PROGRESS: at 0.80% examples, 1342978 words/s, in_qsize 9, out_qsize 0\n",
      "INFO:gensim.models.word2vec:EPOCH 97: training on 173972373 raw words (170380586 effective words) took 120.7s, 1411418 effective words/s\n",
      "INFO:root:Loss after epoch 97:36968060.0\n",
      "INFO:gensim.models.word2vec:EPOCH 98 - PROGRESS: at 0.79% examples, 1336961 words/s, in_qsize 10, out_qsize 3\n",
      "INFO:gensim.models.word2vec:EPOCH 98: training on 173972373 raw words (170379799 effective words) took 119.5s, 1425201 effective words/s\n",
      "INFO:root:Loss after epoch 98:36833476.0\n",
      "INFO:gensim.models.word2vec:EPOCH 99 - PROGRESS: at 0.81% examples, 1378417 words/s, in_qsize 9, out_qsize 0\n",
      "INFO:gensim.models.word2vec:EPOCH 99: training on 173972373 raw words (170380298 effective words) took 121.0s, 1408388 effective words/s\n",
      "INFO:root:Loss after epoch 99:36739984.0\n",
      "INFO:gensim.utils:Word2Vec lifecycle event {'msg': 'training on 17397237300 raw words (17038114896 effective words) took 11917.9s, 1429621 effective words/s', 'datetime': '2023-04-26T15:53:00.174548', 'gensim': '4.3.1', 'python': '3.11.3 | packaged by conda-forge | (main, Apr  6 2023, 09:05:00) [Clang 14.0.6 ]', 'platform': 'macOS-12.6-x86_64-i386-64bit', 'event': 'train'}\n"
     ]
    },
    {
     "data": {
      "text/plain": [
       "(17038114896, 17397237300)"
      ]
     },
     "execution_count": 15,
     "metadata": {},
     "output_type": "execute_result"
    }
   ],
   "source": [
    "#we override alpha with small values, since default values result in poor train performance. See loss plot below\n",
    "model.train(sentences, epochs=100, start_alpha=0.0001, end_alpha=0.00001, total_examples=model.corpus_count, total_words=model.corpus_total_words, compute_loss=True, report_delay=300, callbacks=[Callback()])\n"
   ]
  },
  {
   "cell_type": "code",
   "execution_count": 16,
   "id": "d5e1b267",
   "metadata": {},
   "outputs": [
    {
     "data": {
      "text/plain": [
       "[<matplotlib.lines.Line2D at 0x1ec75b8d0>]"
      ]
     },
     "execution_count": 16,
     "metadata": {},
     "output_type": "execute_result"
    },
    {
     "data": {
      "image/png": "[encoded data removed]",
      "text/plain": [
       "<Figure size 640x480 with 1 Axes>"
      ]
     },
     "metadata": {},
     "output_type": "display_data"
    }
   ],
   "source": [
    "plt.plot(loss_list)"
   ]
  },
  {
   "cell_type": "markdown",
   "id": "a42f370d",
   "metadata": {},
   "source": [
    "For comaprison, below is the loss plot when using default (larger) values for alpha. Note, that during training alpha is decreasing linearly from start value to end value. With default values in use the loss goes down near the end, once alpha gets smaller values."
   ]
  },
  {
   "cell_type": "code",
   "execution_count": 17,
   "id": "56eaea48",
   "metadata": {},
   "outputs": [
    {
     "data": {
      "text/plain": [
       "[<matplotlib.lines.Line2D at 0x212499b90>]"
      ]
     },
     "execution_count": 17,
     "metadata": {},
     "output_type": "execute_result"
    },
    {
     "data": {
      "image/png": "[encoded data removed]",
      "text/plain": [
       "<Figure size 640x480 with 1 Axes>"
      ]
     },
     "metadata": {},
     "output_type": "display_data"
    }
   ],
   "source": [
    "default_alpha_loss_list = [45621836.0, 44355904.0, 44249936.0, 44104492.0, 44107028.0, 44097436.0, 44270596.0, 44089604.0, 44185456.0, 44285424.0, 44182396.0, 44126032.0, 44408908.0, 44199988.0, 44425624.0, 44209516.0, 44227556.0, 44041368.0, 44373620.0, 44456688.0, 44070200.0, 43995008.0, 44134528.0, 44107632.0, 43802268.0, 44047244.0, 43904480.0, 43939264.0, 43987436.0, 43859148.0, 43961468.0, 44073332.0, 43907992.0, 43725336.0, 43849884.0, 43924944.0, 43826232.0, 43496588.0, 43605268.0, 43641544.0, 43543980.0, 43537204.0, 43491140.0, 43373268.0, 43624628.0, 43330720.0, 43449924.0, 43234040.0, 43097712.0, 44565932.0, 43416728.0, 43234072.0, 43260536.0, 43074152.0, 43096868.0, 42714596.0, 43268708.0, 42984456.0, 43917916.0, 43035192.0, 42818392.0, 42656488.0, 42411144.0, 42707748.0, 42523348.0, 42491780.0, 42605616.0, 42294312.0, 42310540.0, 42306532.0, 42327836.0, 42028380.0, 43780020.0, 41960848.0, 41753348.0, 41644528.0, 42072300.0, 41830796.0, 41535968.0, 41507712.0, 41336916.0, 41256888.0, 41069008.0, 40828812.0, 40791320.0, 40758012.0, 40487952.0, 40521400.0, 40385292.0, 40164828.0, 41217672.0, 39945608.0, 39633816.0, 39335348.0, 39096012.0, 39050096.0, 38497092.0, 38436708.0, 38193532.0, 37834140.0]\n",
    "plt.plot(default_alpha_loss_list)"
   ]
  },
  {
   "cell_type": "code",
   "execution_count": 50,
   "id": "47482d49",
   "metadata": {},
   "outputs": [
    {
     "data": {
      "text/plain": [
       "[('котка', 0.8761090636253357),\n",
       " ('кошка', 0.8671991229057312),\n",
       " ('жывёліна', 0.8557093143463135),\n",
       " ('дзік', 0.8489532470703125),\n",
       " ('кацяня', 0.8461900949478149),\n",
       " ('кот', 0.8402627110481262),\n",
       " ('сабачка', 0.8287455439567566),\n",
       " ('звер', 0.824094295501709),\n",
       " ('пацук', 0.8237302899360657),\n",
       " ('шчанюк', 0.8229579329490662),\n",
       " ('конь', 0.8214197158813477),\n",
       " ('малпа', 0.811447262763977),\n",
       " ('авечка', 0.806547999382019),\n",
       " ('муха', 0.8020546436309814),\n",
       " ('ведзьма', 0.798882246017456),\n",
       " ('асёл', 0.7933168411254883),\n",
       " ('жаба', 0.7923822402954102),\n",
       " ('воўк', 0.789414644241333),\n",
       " ('свіння', 0.7882827520370483),\n",
       " ('брахаць', 0.7872337102890015)]"
      ]
     },
     "execution_count": 50,
     "metadata": {},
     "output_type": "execute_result"
    }
   ],
   "source": [
    "model.wv.most_similar('сабака', topn=20)"
   ]
  },
  {
   "cell_type": "code",
   "execution_count": 49,
   "id": "94ead8da",
   "metadata": {},
   "outputs": [
    {
     "data": {
      "text/plain": [
       "['беларускі',\n",
       " 'год',\n",
       " 'беларусь',\n",
       " 'чалавек',\n",
       " 'час',\n",
       " 'дзень',\n",
       " 'большыць',\n",
       " 'мова',\n",
       " 'новы',\n",
       " 'вялікі']"
      ]
     },
     "execution_count": 49,
     "metadata": {},
     "output_type": "execute_result"
    }
   ],
   "source": [
    "model.wv.index_to_key[:10]"
   ]
  },
  {
   "cell_type": "code",
   "execution_count": 20,
   "id": "ec534c05",
   "metadata": {},
   "outputs": [
    {
     "name": "stderr",
     "output_type": "stream",
     "text": [
      "INFO:gensim.utils:Word2Vec lifecycle event {'fname_or_handle': 'word2vec-100-bel-cc100.model', 'separately': 'None', 'sep_limit': 10485760, 'ignore': frozenset(), 'datetime': '2023-04-26T15:53:00.578750', 'gensim': '4.3.1', 'python': '3.11.3 | packaged by conda-forge | (main, Apr  6 2023, 09:05:00) [Clang 14.0.6 ]', 'platform': 'macOS-12.6-x86_64-i386-64bit', 'event': 'saving'}\n",
      "INFO:gensim.utils:not storing attribute cum_table\n",
      "INFO:gensim.utils:saved word2vec-100-bel-cc100.model\n"
     ]
    }
   ],
   "source": [
    "model.save(\"word2vec-100-bel-cc100.model\")"
   ]
  },
  {
   "cell_type": "code",
   "execution_count": 21,
   "id": "389e42e0",
   "metadata": {},
   "outputs": [
    {
     "name": "stderr",
     "output_type": "stream",
     "text": [
      "INFO:gensim.models.keyedvectors:storing 78772x100 projection weights into word-vectors.txt\n"
     ]
    }
   ],
   "source": [
    "model.wv.save_word2vec_format('word-vectors.txt')"
   ]
  }
 ],
 "metadata": {
  "kernelspec": {
   "display_name": "Python 3 (ipykernel)",
   "language": "python",
   "name": "python3"
  },
  "language_info": {
   "codemirror_mode": {
    "name": "ipython",
    "version": 3
   },
   "file_extension": ".py",
   "mimetype": "text/x-python",
   "name": "python",
   "nbconvert_exporter": "python",
   "pygments_lexer": "ipython3",
   "version": "3.11.3"
  }
 },
 "nbformat": 4,
 "nbformat_minor": 5
}
