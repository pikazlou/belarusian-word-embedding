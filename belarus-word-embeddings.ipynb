{
 "cells": [
  {
   "cell_type": "code",
   "execution_count": 179,
   "id": "de7b8b0c",
   "metadata": {},
   "outputs": [],
   "source": [
    "import re\n",
    "import string\n",
    "import gensim\n",
    "from gensim import utils\n",
    "from gensim.parsing.preprocessing import strip_punctuation, strip_short, strip_numeric, strip_multiple_whitespaces, remove_stopwords\n",
    "from gensim.models.word2vec import LineSentence\n",
    "from gensim.models import Word2Vec\n",
    "from gensim.models.callbacks import CallbackAny2Vec\n",
    "import urllib.request\n",
    "import zipfile\n",
    "import lzma\n",
    "import shutil\n",
    "import matplotlib.pyplot as plt"
   ]
  },
  {
   "cell_type": "code",
   "execution_count": 2,
   "id": "7dc6904a",
   "metadata": {},
   "outputs": [
    {
     "name": "stderr",
     "output_type": "stream",
     "text": [
      "INFO:root:Logging initialized\n"
     ]
    }
   ],
   "source": [
    "import logging\n",
    "logging.basicConfig(level=logging.INFO, force = True)\n",
    "logger = logging.getLogger()\n",
    "logger.info(\"Logging initialized\")"
   ]
  },
  {
   "cell_type": "code",
   "execution_count": 3,
   "id": "63844db8",
   "metadata": {},
   "outputs": [
    {
     "data": {
      "text/plain": [
       "('GrammarDB.zip', <http.client.HTTPMessage at 0x17ac803d0>)"
      ]
     },
     "execution_count": 3,
     "metadata": {},
     "output_type": "execute_result"
    }
   ],
   "source": [
    "#Link found here: https://metatext.io/datasets/cc100-belarusian\n",
    "urllib.request.urlretrieve('https://data.statmt.org/cc-100/be.txt.xz', \n",
    "                           'be.txt.xz')\n",
    "\n",
    "urllib.request.urlretrieve('https://github.com/Belarus/GrammarDB/archive/refs/tags/PUBLICATION_2021.zip', \n",
    "                           'GrammarDB.zip')"
   ]
  },
  {
   "cell_type": "code",
   "execution_count": 4,
   "id": "999d375c",
   "metadata": {},
   "outputs": [],
   "source": [
    "with lzma.open(\"be.txt.xz\", \"rb\") as fsrc:\n",
    "    with open(\"be.txt\", \"wb\") as fdst:\n",
    "        shutil.copyfileobj(fsrc, fdst)\n",
    "\n",
    "with zipfile.ZipFile('GrammarDB.zip', 'r') as zip_ref:\n",
    "    zip_ref.extractall('.')"
   ]
  },
  {
   "cell_type": "code",
   "execution_count": 5,
   "id": "49326e47",
   "metadata": {},
   "outputs": [],
   "source": [
    "import xml.dom.minidom\n",
    "from itertools import islice\n",
    "\n",
    "def calculate_mapping_from_forms_to_base(filepath, tag_prefixes=[]):\n",
    "    xml_doc = xml.dom.minidom.parse(filepath)\n",
    "    paradigms = xml_doc.getElementsByTagName('Paradigm')\n",
    "    result = {}\n",
    "    collision_count = 0\n",
    "    collisions = set()\n",
    "    for paradigm in paradigms:\n",
    "        tag = paradigm.getAttribute('tag')\n",
    "        if len(tag_prefixes) == 0 or any([tag.startswith(p) for p in tag_prefixes]):\n",
    "            variants = paradigm.getElementsByTagName('Variant')\n",
    "            for variant in variants:\n",
    "                base = variant.getAttribute('lemma').replace(\"+\", \"\").lower()\n",
    "                if base not in BASE_FORM_BLACKLIST:\n",
    "                    forms = variant.getElementsByTagName('Form')\n",
    "                    local_map = {}\n",
    "                    citation_count = max([form.getAttribute('slouniki').count(',') for form in forms]) + 1\n",
    "                    for form in forms:\n",
    "                        if len(form.childNodes) > 0:\n",
    "                            word = form.childNodes[0].data.replace(\"+\", \"\").lower()\n",
    "                            local_map[word] = (base, citation_count)\n",
    "                    for k, v in local_map.items():\n",
    "                        if k in result:\n",
    "                            if result[k][1] == v[1] and result[k][0] != v[0]:\n",
    "                                collision_count += 1\n",
    "                                collisions.add(v[0])\n",
    "                                collisions.add(result[k][0])\n",
    "                            elif result[k][1] < v[1]:\n",
    "                                result[k] = v\n",
    "                        else:\n",
    "                            result[k] = v\n",
    "                    \n",
    "    logger.info(f\"Collisions (forms leading to different base word, and having same amount of citation): {collision_count}\")\n",
    "    logger.info(f\"Examples of collisions: {list(islice(collisions, 5))}\")\n",
    "    for k in result:\n",
    "        result[k] = result[k][0]\n",
    "    return result"
   ]
  },
  {
   "cell_type": "code",
   "execution_count": 6,
   "id": "6184b181",
   "metadata": {},
   "outputs": [],
   "source": [
    "BASE_FORM_BLACKLIST = [\n",
    "    'як' # can mean 'bull', but mostly used as particle \n",
    "] + [chr(ord('а')+delta) for delta in range(0, 32)] # alphabet letters\n",
    "\n",
    "DERIVED_FORM_BLACKLIST = [\n",
    "    'але', # can mean geographic place 'Ала', but mostly used as particle 'але'\n",
    "    'калі', # weird form of 'калій' - 'каль', but used as particle 'калі'\n",
    "    'вось', # can mean 'axis', but mostly used as particle\n",
    "    'нам', # can mean short form of 'намеснік', but mostly used as pronoun 'мы'\n",
    "    'наша', # some weird noun 'наша', but mostly used as pronoun 'мы'\n",
    "    'нашы', # can be used as noun, but motly used as pronoun 'мы'\n",
    "    'яму' # can be used as rare noun 'ям', but mostly used as pronoun 'ён'\n",
    "]"
   ]
  },
  {
   "cell_type": "code",
   "execution_count": 7,
   "id": "048cd3f1",
   "metadata": {},
   "outputs": [
    {
     "name": "stderr",
     "output_type": "stream",
     "text": [
      "INFO:root:Collisions (forms leading to different base word, and having same amount of citation): 2597\n",
      "INFO:root:Examples of collisions: ['грабіць', 'памыцца', 'брытаніць', 'сажрацца', 'стракатаць']\n",
      "INFO:root:Collisions (forms leading to different base word, and having same amount of citation): 33\n",
      "INFO:root:Examples of collisions: ['дняпро', 'мачулішча', 'наваполацак', 'мачулішчы', 'герцэгавіна']\n",
      "INFO:root:Collisions (forms leading to different base word, and having same amount of citation): 1345\n",
      "INFO:root:Examples of collisions: ['гаварушкі', 'груда', 'дураслівец', 'дынамаўка', 'арамейка']\n",
      "INFO:root:Collisions (forms leading to different base word, and having same amount of citation): 1155\n",
      "INFO:root:Examples of collisions: ['пантофля', 'комін', 'пралаз', 'падонак', 'лапландзец']\n",
      "INFO:root:Collisions (forms leading to different base word, and having same amount of citation): 954\n",
      "INFO:root:Examples of collisions: ['хлапчо', 'ранак', 'скупянда', 'работадаўца', 'савяня']\n",
      "INFO:root:Collisions (forms leading to different base word, and having same amount of citation): 51\n",
      "INFO:root:Examples of collisions: ['дакалумбавы', 'крэчатаў', 'дугласавы', 'дакалумбаў', 'вітаў']\n",
      "INFO:root:Collisions (forms leading to different base word, and having same amount of citation): 37\n",
      "INFO:root:Examples of collisions: ['пупартавы', 'шчупакоў', 'чыжовы', 'чэпікавы', 'чыжоў']\n"
     ]
    }
   ],
   "source": [
    "#verbs\n",
    "v = calculate_mapping_from_forms_to_base('GrammarDB-PUBLICATION_2021/V.xml')\n",
    "\n",
    "#proper nouns\n",
    "nprop = calculate_mapping_from_forms_to_base('GrammarDB-PUBLICATION_2021/NP.xml', ['NPII'])\n",
    "\n",
    "#nouns\n",
    "n1 = calculate_mapping_from_forms_to_base('GrammarDB-PUBLICATION_2021/N1.xml')\n",
    "n2 = calculate_mapping_from_forms_to_base('GrammarDB-PUBLICATION_2021/N2.xml')\n",
    "n3 = calculate_mapping_from_forms_to_base('GrammarDB-PUBLICATION_2021/N3.xml')\n",
    "\n",
    "#adjectives\n",
    "adj1 = calculate_mapping_from_forms_to_base('GrammarDB-PUBLICATION_2021/A1.xml', ['ARP', 'AQP'])\n",
    "adj2 = calculate_mapping_from_forms_to_base('GrammarDB-PUBLICATION_2021/A2.xml', ['ARP', 'AQP'])\n",
    "\n",
    "WORD_MAP = {}\n",
    "WORD_MAP.update(v)\n",
    "WORD_MAP.update(nprop)\n",
    "WORD_MAP.update(n1)\n",
    "WORD_MAP.update(n2)\n",
    "WORD_MAP.update(n3)\n",
    "WORD_MAP.update(adj1)\n",
    "WORD_MAP.update(adj2)"
   ]
  },
  {
   "cell_type": "code",
   "execution_count": 8,
   "id": "a11b12a9",
   "metadata": {},
   "outputs": [
    {
     "name": "stdout",
     "output_type": "stream",
     "text": [
      "2262675\n"
     ]
    }
   ],
   "source": [
    "print(len(WORD_MAP))"
   ]
  },
  {
   "cell_type": "code",
   "execution_count": 9,
   "id": "48c63417",
   "metadata": {},
   "outputs": [
    {
     "name": "stdout",
     "output_type": "stream",
     "text": [
      "рух\n",
      "беларусь\n"
     ]
    }
   ],
   "source": [
    "print(WORD_MAP['рухам'])\n",
    "print(WORD_MAP['беларусі'])"
   ]
  },
  {
   "cell_type": "code",
   "execution_count": 10,
   "id": "1def1390",
   "metadata": {},
   "outputs": [],
   "source": [
    "MANUAL_WORD_MAP = {\n",
    "    'людзмі': WORD_MAP['людзьмі'],\n",
    "    'расеі': WORD_MAP['расіі'],\n",
    "    'расея': 'расія',\n",
    "    'расею': WORD_MAP['расію'],\n",
    "    'расеяй': WORD_MAP['расіяй'],\n",
    "    'ссср': 'ссср',\n",
    "    'бсср': 'бсср',\n",
    "    'бнр': 'бнр',\n",
    "    'вкл': 'вкл',\n",
    "    'смі': 'смі',\n",
    "    'шоў': 'шоў',\n",
    "    'тыс': 'тысяча',\n",
    "    'млн': 'мільён',\n",
    "    'вул': 'вуліца',\n",
    "    'вобл': 'вобласць',\n",
    "    'тэл': 'тэлефон',\n",
    "    'км': WORD_MAP['кіламетр'],\n",
    "    'навінаў': WORD_MAP['навін'],\n",
    "    'тысячаў': WORD_MAP['тысяч'],\n",
    "    'прэзыдэнта': WORD_MAP['прэзідэнта'],\n",
    "    'прэзыдэнт': WORD_MAP['прэзідэнт'],\n",
    "    'камэнтары': WORD_MAP['каментары'],\n",
    "    'сыстэму': WORD_MAP['сістэму'],\n",
    "    'сытуацыі': WORD_MAP['сітуацыі'],\n",
    "    'сытуацыя': WORD_MAP['сітуацыя'],\n",
    "    'цэнтар': WORD_MAP['цэнтр'],\n",
    "    'вільня': WORD_MAP['вільнюс'],\n",
    "    'вільню': WORD_MAP['вільнюс'],\n",
    "    'сьмерці': WORD_MAP['смерці'],\n",
    "    'грамадзтва': WORD_MAP['грамадства'],\n",
    "    'эўропы': WORD_MAP['еўропы'],\n",
    "    'сябраў': WORD_MAP['сяброў'],\n",
    "    'апазыцыі': WORD_MAP['апазіцыі'],\n",
    "    'міністар': WORD_MAP[\"міністр\"],\n",
    "    'спэцыяльныя': WORD_MAP[\"спецыяльныя\"],\n",
    "    'мэню': WORD_MAP[\"меню\"],\n",
    "    'інтэрвію': WORD_MAP[\"інтэрв'ю\"],\n",
    "    'газэты': WORD_MAP[\"газеты\"],\n",
    "    'дакумэнты': WORD_MAP[\"дакументы\"],\n",
    "    'сытуацыю': WORD_MAP[\"сітуацыю\"],\n",
    "    'разьдзел': WORD_MAP[\"раздзел\"],\n",
    "    'сьмерць': WORD_MAP[\"смерць\"],\n",
    "    'грамадзкі': WORD_MAP[\"грамадскі\"],\n",
    "    'калёніі': WORD_MAP[\"калоніі\"],\n",
    "    'газэта': WORD_MAP[\"газета\"],\n",
    "}\n",
    "WORD_MAP.update(MANUAL_WORD_MAP)"
   ]
  },
  {
   "cell_type": "code",
   "execution_count": 11,
   "id": "ca36540b",
   "metadata": {},
   "outputs": [],
   "source": [
    "def strip_trailing_newline(iterable):\n",
    "    for i in iterable:\n",
    "        yield i.rstrip()\n",
    "\n",
    "# this function is based on gensim.parser.preprocessing.strip_punctuation\n",
    "# we replace gensim's version to correctly handle symbol ' in words, such as п'еса or кар'ера\n",
    "RE_PUNCTUATION = re.compile(r'([%s])+' % re.escape(string.punctuation.replace(\"'\",\"\")), re.UNICODE)\n",
    "def strip_punctuation(s):\n",
    "    s = utils.to_unicode(s)\n",
    "    return RE_PUNCTUATION.sub(\" \", s)\n",
    "\n",
    "CHARACTERS_MAP = {'’': '\\'', 'ý': 'ў', ' ў': ' у', 'i': 'і', 'ньн': 'нн', 'цьц': 'цц', 'сьц': 'сц', 'сьл':'сл', 'дзьдз': 'ддз', 'сьв': 'св', 'зьв': 'зв', 'сьп': 'сп', 'сьс': 'сс', 'сьн': 'сн', 'зьм': 'зм', 'зьн': 'зн', 'зьл': 'зл'}\n",
    "def lower_and_replace_characters(iterable):\n",
    "    for s in iterable:\n",
    "        s = s.lower()\n",
    "        for k, v in CHARACTERS_MAP.items():\n",
    "            s = s.replace(k, v)\n",
    "        yield s\n",
    "\n",
    "def split_sentences(iterable):\n",
    "    for i in iterable:\n",
    "        merged_dots = re.sub(\"[\\.]+\", \".\", i)\n",
    "        sentences = merged_dots.split('.')\n",
    "        for s in sentences:\n",
    "            yield s\n",
    "\n",
    "def process_and_filter_word(raw_words):\n",
    "    valid_words = []\n",
    "    removed_words = []\n",
    "    for w in raw_words:\n",
    "        w = w.strip(\"'\")\n",
    "        if w in WORD_MAP:\n",
    "            valid_words.append(WORD_MAP[w])\n",
    "        else:\n",
    "            removed_words.append(w)\n",
    "    return (valid_words, removed_words)\n",
    "\n",
    "global_removed_words = []\n",
    "def preprocess_sentences(iterable):\n",
    "    for i in iterable:\n",
    "        s = strip_multiple_whitespaces(strip_numeric(strip_short(strip_punctuation(i))))\n",
    "        s = re.sub(\"[«»“”„…—°′²]\", \"\", s)\n",
    "        s = remove_stopwords(s, stopwords=DERIVED_FORM_BLACKLIST)\n",
    "        valid_words, removed_words = process_and_filter_word(s.split())\n",
    "        s = ' '.join(valid_words)\n",
    "        global_removed_words.extend(removed_words)\n",
    "        yield s\n",
    "\n",
    "def remove_short_lines(iterable):\n",
    "    for i in iterable:\n",
    "        if not i.isspace() and len(i) >= 20:\n",
    "            yield i\n"
   ]
  },
  {
   "cell_type": "code",
   "execution_count": 12,
   "id": "1044a584",
   "metadata": {},
   "outputs": [],
   "source": [
    "with open('be.txt', 'r') as original_file:\n",
    "    with open('processed-corpus.txt', 'w') as sentences_file:\n",
    "        with open('removed-words.txt', 'w') as removed_words_file:\n",
    "            for s in remove_short_lines(preprocess_sentences(split_sentences(lower_and_replace_characters(strip_trailing_newline(original_file))))):\n",
    "                sentences_file.write(s + \"\\n\")\n",
    "                removed_words_file.write(' '.join(global_removed_words) + \"\\n\")\n",
    "                global_removed_words.clear()"
   ]
  },
  {
   "cell_type": "code",
   "execution_count": 13,
   "id": "ab9fc39e",
   "metadata": {},
   "outputs": [],
   "source": [
    "loss_list = []\n",
    "class Callback(CallbackAny2Vec):\n",
    "    def __init__(self):\n",
    "        self.epoch = 0\n",
    "\n",
    "    def on_epoch_end(self, model):\n",
    "        loss = model.get_latest_training_loss()\n",
    "        loss_list.append(loss)\n",
    "        logger.info('Loss after epoch {}:{}'.format(self.epoch, loss))\n",
    "        model.running_training_loss = 0.0\n",
    "        self.epoch = self.epoch + 1"
   ]
  },
  {
   "cell_type": "code",
   "execution_count": 14,
   "id": "61e8337d",
   "metadata": {},
   "outputs": [
    {
     "name": "stderr",
     "output_type": "stream",
     "text": [
      "INFO:gensim.utils:Word2Vec lifecycle event {'params': 'Word2Vec<vocab=0, vector_size=100, alpha=0.025>', 'datetime': '2023-05-16T14:25:19.541429', 'gensim': '4.3.1', 'python': '3.11.3 | packaged by conda-forge | (main, Apr  6 2023, 09:05:00) [Clang 14.0.6 ]', 'platform': 'macOS-12.6-x86_64-i386-64bit', 'event': 'created'}\n"
     ]
    }
   ],
   "source": [
    "model = Word2Vec(vector_size=100, window=3, min_count=10, workers=5)"
   ]
  },
  {
   "cell_type": "code",
   "execution_count": 15,
   "id": "35054bd1",
   "metadata": {},
   "outputs": [],
   "source": [
    "sentences = LineSentence('processed-corpus.txt')"
   ]
  },
  {
   "cell_type": "code",
   "execution_count": 16,
   "id": "615cf92b",
   "metadata": {},
   "outputs": [
    {
     "name": "stderr",
     "output_type": "stream",
     "text": [
      "INFO:gensim.models.word2vec:collecting all words and their counts\n",
      "INFO:gensim.models.word2vec:PROGRESS: at sentence #0, processed 0 words, keeping 0 word types\n",
      "INFO:gensim.models.word2vec:PROGRESS: at sentence #5000000, processed 40820801 words, keeping 101563 word types\n",
      "INFO:gensim.models.word2vec:PROGRESS: at sentence #10000000, processed 81732146 words, keeping 114805 word types\n",
      "INFO:gensim.models.word2vec:PROGRESS: at sentence #15000000, processed 122544167 words, keeping 122338 word types\n",
      "INFO:gensim.models.word2vec:PROGRESS: at sentence #20000000, processed 163398616 words, keeping 127318 word types\n",
      "INFO:gensim.models.word2vec:collected 130029 word types from a corpus of 191471442 raw words and 23448819 sentences\n",
      "INFO:gensim.models.word2vec:Creating a fresh vocabulary\n",
      "INFO:gensim.utils:Word2Vec lifecycle event {'msg': 'effective_min_count=10 retains 79373 unique words (61.04% of original 130029, drops 50656)', 'datetime': '2023-05-16T14:26:21.471876', 'gensim': '4.3.1', 'python': '3.11.3 | packaged by conda-forge | (main, Apr  6 2023, 09:05:00) [Clang 14.0.6 ]', 'platform': 'macOS-12.6-x86_64-i386-64bit', 'event': 'prepare_vocab'}\n",
      "INFO:gensim.utils:Word2Vec lifecycle event {'msg': 'effective_min_count=10 leaves 191301242 word corpus (99.91% of original 191471442, drops 170200)', 'datetime': '2023-05-16T14:26:21.472477', 'gensim': '4.3.1', 'python': '3.11.3 | packaged by conda-forge | (main, Apr  6 2023, 09:05:00) [Clang 14.0.6 ]', 'platform': 'macOS-12.6-x86_64-i386-64bit', 'event': 'prepare_vocab'}\n",
      "INFO:gensim.models.word2vec:deleting the raw counts dictionary of 130029 items\n",
      "INFO:gensim.models.word2vec:sample=0.001 downsamples 16 most-common words\n",
      "INFO:gensim.utils:Word2Vec lifecycle event {'msg': 'downsampling leaves estimated 185804174.24139762 word corpus (97.1%% of prior 191301242)', 'datetime': '2023-05-16T14:26:21.723599', 'gensim': '4.3.1', 'python': '3.11.3 | packaged by conda-forge | (main, Apr  6 2023, 09:05:00) [Clang 14.0.6 ]', 'platform': 'macOS-12.6-x86_64-i386-64bit', 'event': 'prepare_vocab'}\n",
      "INFO:gensim.models.word2vec:estimated required memory for 79373 words and 100 dimensions: 103184900 bytes\n",
      "INFO:gensim.models.word2vec:resetting layer weights\n",
      "INFO:gensim.utils:Word2Vec lifecycle event {'update': False, 'trim_rule': 'None', 'datetime': '2023-05-16T14:26:22.216001', 'gensim': '4.3.1', 'python': '3.11.3 | packaged by conda-forge | (main, Apr  6 2023, 09:05:00) [Clang 14.0.6 ]', 'platform': 'macOS-12.6-x86_64-i386-64bit', 'event': 'build_vocab'}\n"
     ]
    }
   ],
   "source": [
    "model.build_vocab(sentences, progress_per=5000000)"
   ]
  },
  {
   "cell_type": "code",
   "execution_count": 17,
   "id": "867dc13c",
   "metadata": {},
   "outputs": [
    {
     "name": "stderr",
     "output_type": "stream",
     "text": [
      "INFO:gensim.utils:Word2Vec lifecycle event {'msg': 'training model with 5 workers on 79373 vocabulary and 100 features, using sg=0 hs=0 sample=0.001 negative=5 window=3 shrink_windows=True', 'datetime': '2023-05-16T14:26:22.226626', 'gensim': '4.3.1', 'python': '3.11.3 | packaged by conda-forge | (main, Apr  6 2023, 09:05:00) [Clang 14.0.6 ]', 'platform': 'macOS-12.6-x86_64-i386-64bit', 'event': 'train'}\n",
      "INFO:gensim.models.word2vec:EPOCH 0 - PROGRESS: at 0.84% examples, 1547911 words/s, in_qsize 9, out_qsize 0\n",
      "INFO:gensim.models.word2vec:EPOCH 0: training on 191471442 raw words (185806727 effective words) took 126.4s, 1470062 effective words/s\n",
      "INFO:root:Loss after epoch 0:37903760.0\n",
      "INFO:gensim.models.word2vec:EPOCH 1 - PROGRESS: at 0.80% examples, 1471550 words/s, in_qsize 9, out_qsize 0\n",
      "INFO:gensim.models.word2vec:EPOCH 1: training on 191471442 raw words (185803567 effective words) took 130.0s, 1429641 effective words/s\n",
      "INFO:root:Loss after epoch 1:47052340.0\n",
      "INFO:gensim.models.word2vec:EPOCH 2 - PROGRESS: at 0.80% examples, 1468320 words/s, in_qsize 9, out_qsize 2\n",
      "INFO:gensim.models.word2vec:EPOCH 2: training on 191471442 raw words (185805543 effective words) took 124.0s, 1498978 effective words/s\n",
      "INFO:root:Loss after epoch 2:46143560.0\n",
      "INFO:gensim.models.word2vec:EPOCH 3 - PROGRESS: at 0.73% examples, 1339363 words/s, in_qsize 9, out_qsize 0\n",
      "INFO:gensim.models.word2vec:EPOCH 3: training on 191471442 raw words (185802669 effective words) took 129.6s, 1434103 effective words/s\n",
      "INFO:root:Loss after epoch 3:45105300.0\n",
      "INFO:gensim.models.word2vec:EPOCH 4 - PROGRESS: at 0.78% examples, 1412418 words/s, in_qsize 10, out_qsize 2\n",
      "INFO:gensim.models.word2vec:EPOCH 4: training on 191471442 raw words (185802617 effective words) took 124.4s, 1493256 effective words/s\n",
      "INFO:root:Loss after epoch 4:44057004.0\n",
      "INFO:gensim.models.word2vec:EPOCH 5 - PROGRESS: at 0.75% examples, 1387022 words/s, in_qsize 9, out_qsize 2\n",
      "INFO:gensim.models.word2vec:EPOCH 5: training on 191471442 raw words (185804528 effective words) took 125.4s, 1481565 effective words/s\n",
      "INFO:root:Loss after epoch 5:43423808.0\n",
      "INFO:gensim.models.word2vec:EPOCH 6 - PROGRESS: at 0.73% examples, 1351569 words/s, in_qsize 10, out_qsize 1\n",
      "INFO:gensim.models.word2vec:EPOCH 6: training on 191471442 raw words (185804932 effective words) took 127.6s, 1456016 effective words/s\n",
      "INFO:root:Loss after epoch 6:42843020.0\n",
      "INFO:gensim.models.word2vec:EPOCH 7 - PROGRESS: at 0.80% examples, 1458571 words/s, in_qsize 10, out_qsize 0\n",
      "INFO:gensim.models.word2vec:EPOCH 7: training on 191471442 raw words (185803051 effective words) took 128.4s, 1447433 effective words/s\n",
      "INFO:root:Loss after epoch 7:42343528.0\n",
      "INFO:gensim.models.word2vec:EPOCH 8 - PROGRESS: at 0.77% examples, 1411081 words/s, in_qsize 9, out_qsize 0\n",
      "INFO:gensim.models.word2vec:EPOCH 8: training on 191471442 raw words (185808046 effective words) took 125.5s, 1481032 effective words/s\n",
      "INFO:root:Loss after epoch 8:42012104.0\n",
      "INFO:gensim.models.word2vec:EPOCH 9 - PROGRESS: at 0.78% examples, 1435851 words/s, in_qsize 9, out_qsize 0\n",
      "INFO:gensim.models.word2vec:EPOCH 9: training on 191471442 raw words (185802782 effective words) took 125.0s, 1486567 effective words/s\n",
      "INFO:root:Loss after epoch 9:41572628.0\n",
      "INFO:gensim.models.word2vec:EPOCH 10 - PROGRESS: at 0.71% examples, 1305686 words/s, in_qsize 9, out_qsize 0\n",
      "INFO:gensim.models.word2vec:EPOCH 10: training on 191471442 raw words (185802977 effective words) took 125.9s, 1475738 effective words/s\n",
      "INFO:root:Loss after epoch 10:41226516.0\n",
      "INFO:gensim.models.word2vec:EPOCH 11 - PROGRESS: at 0.75% examples, 1377263 words/s, in_qsize 8, out_qsize 1\n",
      "INFO:gensim.models.word2vec:EPOCH 11: training on 191471442 raw words (185806857 effective words) took 126.2s, 1471920 effective words/s\n",
      "INFO:root:Loss after epoch 11:41116468.0\n",
      "INFO:gensim.models.word2vec:EPOCH 12 - PROGRESS: at 0.76% examples, 1411399 words/s, in_qsize 9, out_qsize 2\n",
      "INFO:gensim.models.word2vec:EPOCH 12: training on 191471442 raw words (185802834 effective words) took 128.8s, 1442168 effective words/s\n",
      "INFO:root:Loss after epoch 12:40839196.0\n",
      "INFO:gensim.models.word2vec:EPOCH 13 - PROGRESS: at 0.78% examples, 1453322 words/s, in_qsize 10, out_qsize 0\n",
      "INFO:gensim.models.word2vec:EPOCH 13: training on 191471442 raw words (185803605 effective words) took 128.6s, 1445018 effective words/s\n",
      "INFO:root:Loss after epoch 13:40787604.0\n",
      "INFO:gensim.models.word2vec:EPOCH 14 - PROGRESS: at 0.73% examples, 1350420 words/s, in_qsize 10, out_qsize 3\n",
      "INFO:gensim.models.word2vec:EPOCH 14: training on 191471442 raw words (185804442 effective words) took 127.3s, 1459666 effective words/s\n",
      "INFO:root:Loss after epoch 14:40404316.0\n",
      "INFO:gensim.models.word2vec:EPOCH 15 - PROGRESS: at 0.77% examples, 1415575 words/s, in_qsize 9, out_qsize 3\n",
      "INFO:gensim.models.word2vec:EPOCH 15: training on 191471442 raw words (185802871 effective words) took 129.5s, 1434264 effective words/s\n",
      "INFO:root:Loss after epoch 15:40499164.0\n",
      "INFO:gensim.models.word2vec:EPOCH 16 - PROGRESS: at 0.75% examples, 1381757 words/s, in_qsize 9, out_qsize 0\n",
      "INFO:gensim.models.word2vec:EPOCH 16: training on 191471442 raw words (185806314 effective words) took 127.4s, 1458107 effective words/s\n",
      "INFO:root:Loss after epoch 16:40799180.0\n",
      "INFO:gensim.models.word2vec:EPOCH 17 - PROGRESS: at 0.90% examples, 1661081 words/s, in_qsize 0, out_qsize 0\n",
      "INFO:gensim.models.word2vec:EPOCH 17: training on 191471442 raw words (185805006 effective words) took 126.8s, 1465635 effective words/s\n",
      "INFO:root:Loss after epoch 17:41758376.0\n",
      "INFO:gensim.models.word2vec:EPOCH 18 - PROGRESS: at 0.82% examples, 1502435 words/s, in_qsize 9, out_qsize 0\n",
      "INFO:gensim.models.word2vec:EPOCH 18: training on 191471442 raw words (185805790 effective words) took 125.4s, 1481763 effective words/s\n",
      "INFO:root:Loss after epoch 18:40057712.0\n",
      "INFO:gensim.models.word2vec:EPOCH 19 - PROGRESS: at 0.76% examples, 1396233 words/s, in_qsize 9, out_qsize 0\n",
      "INFO:gensim.models.word2vec:EPOCH 19: training on 191471442 raw words (185805811 effective words) took 125.0s, 1486119 effective words/s\n",
      "INFO:root:Loss after epoch 19:39820188.0\n",
      "INFO:gensim.models.word2vec:EPOCH 20 - PROGRESS: at 0.76% examples, 1405740 words/s, in_qsize 9, out_qsize 0\n",
      "INFO:gensim.models.word2vec:EPOCH 20: training on 191471442 raw words (185803124 effective words) took 133.9s, 1387917 effective words/s\n",
      "INFO:root:Loss after epoch 20:40097836.0\n",
      "INFO:gensim.models.word2vec:EPOCH 21 - PROGRESS: at 0.71% examples, 1316562 words/s, in_qsize 1, out_qsize 3\n",
      "INFO:gensim.models.word2vec:EPOCH 21: training on 191471442 raw words (185802424 effective words) took 129.1s, 1439281 effective words/s\n",
      "INFO:root:Loss after epoch 21:39870648.0\n",
      "INFO:gensim.models.word2vec:EPOCH 22 - PROGRESS: at 0.77% examples, 1414776 words/s, in_qsize 9, out_qsize 0\n",
      "INFO:gensim.models.word2vec:EPOCH 22: training on 191471442 raw words (185803935 effective words) took 125.9s, 1475369 effective words/s\n",
      "INFO:root:Loss after epoch 22:39716316.0\n",
      "INFO:gensim.models.word2vec:EPOCH 23 - PROGRESS: at 0.74% examples, 1370141 words/s, in_qsize 9, out_qsize 0\n",
      "INFO:gensim.models.word2vec:EPOCH 23: training on 191471442 raw words (185803407 effective words) took 128.1s, 1450544 effective words/s\n",
      "INFO:root:Loss after epoch 23:39786528.0\n",
      "INFO:gensim.models.word2vec:EPOCH 24 - PROGRESS: at 0.76% examples, 1403627 words/s, in_qsize 0, out_qsize 3\n",
      "INFO:gensim.models.word2vec:EPOCH 24: training on 191471442 raw words (185802883 effective words) took 129.8s, 1431824 effective words/s\n",
      "INFO:root:Loss after epoch 24:39793140.0\n",
      "INFO:gensim.models.word2vec:EPOCH 25 - PROGRESS: at 0.74% examples, 1369694 words/s, in_qsize 10, out_qsize 0\n",
      "INFO:gensim.models.word2vec:EPOCH 25: training on 191471442 raw words (185806156 effective words) took 127.9s, 1452528 effective words/s\n",
      "INFO:root:Loss after epoch 25:39535772.0\n",
      "INFO:gensim.models.word2vec:EPOCH 26 - PROGRESS: at 0.76% examples, 1375734 words/s, in_qsize 10, out_qsize 2\n",
      "INFO:gensim.models.word2vec:EPOCH 26: training on 191471442 raw words (185803849 effective words) took 128.1s, 1450458 effective words/s\n",
      "INFO:root:Loss after epoch 26:39095172.0\n",
      "INFO:gensim.models.word2vec:EPOCH 27 - PROGRESS: at 0.74% examples, 1361815 words/s, in_qsize 10, out_qsize 0\n"
     ]
    },
    {
     "name": "stderr",
     "output_type": "stream",
     "text": [
      "INFO:gensim.models.word2vec:EPOCH 27: training on 191471442 raw words (185804272 effective words) took 131.9s, 1409064 effective words/s\n",
      "INFO:root:Loss after epoch 27:39305088.0\n",
      "INFO:gensim.models.word2vec:EPOCH 28 - PROGRESS: at 0.63% examples, 1154635 words/s, in_qsize 9, out_qsize 0\n",
      "INFO:gensim.models.word2vec:EPOCH 28: training on 191471442 raw words (185803375 effective words) took 130.2s, 1427374 effective words/s\n",
      "INFO:root:Loss after epoch 28:39267168.0\n",
      "INFO:gensim.models.word2vec:EPOCH 29 - PROGRESS: at 0.67% examples, 1242987 words/s, in_qsize 9, out_qsize 2\n",
      "INFO:gensim.models.word2vec:EPOCH 29: training on 191471442 raw words (185803351 effective words) took 131.7s, 1411084 effective words/s\n",
      "INFO:root:Loss after epoch 29:39220832.0\n",
      "INFO:gensim.models.word2vec:EPOCH 30 - PROGRESS: at 0.69% examples, 1275357 words/s, in_qsize 9, out_qsize 0\n",
      "INFO:gensim.models.word2vec:EPOCH 30: training on 191471442 raw words (185804053 effective words) took 131.0s, 1418439 effective words/s\n",
      "INFO:root:Loss after epoch 30:40967096.0\n",
      "INFO:gensim.models.word2vec:EPOCH 31 - PROGRESS: at 0.88% examples, 1623340 words/s, in_qsize 0, out_qsize 0\n",
      "INFO:gensim.models.word2vec:EPOCH 31: training on 191471442 raw words (185803735 effective words) took 129.2s, 1438646 effective words/s\n",
      "INFO:root:Loss after epoch 31:39222772.0\n",
      "INFO:gensim.models.word2vec:EPOCH 32 - PROGRESS: at 0.71% examples, 1304611 words/s, in_qsize 9, out_qsize 0\n",
      "INFO:gensim.models.word2vec:EPOCH 32: training on 191471442 raw words (185806187 effective words) took 129.5s, 1434468 effective words/s\n",
      "INFO:root:Loss after epoch 32:39183024.0\n",
      "INFO:gensim.models.word2vec:EPOCH 33 - PROGRESS: at 0.74% examples, 1351408 words/s, in_qsize 9, out_qsize 0\n",
      "INFO:gensim.models.word2vec:EPOCH 33: training on 191471442 raw words (185802075 effective words) took 132.2s, 1405322 effective words/s\n",
      "INFO:root:Loss after epoch 33:39045688.0\n",
      "INFO:gensim.models.word2vec:EPOCH 34 - PROGRESS: at 0.67% examples, 1240527 words/s, in_qsize 9, out_qsize 0\n",
      "INFO:gensim.models.word2vec:EPOCH 34: training on 191471442 raw words (185802100 effective words) took 131.5s, 1412677 effective words/s\n",
      "INFO:root:Loss after epoch 34:39128372.0\n",
      "INFO:gensim.models.word2vec:EPOCH 35 - PROGRESS: at 0.68% examples, 1251598 words/s, in_qsize 9, out_qsize 0\n",
      "INFO:gensim.models.word2vec:EPOCH 35: training on 191471442 raw words (185801641 effective words) took 134.2s, 1384950 effective words/s\n",
      "INFO:root:Loss after epoch 35:38960400.0\n",
      "INFO:gensim.models.word2vec:EPOCH 36 - PROGRESS: at 0.60% examples, 1113603 words/s, in_qsize 5, out_qsize 0\n",
      "INFO:gensim.models.word2vec:EPOCH 36: training on 191471442 raw words (185803114 effective words) took 134.1s, 1385376 effective words/s\n",
      "INFO:root:Loss after epoch 36:39345744.0\n",
      "INFO:gensim.models.word2vec:EPOCH 37 - PROGRESS: at 0.75% examples, 1380211 words/s, in_qsize 9, out_qsize 0\n",
      "INFO:gensim.models.word2vec:EPOCH 37: training on 191471442 raw words (185804081 effective words) took 128.9s, 1441251 effective words/s\n",
      "INFO:root:Loss after epoch 37:38905672.0\n",
      "INFO:gensim.models.word2vec:EPOCH 38 - PROGRESS: at 0.76% examples, 1411182 words/s, in_qsize 10, out_qsize 0\n",
      "INFO:gensim.models.word2vec:EPOCH 38: training on 191471442 raw words (185803528 effective words) took 128.2s, 1448869 effective words/s\n",
      "INFO:root:Loss after epoch 38:39170080.0\n",
      "INFO:gensim.models.word2vec:EPOCH 39 - PROGRESS: at 0.70% examples, 1293223 words/s, in_qsize 9, out_qsize 0\n",
      "INFO:gensim.models.word2vec:EPOCH 39: training on 191471442 raw words (185803469 effective words) took 129.8s, 1431717 effective words/s\n",
      "INFO:root:Loss after epoch 39:39062308.0\n",
      "INFO:gensim.models.word2vec:EPOCH 40 - PROGRESS: at 0.71% examples, 1291496 words/s, in_qsize 10, out_qsize 0\n",
      "INFO:gensim.models.word2vec:EPOCH 40: training on 191471442 raw words (185803429 effective words) took 129.6s, 1433716 effective words/s\n",
      "INFO:root:Loss after epoch 40:39066864.0\n",
      "INFO:gensim.models.word2vec:EPOCH 41 - PROGRESS: at 0.65% examples, 1211372 words/s, in_qsize 8, out_qsize 3\n",
      "INFO:gensim.models.word2vec:EPOCH 41: training on 191471442 raw words (185806134 effective words) took 134.6s, 1380240 effective words/s\n",
      "INFO:root:Loss after epoch 41:39046096.0\n",
      "INFO:gensim.models.word2vec:EPOCH 42 - PROGRESS: at 0.71% examples, 1314419 words/s, in_qsize 9, out_qsize 0\n",
      "INFO:gensim.models.word2vec:EPOCH 42: training on 191471442 raw words (185803300 effective words) took 132.8s, 1399357 effective words/s\n",
      "INFO:root:Loss after epoch 42:38921532.0\n",
      "INFO:gensim.models.word2vec:EPOCH 43 - PROGRESS: at 0.67% examples, 1243013 words/s, in_qsize 8, out_qsize 1\n",
      "INFO:gensim.models.word2vec:EPOCH 43: training on 191471442 raw words (185803952 effective words) took 131.9s, 1408567 effective words/s\n",
      "INFO:root:Loss after epoch 43:39022212.0\n",
      "INFO:gensim.models.word2vec:EPOCH 44 - PROGRESS: at 0.75% examples, 1390227 words/s, in_qsize 9, out_qsize 0\n",
      "INFO:gensim.models.word2vec:EPOCH 44: training on 191471442 raw words (185806242 effective words) took 131.2s, 1416514 effective words/s\n",
      "INFO:root:Loss after epoch 44:38920892.0\n",
      "INFO:gensim.models.word2vec:EPOCH 45 - PROGRESS: at 0.74% examples, 1372419 words/s, in_qsize 9, out_qsize 0\n",
      "INFO:gensim.models.word2vec:EPOCH 45: training on 191471442 raw words (185805171 effective words) took 133.9s, 1387741 effective words/s\n",
      "INFO:root:Loss after epoch 45:39111296.0\n",
      "INFO:gensim.models.word2vec:EPOCH 46 - PROGRESS: at 0.71% examples, 1306412 words/s, in_qsize 8, out_qsize 1\n",
      "INFO:gensim.models.word2vec:EPOCH 46: training on 191471442 raw words (185802450 effective words) took 131.4s, 1414405 effective words/s\n",
      "INFO:root:Loss after epoch 46:38824864.0\n",
      "INFO:gensim.models.word2vec:EPOCH 47 - PROGRESS: at 0.72% examples, 1330629 words/s, in_qsize 8, out_qsize 1\n",
      "INFO:gensim.models.word2vec:EPOCH 47: training on 191471442 raw words (185807501 effective words) took 135.0s, 1376228 effective words/s\n",
      "INFO:root:Loss after epoch 47:38666040.0\n",
      "INFO:gensim.models.word2vec:EPOCH 48 - PROGRESS: at 0.73% examples, 1346726 words/s, in_qsize 9, out_qsize 0\n",
      "INFO:gensim.models.word2vec:EPOCH 48: training on 191471442 raw words (185804114 effective words) took 132.4s, 1403628 effective words/s\n",
      "INFO:root:Loss after epoch 48:38836360.0\n",
      "INFO:gensim.models.word2vec:EPOCH 49 - PROGRESS: at 0.71% examples, 1303066 words/s, in_qsize 9, out_qsize 0\n",
      "INFO:gensim.models.word2vec:EPOCH 49: training on 191471442 raw words (185801442 effective words) took 129.9s, 1430521 effective words/s\n",
      "INFO:root:Loss after epoch 49:38777876.0\n",
      "INFO:gensim.models.word2vec:EPOCH 50 - PROGRESS: at 0.76% examples, 1396598 words/s, in_qsize 9, out_qsize 0\n",
      "INFO:gensim.models.word2vec:EPOCH 50: training on 191471442 raw words (185807436 effective words) took 124.3s, 1494825 effective words/s\n",
      "INFO:root:Loss after epoch 50:38762152.0\n",
      "INFO:gensim.models.word2vec:EPOCH 51 - PROGRESS: at 0.81% examples, 1479982 words/s, in_qsize 9, out_qsize 2\n",
      "INFO:gensim.models.word2vec:EPOCH 51: training on 191471442 raw words (185806326 effective words) took 124.2s, 1495740 effective words/s\n",
      "INFO:root:Loss after epoch 51:38744320.0\n",
      "INFO:gensim.models.word2vec:EPOCH 52 - PROGRESS: at 0.76% examples, 1403348 words/s, in_qsize 10, out_qsize 0\n",
      "INFO:gensim.models.word2vec:EPOCH 52: training on 191471442 raw words (185804304 effective words) took 126.1s, 1473278 effective words/s\n",
      "INFO:root:Loss after epoch 52:38719708.0\n",
      "INFO:gensim.models.word2vec:EPOCH 53 - PROGRESS: at 0.67% examples, 1239827 words/s, in_qsize 9, out_qsize 0\n",
      "INFO:gensim.models.word2vec:EPOCH 53: training on 191471442 raw words (185807025 effective words) took 131.2s, 1416368 effective words/s\n",
      "INFO:root:Loss after epoch 53:38587584.0\n",
      "INFO:gensim.models.word2vec:EPOCH 54 - PROGRESS: at 0.71% examples, 1314613 words/s, in_qsize 9, out_qsize 0\n",
      "INFO:gensim.models.word2vec:EPOCH 54: training on 191471442 raw words (185805933 effective words) took 129.5s, 1434561 effective words/s\n",
      "INFO:root:Loss after epoch 54:38682976.0\n",
      "INFO:gensim.models.word2vec:EPOCH 55 - PROGRESS: at 0.75% examples, 1371405 words/s, in_qsize 10, out_qsize 1\n",
      "INFO:gensim.models.word2vec:EPOCH 55: training on 191471442 raw words (185801543 effective words) took 128.0s, 1451795 effective words/s\n",
      "INFO:root:Loss after epoch 55:38676488.0\n"
     ]
    },
    {
     "name": "stderr",
     "output_type": "stream",
     "text": [
      "INFO:gensim.models.word2vec:EPOCH 56 - PROGRESS: at 0.76% examples, 1399397 words/s, in_qsize 9, out_qsize 0\n",
      "INFO:gensim.models.word2vec:EPOCH 56: training on 191471442 raw words (185805882 effective words) took 125.5s, 1480554 effective words/s\n",
      "INFO:root:Loss after epoch 56:38676484.0\n",
      "INFO:gensim.models.word2vec:EPOCH 57 - PROGRESS: at 0.78% examples, 1441484 words/s, in_qsize 9, out_qsize 0\n",
      "INFO:gensim.models.word2vec:EPOCH 57: training on 191471442 raw words (185805000 effective words) took 129.4s, 1435545 effective words/s\n",
      "INFO:root:Loss after epoch 57:38973764.0\n",
      "INFO:gensim.models.word2vec:EPOCH 58 - PROGRESS: at 0.78% examples, 1433608 words/s, in_qsize 9, out_qsize 0\n",
      "INFO:gensim.models.word2vec:EPOCH 58: training on 191471442 raw words (185805964 effective words) took 125.4s, 1482023 effective words/s\n",
      "INFO:root:Loss after epoch 58:38876276.0\n",
      "INFO:gensim.models.word2vec:EPOCH 59 - PROGRESS: at 0.71% examples, 1300956 words/s, in_qsize 9, out_qsize 0\n",
      "INFO:gensim.models.word2vec:EPOCH 59: training on 191471442 raw words (185803639 effective words) took 125.6s, 1479105 effective words/s\n",
      "INFO:root:Loss after epoch 59:38647336.0\n",
      "INFO:gensim.models.word2vec:EPOCH 60 - PROGRESS: at 0.69% examples, 1277088 words/s, in_qsize 9, out_qsize 0\n",
      "INFO:gensim.models.word2vec:EPOCH 60: training on 191471442 raw words (185804965 effective words) took 127.6s, 1456259 effective words/s\n",
      "INFO:root:Loss after epoch 60:38604808.0\n",
      "INFO:gensim.models.word2vec:EPOCH 61 - PROGRESS: at 0.75% examples, 1386130 words/s, in_qsize 9, out_qsize 1\n",
      "INFO:gensim.models.word2vec:EPOCH 61: training on 191471442 raw words (185805370 effective words) took 126.8s, 1465675 effective words/s\n",
      "INFO:root:Loss after epoch 61:38838572.0\n",
      "INFO:gensim.models.word2vec:EPOCH 62 - PROGRESS: at 0.77% examples, 1424901 words/s, in_qsize 10, out_qsize 1\n",
      "INFO:gensim.models.word2vec:EPOCH 62: training on 191471442 raw words (185803785 effective words) took 126.6s, 1468029 effective words/s\n",
      "INFO:root:Loss after epoch 62:38733096.0\n",
      "INFO:gensim.models.word2vec:EPOCH 63 - PROGRESS: at 0.76% examples, 1396354 words/s, in_qsize 8, out_qsize 3\n",
      "INFO:gensim.models.word2vec:EPOCH 63: training on 191471442 raw words (185804987 effective words) took 126.6s, 1467858 effective words/s\n",
      "INFO:root:Loss after epoch 63:38551020.0\n",
      "INFO:gensim.models.word2vec:EPOCH 64 - PROGRESS: at 0.73% examples, 1337136 words/s, in_qsize 8, out_qsize 3\n",
      "INFO:gensim.models.word2vec:EPOCH 64: training on 191471442 raw words (185803333 effective words) took 132.5s, 1402191 effective words/s\n",
      "INFO:root:Loss after epoch 64:38702132.0\n",
      "INFO:gensim.models.word2vec:EPOCH 65 - PROGRESS: at 0.76% examples, 1391484 words/s, in_qsize 10, out_qsize 1\n",
      "INFO:gensim.models.word2vec:EPOCH 65: training on 191471442 raw words (185802871 effective words) took 131.7s, 1410644 effective words/s\n",
      "INFO:root:Loss after epoch 65:38944796.0\n",
      "INFO:gensim.models.word2vec:EPOCH 66 - PROGRESS: at 0.76% examples, 1374057 words/s, in_qsize 9, out_qsize 0\n",
      "INFO:gensim.models.word2vec:EPOCH 66: training on 191471442 raw words (185804175 effective words) took 125.7s, 1478708 effective words/s\n",
      "INFO:root:Loss after epoch 66:40393168.0\n",
      "INFO:gensim.models.word2vec:EPOCH 67 - PROGRESS: at 0.76% examples, 1412134 words/s, in_qsize 9, out_qsize 0\n",
      "INFO:gensim.models.word2vec:EPOCH 67: training on 191471442 raw words (185804097 effective words) took 128.5s, 1445451 effective words/s\n",
      "INFO:root:Loss after epoch 67:38517476.0\n",
      "INFO:gensim.models.word2vec:EPOCH 68 - PROGRESS: at 0.71% examples, 1312892 words/s, in_qsize 9, out_qsize 0\n",
      "INFO:gensim.models.word2vec:EPOCH 68: training on 191471442 raw words (185803372 effective words) took 130.0s, 1429054 effective words/s\n",
      "INFO:root:Loss after epoch 68:38716388.0\n",
      "INFO:gensim.models.word2vec:EPOCH 69 - PROGRESS: at 0.80% examples, 1472345 words/s, in_qsize 9, out_qsize 0\n",
      "INFO:gensim.models.word2vec:EPOCH 69: training on 191471442 raw words (185806743 effective words) took 128.4s, 1447195 effective words/s\n",
      "INFO:root:Loss after epoch 69:38920884.0\n",
      "INFO:gensim.models.word2vec:EPOCH 70 - PROGRESS: at 0.75% examples, 1391000 words/s, in_qsize 9, out_qsize 0\n",
      "INFO:gensim.models.word2vec:EPOCH 70: training on 191471442 raw words (185805675 effective words) took 126.0s, 1474317 effective words/s\n",
      "INFO:root:Loss after epoch 70:38732392.0\n",
      "INFO:gensim.models.word2vec:EPOCH 71 - PROGRESS: at 0.76% examples, 1392715 words/s, in_qsize 10, out_qsize 0\n",
      "INFO:gensim.models.word2vec:EPOCH 71: training on 191471442 raw words (185803936 effective words) took 125.1s, 1484795 effective words/s\n",
      "INFO:root:Loss after epoch 71:38947188.0\n",
      "INFO:gensim.models.word2vec:EPOCH 72 - PROGRESS: at 0.76% examples, 1408260 words/s, in_qsize 9, out_qsize 2\n",
      "INFO:gensim.models.word2vec:EPOCH 72: training on 191471442 raw words (185800920 effective words) took 125.2s, 1483909 effective words/s\n",
      "INFO:root:Loss after epoch 72:38615188.0\n",
      "INFO:gensim.models.word2vec:EPOCH 73 - PROGRESS: at 0.68% examples, 1264828 words/s, in_qsize 9, out_qsize 0\n",
      "INFO:gensim.models.word2vec:EPOCH 73: training on 191471442 raw words (185803812 effective words) took 131.5s, 1412962 effective words/s\n",
      "INFO:root:Loss after epoch 73:38622492.0\n",
      "INFO:gensim.models.word2vec:EPOCH 74 - PROGRESS: at 0.73% examples, 1324816 words/s, in_qsize 7, out_qsize 3\n",
      "INFO:gensim.models.word2vec:EPOCH 74: training on 191471442 raw words (185801457 effective words) took 128.6s, 1444317 effective words/s\n",
      "INFO:root:Loss after epoch 74:38483112.0\n",
      "INFO:gensim.models.word2vec:EPOCH 75 - PROGRESS: at 0.78% examples, 1431156 words/s, in_qsize 9, out_qsize 0\n",
      "INFO:gensim.models.word2vec:EPOCH 75: training on 191471442 raw words (185806812 effective words) took 127.0s, 1462964 effective words/s\n",
      "INFO:root:Loss after epoch 75:38475068.0\n",
      "INFO:gensim.models.word2vec:EPOCH 76 - PROGRESS: at 0.74% examples, 1361194 words/s, in_qsize 9, out_qsize 0\n",
      "INFO:gensim.models.word2vec:EPOCH 76: training on 191471442 raw words (185806155 effective words) took 127.7s, 1455295 effective words/s\n",
      "INFO:root:Loss after epoch 76:38454372.0\n",
      "INFO:gensim.models.word2vec:EPOCH 77 - PROGRESS: at 0.75% examples, 1369868 words/s, in_qsize 9, out_qsize 0\n",
      "INFO:gensim.models.word2vec:EPOCH 77: training on 191471442 raw words (185803943 effective words) took 126.6s, 1468203 effective words/s\n",
      "INFO:root:Loss after epoch 77:38821872.0\n",
      "INFO:gensim.models.word2vec:EPOCH 78 - PROGRESS: at 0.75% examples, 1390184 words/s, in_qsize 9, out_qsize 2\n",
      "INFO:gensim.models.word2vec:EPOCH 78: training on 191471442 raw words (185806550 effective words) took 124.9s, 1487051 effective words/s\n",
      "INFO:root:Loss after epoch 78:38707716.0\n",
      "INFO:gensim.models.word2vec:EPOCH 79 - PROGRESS: at 0.78% examples, 1447009 words/s, in_qsize 9, out_qsize 0\n",
      "INFO:gensim.models.word2vec:EPOCH 79: training on 191471442 raw words (185803817 effective words) took 133.1s, 1395520 effective words/s\n",
      "INFO:root:Loss after epoch 79:38619552.0\n",
      "INFO:gensim.models.word2vec:EPOCH 80 - PROGRESS: at 0.75% examples, 1391243 words/s, in_qsize 9, out_qsize 0\n",
      "INFO:gensim.models.word2vec:EPOCH 80: training on 191471442 raw words (185805247 effective words) took 133.9s, 1387970 effective words/s\n",
      "INFO:root:Loss after epoch 80:38747552.0\n",
      "INFO:gensim.models.word2vec:EPOCH 81 - PROGRESS: at 0.76% examples, 1376790 words/s, in_qsize 10, out_qsize 3\n",
      "INFO:gensim.models.word2vec:EPOCH 81: training on 191471442 raw words (185802148 effective words) took 125.2s, 1484405 effective words/s\n",
      "INFO:root:Loss after epoch 81:38551156.0\n",
      "INFO:gensim.models.word2vec:EPOCH 82 - PROGRESS: at 0.76% examples, 1385496 words/s, in_qsize 9, out_qsize 0\n",
      "INFO:gensim.models.word2vec:EPOCH 82: training on 191471442 raw words (185805601 effective words) took 124.2s, 1495743 effective words/s\n",
      "INFO:root:Loss after epoch 82:38438864.0\n",
      "INFO:gensim.models.word2vec:EPOCH 83 - PROGRESS: at 0.78% examples, 1438746 words/s, in_qsize 9, out_qsize 0\n",
      "INFO:gensim.models.word2vec:EPOCH 83: training on 191471442 raw words (185803142 effective words) took 123.5s, 1504077 effective words/s\n",
      "INFO:root:Loss after epoch 83:38581044.0\n",
      "INFO:gensim.models.word2vec:EPOCH 84 - PROGRESS: at 0.78% examples, 1449269 words/s, in_qsize 9, out_qsize 0\n",
      "INFO:gensim.models.word2vec:EPOCH 84: training on 191471442 raw words (185804409 effective words) took 122.8s, 1512608 effective words/s\n"
     ]
    },
    {
     "name": "stderr",
     "output_type": "stream",
     "text": [
      "INFO:root:Loss after epoch 84:38640812.0\n",
      "INFO:gensim.models.word2vec:EPOCH 85 - PROGRESS: at 0.78% examples, 1443104 words/s, in_qsize 8, out_qsize 1\n",
      "INFO:gensim.models.word2vec:EPOCH 85: training on 191471442 raw words (185804268 effective words) took 123.8s, 1500709 effective words/s\n",
      "INFO:root:Loss after epoch 85:38497264.0\n",
      "INFO:gensim.models.word2vec:EPOCH 86 - PROGRESS: at 0.76% examples, 1406792 words/s, in_qsize 9, out_qsize 0\n",
      "INFO:gensim.models.word2vec:EPOCH 86: training on 191471442 raw words (185804203 effective words) took 122.8s, 1513581 effective words/s\n",
      "INFO:root:Loss after epoch 86:38548508.0\n",
      "INFO:gensim.models.word2vec:EPOCH 87 - PROGRESS: at 0.82% examples, 1502871 words/s, in_qsize 9, out_qsize 0\n",
      "INFO:gensim.models.word2vec:EPOCH 87: training on 191471442 raw words (185803038 effective words) took 123.0s, 1510589 effective words/s\n",
      "INFO:root:Loss after epoch 87:38730380.0\n",
      "INFO:gensim.models.word2vec:EPOCH 88 - PROGRESS: at 0.81% examples, 1481875 words/s, in_qsize 9, out_qsize 0\n",
      "INFO:gensim.models.word2vec:EPOCH 88: training on 191471442 raw words (185806606 effective words) took 122.8s, 1513274 effective words/s\n",
      "INFO:root:Loss after epoch 88:38554628.0\n",
      "INFO:gensim.models.word2vec:EPOCH 89 - PROGRESS: at 0.79% examples, 1450585 words/s, in_qsize 10, out_qsize 0\n",
      "INFO:gensim.models.word2vec:EPOCH 89: training on 191471442 raw words (185803626 effective words) took 123.0s, 1510611 effective words/s\n",
      "INFO:root:Loss after epoch 89:38783932.0\n",
      "INFO:gensim.models.word2vec:EPOCH 90 - PROGRESS: at 0.74% examples, 1366009 words/s, in_qsize 8, out_qsize 1\n",
      "INFO:gensim.models.word2vec:EPOCH 90: training on 191471442 raw words (185802073 effective words) took 127.5s, 1457765 effective words/s\n",
      "INFO:root:Loss after epoch 90:38540892.0\n",
      "INFO:gensim.models.word2vec:EPOCH 91 - PROGRESS: at 0.81% examples, 1488113 words/s, in_qsize 9, out_qsize 0\n",
      "INFO:gensim.models.word2vec:EPOCH 91: training on 191471442 raw words (185804548 effective words) took 124.0s, 1497905 effective words/s\n",
      "INFO:root:Loss after epoch 91:38531692.0\n",
      "INFO:gensim.models.word2vec:EPOCH 92 - PROGRESS: at 0.74% examples, 1374885 words/s, in_qsize 9, out_qsize 0\n",
      "INFO:gensim.models.word2vec:EPOCH 92: training on 191471442 raw words (185806568 effective words) took 123.6s, 1503786 effective words/s\n",
      "INFO:root:Loss after epoch 92:38544848.0\n",
      "INFO:gensim.models.word2vec:EPOCH 93 - PROGRESS: at 0.77% examples, 1411789 words/s, in_qsize 8, out_qsize 1\n",
      "INFO:gensim.models.word2vec:EPOCH 93: training on 191471442 raw words (185804916 effective words) took 123.6s, 1503290 effective words/s\n",
      "INFO:root:Loss after epoch 93:38489392.0\n",
      "INFO:gensim.models.word2vec:EPOCH 94 - PROGRESS: at 0.76% examples, 1404410 words/s, in_qsize 10, out_qsize 1\n",
      "INFO:gensim.models.word2vec:EPOCH 94: training on 191471442 raw words (185805186 effective words) took 123.4s, 1506249 effective words/s\n",
      "INFO:root:Loss after epoch 94:38551048.0\n",
      "INFO:gensim.models.word2vec:EPOCH 95 - PROGRESS: at 0.80% examples, 1458306 words/s, in_qsize 9, out_qsize 0\n",
      "INFO:gensim.models.word2vec:EPOCH 95: training on 191471442 raw words (185800786 effective words) took 124.5s, 1492508 effective words/s\n",
      "INFO:root:Loss after epoch 95:38353556.0\n",
      "INFO:gensim.models.word2vec:EPOCH 96 - PROGRESS: at 0.80% examples, 1441826 words/s, in_qsize 9, out_qsize 0\n",
      "INFO:gensim.models.word2vec:EPOCH 96: training on 191471442 raw words (185806479 effective words) took 123.1s, 1509279 effective words/s\n",
      "INFO:root:Loss after epoch 96:38583012.0\n",
      "INFO:gensim.models.word2vec:EPOCH 97 - PROGRESS: at 0.77% examples, 1423817 words/s, in_qsize 8, out_qsize 1\n",
      "INFO:gensim.models.word2vec:EPOCH 97: training on 191471442 raw words (185802873 effective words) took 123.7s, 1502095 effective words/s\n",
      "INFO:root:Loss after epoch 97:38528056.0\n",
      "INFO:gensim.models.word2vec:EPOCH 98 - PROGRESS: at 0.76% examples, 1402338 words/s, in_qsize 9, out_qsize 0\n",
      "INFO:gensim.models.word2vec:EPOCH 98: training on 191471442 raw words (185805736 effective words) took 130.2s, 1427138 effective words/s\n",
      "INFO:root:Loss after epoch 98:38583020.0\n",
      "INFO:gensim.models.word2vec:EPOCH 99 - PROGRESS: at 0.76% examples, 1404409 words/s, in_qsize 9, out_qsize 0\n",
      "INFO:gensim.models.word2vec:EPOCH 99: training on 191471442 raw words (185805724 effective words) took 123.7s, 1501651 effective words/s\n",
      "INFO:root:Loss after epoch 99:38601244.0\n",
      "INFO:gensim.utils:Word2Vec lifecycle event {'msg': 'training on 19147144200 raw words (18580432467 effective words) took 12787.2s, 1453055 effective words/s', 'datetime': '2023-05-16T20:45:10.461558', 'gensim': '4.3.1', 'python': '3.11.3 | packaged by conda-forge | (main, Apr  6 2023, 09:05:00) [Clang 14.0.6 ]', 'platform': 'macOS-12.6-x86_64-i386-64bit', 'event': 'train'}\n"
     ]
    },
    {
     "data": {
      "text/plain": [
       "(18580432467, 19147144200)"
      ]
     },
     "execution_count": 17,
     "metadata": {},
     "output_type": "execute_result"
    }
   ],
   "source": [
    "#we override alpha with small values, since default values result in poor train performance. See loss plot below\n",
    "model.train(sentences, epochs=100, start_alpha=0.0001, end_alpha=0.00001, total_examples=model.corpus_count, total_words=model.corpus_total_words, compute_loss=True, report_delay=300, callbacks=[Callback()])\n"
   ]
  },
  {
   "cell_type": "code",
   "execution_count": 18,
   "id": "d5e1b267",
   "metadata": {},
   "outputs": [
    {
     "data": {
      "text/plain": [
       "[<matplotlib.lines.Line2D at 0x19a175a50>]"
      ]
     },
     "execution_count": 18,
     "metadata": {},
     "output_type": "execute_result"
    },
    {
     "data": {
      "image/png": "[encoded data removed]",
      "text/plain": [
       "<Figure size 640x480 with 1 Axes>"
      ]
     },
     "metadata": {},
     "output_type": "display_data"
    }
   ],
   "source": [
    "plt.plot(loss_list)"
   ]
  },
  {
   "cell_type": "markdown",
   "id": "a42f370d",
   "metadata": {},
   "source": [
    "For comaprison, below is the loss plot when using default (larger) values for alpha. Note, that during training alpha is decreasing linearly from start value to end value. With default values in use the loss goes down near the end, once alpha gets smaller values."
   ]
  },
  {
   "cell_type": "code",
   "execution_count": 19,
   "id": "56eaea48",
   "metadata": {},
   "outputs": [
    {
     "data": {
      "text/plain": [
       "[<matplotlib.lines.Line2D at 0x197ccee90>]"
      ]
     },
     "execution_count": 19,
     "metadata": {},
     "output_type": "execute_result"
    },
    {
     "data": {
      "image/png": "[encoded data removed]",
      "text/plain": [
       "<Figure size 640x480 with 1 Axes>"
      ]
     },
     "metadata": {},
     "output_type": "display_data"
    }
   ],
   "source": [
    "default_alpha_loss_list = [45621836.0, 44355904.0, 44249936.0, 44104492.0, 44107028.0, 44097436.0, 44270596.0, 44089604.0, 44185456.0, 44285424.0, 44182396.0, 44126032.0, 44408908.0, 44199988.0, 44425624.0, 44209516.0, 44227556.0, 44041368.0, 44373620.0, 44456688.0, 44070200.0, 43995008.0, 44134528.0, 44107632.0, 43802268.0, 44047244.0, 43904480.0, 43939264.0, 43987436.0, 43859148.0, 43961468.0, 44073332.0, 43907992.0, 43725336.0, 43849884.0, 43924944.0, 43826232.0, 43496588.0, 43605268.0, 43641544.0, 43543980.0, 43537204.0, 43491140.0, 43373268.0, 43624628.0, 43330720.0, 43449924.0, 43234040.0, 43097712.0, 44565932.0, 43416728.0, 43234072.0, 43260536.0, 43074152.0, 43096868.0, 42714596.0, 43268708.0, 42984456.0, 43917916.0, 43035192.0, 42818392.0, 42656488.0, 42411144.0, 42707748.0, 42523348.0, 42491780.0, 42605616.0, 42294312.0, 42310540.0, 42306532.0, 42327836.0, 42028380.0, 43780020.0, 41960848.0, 41753348.0, 41644528.0, 42072300.0, 41830796.0, 41535968.0, 41507712.0, 41336916.0, 41256888.0, 41069008.0, 40828812.0, 40791320.0, 40758012.0, 40487952.0, 40521400.0, 40385292.0, 40164828.0, 41217672.0, 39945608.0, 39633816.0, 39335348.0, 39096012.0, 39050096.0, 38497092.0, 38436708.0, 38193532.0, 37834140.0]\n",
    "plt.plot(default_alpha_loss_list)"
   ]
  },
  {
   "cell_type": "code",
   "execution_count": 20,
   "id": "47482d49",
   "metadata": {},
   "outputs": [
    {
     "data": {
      "text/plain": [
       "[('котка', 0.8660191893577576),\n",
       " ('кошка', 0.8606441617012024),\n",
       " ('кот', 0.8568669557571411),\n",
       " ('жывёліна', 0.8529811501502991),\n",
       " ('дзік', 0.8501656651496887),\n",
       " ('кацяня', 0.8330008387565613),\n",
       " ('конь', 0.8250272870063782),\n",
       " ('пацук', 0.8216575980186462),\n",
       " ('сабачка', 0.818630039691925),\n",
       " ('воўк', 0.8142035603523254),\n",
       " ('муха', 0.8140349984169006),\n",
       " ('асёл', 0.8029661774635315),\n",
       " ('звер', 0.802895724773407),\n",
       " ('авечка', 0.8020086884498596),\n",
       " ('малпа', 0.798290491104126),\n",
       " ('лісіца', 0.7959965467453003),\n",
       " ('каза', 0.7891339659690857),\n",
       " ('шчанюк', 0.7891247868537903),\n",
       " ('мядзведзь', 0.7870652079582214),\n",
       " ('свіння', 0.7852128744125366)]"
      ]
     },
     "execution_count": 20,
     "metadata": {},
     "output_type": "execute_result"
    }
   ],
   "source": [
    "model.wv.most_similar('сабака', topn=20)"
   ]
  },
  {
   "cell_type": "code",
   "execution_count": 21,
   "id": "0090e873",
   "metadata": {},
   "outputs": [
    {
     "data": {
      "text/plain": [
       "['быць',\n",
       " 'год',\n",
       " 'беларускі',\n",
       " 'беларусь',\n",
       " 'чалавек',\n",
       " 'магчы',\n",
       " 'час',\n",
       " 'усё',\n",
       " 'дзень',\n",
       " 'большыць']"
      ]
     },
     "execution_count": 21,
     "metadata": {},
     "output_type": "execute_result"
    }
   ],
   "source": [
    "model.wv.index_to_key[:10]"
   ]
  },
  {
   "cell_type": "code",
   "execution_count": 22,
   "id": "d587b37a",
   "metadata": {},
   "outputs": [],
   "source": [
    "# tsne for visualization\n",
    "# plotly for interactivity https://towardsdatascience.com/how-to-train-a-word2vec-model-from-scratch-with-gensim-c457d587e031\n",
    "# save filtered out wods into separat file to verify\n",
    "# dont explicitly list stop words\n",
    "# prepare assessment data (50 words with 10 most similar wods for them)\n",
    "# remove words after training\n",
    "# increase corpus\n",
    "# increase dimensionality\n",
    "# merge е/ё , e.g. пачуцце/пачуццё\n",
    "# п'еса is split to 'п' і 'еса'"
   ]
  },
  {
   "cell_type": "code",
   "execution_count": 23,
   "id": "ec534c05",
   "metadata": {},
   "outputs": [
    {
     "name": "stderr",
     "output_type": "stream",
     "text": [
      "INFO:gensim.utils:Word2Vec lifecycle event {'fname_or_handle': 'word2vec-100-bel-cc100.model', 'separately': 'None', 'sep_limit': 10485760, 'ignore': frozenset(), 'datetime': '2023-05-16T20:45:10.903641', 'gensim': '4.3.1', 'python': '3.11.3 | packaged by conda-forge | (main, Apr  6 2023, 09:05:00) [Clang 14.0.6 ]', 'platform': 'macOS-12.6-x86_64-i386-64bit', 'event': 'saving'}\n",
      "INFO:gensim.utils:not storing attribute cum_table\n",
      "INFO:gensim.utils:saved word2vec-100-bel-cc100.model\n"
     ]
    }
   ],
   "source": [
    "model.save(\"word2vec-100-bel-cc100.model\")"
   ]
  },
  {
   "cell_type": "code",
   "execution_count": 24,
   "id": "389e42e0",
   "metadata": {},
   "outputs": [
    {
     "name": "stderr",
     "output_type": "stream",
     "text": [
      "INFO:gensim.models.keyedvectors:storing 79373x100 projection weights into word2vec-100-bel-cc100.vectors\n"
     ]
    }
   ],
   "source": [
    "model.wv.save_word2vec_format('word2vec-100-bel-cc100.vectors')"
   ]
  }
 ],
 "metadata": {
  "kernelspec": {
   "display_name": "Python 3 (ipykernel)",
   "language": "python",
   "name": "python3"
  },
  "language_info": {
   "codemirror_mode": {
    "name": "ipython",
    "version": 3
   },
   "file_extension": ".py",
   "mimetype": "text/x-python",
   "name": "python",
   "nbconvert_exporter": "python",
   "pygments_lexer": "ipython3",
   "version": "3.11.3"
  }
 },
 "nbformat": 4,
 "nbformat_minor": 5
}
