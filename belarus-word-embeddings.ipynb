{
 "cells": [
  {
   "cell_type": "markdown",
   "id": "66a506a6",
   "metadata": {},
   "source": [
    "Corpus (be.txt) taken from CC100 dataset: https://metatext.io/datasets/cc100-belarusian"
   ]
  },
  {
   "cell_type": "code",
   "execution_count": 6,
   "id": "de7b8b0c",
   "metadata": {},
   "outputs": [],
   "source": [
    "import re\n",
    "import gensim\n",
    "from gensim.parsing.preprocessing import strip_punctuation, strip_short, strip_numeric, strip_multiple_whitespaces, remove_stopwords\n",
    "from gensim.models.word2vec import LineSentence\n",
    "from gensim.models import Word2Vec\n",
    "from gensim.models.callbacks import CallbackAny2Vec"
   ]
  },
  {
   "cell_type": "code",
   "execution_count": 7,
   "id": "7dc6904a",
   "metadata": {},
   "outputs": [
    {
     "name": "stderr",
     "output_type": "stream",
     "text": [
      "INFO:root:Logging initialized\n"
     ]
    }
   ],
   "source": [
    "import logging\n",
    "logging.basicConfig(level=logging.INFO, force = True)\n",
    "logger = logging.getLogger()\n",
    "logger.info(\"Logging initialized\")"
   ]
  },
  {
   "cell_type": "code",
   "execution_count": 8,
   "id": "ca36540b",
   "metadata": {},
   "outputs": [],
   "source": [
    "def strip_trailing_newline(iterable):\n",
    "    for i in iterable:\n",
    "        yield i.rstrip()\n",
    "\n",
    "CHARACTERS_MAP = {'ý': 'ў', 'i': 'і', 'ньн': 'нн', 'цьц': 'цц', 'сьц': 'сц', 'сьл':'сл'}\n",
    "def replace_characters(iterable):\n",
    "    for s in iterable:\n",
    "        for k, v in CHARACTERS_MAP.items():\n",
    "            s = s.replace(k, v)\n",
    "        yield s\n",
    "\n",
    "def split_sentences(iterable):\n",
    "    for i in iterable:\n",
    "        merged_dots = re.sub(\"[\\.]+\", \".\", i)\n",
    "        sentences = merged_dots.split('.')\n",
    "        for s in sentences:\n",
    "            yield s\n",
    "\n",
    "STOPWORDS = ['на', 'не', 'што', 'да', 'па', 'як', 'за', 'для', 'гэта', 'ад', 'але', 'калі', 'пра', 'у', 'яго', 'якія', 'ён', 'іх', 'мы', 'каб', 'толькі', 'аб', 'таксама', 'які', 'ці', 'быў', 'было', 'яны', 'так', 'вы', 'яе', 'будзе', 'пры', 'яшчэ', 'тым', 'таму', 'вельмі', 'былі', 'можна', 'яна', 'пасля', 'пад', 'можа', 'дзе', 'якая', 'тут', 'была', 'трэба', 'тое', 'таго', 'або', 'гэтым', 'бо', 'ўсё', 'хто', 'ня', 'нас', 'гэтага', 'быць', 'гэты', 'ёсць', 'праз', 'ўжо', 'са', 'нават', 'то', 'мяне', 'ім','ва', 'той', 'усе', 'без', 'чым', 'мне', 'мае', 'сябе', 'гэтай', 'там', 'усё', 'вось', 'ды', 'каля', 'якіх', 'ты', 'якой', 'ўсе', 'жа', 'ужо', 'паводле', 'будуць', 'аднак', 'могуць', 'сваю', 'ні', 'сваёй', 'яму', 'свае', 'гэтыя', 'проста', 'ўсіх', 'якім', 'падчас', 'тады', 'свой', 'вас', 'паміж', 'нам', 'раз', 'сваіх', 'нашай', 'менавіта', 'перад', 'вам', 'тых','зь','такім', 'свайго', 'над', 'зараз', 'амаль', 'чаму', 'ёй', 'чынам', 'напрыклад', 'якога', 'якое', 'сваім', 'можаце', 'га', 'хоць', 'бы', 'тыя', 'такія', 'потым', 'адным', 'такі', 'якую', 'сабе','сам','гэтых','мая','наш','зусім','чаго','наша','зноў','дык','такіх','нашага','адразу','каго','самі','ст','ну','нашы','нашым','самы','яно','гэтае','дзеля','куды','by','гг']\n",
    "WORD_MAP = {}\n",
    "with open('word-map', 'r') as map_file:\n",
    "    for m in map_file:\n",
    "        v = m.rstrip().split(':')\n",
    "        WORD_MAP[v[0]] = v[1]\n",
    "def preprocess_sentences(iterable):\n",
    "    for i in iterable:\n",
    "        s = strip_multiple_whitespaces(strip_numeric(strip_short(strip_punctuation(i))))\n",
    "        s = s.lower()\n",
    "        s = re.sub(\"[«»“”„…—°′²]\", \"\", s)\n",
    "        s = remove_stopwords(s, stopwords=STOPWORDS)\n",
    "        s = ' '.join([WORD_MAP.get(w, w) for w in s.split()])\n",
    "        yield s\n",
    "\n",
    "def remove_short_lines(iterable):\n",
    "    for i in iterable:\n",
    "        if not i.isspace() and len(i) >= 20:\n",
    "            yield i\n"
   ]
  },
  {
   "cell_type": "code",
   "execution_count": 9,
   "id": "1044a584",
   "metadata": {},
   "outputs": [],
   "source": [
    "with open('be.txt', 'r') as original_file:\n",
    "    with open('sentences.txt', 'w') as sentences_file:\n",
    "        for s in remove_short_lines(preprocess_sentences(split_sentences(replace_characters(strip_trailing_newline(original_file))))):\n",
    "            sentences_file.write(s + \"\\n\")"
   ]
  },
  {
   "cell_type": "code",
   "execution_count": 10,
   "id": "ab9fc39e",
   "metadata": {},
   "outputs": [],
   "source": [
    "loss_list = []\n",
    "class Callback(CallbackAny2Vec):\n",
    "    def __init__(self):\n",
    "        self.epoch = 0\n",
    "\n",
    "    def on_epoch_end(self, model):\n",
    "        loss = model.get_latest_training_loss()\n",
    "        loss_list.append(loss)\n",
    "        print('Loss after epoch {}:{}'.format(self.epoch, loss))\n",
    "        model.running_training_loss = 0.0\n",
    "        self.epoch = self.epoch + 1"
   ]
  },
  {
   "cell_type": "code",
   "execution_count": 11,
   "id": "61e8337d",
   "metadata": {},
   "outputs": [
    {
     "name": "stderr",
     "output_type": "stream",
     "text": [
      "INFO:gensim.utils:Word2Vec lifecycle event {'params': 'Word2Vec<vocab=0, vector_size=100, alpha=0.025>', 'datetime': '2023-04-16T20:08:38.535456', 'gensim': '4.3.1', 'python': '3.11.3 | packaged by conda-forge | (main, Apr  6 2023, 09:05:00) [Clang 14.0.6 ]', 'platform': 'macOS-12.6-x86_64-i386-64bit', 'event': 'created'}\n"
     ]
    }
   ],
   "source": [
    "model = Word2Vec(vector_size=100, window=3, min_count=10, workers=5)"
   ]
  },
  {
   "cell_type": "code",
   "execution_count": 12,
   "id": "35054bd1",
   "metadata": {},
   "outputs": [],
   "source": [
    "sentences = LineSentence('sentences.txt')"
   ]
  },
  {
   "cell_type": "code",
   "execution_count": 13,
   "id": "615cf92b",
   "metadata": {},
   "outputs": [
    {
     "name": "stderr",
     "output_type": "stream",
     "text": [
      "INFO:gensim.models.word2vec:collecting all words and their counts\n",
      "INFO:gensim.models.word2vec:PROGRESS: at sentence #0, processed 0 words, keeping 0 word types\n",
      "INFO:gensim.models.word2vec:PROGRESS: at sentence #5000000, processed 44450539 words, keeping 1130486 word types\n",
      "INFO:gensim.models.word2vec:PROGRESS: at sentence #10000000, processed 88988536 words, keeping 1640652 word types\n",
      "INFO:gensim.models.word2vec:PROGRESS: at sentence #15000000, processed 133392566 words, keeping 2022817 word types\n",
      "INFO:gensim.models.word2vec:PROGRESS: at sentence #20000000, processed 177908716 words, keeping 2345463 word types\n",
      "INFO:gensim.models.word2vec:PROGRESS: at sentence #25000000, processed 222304163 words, keeping 2636351 word types\n",
      "INFO:gensim.models.word2vec:collected 2666025 word types from a corpus of 227126066 raw words and 25549177 sentences\n",
      "INFO:gensim.models.word2vec:Creating a fresh vocabulary\n",
      "INFO:gensim.utils:Word2Vec lifecycle event {'msg': 'effective_min_count=10 retains 481937 unique words (18.08% of original 2666025, drops 2184088)', 'datetime': '2023-04-16T20:10:14.004581', 'gensim': '4.3.1', 'python': '3.11.3 | packaged by conda-forge | (main, Apr  6 2023, 09:05:00) [Clang 14.0.6 ]', 'platform': 'macOS-12.6-x86_64-i386-64bit', 'event': 'prepare_vocab'}\n",
      "INFO:gensim.utils:Word2Vec lifecycle event {'msg': 'effective_min_count=10 leaves 222464276 word corpus (97.95% of original 227126066, drops 4661790)', 'datetime': '2023-04-16T20:10:14.005257', 'gensim': '4.3.1', 'python': '3.11.3 | packaged by conda-forge | (main, Apr  6 2023, 09:05:00) [Clang 14.0.6 ]', 'platform': 'macOS-12.6-x86_64-i386-64bit', 'event': 'prepare_vocab'}\n",
      "INFO:gensim.models.word2vec:deleting the raw counts dictionary of 2666025 items\n",
      "INFO:gensim.models.word2vec:sample=0.001 downsamples 5 most-common words\n",
      "INFO:gensim.utils:Word2Vec lifecycle event {'msg': 'downsampling leaves estimated 220367106.1207887 word corpus (99.1%% of prior 222464276)', 'datetime': '2023-04-16T20:10:15.668822', 'gensim': '4.3.1', 'python': '3.11.3 | packaged by conda-forge | (main, Apr  6 2023, 09:05:00) [Clang 14.0.6 ]', 'platform': 'macOS-12.6-x86_64-i386-64bit', 'event': 'prepare_vocab'}\n",
      "INFO:gensim.models.word2vec:estimated required memory for 481937 words and 100 dimensions: 626518100 bytes\n",
      "INFO:gensim.models.word2vec:resetting layer weights\n",
      "INFO:gensim.utils:Word2Vec lifecycle event {'update': False, 'trim_rule': 'None', 'datetime': '2023-04-16T20:10:18.897793', 'gensim': '4.3.1', 'python': '3.11.3 | packaged by conda-forge | (main, Apr  6 2023, 09:05:00) [Clang 14.0.6 ]', 'platform': 'macOS-12.6-x86_64-i386-64bit', 'event': 'build_vocab'}\n"
     ]
    }
   ],
   "source": [
    "model.build_vocab(sentences, progress_per=5000000)"
   ]
  },
  {
   "cell_type": "code",
   "execution_count": 14,
   "id": "867dc13c",
   "metadata": {},
   "outputs": [
    {
     "name": "stderr",
     "output_type": "stream",
     "text": [
      "INFO:gensim.utils:Word2Vec lifecycle event {'msg': 'training model with 5 workers on 481937 vocabulary and 100 features, using sg=0 hs=0 sample=0.001 negative=5 window=3 shrink_windows=True', 'datetime': '2023-04-16T20:10:18.906517', 'gensim': '4.3.1', 'python': '3.11.3 | packaged by conda-forge | (main, Apr  6 2023, 09:05:00) [Clang 14.0.6 ]', 'platform': 'macOS-12.6-x86_64-i386-64bit', 'event': 'train'}\n",
      "INFO:gensim.models.word2vec:EPOCH 0 - PROGRESS: at 0.45% examples, 994905 words/s, in_qsize 9, out_qsize 0\n",
      "INFO:gensim.models.word2vec:EPOCH 0 - PROGRESS: at 16.22% examples, 1152278 words/s, in_qsize 8, out_qsize 1\n",
      "INFO:gensim.models.word2vec:EPOCH 0 - PROGRESS: at 31.82% examples, 1149678 words/s, in_qsize 10, out_qsize 2\n",
      "INFO:gensim.models.word2vec:EPOCH 0 - PROGRESS: at 47.50% examples, 1151328 words/s, in_qsize 9, out_qsize 1\n",
      "INFO:gensim.models.word2vec:EPOCH 0 - PROGRESS: at 63.16% examples, 1150641 words/s, in_qsize 9, out_qsize 0\n",
      "INFO:gensim.models.word2vec:EPOCH 0 - PROGRESS: at 78.75% examples, 1149988 words/s, in_qsize 10, out_qsize 1\n",
      "INFO:gensim.models.word2vec:EPOCH 0 - PROGRESS: at 94.35% examples, 1149343 words/s, in_qsize 8, out_qsize 1\n",
      "INFO:gensim.models.word2vec:EPOCH 0: training on 227126066 raw words (220366355 effective words) took 191.9s, 1148395 effective words/s\n"
     ]
    },
    {
     "name": "stdout",
     "output_type": "stream",
     "text": [
      "Loss after epoch 0:42427652.0\n"
     ]
    },
    {
     "name": "stderr",
     "output_type": "stream",
     "text": [
      "INFO:gensim.models.word2vec:EPOCH 1 - PROGRESS: at 0.51% examples, 1103722 words/s, in_qsize 10, out_qsize 0\n",
      "INFO:gensim.models.word2vec:EPOCH 1 - PROGRESS: at 16.23% examples, 1153016 words/s, in_qsize 9, out_qsize 0\n",
      "INFO:gensim.models.word2vec:EPOCH 1 - PROGRESS: at 32.12% examples, 1160461 words/s, in_qsize 9, out_qsize 0\n",
      "INFO:gensim.models.word2vec:EPOCH 1 - PROGRESS: at 48.06% examples, 1164972 words/s, in_qsize 8, out_qsize 1\n",
      "INFO:gensim.models.word2vec:EPOCH 1 - PROGRESS: at 63.88% examples, 1163931 words/s, in_qsize 10, out_qsize 1\n",
      "INFO:gensim.models.word2vec:EPOCH 1 - PROGRESS: at 78.72% examples, 1149253 words/s, in_qsize 10, out_qsize 0\n",
      "INFO:gensim.models.word2vec:EPOCH 1 - PROGRESS: at 92.91% examples, 1131302 words/s, in_qsize 9, out_qsize 0\n",
      "INFO:gensim.models.word2vec:EPOCH 1: training on 227126066 raw words (220366760 effective words) took 195.8s, 1125591 effective words/s\n"
     ]
    },
    {
     "name": "stdout",
     "output_type": "stream",
     "text": [
      "Loss after epoch 1:39036736.0\n"
     ]
    },
    {
     "name": "stderr",
     "output_type": "stream",
     "text": [
      "INFO:gensim.models.word2vec:EPOCH 2 - PROGRESS: at 0.42% examples, 916347 words/s, in_qsize 9, out_qsize 0\n",
      "INFO:gensim.models.word2vec:EPOCH 2 - PROGRESS: at 12.81% examples, 910605 words/s, in_qsize 9, out_qsize 0\n",
      "INFO:gensim.models.word2vec:EPOCH 2 - PROGRESS: at 28.58% examples, 1032973 words/s, in_qsize 9, out_qsize 0\n",
      "INFO:gensim.models.word2vec:EPOCH 2 - PROGRESS: at 44.52% examples, 1078896 words/s, in_qsize 10, out_qsize 0\n",
      "INFO:gensim.models.word2vec:EPOCH 2 - PROGRESS: at 59.85% examples, 1090263 words/s, in_qsize 10, out_qsize 0\n",
      "INFO:gensim.models.word2vec:EPOCH 2 - PROGRESS: at 75.32% examples, 1099717 words/s, in_qsize 9, out_qsize 1\n",
      "INFO:gensim.models.word2vec:EPOCH 2 - PROGRESS: at 90.97% examples, 1107988 words/s, in_qsize 9, out_qsize 0\n",
      "INFO:gensim.models.word2vec:EPOCH 2: training on 227126066 raw words (220366843 effective words) took 198.6s, 1109519 effective words/s\n"
     ]
    },
    {
     "name": "stdout",
     "output_type": "stream",
     "text": [
      "Loss after epoch 2:38542132.0\n"
     ]
    },
    {
     "name": "stderr",
     "output_type": "stream",
     "text": [
      "INFO:gensim.models.word2vec:EPOCH 3 - PROGRESS: at 0.49% examples, 1063488 words/s, in_qsize 7, out_qsize 2\n",
      "INFO:gensim.models.word2vec:EPOCH 3 - PROGRESS: at 15.70% examples, 1116075 words/s, in_qsize 9, out_qsize 0\n",
      "INFO:gensim.models.word2vec:EPOCH 3 - PROGRESS: at 30.55% examples, 1104439 words/s, in_qsize 10, out_qsize 1\n",
      "INFO:gensim.models.word2vec:EPOCH 3 - PROGRESS: at 45.82% examples, 1110384 words/s, in_qsize 10, out_qsize 0\n",
      "INFO:gensim.models.word2vec:EPOCH 3 - PROGRESS: at 61.08% examples, 1112730 words/s, in_qsize 9, out_qsize 0\n",
      "INFO:gensim.models.word2vec:EPOCH 3 - PROGRESS: at 75.92% examples, 1108584 words/s, in_qsize 9, out_qsize 0\n",
      "INFO:gensim.models.word2vec:EPOCH 3 - PROGRESS: at 91.16% examples, 1110302 words/s, in_qsize 9, out_qsize 2\n",
      "INFO:gensim.models.word2vec:EPOCH 3: training on 227126066 raw words (220366059 effective words) took 198.2s, 1111710 effective words/s\n"
     ]
    },
    {
     "name": "stdout",
     "output_type": "stream",
     "text": [
      "Loss after epoch 3:38454260.0\n"
     ]
    },
    {
     "name": "stderr",
     "output_type": "stream",
     "text": [
      "INFO:gensim.models.word2vec:EPOCH 4 - PROGRESS: at 0.50% examples, 1094571 words/s, in_qsize 9, out_qsize 0\n",
      "INFO:gensim.models.word2vec:EPOCH 4 - PROGRESS: at 15.90% examples, 1130402 words/s, in_qsize 9, out_qsize 0\n",
      "INFO:gensim.models.word2vec:EPOCH 4 - PROGRESS: at 31.24% examples, 1128995 words/s, in_qsize 9, out_qsize 0\n",
      "INFO:gensim.models.word2vec:EPOCH 4 - PROGRESS: at 46.52% examples, 1127409 words/s, in_qsize 8, out_qsize 1\n",
      "INFO:gensim.models.word2vec:EPOCH 4 - PROGRESS: at 61.66% examples, 1123160 words/s, in_qsize 9, out_qsize 0\n",
      "INFO:gensim.models.word2vec:EPOCH 4 - PROGRESS: at 77.38% examples, 1129914 words/s, in_qsize 8, out_qsize 1\n",
      "INFO:gensim.models.word2vec:EPOCH 4 - PROGRESS: at 93.02% examples, 1132938 words/s, in_qsize 9, out_qsize 0\n",
      "INFO:gensim.models.word2vec:EPOCH 4: training on 227126066 raw words (220368014 effective words) took 193.9s, 1136396 effective words/s\n"
     ]
    },
    {
     "name": "stdout",
     "output_type": "stream",
     "text": [
      "Loss after epoch 4:38595208.0\n"
     ]
    },
    {
     "name": "stderr",
     "output_type": "stream",
     "text": [
      "INFO:gensim.models.word2vec:EPOCH 5 - PROGRESS: at 0.51% examples, 1118847 words/s, in_qsize 9, out_qsize 0\n",
      "INFO:gensim.models.word2vec:EPOCH 5 - PROGRESS: at 16.35% examples, 1161245 words/s, in_qsize 9, out_qsize 0\n",
      "INFO:gensim.models.word2vec:EPOCH 5 - PROGRESS: at 32.17% examples, 1161358 words/s, in_qsize 9, out_qsize 1\n",
      "INFO:gensim.models.word2vec:EPOCH 5 - PROGRESS: at 47.88% examples, 1159984 words/s, in_qsize 7, out_qsize 4\n",
      "INFO:gensim.models.word2vec:EPOCH 5 - PROGRESS: at 63.76% examples, 1161220 words/s, in_qsize 9, out_qsize 0\n",
      "INFO:gensim.models.word2vec:EPOCH 5 - PROGRESS: at 79.35% examples, 1158207 words/s, in_qsize 10, out_qsize 0\n",
      "INFO:gensim.models.word2vec:EPOCH 5 - PROGRESS: at 95.32% examples, 1160392 words/s, in_qsize 9, out_qsize 2\n",
      "INFO:gensim.models.word2vec:EPOCH 5: training on 227126066 raw words (220365761 effective words) took 189.8s, 1161298 effective words/s\n"
     ]
    },
    {
     "name": "stdout",
     "output_type": "stream",
     "text": [
      "Loss after epoch 5:38448832.0\n"
     ]
    },
    {
     "name": "stderr",
     "output_type": "stream",
     "text": [
      "INFO:gensim.models.word2vec:EPOCH 6 - PROGRESS: at 0.51% examples, 1112728 words/s, in_qsize 9, out_qsize 0\n",
      "INFO:gensim.models.word2vec:EPOCH 6 - PROGRESS: at 16.23% examples, 1153098 words/s, in_qsize 9, out_qsize 2\n",
      "INFO:gensim.models.word2vec:EPOCH 6 - PROGRESS: at 32.02% examples, 1156772 words/s, in_qsize 9, out_qsize 0\n",
      "INFO:gensim.models.word2vec:EPOCH 6 - PROGRESS: at 47.78% examples, 1158183 words/s, in_qsize 10, out_qsize 0\n",
      "INFO:gensim.models.word2vec:EPOCH 6 - PROGRESS: at 63.72% examples, 1160706 words/s, in_qsize 8, out_qsize 2\n",
      "INFO:gensim.models.word2vec:EPOCH 6 - PROGRESS: at 79.50% examples, 1160694 words/s, in_qsize 10, out_qsize 0\n",
      "INFO:gensim.models.word2vec:EPOCH 6 - PROGRESS: at 95.34% examples, 1160974 words/s, in_qsize 9, out_qsize 2\n",
      "INFO:gensim.models.word2vec:EPOCH 6: training on 227126066 raw words (220365926 effective words) took 189.8s, 1160810 effective words/s\n"
     ]
    },
    {
     "name": "stdout",
     "output_type": "stream",
     "text": [
      "Loss after epoch 6:38654676.0\n"
     ]
    },
    {
     "name": "stderr",
     "output_type": "stream",
     "text": [
      "INFO:gensim.models.word2vec:EPOCH 7 - PROGRESS: at 0.50% examples, 1096823 words/s, in_qsize 6, out_qsize 3\n",
      "INFO:gensim.models.word2vec:EPOCH 7 - PROGRESS: at 16.48% examples, 1170698 words/s, in_qsize 9, out_qsize 0\n",
      "INFO:gensim.models.word2vec:EPOCH 7 - PROGRESS: at 32.47% examples, 1172676 words/s, in_qsize 9, out_qsize 0\n",
      "INFO:gensim.models.word2vec:EPOCH 7 - PROGRESS: at 48.40% examples, 1172887 words/s, in_qsize 9, out_qsize 1\n",
      "INFO:gensim.models.word2vec:EPOCH 7 - PROGRESS: at 64.24% examples, 1170310 words/s, in_qsize 7, out_qsize 4\n",
      "INFO:gensim.models.word2vec:EPOCH 7 - PROGRESS: at 80.15% examples, 1170147 words/s, in_qsize 9, out_qsize 0\n",
      "INFO:gensim.models.word2vec:EPOCH 7 - PROGRESS: at 96.07% examples, 1169754 words/s, in_qsize 9, out_qsize 0\n",
      "INFO:gensim.models.word2vec:EPOCH 7: training on 227126066 raw words (220367088 effective words) took 189.7s, 1161444 effective words/s\n"
     ]
    },
    {
     "name": "stdout",
     "output_type": "stream",
     "text": [
      "Loss after epoch 7:38481020.0\n"
     ]
    },
    {
     "name": "stderr",
     "output_type": "stream",
     "text": [
      "INFO:gensim.models.word2vec:EPOCH 8 - PROGRESS: at 0.52% examples, 1138779 words/s, in_qsize 9, out_qsize 1\n",
      "INFO:gensim.models.word2vec:EPOCH 8 - PROGRESS: at 16.39% examples, 1164342 words/s, in_qsize 9, out_qsize 0\n",
      "INFO:gensim.models.word2vec:EPOCH 8 - PROGRESS: at 32.41% examples, 1170678 words/s, in_qsize 8, out_qsize 2\n",
      "INFO:gensim.models.word2vec:EPOCH 8 - PROGRESS: at 48.59% examples, 1177693 words/s, in_qsize 9, out_qsize 0\n",
      "INFO:gensim.models.word2vec:EPOCH 8 - PROGRESS: at 64.81% examples, 1180889 words/s, in_qsize 9, out_qsize 0\n",
      "INFO:gensim.models.word2vec:EPOCH 8 - PROGRESS: at 80.91% examples, 1181546 words/s, in_qsize 9, out_qsize 0\n",
      "INFO:gensim.models.word2vec:EPOCH 8 - PROGRESS: at 97.02% examples, 1181496 words/s, in_qsize 10, out_qsize 0\n",
      "INFO:gensim.models.word2vec:EPOCH 8: training on 227126066 raw words (220365719 effective words) took 186.4s, 1182003 effective words/s\n"
     ]
    },
    {
     "name": "stdout",
     "output_type": "stream",
     "text": [
      "Loss after epoch 8:38585576.0\n"
     ]
    },
    {
     "name": "stderr",
     "output_type": "stream",
     "text": [
      "INFO:gensim.models.word2vec:EPOCH 9 - PROGRESS: at 0.52% examples, 1130572 words/s, in_qsize 8, out_qsize 1\n",
      "INFO:gensim.models.word2vec:EPOCH 9 - PROGRESS: at 16.42% examples, 1166605 words/s, in_qsize 9, out_qsize 0\n",
      "INFO:gensim.models.word2vec:EPOCH 9 - PROGRESS: at 32.18% examples, 1162479 words/s, in_qsize 9, out_qsize 0\n",
      "INFO:gensim.models.word2vec:EPOCH 9 - PROGRESS: at 48.05% examples, 1164581 words/s, in_qsize 10, out_qsize 0\n",
      "INFO:gensim.models.word2vec:EPOCH 9 - PROGRESS: at 63.93% examples, 1164844 words/s, in_qsize 10, out_qsize 1\n",
      "INFO:gensim.models.word2vec:EPOCH 9 - PROGRESS: at 79.87% examples, 1166091 words/s, in_qsize 10, out_qsize 0\n",
      "INFO:gensim.models.word2vec:EPOCH 9 - PROGRESS: at 95.73% examples, 1165720 words/s, in_qsize 8, out_qsize 1\n",
      "INFO:gensim.models.word2vec:EPOCH 9: training on 227126066 raw words (220368127 effective words) took 189.0s, 1165698 effective words/s\n"
     ]
    },
    {
     "name": "stdout",
     "output_type": "stream",
     "text": [
      "Loss after epoch 9:38579180.0\n"
     ]
    },
    {
     "name": "stderr",
     "output_type": "stream",
     "text": [
      "INFO:gensim.models.word2vec:EPOCH 10 - PROGRESS: at 0.53% examples, 1158959 words/s, in_qsize 8, out_qsize 1\n",
      "INFO:gensim.models.word2vec:EPOCH 10 - PROGRESS: at 16.55% examples, 1173572 words/s, in_qsize 10, out_qsize 3\n",
      "INFO:gensim.models.word2vec:EPOCH 10 - PROGRESS: at 32.29% examples, 1165478 words/s, in_qsize 10, out_qsize 2\n",
      "INFO:gensim.models.word2vec:EPOCH 10 - PROGRESS: at 48.28% examples, 1169378 words/s, in_qsize 10, out_qsize 1\n",
      "INFO:gensim.models.word2vec:EPOCH 10 - PROGRESS: at 64.37% examples, 1172218 words/s, in_qsize 9, out_qsize 0\n",
      "INFO:gensim.models.word2vec:EPOCH 10 - PROGRESS: at 80.61% examples, 1176621 words/s, in_qsize 9, out_qsize 0\n",
      "INFO:gensim.models.word2vec:EPOCH 10 - PROGRESS: at 96.77% examples, 1178085 words/s, in_qsize 9, out_qsize 0\n",
      "INFO:gensim.models.word2vec:EPOCH 10: training on 227126066 raw words (220367895 effective words) took 186.9s, 1178779 effective words/s\n"
     ]
    },
    {
     "name": "stdout",
     "output_type": "stream",
     "text": [
      "Loss after epoch 10:38454620.0\n"
     ]
    },
    {
     "name": "stderr",
     "output_type": "stream",
     "text": [
      "INFO:gensim.models.word2vec:EPOCH 11 - PROGRESS: at 0.51% examples, 1114076 words/s, in_qsize 9, out_qsize 0\n",
      "INFO:gensim.models.word2vec:EPOCH 11 - PROGRESS: at 16.51% examples, 1172379 words/s, in_qsize 9, out_qsize 0\n",
      "INFO:gensim.models.word2vec:EPOCH 11 - PROGRESS: at 32.33% examples, 1167679 words/s, in_qsize 10, out_qsize 0\n",
      "INFO:gensim.models.word2vec:EPOCH 11 - PROGRESS: at 48.16% examples, 1167245 words/s, in_qsize 9, out_qsize 0\n",
      "INFO:gensim.models.word2vec:EPOCH 11 - PROGRESS: at 64.00% examples, 1166206 words/s, in_qsize 10, out_qsize 0\n",
      "INFO:gensim.models.word2vec:EPOCH 11 - PROGRESS: at 79.98% examples, 1167920 words/s, in_qsize 10, out_qsize 0\n",
      "INFO:gensim.models.word2vec:EPOCH 11 - PROGRESS: at 95.91% examples, 1167959 words/s, in_qsize 9, out_qsize 0\n",
      "INFO:gensim.models.word2vec:EPOCH 11: training on 227126066 raw words (220368045 effective words) took 188.7s, 1167713 effective words/s\n"
     ]
    },
    {
     "name": "stdout",
     "output_type": "stream",
     "text": [
      "Loss after epoch 11:38564796.0\n"
     ]
    },
    {
     "name": "stderr",
     "output_type": "stream",
     "text": [
      "INFO:gensim.models.word2vec:EPOCH 12 - PROGRESS: at 0.50% examples, 1092368 words/s, in_qsize 9, out_qsize 0\n",
      "INFO:gensim.models.word2vec:EPOCH 12 - PROGRESS: at 16.56% examples, 1175682 words/s, in_qsize 10, out_qsize 0\n",
      "INFO:gensim.models.word2vec:EPOCH 12 - PROGRESS: at 32.50% examples, 1173800 words/s, in_qsize 9, out_qsize 0\n",
      "INFO:gensim.models.word2vec:EPOCH 12 - PROGRESS: at 48.12% examples, 1166214 words/s, in_qsize 9, out_qsize 0\n",
      "INFO:gensim.models.word2vec:EPOCH 12 - PROGRESS: at 64.09% examples, 1167649 words/s, in_qsize 9, out_qsize 0\n",
      "INFO:gensim.models.word2vec:EPOCH 12 - PROGRESS: at 80.02% examples, 1168484 words/s, in_qsize 8, out_qsize 1\n",
      "INFO:gensim.models.word2vec:EPOCH 12 - PROGRESS: at 96.00% examples, 1169078 words/s, in_qsize 9, out_qsize 0\n",
      "INFO:gensim.models.word2vec:EPOCH 12: training on 227126066 raw words (220366645 effective words) took 188.5s, 1169233 effective words/s\n"
     ]
    },
    {
     "name": "stdout",
     "output_type": "stream",
     "text": [
      "Loss after epoch 12:38400984.0\n"
     ]
    },
    {
     "name": "stderr",
     "output_type": "stream",
     "text": [
      "INFO:gensim.models.word2vec:EPOCH 13 - PROGRESS: at 0.51% examples, 1111076 words/s, in_qsize 10, out_qsize 0\n",
      "INFO:gensim.models.word2vec:EPOCH 13 - PROGRESS: at 16.48% examples, 1170570 words/s, in_qsize 9, out_qsize 0\n",
      "INFO:gensim.models.word2vec:EPOCH 13 - PROGRESS: at 32.46% examples, 1172734 words/s, in_qsize 8, out_qsize 1\n",
      "INFO:gensim.models.word2vec:EPOCH 13 - PROGRESS: at 48.26% examples, 1169771 words/s, in_qsize 8, out_qsize 2\n",
      "INFO:gensim.models.word2vec:EPOCH 13 - PROGRESS: at 64.09% examples, 1167664 words/s, in_qsize 9, out_qsize 0\n",
      "INFO:gensim.models.word2vec:EPOCH 13 - PROGRESS: at 80.06% examples, 1168969 words/s, in_qsize 10, out_qsize 0\n",
      "INFO:gensim.models.word2vec:EPOCH 13 - PROGRESS: at 95.91% examples, 1167834 words/s, in_qsize 10, out_qsize 1\n",
      "INFO:gensim.models.word2vec:EPOCH 13: training on 227126066 raw words (220368324 effective words) took 188.7s, 1168104 effective words/s\n"
     ]
    },
    {
     "name": "stdout",
     "output_type": "stream",
     "text": [
      "Loss after epoch 13:38352140.0\n"
     ]
    },
    {
     "name": "stderr",
     "output_type": "stream",
     "text": [
      "INFO:gensim.models.word2vec:EPOCH 14 - PROGRESS: at 0.54% examples, 1173167 words/s, in_qsize 9, out_qsize 0\n",
      "INFO:gensim.models.word2vec:EPOCH 14 - PROGRESS: at 16.46% examples, 1169563 words/s, in_qsize 9, out_qsize 0\n",
      "INFO:gensim.models.word2vec:EPOCH 14 - PROGRESS: at 32.35% examples, 1168489 words/s, in_qsize 10, out_qsize 1\n",
      "INFO:gensim.models.word2vec:EPOCH 14 - PROGRESS: at 48.25% examples, 1169370 words/s, in_qsize 9, out_qsize 0\n",
      "INFO:gensim.models.word2vec:EPOCH 14 - PROGRESS: at 64.17% examples, 1169154 words/s, in_qsize 9, out_qsize 0\n",
      "INFO:gensim.models.word2vec:EPOCH 14 - PROGRESS: at 80.12% examples, 1169854 words/s, in_qsize 10, out_qsize 0\n",
      "INFO:gensim.models.word2vec:EPOCH 14 - PROGRESS: at 96.04% examples, 1169580 words/s, in_qsize 9, out_qsize 0\n",
      "INFO:gensim.models.word2vec:EPOCH 14: training on 227126066 raw words (220367500 effective words) took 188.5s, 1169192 effective words/s\n"
     ]
    },
    {
     "name": "stdout",
     "output_type": "stream",
     "text": [
      "Loss after epoch 14:38338736.0\n"
     ]
    },
    {
     "name": "stderr",
     "output_type": "stream",
     "text": [
      "INFO:gensim.models.word2vec:EPOCH 15 - PROGRESS: at 0.53% examples, 1148075 words/s, in_qsize 8, out_qsize 1\n",
      "INFO:gensim.models.word2vec:EPOCH 15 - PROGRESS: at 16.53% examples, 1174087 words/s, in_qsize 10, out_qsize 0\n",
      "INFO:gensim.models.word2vec:EPOCH 15 - PROGRESS: at 32.49% examples, 1173427 words/s, in_qsize 9, out_qsize 0\n",
      "INFO:gensim.models.word2vec:EPOCH 15 - PROGRESS: at 48.36% examples, 1171744 words/s, in_qsize 9, out_qsize 0\n",
      "INFO:gensim.models.word2vec:EPOCH 15 - PROGRESS: at 64.09% examples, 1167461 words/s, in_qsize 9, out_qsize 0\n",
      "INFO:gensim.models.word2vec:EPOCH 15 - PROGRESS: at 79.98% examples, 1167687 words/s, in_qsize 10, out_qsize 0\n",
      "INFO:gensim.models.word2vec:EPOCH 15 - PROGRESS: at 95.98% examples, 1168655 words/s, in_qsize 9, out_qsize 0\n",
      "INFO:gensim.models.word2vec:EPOCH 15: training on 227126066 raw words (220367952 effective words) took 188.6s, 1168638 effective words/s\n"
     ]
    },
    {
     "name": "stdout",
     "output_type": "stream",
     "text": [
      "Loss after epoch 15:38446484.0\n"
     ]
    },
    {
     "name": "stderr",
     "output_type": "stream",
     "text": [
      "INFO:gensim.models.word2vec:EPOCH 16 - PROGRESS: at 0.54% examples, 1132353 words/s, in_qsize 10, out_qsize 0\n",
      "INFO:gensim.models.word2vec:EPOCH 16 - PROGRESS: at 16.64% examples, 1180176 words/s, in_qsize 8, out_qsize 1\n",
      "INFO:gensim.models.word2vec:EPOCH 16 - PROGRESS: at 32.71% examples, 1180768 words/s, in_qsize 9, out_qsize 1\n",
      "INFO:gensim.models.word2vec:EPOCH 16 - PROGRESS: at 48.81% examples, 1182196 words/s, in_qsize 9, out_qsize 0\n",
      "INFO:gensim.models.word2vec:EPOCH 16 - PROGRESS: at 64.89% examples, 1181408 words/s, in_qsize 8, out_qsize 1\n",
      "INFO:gensim.models.word2vec:EPOCH 16 - PROGRESS: at 80.92% examples, 1181014 words/s, in_qsize 10, out_qsize 0\n",
      "INFO:gensim.models.word2vec:EPOCH 16 - PROGRESS: at 97.04% examples, 1181135 words/s, in_qsize 8, out_qsize 0\n",
      "INFO:gensim.models.word2vec:EPOCH 16: training on 227126066 raw words (220366662 effective words) took 186.6s, 1180935 effective words/s\n"
     ]
    },
    {
     "name": "stdout",
     "output_type": "stream",
     "text": [
      "Loss after epoch 16:38460644.0\n"
     ]
    },
    {
     "name": "stderr",
     "output_type": "stream",
     "text": [
      "INFO:gensim.models.word2vec:EPOCH 17 - PROGRESS: at 0.53% examples, 1148054 words/s, in_qsize 9, out_qsize 0\n",
      "INFO:gensim.models.word2vec:EPOCH 17 - PROGRESS: at 16.57% examples, 1175856 words/s, in_qsize 10, out_qsize 0\n",
      "INFO:gensim.models.word2vec:EPOCH 17 - PROGRESS: at 32.45% examples, 1171527 words/s, in_qsize 8, out_qsize 1\n",
      "INFO:gensim.models.word2vec:EPOCH 17 - PROGRESS: at 48.42% examples, 1173268 words/s, in_qsize 9, out_qsize 0\n",
      "INFO:gensim.models.word2vec:EPOCH 17 - PROGRESS: at 64.26% examples, 1170607 words/s, in_qsize 10, out_qsize 0\n",
      "INFO:gensim.models.word2vec:EPOCH 17 - PROGRESS: at 80.11% examples, 1169597 words/s, in_qsize 8, out_qsize 1\n",
      "INFO:gensim.models.word2vec:EPOCH 17 - PROGRESS: at 96.11% examples, 1170297 words/s, in_qsize 9, out_qsize 0\n",
      "INFO:gensim.models.word2vec:EPOCH 17: training on 227126066 raw words (220367960 effective words) took 188.2s, 1171101 effective words/s\n"
     ]
    },
    {
     "name": "stdout",
     "output_type": "stream",
     "text": [
      "Loss after epoch 17:38187824.0\n"
     ]
    },
    {
     "name": "stderr",
     "output_type": "stream",
     "text": [
      "INFO:gensim.models.word2vec:EPOCH 18 - PROGRESS: at 0.49% examples, 1063592 words/s, in_qsize 9, out_qsize 0\n",
      "INFO:gensim.models.word2vec:EPOCH 18 - PROGRESS: at 16.51% examples, 1172125 words/s, in_qsize 10, out_qsize 1\n",
      "INFO:gensim.models.word2vec:EPOCH 18 - PROGRESS: at 32.21% examples, 1163309 words/s, in_qsize 9, out_qsize 0\n",
      "INFO:gensim.models.word2vec:EPOCH 18 - PROGRESS: at 46.82% examples, 1134317 words/s, in_qsize 9, out_qsize 0\n",
      "INFO:gensim.models.word2vec:EPOCH 18 - PROGRESS: at 62.67% examples, 1141387 words/s, in_qsize 8, out_qsize 1\n",
      "INFO:gensim.models.word2vec:EPOCH 18 - PROGRESS: at 78.27% examples, 1142805 words/s, in_qsize 10, out_qsize 0\n",
      "INFO:gensim.models.word2vec:EPOCH 18 - PROGRESS: at 94.22% examples, 1147501 words/s, in_qsize 9, out_qsize 0\n",
      "INFO:gensim.models.word2vec:EPOCH 18: training on 227126066 raw words (220369639 effective words) took 191.9s, 1148521 effective words/s\n"
     ]
    },
    {
     "name": "stdout",
     "output_type": "stream",
     "text": [
      "Loss after epoch 18:38192400.0\n"
     ]
    },
    {
     "name": "stderr",
     "output_type": "stream",
     "text": [
      "INFO:gensim.models.word2vec:EPOCH 19 - PROGRESS: at 0.52% examples, 1144703 words/s, in_qsize 9, out_qsize 0\n",
      "INFO:gensim.models.word2vec:EPOCH 19 - PROGRESS: at 16.34% examples, 1161335 words/s, in_qsize 9, out_qsize 0\n",
      "INFO:gensim.models.word2vec:EPOCH 19 - PROGRESS: at 32.12% examples, 1160590 words/s, in_qsize 9, out_qsize 0\n",
      "INFO:gensim.models.word2vec:EPOCH 19 - PROGRESS: at 47.87% examples, 1160298 words/s, in_qsize 9, out_qsize 0\n",
      "INFO:gensim.models.word2vec:EPOCH 19 - PROGRESS: at 63.96% examples, 1165518 words/s, in_qsize 9, out_qsize 0\n",
      "INFO:gensim.models.word2vec:EPOCH 19 - PROGRESS: at 79.73% examples, 1164295 words/s, in_qsize 9, out_qsize 0\n",
      "INFO:gensim.models.word2vec:EPOCH 19 - PROGRESS: at 95.74% examples, 1165975 words/s, in_qsize 9, out_qsize 0\n",
      "INFO:gensim.models.word2vec:EPOCH 19: training on 227126066 raw words (220366059 effective words) took 188.9s, 1166446 effective words/s\n"
     ]
    },
    {
     "name": "stdout",
     "output_type": "stream",
     "text": [
      "Loss after epoch 19:38118616.0\n"
     ]
    },
    {
     "name": "stderr",
     "output_type": "stream",
     "text": [
      "INFO:gensim.models.word2vec:EPOCH 20 - PROGRESS: at 0.50% examples, 1096648 words/s, in_qsize 9, out_qsize 0\n",
      "INFO:gensim.models.word2vec:EPOCH 20 - PROGRESS: at 16.02% examples, 1138154 words/s, in_qsize 8, out_qsize 1\n",
      "INFO:gensim.models.word2vec:EPOCH 20 - PROGRESS: at 31.80% examples, 1148468 words/s, in_qsize 10, out_qsize 0\n",
      "INFO:gensim.models.word2vec:EPOCH 20 - PROGRESS: at 47.54% examples, 1152228 words/s, in_qsize 10, out_qsize 0\n",
      "INFO:gensim.models.word2vec:EPOCH 20 - PROGRESS: at 63.50% examples, 1156871 words/s, in_qsize 10, out_qsize 0\n",
      "INFO:gensim.models.word2vec:EPOCH 20 - PROGRESS: at 79.28% examples, 1157636 words/s, in_qsize 9, out_qsize 0\n",
      "INFO:gensim.models.word2vec:EPOCH 20 - PROGRESS: at 94.72% examples, 1153588 words/s, in_qsize 9, out_qsize 0\n",
      "INFO:gensim.models.word2vec:EPOCH 20: training on 227126066 raw words (220365635 effective words) took 191.2s, 1152671 effective words/s\n"
     ]
    },
    {
     "name": "stdout",
     "output_type": "stream",
     "text": [
      "Loss after epoch 20:38143336.0\n"
     ]
    },
    {
     "name": "stderr",
     "output_type": "stream",
     "text": [
      "INFO:gensim.models.word2vec:EPOCH 21 - PROGRESS: at 0.53% examples, 1165265 words/s, in_qsize 4, out_qsize 0\n",
      "INFO:gensim.models.word2vec:EPOCH 21 - PROGRESS: at 16.08% examples, 1142266 words/s, in_qsize 8, out_qsize 1\n",
      "INFO:gensim.models.word2vec:EPOCH 21 - PROGRESS: at 31.60% examples, 1141619 words/s, in_qsize 10, out_qsize 0\n",
      "INFO:gensim.models.word2vec:EPOCH 21 - PROGRESS: at 47.29% examples, 1145986 words/s, in_qsize 9, out_qsize 4\n",
      "INFO:gensim.models.word2vec:EPOCH 21 - PROGRESS: at 62.87% examples, 1145155 words/s, in_qsize 9, out_qsize 0\n",
      "INFO:gensim.models.word2vec:EPOCH 21 - PROGRESS: at 78.38% examples, 1144290 words/s, in_qsize 9, out_qsize 0\n",
      "INFO:gensim.models.word2vec:EPOCH 21 - PROGRESS: at 94.29% examples, 1148173 words/s, in_qsize 9, out_qsize 2\n",
      "INFO:gensim.models.word2vec:EPOCH 21: training on 227126066 raw words (220365181 effective words) took 191.7s, 1149566 effective words/s\n"
     ]
    },
    {
     "name": "stdout",
     "output_type": "stream",
     "text": [
      "Loss after epoch 21:38187524.0\n"
     ]
    },
    {
     "name": "stderr",
     "output_type": "stream",
     "text": [
      "INFO:gensim.models.word2vec:EPOCH 22 - PROGRESS: at 0.51% examples, 1122336 words/s, in_qsize 10, out_qsize 0\n",
      "INFO:gensim.models.word2vec:EPOCH 22 - PROGRESS: at 15.87% examples, 1127779 words/s, in_qsize 8, out_qsize 1\n",
      "INFO:gensim.models.word2vec:EPOCH 22 - PROGRESS: at 30.86% examples, 1115313 words/s, in_qsize 9, out_qsize 0\n",
      "INFO:gensim.models.word2vec:EPOCH 22 - PROGRESS: at 46.13% examples, 1118038 words/s, in_qsize 9, out_qsize 0\n",
      "INFO:gensim.models.word2vec:EPOCH 22 - PROGRESS: at 61.86% examples, 1126668 words/s, in_qsize 9, out_qsize 0\n",
      "INFO:gensim.models.word2vec:EPOCH 22 - PROGRESS: at 77.45% examples, 1130805 words/s, in_qsize 9, out_qsize 2\n",
      "INFO:gensim.models.word2vec:EPOCH 22 - PROGRESS: at 92.84% examples, 1130557 words/s, in_qsize 9, out_qsize 0\n",
      "INFO:gensim.models.word2vec:EPOCH 22: training on 227126066 raw words (220366883 effective words) took 195.4s, 1128005 effective words/s\n"
     ]
    },
    {
     "name": "stdout",
     "output_type": "stream",
     "text": [
      "Loss after epoch 22:37813088.0\n"
     ]
    },
    {
     "name": "stderr",
     "output_type": "stream",
     "text": [
      "INFO:gensim.models.word2vec:EPOCH 23 - PROGRESS: at 0.45% examples, 986786 words/s, in_qsize 10, out_qsize 0\n",
      "INFO:gensim.models.word2vec:EPOCH 23 - PROGRESS: at 15.75% examples, 1119918 words/s, in_qsize 9, out_qsize 0\n",
      "INFO:gensim.models.word2vec:EPOCH 23 - PROGRESS: at 31.47% examples, 1137060 words/s, in_qsize 10, out_qsize 1\n",
      "INFO:gensim.models.word2vec:EPOCH 23 - PROGRESS: at 46.97% examples, 1138390 words/s, in_qsize 9, out_qsize 0\n",
      "INFO:gensim.models.word2vec:EPOCH 23 - PROGRESS: at 62.75% examples, 1143081 words/s, in_qsize 9, out_qsize 0\n",
      "INFO:gensim.models.word2vec:EPOCH 23 - PROGRESS: at 78.33% examples, 1143718 words/s, in_qsize 9, out_qsize 0\n",
      "INFO:gensim.models.word2vec:EPOCH 23 - PROGRESS: at 94.18% examples, 1147101 words/s, in_qsize 9, out_qsize 0\n",
      "INFO:gensim.models.word2vec:EPOCH 23: training on 227126066 raw words (220365786 effective words) took 192.2s, 1146609 effective words/s\n"
     ]
    },
    {
     "name": "stdout",
     "output_type": "stream",
     "text": [
      "Loss after epoch 23:37679100.0\n"
     ]
    },
    {
     "name": "stderr",
     "output_type": "stream",
     "text": [
      "INFO:gensim.models.word2vec:EPOCH 24 - PROGRESS: at 0.51% examples, 1116334 words/s, in_qsize 10, out_qsize 0\n",
      "INFO:gensim.models.word2vec:EPOCH 24 - PROGRESS: at 16.16% examples, 1148221 words/s, in_qsize 9, out_qsize 0\n",
      "INFO:gensim.models.word2vec:EPOCH 24 - PROGRESS: at 31.93% examples, 1153473 words/s, in_qsize 9, out_qsize 0\n",
      "INFO:gensim.models.word2vec:EPOCH 24 - PROGRESS: at 47.01% examples, 1139353 words/s, in_qsize 8, out_qsize 2\n",
      "INFO:gensim.models.word2vec:EPOCH 24 - PROGRESS: at 62.56% examples, 1139435 words/s, in_qsize 9, out_qsize 0\n",
      "INFO:gensim.models.word2vec:EPOCH 24 - PROGRESS: at 77.94% examples, 1137944 words/s, in_qsize 8, out_qsize 1\n",
      "INFO:gensim.models.word2vec:EPOCH 24 - PROGRESS: at 93.49% examples, 1138642 words/s, in_qsize 8, out_qsize 1\n",
      "INFO:gensim.models.word2vec:EPOCH 24: training on 227126066 raw words (220368140 effective words) took 193.4s, 1139262 effective words/s\n"
     ]
    },
    {
     "name": "stdout",
     "output_type": "stream",
     "text": [
      "Loss after epoch 24:37634336.0\n"
     ]
    },
    {
     "name": "stderr",
     "output_type": "stream",
     "text": [
      "INFO:gensim.models.word2vec:EPOCH 25 - PROGRESS: at 0.49% examples, 1074604 words/s, in_qsize 9, out_qsize 0\n",
      "INFO:gensim.models.word2vec:EPOCH 25 - PROGRESS: at 15.93% examples, 1131693 words/s, in_qsize 9, out_qsize 0\n",
      "INFO:gensim.models.word2vec:EPOCH 25 - PROGRESS: at 31.25% examples, 1129260 words/s, in_qsize 9, out_qsize 0\n",
      "INFO:gensim.models.word2vec:EPOCH 25 - PROGRESS: at 46.58% examples, 1128653 words/s, in_qsize 9, out_qsize 0\n",
      "INFO:gensim.models.word2vec:EPOCH 25 - PROGRESS: at 62.05% examples, 1130162 words/s, in_qsize 9, out_qsize 0\n",
      "INFO:gensim.models.word2vec:EPOCH 25 - PROGRESS: at 77.75% examples, 1135205 words/s, in_qsize 9, out_qsize 1\n",
      "INFO:gensim.models.word2vec:EPOCH 25 - PROGRESS: at 93.25% examples, 1135536 words/s, in_qsize 9, out_qsize 0\n",
      "INFO:gensim.models.word2vec:EPOCH 25: training on 227126066 raw words (220367889 effective words) took 194.0s, 1135961 effective words/s\n"
     ]
    },
    {
     "name": "stdout",
     "output_type": "stream",
     "text": [
      "Loss after epoch 25:37456852.0\n"
     ]
    },
    {
     "name": "stderr",
     "output_type": "stream",
     "text": [
      "INFO:gensim.models.word2vec:EPOCH 26 - PROGRESS: at 0.50% examples, 1093274 words/s, in_qsize 9, out_qsize 0\n",
      "INFO:gensim.models.word2vec:EPOCH 26 - PROGRESS: at 15.90% examples, 1129767 words/s, in_qsize 8, out_qsize 1\n",
      "INFO:gensim.models.word2vec:EPOCH 26 - PROGRESS: at 30.50% examples, 1102600 words/s, in_qsize 10, out_qsize 0\n",
      "INFO:gensim.models.word2vec:EPOCH 26 - PROGRESS: at 45.49% examples, 1102508 words/s, in_qsize 7, out_qsize 2\n",
      "INFO:gensim.models.word2vec:EPOCH 26 - PROGRESS: at 60.91% examples, 1109524 words/s, in_qsize 9, out_qsize 0\n",
      "INFO:gensim.models.word2vec:EPOCH 26 - PROGRESS: at 75.69% examples, 1105261 words/s, in_qsize 9, out_qsize 0\n",
      "INFO:gensim.models.word2vec:EPOCH 26 - PROGRESS: at 90.93% examples, 1107485 words/s, in_qsize 9, out_qsize 0\n",
      "INFO:gensim.models.word2vec:EPOCH 26: training on 227126066 raw words (220367255 effective words) took 197.9s, 1113533 effective words/s\n"
     ]
    },
    {
     "name": "stdout",
     "output_type": "stream",
     "text": [
      "Loss after epoch 26:37421488.0\n"
     ]
    },
    {
     "name": "stderr",
     "output_type": "stream",
     "text": [
      "INFO:gensim.models.word2vec:EPOCH 27 - PROGRESS: at 0.52% examples, 1144757 words/s, in_qsize 9, out_qsize 0\n",
      "INFO:gensim.models.word2vec:EPOCH 27 - PROGRESS: at 15.40% examples, 1094939 words/s, in_qsize 10, out_qsize 0\n",
      "INFO:gensim.models.word2vec:EPOCH 27 - PROGRESS: at 30.33% examples, 1096211 words/s, in_qsize 9, out_qsize 0\n",
      "INFO:gensim.models.word2vec:EPOCH 27 - PROGRESS: at 45.66% examples, 1106442 words/s, in_qsize 9, out_qsize 0\n",
      "INFO:gensim.models.word2vec:EPOCH 27 - PROGRESS: at 61.44% examples, 1118991 words/s, in_qsize 10, out_qsize 0\n",
      "INFO:gensim.models.word2vec:EPOCH 27 - PROGRESS: at 77.16% examples, 1126566 words/s, in_qsize 8, out_qsize 1\n",
      "INFO:gensim.models.word2vec:EPOCH 27 - PROGRESS: at 93.16% examples, 1134558 words/s, in_qsize 9, out_qsize 0\n",
      "INFO:gensim.models.word2vec:EPOCH 27: training on 227126066 raw words (220367527 effective words) took 193.6s, 1138133 effective words/s\n"
     ]
    },
    {
     "name": "stdout",
     "output_type": "stream",
     "text": [
      "Loss after epoch 27:37400740.0\n"
     ]
    },
    {
     "name": "stderr",
     "output_type": "stream",
     "text": [
      "INFO:gensim.models.word2vec:EPOCH 28 - PROGRESS: at 0.52% examples, 1109910 words/s, in_qsize 9, out_qsize 0\n",
      "INFO:gensim.models.word2vec:EPOCH 28 - PROGRESS: at 15.93% examples, 1131387 words/s, in_qsize 7, out_qsize 2\n",
      "INFO:gensim.models.word2vec:EPOCH 28 - PROGRESS: at 31.72% examples, 1145389 words/s, in_qsize 10, out_qsize 0\n",
      "INFO:gensim.models.word2vec:EPOCH 28 - PROGRESS: at 47.57% examples, 1152794 words/s, in_qsize 9, out_qsize 0\n",
      "INFO:gensim.models.word2vec:EPOCH 28 - PROGRESS: at 63.40% examples, 1154736 words/s, in_qsize 10, out_qsize 0\n",
      "INFO:gensim.models.word2vec:EPOCH 28 - PROGRESS: at 79.30% examples, 1157574 words/s, in_qsize 10, out_qsize 1\n",
      "INFO:gensim.models.word2vec:EPOCH 28 - PROGRESS: at 95.23% examples, 1159498 words/s, in_qsize 10, out_qsize 0\n",
      "INFO:gensim.models.word2vec:EPOCH 28: training on 227126066 raw words (220366765 effective words) took 190.3s, 1157754 effective words/s\n"
     ]
    },
    {
     "name": "stdout",
     "output_type": "stream",
     "text": [
      "Loss after epoch 28:37198112.0\n"
     ]
    },
    {
     "name": "stderr",
     "output_type": "stream",
     "text": [
      "INFO:gensim.models.word2vec:EPOCH 29 - PROGRESS: at 0.49% examples, 1064581 words/s, in_qsize 9, out_qsize 0\n",
      "INFO:gensim.models.word2vec:EPOCH 29 - PROGRESS: at 15.64% examples, 1111457 words/s, in_qsize 9, out_qsize 0\n",
      "INFO:gensim.models.word2vec:EPOCH 29 - PROGRESS: at 31.07% examples, 1122589 words/s, in_qsize 9, out_qsize 2\n",
      "INFO:gensim.models.word2vec:EPOCH 29 - PROGRESS: at 46.80% examples, 1133989 words/s, in_qsize 10, out_qsize 0\n",
      "INFO:gensim.models.word2vec:EPOCH 29 - PROGRESS: at 62.55% examples, 1139258 words/s, in_qsize 9, out_qsize 1\n",
      "INFO:gensim.models.word2vec:EPOCH 29 - PROGRESS: at 77.88% examples, 1137011 words/s, in_qsize 9, out_qsize 0\n",
      "INFO:gensim.models.word2vec:EPOCH 29 - PROGRESS: at 93.18% examples, 1134574 words/s, in_qsize 0, out_qsize 3\n",
      "INFO:gensim.models.word2vec:EPOCH 29: training on 227126066 raw words (220366961 effective words) took 194.2s, 1134633 effective words/s\n"
     ]
    },
    {
     "name": "stdout",
     "output_type": "stream",
     "text": [
      "Loss after epoch 29:37277116.0\n"
     ]
    },
    {
     "name": "stderr",
     "output_type": "stream",
     "text": [
      "INFO:gensim.models.word2vec:EPOCH 30 - PROGRESS: at 0.52% examples, 1129572 words/s, in_qsize 8, out_qsize 1\n",
      "INFO:gensim.models.word2vec:EPOCH 30 - PROGRESS: at 15.93% examples, 1132001 words/s, in_qsize 9, out_qsize 0\n",
      "INFO:gensim.models.word2vec:EPOCH 30 - PROGRESS: at 31.23% examples, 1128692 words/s, in_qsize 9, out_qsize 0\n",
      "INFO:gensim.models.word2vec:EPOCH 30 - PROGRESS: at 46.53% examples, 1127652 words/s, in_qsize 9, out_qsize 0\n",
      "INFO:gensim.models.word2vec:EPOCH 30 - PROGRESS: at 62.30% examples, 1134799 words/s, in_qsize 9, out_qsize 0\n",
      "INFO:gensim.models.word2vec:EPOCH 30 - PROGRESS: at 77.52% examples, 1131982 words/s, in_qsize 9, out_qsize 0\n",
      "INFO:gensim.models.word2vec:EPOCH 30 - PROGRESS: at 93.03% examples, 1132976 words/s, in_qsize 10, out_qsize 0\n",
      "INFO:gensim.models.word2vec:EPOCH 30: training on 227126066 raw words (220365784 effective words) took 194.7s, 1131779 effective words/s\n"
     ]
    },
    {
     "name": "stdout",
     "output_type": "stream",
     "text": [
      "Loss after epoch 30:37058744.0\n"
     ]
    },
    {
     "name": "stderr",
     "output_type": "stream",
     "text": [
      "INFO:gensim.models.word2vec:EPOCH 31 - PROGRESS: at 0.41% examples, 890660 words/s, in_qsize 9, out_qsize 0\n",
      "INFO:gensim.models.word2vec:EPOCH 31 - PROGRESS: at 15.61% examples, 1109745 words/s, in_qsize 8, out_qsize 2\n",
      "INFO:gensim.models.word2vec:EPOCH 31 - PROGRESS: at 31.04% examples, 1121918 words/s, in_qsize 9, out_qsize 0\n",
      "INFO:gensim.models.word2vec:EPOCH 31 - PROGRESS: at 46.49% examples, 1126710 words/s, in_qsize 8, out_qsize 0\n",
      "INFO:gensim.models.word2vec:EPOCH 31 - PROGRESS: at 62.16% examples, 1132446 words/s, in_qsize 10, out_qsize 0\n",
      "INFO:gensim.models.word2vec:EPOCH 31 - PROGRESS: at 77.72% examples, 1134728 words/s, in_qsize 10, out_qsize 4\n",
      "INFO:gensim.models.word2vec:EPOCH 31 - PROGRESS: at 93.25% examples, 1135557 words/s, in_qsize 10, out_qsize 0\n",
      "INFO:gensim.models.word2vec:EPOCH 31: training on 227126066 raw words (220367554 effective words) took 194.2s, 1134649 effective words/s\n"
     ]
    },
    {
     "name": "stdout",
     "output_type": "stream",
     "text": [
      "Loss after epoch 31:37132912.0\n"
     ]
    },
    {
     "name": "stderr",
     "output_type": "stream",
     "text": [
      "INFO:gensim.models.word2vec:EPOCH 32 - PROGRESS: at 0.51% examples, 1111554 words/s, in_qsize 9, out_qsize 0\n",
      "INFO:gensim.models.word2vec:EPOCH 32 - PROGRESS: at 15.44% examples, 1098032 words/s, in_qsize 9, out_qsize 0\n",
      "INFO:gensim.models.word2vec:EPOCH 32 - PROGRESS: at 30.22% examples, 1092714 words/s, in_qsize 7, out_qsize 2\n",
      "INFO:gensim.models.word2vec:EPOCH 32 - PROGRESS: at 45.48% examples, 1102462 words/s, in_qsize 9, out_qsize 0\n",
      "INFO:gensim.models.word2vec:EPOCH 32 - PROGRESS: at 60.81% examples, 1107734 words/s, in_qsize 10, out_qsize 0\n",
      "INFO:gensim.models.word2vec:EPOCH 32 - PROGRESS: at 76.34% examples, 1114813 words/s, in_qsize 10, out_qsize 0\n",
      "INFO:gensim.models.word2vec:EPOCH 32 - PROGRESS: at 91.74% examples, 1117054 words/s, in_qsize 10, out_qsize 1\n",
      "INFO:gensim.models.word2vec:EPOCH 32: training on 227126066 raw words (220366106 effective words) took 197.0s, 1118519 effective words/s\n"
     ]
    },
    {
     "name": "stdout",
     "output_type": "stream",
     "text": [
      "Loss after epoch 32:36877376.0\n"
     ]
    },
    {
     "name": "stderr",
     "output_type": "stream",
     "text": [
      "INFO:gensim.models.word2vec:EPOCH 33 - PROGRESS: at 0.51% examples, 1115162 words/s, in_qsize 7, out_qsize 2\n",
      "INFO:gensim.models.word2vec:EPOCH 33 - PROGRESS: at 15.76% examples, 1120355 words/s, in_qsize 10, out_qsize 1\n",
      "INFO:gensim.models.word2vec:EPOCH 33 - PROGRESS: at 31.21% examples, 1128149 words/s, in_qsize 10, out_qsize 0\n",
      "INFO:gensim.models.word2vec:EPOCH 33 - PROGRESS: at 46.54% examples, 1128009 words/s, in_qsize 9, out_qsize 0\n",
      "INFO:gensim.models.word2vec:EPOCH 33 - PROGRESS: at 61.77% examples, 1125251 words/s, in_qsize 9, out_qsize 0\n",
      "INFO:gensim.models.word2vec:EPOCH 33 - PROGRESS: at 77.57% examples, 1132728 words/s, in_qsize 9, out_qsize 0\n",
      "INFO:gensim.models.word2vec:EPOCH 33 - PROGRESS: at 92.84% examples, 1130672 words/s, in_qsize 9, out_qsize 0\n",
      "INFO:gensim.models.word2vec:EPOCH 33: training on 227126066 raw words (220367863 effective words) took 194.9s, 1130446 effective words/s\n"
     ]
    },
    {
     "name": "stdout",
     "output_type": "stream",
     "text": [
      "Loss after epoch 33:36498532.0\n"
     ]
    },
    {
     "name": "stderr",
     "output_type": "stream",
     "text": [
      "INFO:gensim.models.word2vec:EPOCH 34 - PROGRESS: at 0.46% examples, 999338 words/s, in_qsize 7, out_qsize 0\n",
      "INFO:gensim.models.word2vec:EPOCH 34 - PROGRESS: at 16.23% examples, 1152593 words/s, in_qsize 8, out_qsize 1\n",
      "INFO:gensim.models.word2vec:EPOCH 34 - PROGRESS: at 31.21% examples, 1127431 words/s, in_qsize 8, out_qsize 1\n",
      "INFO:gensim.models.word2vec:EPOCH 34 - PROGRESS: at 47.14% examples, 1142233 words/s, in_qsize 8, out_qsize 2\n",
      "INFO:gensim.models.word2vec:EPOCH 34 - PROGRESS: at 63.01% examples, 1147758 words/s, in_qsize 10, out_qsize 0\n",
      "INFO:gensim.models.word2vec:EPOCH 34 - PROGRESS: at 79.02% examples, 1153711 words/s, in_qsize 9, out_qsize 0\n",
      "INFO:gensim.models.word2vec:EPOCH 34 - PROGRESS: at 94.94% examples, 1156202 words/s, in_qsize 9, out_qsize 0\n",
      "INFO:gensim.models.word2vec:EPOCH 34: training on 227126066 raw words (220367519 effective words) took 190.6s, 1156474 effective words/s\n"
     ]
    },
    {
     "name": "stdout",
     "output_type": "stream",
     "text": [
      "Loss after epoch 34:36399544.0\n"
     ]
    },
    {
     "name": "stderr",
     "output_type": "stream",
     "text": [
      "INFO:gensim.models.word2vec:EPOCH 35 - PROGRESS: at 0.50% examples, 1087653 words/s, in_qsize 10, out_qsize 0\n",
      "INFO:gensim.models.word2vec:EPOCH 35 - PROGRESS: at 16.12% examples, 1145178 words/s, in_qsize 9, out_qsize 0\n",
      "INFO:gensim.models.word2vec:EPOCH 35 - PROGRESS: at 31.78% examples, 1148043 words/s, in_qsize 9, out_qsize 0\n",
      "INFO:gensim.models.word2vec:EPOCH 35 - PROGRESS: at 47.41% examples, 1149115 words/s, in_qsize 9, out_qsize 1\n",
      "INFO:gensim.models.word2vec:EPOCH 35 - PROGRESS: at 63.19% examples, 1151138 words/s, in_qsize 7, out_qsize 2\n",
      "INFO:gensim.models.word2vec:EPOCH 35 - PROGRESS: at 79.06% examples, 1154193 words/s, in_qsize 9, out_qsize 0\n",
      "INFO:gensim.models.word2vec:EPOCH 35 - PROGRESS: at 94.84% examples, 1154910 words/s, in_qsize 9, out_qsize 1\n",
      "INFO:gensim.models.word2vec:EPOCH 35: training on 227126066 raw words (220367177 effective words) took 190.7s, 1155573 effective words/s\n"
     ]
    },
    {
     "name": "stdout",
     "output_type": "stream",
     "text": [
      "Loss after epoch 35:36228576.0\n"
     ]
    },
    {
     "name": "stderr",
     "output_type": "stream",
     "text": [
      "INFO:gensim.models.word2vec:EPOCH 36 - PROGRESS: at 0.52% examples, 1122845 words/s, in_qsize 8, out_qsize 1\n",
      "INFO:gensim.models.word2vec:EPOCH 36 - PROGRESS: at 16.34% examples, 1160582 words/s, in_qsize 9, out_qsize 0\n",
      "INFO:gensim.models.word2vec:EPOCH 36 - PROGRESS: at 32.17% examples, 1162048 words/s, in_qsize 9, out_qsize 0\n",
      "INFO:gensim.models.word2vec:EPOCH 36 - PROGRESS: at 47.88% examples, 1160455 words/s, in_qsize 9, out_qsize 0\n",
      "INFO:gensim.models.word2vec:EPOCH 36 - PROGRESS: at 63.76% examples, 1161722 words/s, in_qsize 9, out_qsize 0\n",
      "INFO:gensim.models.word2vec:EPOCH 36 - PROGRESS: at 79.53% examples, 1161334 words/s, in_qsize 9, out_qsize 0\n",
      "INFO:gensim.models.word2vec:EPOCH 36 - PROGRESS: at 95.26% examples, 1160111 words/s, in_qsize 8, out_qsize 1\n",
      "INFO:gensim.models.word2vec:EPOCH 36: training on 227126066 raw words (220366896 effective words) took 189.9s, 1160315 effective words/s\n"
     ]
    },
    {
     "name": "stdout",
     "output_type": "stream",
     "text": [
      "Loss after epoch 36:36185404.0\n"
     ]
    },
    {
     "name": "stderr",
     "output_type": "stream",
     "text": [
      "INFO:gensim.models.word2vec:EPOCH 37 - PROGRESS: at 0.49% examples, 1080730 words/s, in_qsize 9, out_qsize 0\n",
      "INFO:gensim.models.word2vec:EPOCH 37 - PROGRESS: at 15.87% examples, 1127440 words/s, in_qsize 9, out_qsize 0\n",
      "INFO:gensim.models.word2vec:EPOCH 37 - PROGRESS: at 31.31% examples, 1131270 words/s, in_qsize 10, out_qsize 0\n",
      "INFO:gensim.models.word2vec:EPOCH 37 - PROGRESS: at 46.63% examples, 1129870 words/s, in_qsize 8, out_qsize 2\n",
      "INFO:gensim.models.word2vec:EPOCH 37 - PROGRESS: at 62.11% examples, 1131308 words/s, in_qsize 10, out_qsize 0\n",
      "INFO:gensim.models.word2vec:EPOCH 37 - PROGRESS: at 77.49% examples, 1131526 words/s, in_qsize 10, out_qsize 0\n",
      "INFO:gensim.models.word2vec:EPOCH 37 - PROGRESS: at 92.93% examples, 1131564 words/s, in_qsize 10, out_qsize 1\n",
      "INFO:gensim.models.word2vec:EPOCH 37: training on 227126066 raw words (220368045 effective words) took 194.7s, 1132058 effective words/s\n"
     ]
    },
    {
     "name": "stdout",
     "output_type": "stream",
     "text": [
      "Loss after epoch 37:36047396.0\n"
     ]
    },
    {
     "name": "stderr",
     "output_type": "stream",
     "text": [
      "INFO:gensim.models.word2vec:EPOCH 38 - PROGRESS: at 0.50% examples, 1096876 words/s, in_qsize 9, out_qsize 0\n",
      "INFO:gensim.models.word2vec:EPOCH 38 - PROGRESS: at 14.76% examples, 1048598 words/s, in_qsize 9, out_qsize 0\n",
      "INFO:gensim.models.word2vec:EPOCH 38 - PROGRESS: at 29.88% examples, 1079794 words/s, in_qsize 8, out_qsize 1\n",
      "INFO:gensim.models.word2vec:EPOCH 38 - PROGRESS: at 45.32% examples, 1098286 words/s, in_qsize 10, out_qsize 1\n",
      "INFO:gensim.models.word2vec:EPOCH 38 - PROGRESS: at 60.71% examples, 1105841 words/s, in_qsize 9, out_qsize 0\n",
      "INFO:gensim.models.word2vec:EPOCH 38 - PROGRESS: at 75.95% examples, 1108834 words/s, in_qsize 9, out_qsize 0\n",
      "INFO:gensim.models.word2vec:EPOCH 38 - PROGRESS: at 91.11% examples, 1109514 words/s, in_qsize 10, out_qsize 0\n",
      "INFO:gensim.models.word2vec:EPOCH 38: training on 227126066 raw words (220365660 effective words) took 198.5s, 1110391 effective words/s\n"
     ]
    },
    {
     "name": "stdout",
     "output_type": "stream",
     "text": [
      "Loss after epoch 38:35995236.0\n"
     ]
    },
    {
     "name": "stderr",
     "output_type": "stream",
     "text": [
      "INFO:gensim.models.word2vec:EPOCH 39 - PROGRESS: at 0.50% examples, 1095094 words/s, in_qsize 10, out_qsize 0\n",
      "INFO:gensim.models.word2vec:EPOCH 39 - PROGRESS: at 15.52% examples, 1103129 words/s, in_qsize 9, out_qsize 0\n",
      "INFO:gensim.models.word2vec:EPOCH 39 - PROGRESS: at 29.88% examples, 1080257 words/s, in_qsize 9, out_qsize 0\n",
      "INFO:gensim.models.word2vec:EPOCH 39 - PROGRESS: at 45.37% examples, 1099679 words/s, in_qsize 10, out_qsize 0\n",
      "INFO:gensim.models.word2vec:EPOCH 39 - PROGRESS: at 60.45% examples, 1101213 words/s, in_qsize 9, out_qsize 0\n",
      "INFO:gensim.models.word2vec:EPOCH 39 - PROGRESS: at 75.07% examples, 1096250 words/s, in_qsize 8, out_qsize 1\n",
      "INFO:gensim.models.word2vec:EPOCH 39 - PROGRESS: at 90.22% examples, 1098960 words/s, in_qsize 9, out_qsize 0\n",
      "INFO:gensim.models.word2vec:EPOCH 39: training on 227126066 raw words (220366981 effective words) took 200.4s, 1099873 effective words/s\n"
     ]
    },
    {
     "name": "stdout",
     "output_type": "stream",
     "text": [
      "Loss after epoch 39:35733332.0\n"
     ]
    },
    {
     "name": "stderr",
     "output_type": "stream",
     "text": [
      "INFO:gensim.models.word2vec:EPOCH 40 - PROGRESS: at 0.48% examples, 1049616 words/s, in_qsize 8, out_qsize 1\n",
      "INFO:gensim.models.word2vec:EPOCH 40 - PROGRESS: at 15.29% examples, 1086589 words/s, in_qsize 10, out_qsize 0\n",
      "INFO:gensim.models.word2vec:EPOCH 40 - PROGRESS: at 30.16% examples, 1090159 words/s, in_qsize 9, out_qsize 0\n",
      "INFO:gensim.models.word2vec:EPOCH 40 - PROGRESS: at 44.89% examples, 1087891 words/s, in_qsize 10, out_qsize 0\n",
      "INFO:gensim.models.word2vec:EPOCH 40 - PROGRESS: at 59.89% examples, 1091037 words/s, in_qsize 9, out_qsize 0\n",
      "INFO:gensim.models.word2vec:EPOCH 40 - PROGRESS: at 74.80% examples, 1092093 words/s, in_qsize 9, out_qsize 0\n",
      "INFO:gensim.models.word2vec:EPOCH 40 - PROGRESS: at 89.70% examples, 1092520 words/s, in_qsize 10, out_qsize 0\n",
      "INFO:gensim.models.word2vec:EPOCH 40: training on 227126066 raw words (220365074 effective words) took 201.6s, 1093155 effective words/s\n"
     ]
    },
    {
     "name": "stdout",
     "output_type": "stream",
     "text": [
      "Loss after epoch 40:35197792.0\n"
     ]
    },
    {
     "name": "stderr",
     "output_type": "stream",
     "text": [
      "INFO:gensim.models.word2vec:EPOCH 41 - PROGRESS: at 0.50% examples, 1085389 words/s, in_qsize 9, out_qsize 0\n",
      "INFO:gensim.models.word2vec:EPOCH 41 - PROGRESS: at 15.62% examples, 1109673 words/s, in_qsize 9, out_qsize 0\n",
      "INFO:gensim.models.word2vec:EPOCH 41 - PROGRESS: at 30.74% examples, 1110931 words/s, in_qsize 9, out_qsize 0\n",
      "INFO:gensim.models.word2vec:EPOCH 41 - PROGRESS: at 45.63% examples, 1105608 words/s, in_qsize 9, out_qsize 0\n",
      "INFO:gensim.models.word2vec:EPOCH 41 - PROGRESS: at 59.91% examples, 1091311 words/s, in_qsize 9, out_qsize 0\n",
      "INFO:gensim.models.word2vec:EPOCH 41 - PROGRESS: at 74.72% examples, 1090879 words/s, in_qsize 9, out_qsize 0\n",
      "INFO:gensim.models.word2vec:EPOCH 41 - PROGRESS: at 89.97% examples, 1095727 words/s, in_qsize 9, out_qsize 0\n",
      "INFO:gensim.models.word2vec:EPOCH 41: training on 227126066 raw words (220364575 effective words) took 200.7s, 1097794 effective words/s\n"
     ]
    },
    {
     "name": "stdout",
     "output_type": "stream",
     "text": [
      "Loss after epoch 41:35195832.0\n"
     ]
    },
    {
     "name": "stderr",
     "output_type": "stream",
     "text": [
      "INFO:gensim.models.word2vec:EPOCH 42 - PROGRESS: at 0.46% examples, 999886 words/s, in_qsize 8, out_qsize 1\n",
      "INFO:gensim.models.word2vec:EPOCH 42 - PROGRESS: at 15.78% examples, 1121415 words/s, in_qsize 9, out_qsize 0\n",
      "INFO:gensim.models.word2vec:EPOCH 42 - PROGRESS: at 30.84% examples, 1114452 words/s, in_qsize 9, out_qsize 1\n",
      "INFO:gensim.models.word2vec:EPOCH 42 - PROGRESS: at 46.09% examples, 1116908 words/s, in_qsize 10, out_qsize 0\n",
      "INFO:gensim.models.word2vec:EPOCH 42 - PROGRESS: at 61.48% examples, 1119701 words/s, in_qsize 10, out_qsize 1\n",
      "INFO:gensim.models.word2vec:EPOCH 42 - PROGRESS: at 75.47% examples, 1101810 words/s, in_qsize 5, out_qsize 0\n",
      "INFO:gensim.models.word2vec:EPOCH 42 - PROGRESS: at 90.32% examples, 1099957 words/s, in_qsize 9, out_qsize 0\n",
      "INFO:gensim.models.word2vec:EPOCH 42: training on 227126066 raw words (220366389 effective words) took 199.7s, 1103445 effective words/s\n"
     ]
    },
    {
     "name": "stdout",
     "output_type": "stream",
     "text": [
      "Loss after epoch 42:34891924.0\n"
     ]
    },
    {
     "name": "stderr",
     "output_type": "stream",
     "text": [
      "INFO:gensim.models.word2vec:EPOCH 43 - PROGRESS: at 0.49% examples, 1047222 words/s, in_qsize 9, out_qsize 0\n",
      "INFO:gensim.models.word2vec:EPOCH 43 - PROGRESS: at 15.39% examples, 1093371 words/s, in_qsize 9, out_qsize 0\n",
      "INFO:gensim.models.word2vec:EPOCH 43 - PROGRESS: at 30.45% examples, 1100478 words/s, in_qsize 10, out_qsize 0\n",
      "INFO:gensim.models.word2vec:EPOCH 43 - PROGRESS: at 45.57% examples, 1104183 words/s, in_qsize 9, out_qsize 1\n",
      "INFO:gensim.models.word2vec:EPOCH 43 - PROGRESS: at 60.96% examples, 1110193 words/s, in_qsize 8, out_qsize 3\n",
      "INFO:gensim.models.word2vec:EPOCH 43 - PROGRESS: at 76.19% examples, 1112260 words/s, in_qsize 10, out_qsize 0\n",
      "INFO:gensim.models.word2vec:EPOCH 43 - PROGRESS: at 90.74% examples, 1105007 words/s, in_qsize 9, out_qsize 0\n",
      "INFO:gensim.models.word2vec:EPOCH 43: training on 227126066 raw words (220365773 effective words) took 199.1s, 1106615 effective words/s\n"
     ]
    },
    {
     "name": "stdout",
     "output_type": "stream",
     "text": [
      "Loss after epoch 43:34648352.0\n"
     ]
    },
    {
     "name": "stderr",
     "output_type": "stream",
     "text": [
      "INFO:gensim.models.word2vec:EPOCH 44 - PROGRESS: at 0.47% examples, 1017940 words/s, in_qsize 10, out_qsize 1\n",
      "INFO:gensim.models.word2vec:EPOCH 44 - PROGRESS: at 15.79% examples, 1122085 words/s, in_qsize 8, out_qsize 2\n",
      "INFO:gensim.models.word2vec:EPOCH 44 - PROGRESS: at 30.98% examples, 1119561 words/s, in_qsize 9, out_qsize 0\n",
      "INFO:gensim.models.word2vec:EPOCH 44 - PROGRESS: at 46.14% examples, 1118155 words/s, in_qsize 9, out_qsize 0\n",
      "INFO:gensim.models.word2vec:EPOCH 44 - PROGRESS: at 61.47% examples, 1119610 words/s, in_qsize 9, out_qsize 0\n",
      "INFO:gensim.models.word2vec:EPOCH 44 - PROGRESS: at 76.31% examples, 1114221 words/s, in_qsize 9, out_qsize 1\n",
      "INFO:gensim.models.word2vec:EPOCH 44 - PROGRESS: at 91.43% examples, 1113607 words/s, in_qsize 10, out_qsize 0\n",
      "INFO:gensim.models.word2vec:EPOCH 44: training on 227126066 raw words (220369401 effective words) took 197.9s, 1113760 effective words/s\n"
     ]
    },
    {
     "name": "stdout",
     "output_type": "stream",
     "text": [
      "Loss after epoch 44:34412292.0\n"
     ]
    },
    {
     "name": "stderr",
     "output_type": "stream",
     "text": [
      "INFO:gensim.models.word2vec:EPOCH 45 - PROGRESS: at 0.49% examples, 1071343 words/s, in_qsize 10, out_qsize 1\n",
      "INFO:gensim.models.word2vec:EPOCH 45 - PROGRESS: at 15.38% examples, 1093902 words/s, in_qsize 9, out_qsize 0\n",
      "INFO:gensim.models.word2vec:EPOCH 45 - PROGRESS: at 30.57% examples, 1105081 words/s, in_qsize 8, out_qsize 1\n",
      "INFO:gensim.models.word2vec:EPOCH 45 - PROGRESS: at 45.93% examples, 1113304 words/s, in_qsize 9, out_qsize 0\n",
      "INFO:gensim.models.word2vec:EPOCH 45 - PROGRESS: at 61.20% examples, 1114882 words/s, in_qsize 9, out_qsize 0\n",
      "INFO:gensim.models.word2vec:EPOCH 45 - PROGRESS: at 76.42% examples, 1115759 words/s, in_qsize 10, out_qsize 2\n",
      "INFO:gensim.models.word2vec:EPOCH 45 - PROGRESS: at 91.69% examples, 1116517 words/s, in_qsize 10, out_qsize 1\n",
      "INFO:gensim.models.word2vec:EPOCH 45: training on 227126066 raw words (220366367 effective words) took 197.5s, 1115750 effective words/s\n"
     ]
    },
    {
     "name": "stdout",
     "output_type": "stream",
     "text": [
      "Loss after epoch 45:34173940.0\n"
     ]
    },
    {
     "name": "stderr",
     "output_type": "stream",
     "text": [
      "INFO:gensim.models.word2vec:EPOCH 46 - PROGRESS: at 0.41% examples, 888182 words/s, in_qsize 10, out_qsize 2\n",
      "INFO:gensim.models.word2vec:EPOCH 46 - PROGRESS: at 15.22% examples, 1081631 words/s, in_qsize 9, out_qsize 0\n",
      "INFO:gensim.models.word2vec:EPOCH 46 - PROGRESS: at 30.76% examples, 1111529 words/s, in_qsize 9, out_qsize 0\n",
      "INFO:gensim.models.word2vec:EPOCH 46 - PROGRESS: at 46.50% examples, 1126675 words/s, in_qsize 9, out_qsize 0\n",
      "INFO:gensim.models.word2vec:EPOCH 46 - PROGRESS: at 62.23% examples, 1133334 words/s, in_qsize 8, out_qsize 3\n",
      "INFO:gensim.models.word2vec:EPOCH 46 - PROGRESS: at 78.03% examples, 1139157 words/s, in_qsize 9, out_qsize 0\n",
      "INFO:gensim.models.word2vec:EPOCH 46 - PROGRESS: at 93.74% examples, 1141551 words/s, in_qsize 9, out_qsize 0\n",
      "INFO:gensim.models.word2vec:EPOCH 46: training on 227126066 raw words (220367177 effective words) took 192.8s, 1142706 effective words/s\n"
     ]
    },
    {
     "name": "stdout",
     "output_type": "stream",
     "text": [
      "Loss after epoch 46:33981684.0\n"
     ]
    },
    {
     "name": "stderr",
     "output_type": "stream",
     "text": [
      "INFO:gensim.models.word2vec:EPOCH 47 - PROGRESS: at 0.50% examples, 1086671 words/s, in_qsize 9, out_qsize 1\n",
      "INFO:gensim.models.word2vec:EPOCH 47 - PROGRESS: at 16.07% examples, 1141569 words/s, in_qsize 9, out_qsize 0\n",
      "INFO:gensim.models.word2vec:EPOCH 47 - PROGRESS: at 31.55% examples, 1139940 words/s, in_qsize 9, out_qsize 0\n",
      "INFO:gensim.models.word2vec:EPOCH 47 - PROGRESS: at 46.97% examples, 1138626 words/s, in_qsize 9, out_qsize 0\n",
      "INFO:gensim.models.word2vec:EPOCH 47 - PROGRESS: at 62.37% examples, 1136282 words/s, in_qsize 8, out_qsize 1\n",
      "INFO:gensim.models.word2vec:EPOCH 47 - PROGRESS: at 77.76% examples, 1135567 words/s, in_qsize 9, out_qsize 1\n",
      "INFO:gensim.models.word2vec:EPOCH 47 - PROGRESS: at 92.52% examples, 1126769 words/s, in_qsize 2, out_qsize 0\n",
      "INFO:gensim.models.word2vec:EPOCH 47: training on 227126066 raw words (220366821 effective words) took 197.3s, 1116776 effective words/s\n"
     ]
    },
    {
     "name": "stdout",
     "output_type": "stream",
     "text": [
      "Loss after epoch 47:33807656.0\n"
     ]
    },
    {
     "name": "stderr",
     "output_type": "stream",
     "text": [
      "INFO:gensim.models.word2vec:EPOCH 48 - PROGRESS: at 0.48% examples, 1051574 words/s, in_qsize 10, out_qsize 1\n",
      "INFO:gensim.models.word2vec:EPOCH 48 - PROGRESS: at 15.54% examples, 1104616 words/s, in_qsize 8, out_qsize 1\n",
      "INFO:gensim.models.word2vec:EPOCH 48 - PROGRESS: at 30.54% examples, 1104020 words/s, in_qsize 0, out_qsize 0\n",
      "INFO:gensim.models.word2vec:EPOCH 48 - PROGRESS: at 45.48% examples, 1102191 words/s, in_qsize 9, out_qsize 1\n",
      "INFO:gensim.models.word2vec:EPOCH 48 - PROGRESS: at 60.12% examples, 1095148 words/s, in_qsize 10, out_qsize 0\n",
      "INFO:gensim.models.word2vec:EPOCH 48 - PROGRESS: at 75.16% examples, 1097398 words/s, in_qsize 9, out_qsize 0\n",
      "INFO:gensim.models.word2vec:EPOCH 48 - PROGRESS: at 90.39% examples, 1100864 words/s, in_qsize 7, out_qsize 2\n",
      "INFO:gensim.models.word2vec:EPOCH 48: training on 227126066 raw words (220365820 effective words) took 200.3s, 1100191 effective words/s\n"
     ]
    },
    {
     "name": "stdout",
     "output_type": "stream",
     "text": [
      "Loss after epoch 48:33460040.0\n"
     ]
    },
    {
     "name": "stderr",
     "output_type": "stream",
     "text": [
      "INFO:gensim.models.word2vec:EPOCH 49 - PROGRESS: at 0.43% examples, 939031 words/s, in_qsize 9, out_qsize 0\n",
      "INFO:gensim.models.word2vec:EPOCH 49 - PROGRESS: at 15.73% examples, 1117744 words/s, in_qsize 9, out_qsize 0\n",
      "INFO:gensim.models.word2vec:EPOCH 49 - PROGRESS: at 31.06% examples, 1122381 words/s, in_qsize 9, out_qsize 1\n",
      "INFO:gensim.models.word2vec:EPOCH 49 - PROGRESS: at 46.26% examples, 1120773 words/s, in_qsize 9, out_qsize 0\n",
      "INFO:gensim.models.word2vec:EPOCH 49 - PROGRESS: at 61.56% examples, 1121273 words/s, in_qsize 9, out_qsize 0\n",
      "INFO:gensim.models.word2vec:EPOCH 49 - PROGRESS: at 77.35% examples, 1129445 words/s, in_qsize 10, out_qsize 1\n",
      "INFO:gensim.models.word2vec:EPOCH 49 - PROGRESS: at 93.17% examples, 1134726 words/s, in_qsize 9, out_qsize 0\n",
      "INFO:gensim.models.word2vec:EPOCH 49: training on 227126066 raw words (220368870 effective words) took 193.9s, 1136686 effective words/s\n",
      "INFO:gensim.utils:Word2Vec lifecycle event {'msg': 'training on 11356303300 raw words (11018347207 effective words) took 9669.2s, 1139533 effective words/s', 'datetime': '2023-04-16T22:51:28.083241', 'gensim': '4.3.1', 'python': '3.11.3 | packaged by conda-forge | (main, Apr  6 2023, 09:05:00) [Clang 14.0.6 ]', 'platform': 'macOS-12.6-x86_64-i386-64bit', 'event': 'train'}\n"
     ]
    },
    {
     "name": "stdout",
     "output_type": "stream",
     "text": [
      "Loss after epoch 49:33048170.0\n"
     ]
    },
    {
     "data": {
      "text/plain": [
       "(11018347207, 11356303300)"
      ]
     },
     "execution_count": 14,
     "metadata": {},
     "output_type": "execute_result"
    }
   ],
   "source": [
    "model.train(sentences, epochs=50, total_examples=model.corpus_count, total_words=model.corpus_total_words, compute_loss=True, report_delay=30, callbacks=[Callback()])\n"
   ]
  },
  {
   "cell_type": "code",
   "execution_count": 15,
   "id": "ec534c05",
   "metadata": {},
   "outputs": [
    {
     "name": "stderr",
     "output_type": "stream",
     "text": [
      "INFO:gensim.utils:Word2Vec lifecycle event {'fname_or_handle': 'word2vec-100-bel-cc100.model', 'separately': 'None', 'sep_limit': 10485760, 'ignore': frozenset(), 'datetime': '2023-04-16T22:51:28.103868', 'gensim': '4.3.1', 'python': '3.11.3 | packaged by conda-forge | (main, Apr  6 2023, 09:05:00) [Clang 14.0.6 ]', 'platform': 'macOS-12.6-x86_64-i386-64bit', 'event': 'saving'}\n",
      "INFO:gensim.utils:storing np array 'vectors' to word2vec-100-bel-cc100.model.wv.vectors.npy\n",
      "INFO:gensim.utils:storing np array 'syn1neg' to word2vec-100-bel-cc100.model.syn1neg.npy\n",
      "INFO:gensim.utils:not storing attribute cum_table\n",
      "INFO:gensim.utils:saved word2vec-100-bel-cc100.model\n"
     ]
    }
   ],
   "source": [
    "model.save(\"word2vec-100-bel-cc100.model\")"
   ]
  },
  {
   "cell_type": "code",
   "execution_count": 100,
   "id": "625cd5fd",
   "metadata": {},
   "outputs": [
    {
     "data": {
      "text/plain": [
       "[('рогат', 0.7393548488616943),\n",
       " ('віскат', 0.7063933610916138),\n",
       " ('шэпт', 0.7021474242210388),\n",
       " ('гул', 0.6958292722702026),\n",
       " ('прарэзлівы', 0.6882970333099365),\n",
       " ('хрып', 0.681495726108551),\n",
       " ('гучнейшы', 0.6771256327629089),\n",
       " ('звонкі', 0.6758430600166321),\n",
       " ('пошум', 0.674797534942627),\n",
       " ('трэск', 0.6702352166175842),\n",
       " ('шум', 0.6626041531562805),\n",
       " ('свіст', 0.6624439358711243),\n",
       " ('тупат', 0.6604283452033997),\n",
       " ('прыцішаны', 0.659925639629364),\n",
       " ('выкрык', 0.6570577025413513),\n",
       " ('прыглушаны', 0.653853178024292),\n",
       " ('рокат', 0.6535115838050842),\n",
       " ('віск', 0.6509947180747986),\n",
       " ('хрыплы', 0.649290919303894),\n",
       " ('грукат', 0.6481378674507141)]"
      ]
     },
     "execution_count": 100,
     "metadata": {},
     "output_type": "execute_result"
    }
   ],
   "source": [
    "model.wv.most_similar('гогат', topn=20)"
   ]
  },
  {
   "cell_type": "code",
   "execution_count": 28,
   "id": "465b441c",
   "metadata": {
    "scrolled": true
   },
   "outputs": [
    {
     "data": {
      "text/plain": [
       "['беларускі',\n",
       " 'беларусь',\n",
       " 'год',\n",
       " 'час',\n",
       " 'больш',\n",
       " 'дзень',\n",
       " 'людзі',\n",
       " 'мова',\n",
       " 'чалавек',\n",
       " 'жыццё',\n",
       " 'праца',\n",
       " 'іншы',\n",
       " 'годзе',\n",
       " 'адзін',\n",
       " 'краіна',\n",
       " 'новы',\n",
       " 'рэспубліка',\n",
       " 'вялікі',\n",
       " 'гісторыя',\n",
       " 'месца',\n",
       " 'мінск',\n",
       " 'гульня',\n",
       " 'горад',\n",
       " 'два',\n",
       " 'культура',\n",
       " 'сайт',\n",
       " 'раён',\n",
       " 'старонка',\n",
       " 'правіць',\n",
       " 'дзеці',\n",
       " 'цяпер',\n",
       " 'розны',\n",
       " 'шмат',\n",
       " 'справа',\n",
       " 'сёння',\n",
       " 'першы',\n",
       " 'права',\n",
       " 'разам',\n",
       " 'матэрыял',\n",
       " 'пытанне',\n",
       " 'няма',\n",
       " 'кожны',\n",
       " 'адукацыя',\n",
       " 'імя',\n",
       " 'нацыянальны',\n",
       " 'свет',\n",
       " 'дзяржаўны',\n",
       " 'слова',\n",
       " 'беларус',\n",
       " 'вынік',\n",
       " 'арганізацыя',\n",
       " 'кніга',\n",
       " 'пачатак',\n",
       " 'дзейнасць',\n",
       " 'літаратура',\n",
       " 'некалькі',\n",
       " 'вайна',\n",
       " 'развіццё',\n",
       " 'вобласць',\n",
       " 'дом',\n",
       " 'сярод',\n",
       " 'інфармацыя',\n",
       " 'стала',\n",
       " 'дзяржава',\n",
       " 'цэнтр',\n",
       " 'вёска',\n",
       " 'супраць',\n",
       " 'школа',\n",
       " 'праграма',\n",
       " 'лік',\n",
       " 'яўляецца',\n",
       " 'сказаў',\n",
       " 'улада',\n",
       " 'зямля',\n",
       " 'зрабіць',\n",
       " 'радыё',\n",
       " 'прадстаўнік',\n",
       " 'старшыня',\n",
       " 'відэа',\n",
       " 'кампанія',\n",
       " 'пакуль',\n",
       " 'тэрыторыя',\n",
       " 'спасылка',\n",
       " 'заўсёды',\n",
       " 'прэзідэнт',\n",
       " 'умова',\n",
       " 'сувязь',\n",
       " 'апошні',\n",
       " 'добра',\n",
       " 'тры',\n",
       " 'расія',\n",
       " 'сакавік',\n",
       " 'аляксандр',\n",
       " 'польшча',\n",
       " 'рух',\n",
       " 'павінны',\n",
       " 'сустрэча',\n",
       " 'работа',\n",
       " 'рэч',\n",
       " 'стаў',\n",
       " 'зыходнік',\n",
       " 'маці',\n",
       " 'праблема',\n",
       " 'колькасць',\n",
       " 'лукашэнка',\n",
       " 'адны',\n",
       " 'раней',\n",
       " 'вядома',\n",
       " 'часам',\n",
       " 'мастацтва',\n",
       " 'кастрычнік',\n",
       " 'акрамя',\n",
       " 'галоўны',\n",
       " 'кажа',\n",
       " 'савет',\n",
       " 'маюць',\n",
       " 'рабіць',\n",
       " 'працяг',\n",
       " 'партыя',\n",
       " 'якасці',\n",
       " 'зша',\n",
       " 'ліпень',\n",
       " 'нічога',\n",
       " 'некаторы',\n",
       " 'выпадак',\n",
       " 'інтэрнэт',\n",
       " 'магчымасць',\n",
       " 'асабліва',\n",
       " 'менш',\n",
       " 'лістапад',\n",
       " 'насельніцтва',\n",
       " 'верасень',\n",
       " 'з’яўляецца',\n",
       " 'адна',\n",
       " 'гэтая',\n",
       " 'свеце',\n",
       " 'варта',\n",
       " 'боку',\n",
       " 'онлайн',\n",
       " 'моладзь',\n",
       " 'навука',\n",
       " 'украіна',\n",
       " 'група',\n",
       " 'знаходзіцца',\n",
       " 'акцыя',\n",
       " 'магчыма',\n",
       " 'атрымаць',\n",
       " 'чэрвень',\n",
       " 'ўсім',\n",
       " 'наш',\n",
       " 'тысяча',\n",
       " 'наступны',\n",
       " 'студзень',\n",
       " 'свята',\n",
       " 'красавік',\n",
       " 'павінна',\n",
       " 'альбо',\n",
       " 'фота',\n",
       " 'стагоддзе',\n",
       " 'рэдагаваць',\n",
       " 'сваё',\n",
       " 'веды',\n",
       " 'крыніца',\n",
       " 'найбольш',\n",
       " 'галіна',\n",
       " 'гэтую',\n",
       " 'міністэрства',\n",
       " 'далей',\n",
       " 'чат',\n",
       " 'навіна',\n",
       " 'момант',\n",
       " 'цалкам',\n",
       " 'кіраўнік',\n",
       " 'люты',\n",
       " 'грошы',\n",
       " 'здароўе',\n",
       " 'працаваць',\n",
       " 'вуліца',\n",
       " 'часта',\n",
       " 'расея',\n",
       " 'жнівень',\n",
       " 'сапраўды',\n",
       " 'усіх',\n",
       " 'такой',\n",
       " 'такое',\n",
       " 'знайсці',\n",
       " 'многія',\n",
       " 'павінен',\n",
       " 'ўдзел',\n",
       " 'цябе',\n",
       " 'праект',\n",
       " 'частка',\n",
       " 'асоба',\n",
       " 'мой',\n",
       " 'падзея',\n",
       " 'суд',\n",
       " 'нешта',\n",
       " 'ніколі',\n",
       " 'прыватнасць',\n",
       " 'дапамога',\n",
       " 'нараджэнне',\n",
       " 'верш',\n",
       " 'сказаць',\n",
       " 'уладзімір',\n",
       " 'снежань',\n",
       " 'сталі',\n",
       " 'cookіes',\n",
       " 'мець',\n",
       " 'рубель',\n",
       " 'адбылося',\n",
       " 'хутка',\n",
       " 'твор',\n",
       " 'неабходна',\n",
       " 'ніхто',\n",
       " 'палітыка',\n",
       " 'аўтар',\n",
       " 'усяго',\n",
       " 'сяргей',\n",
       " 'атрымаў',\n",
       " 'стане',\n",
       " 'самых',\n",
       " 'сабой',\n",
       " 'працуе',\n",
       " 'колькі',\n",
       " 'рашэнне',\n",
       " 'другі',\n",
       " 'жыхар',\n",
       " 'вікіпедыя',\n",
       " 'студэнт',\n",
       " 'адно',\n",
       " 'сваімі',\n",
       " 'дзякуючы',\n",
       " 'грамадзянін',\n",
       " 'такая',\n",
       " 'нарадзіўся',\n",
       " 'значыць',\n",
       " 'свабода',\n",
       " 'дарэчы',\n",
       " 'удзел',\n",
       " 'ідзе',\n",
       " 'лічыць',\n",
       " 'тэкст',\n",
       " 'імі',\n",
       " 'выбары',\n",
       " 'праўда',\n",
       " 'c',\n",
       " 'лепш',\n",
       " 'намеснік',\n",
       " 'катэгорыя',\n",
       " 'небудзь',\n",
       " 'першым',\n",
       " 'музей',\n",
       " 'замежны',\n",
       " 'файл',\n",
       " 'бок',\n",
       " 'грамадства',\n",
       " 'стварыць',\n",
       " 'андрэй',\n",
       " 'будаўніцтва',\n",
       " 'перыяд',\n",
       " 'другой',\n",
       " 'рацыя',\n",
       " 'нельга',\n",
       " 'надвор',\n",
       " 'такога',\n",
       " 'ласка',\n",
       " 'бясплатна',\n",
       " 'сістэмы',\n",
       " 'стаць',\n",
       " 'даволі',\n",
       " 'спіс',\n",
       " 'склад',\n",
       " 'мог',\n",
       " 'жыць',\n",
       " 'працаваў',\n",
       " 'адзначыў',\n",
       " 'выкарыстанні',\n",
       " 'бібліятэка',\n",
       " 'паветра',\n",
       " 'шлях',\n",
       " 'спачатку',\n",
       " 'ссср',\n",
       " 'пачалі',\n",
       " 'самым',\n",
       " 'песні',\n",
       " 'прэс',\n",
       " 'творчасці',\n",
       " 'навучання',\n",
       " 'ўсяго',\n",
       " 'першае',\n",
       " 'бацькі',\n",
       " 'аляксандра',\n",
       " 'жыве',\n",
       " 'дае',\n",
       " 'адказ',\n",
       " 'кошт',\n",
       " 'выкарыстанне',\n",
       " 'сям',\n",
       " 'нягледзячы',\n",
       " 'заявіў',\n",
       " 'любы',\n",
       " 'магчымасці',\n",
       " 'правоў',\n",
       " 'школе',\n",
       " 'побач',\n",
       " 'сёлета',\n",
       " 'народнай',\n",
       " 'маглі',\n",
       " 'адбудзецца',\n",
       " 'княства',\n",
       " 'волі',\n",
       " 'ваш',\n",
       " 'газеты',\n",
       " 'катэгорыі',\n",
       " 'пачаў',\n",
       " 'трох',\n",
       " 'цяжка',\n",
       " 'камісіі',\n",
       " 'хаця',\n",
       " 'будзем',\n",
       " 'табе',\n",
       " 'кажуць',\n",
       " 'спраў',\n",
       " 'адбываецца',\n",
       " 'таварыства',\n",
       " 'дазваляе',\n",
       " 'смі',\n",
       " 'многіх',\n",
       " 'гісторыю',\n",
       " 'хутчэй',\n",
       " 'тыдзень',\n",
       " 'правядзення',\n",
       " 'цэнтра',\n",
       " 'першыя',\n",
       " 'адбылася',\n",
       " 'бог',\n",
       " 'большасць',\n",
       " 'сям’і',\n",
       " 'самыя',\n",
       " 'намі',\n",
       " 'вялікія',\n",
       " 'арганізацый',\n",
       " 'існуе',\n",
       " 'пазней',\n",
       " 'працэс',\n",
       " 'сусветнай',\n",
       " 'сродкаў',\n",
       " 'царквы',\n",
       " 'інш',\n",
       " 'канцы',\n",
       " 'рукі',\n",
       " 'мерапрыемства',\n",
       " 'памяці',\n",
       " 'затым',\n",
       " 'конкурс',\n",
       " 'народ',\n",
       " 'звычайна',\n",
       " 'першага',\n",
       " 'значна',\n",
       " 'кіраўніцтва',\n",
       " 'асобных',\n",
       " 'палітычных',\n",
       " 'першая',\n",
       " 'думку',\n",
       " 'пяць',\n",
       " 'выкарыстання',\n",
       " 'выглядзе',\n",
       " 'роднай',\n",
       " 'абавязкова',\n",
       " 'супрацоўніцтва',\n",
       " 'аховы',\n",
       " 'атрымалі',\n",
       " 'народа',\n",
       " 'спампаваць',\n",
       " 'канца',\n",
       " 'жанчыны',\n",
       " 'сэрца',\n",
       " 'азначае',\n",
       " 'самае',\n",
       " 'чатыры',\n",
       " 'новай',\n",
       " 'здаецца',\n",
       " 'адбыўся',\n",
       " 'даўно',\n",
       " 'годдзя',\n",
       " 'некаторых',\n",
       " 'выпадках',\n",
       " 'саюза',\n",
       " 'чаргу',\n",
       " 'еўропы',\n",
       " '№',\n",
       " 'часопіс',\n",
       " 'меў',\n",
       " 'слоў',\n",
       " 'ступені',\n",
       " 'царква',\n",
       " 'складзе',\n",
       " 'бясплатны',\n",
       " 'інфармацыю',\n",
       " 'рамках',\n",
       " 'гэтак',\n",
       " 'праекта',\n",
       " 'мікалай',\n",
       " 'межах',\n",
       " 'іншым',\n",
       " 'атрымання',\n",
       " 'гуляць',\n",
       " 'галоўнае',\n",
       " 'акадэміі',\n",
       " 'незалежнасці',\n",
       " 'алесь',\n",
       " 'ведаць',\n",
       " 'бсср',\n",
       " 'гарадоў',\n",
       " 'клас',\n",
       " 'артыкулы',\n",
       " 'колькасці',\n",
       " 'абароны',\n",
       " 'вытворчасці',\n",
       " 'рады',\n",
       " 'першую',\n",
       " 'плошчы',\n",
       " 'конкурсу',\n",
       " 'пройдзе',\n",
       " 'палітыкі',\n",
       " 'артыкул',\n",
       " 'сама',\n",
       " 'мінска',\n",
       " 'сферы',\n",
       " 'запрашаем',\n",
       " 'рэгістрацыі',\n",
       " 'памяць',\n",
       " 'вэб',\n",
       " 'газета',\n",
       " 'неба',\n",
       " 'пісьменнікаў',\n",
       " 'ведаю',\n",
       " 'сын',\n",
       " 'ўвесь',\n",
       " 'выбараў',\n",
       " 'важна',\n",
       " 'тэрмін',\n",
       " 'гісторыка',\n",
       " 'зразумела',\n",
       " 'навукова',\n",
       " 'згодна',\n",
       " 'рускай',\n",
       " 'сілы',\n",
       " 'цікава',\n",
       " 'ўсёй',\n",
       " 'мала',\n",
       " 'бога',\n",
       " 'сітуацыі',\n",
       " 'вясна',\n",
       " 'хочаце',\n",
       " 'вакол',\n",
       " 'парадку',\n",
       " 'кіравання',\n",
       " 'застаецца',\n",
       " 'доме',\n",
       " 'неабходныя',\n",
       " 'паколькі',\n",
       " 'справу',\n",
       " 'навукі',\n",
       " 'атрымліваць',\n",
       " 'іншымі',\n",
       " 'шэраг',\n",
       " 'іншага',\n",
       " 'музыкі',\n",
       " 'паэт',\n",
       " 'прайшоў',\n",
       " 'касцёл',\n",
       " 'кніг',\n",
       " 'адпаведнасці',\n",
       " 'усім',\n",
       " 'кнігу',\n",
       " 'сярэдняй',\n",
       " 'сябры',\n",
       " 'думаю',\n",
       " 'адносіны',\n",
       " 'бацька',\n",
       " 'жаль',\n",
       " 'змяніць',\n",
       " 'дадатковыя',\n",
       " 'гонар',\n",
       " 'музея',\n",
       " 'часткі',\n",
       " 'сродкі',\n",
       " 'часы',\n",
       " 'вялікім',\n",
       " 'адрас',\n",
       " 'мясцовых',\n",
       " 'бнр',\n",
       " 'курс',\n",
       " 'лукашэнкі',\n",
       " 'свабоду',\n",
       " 'магу',\n",
       " 'дырэктар',\n",
       " 'правілы',\n",
       " 'сек',\n",
       " 'паведаміў',\n",
       " 'гэту',\n",
       " 'зрабіў',\n",
       " 'працуюць',\n",
       " 'жанчына',\n",
       " 'галоўнай',\n",
       " '–',\n",
       " 'ведае',\n",
       " 'бацькоў',\n",
       " 'ўвагу',\n",
       " 'крыху',\n",
       " 'памёр',\n",
       " 'мелі',\n",
       " 'гаспадаркі',\n",
       " 'асоб',\n",
       " 'стварэння',\n",
       " 'камітэт',\n",
       " 'бяспекі',\n",
       " 'віктар',\n",
       " 'новым',\n",
       " 'вядомы',\n",
       " 'мага',\n",
       " 'смерці',\n",
       " 'разоў',\n",
       " 'месяц',\n",
       " 'выходзіць',\n",
       " 'прэміі',\n",
       " 'закон',\n",
       " 'сістэма',\n",
       " 'вучняў',\n",
       " 'саюз',\n",
       " 'дапамагчы',\n",
       " 'жанчын',\n",
       " 'міністраў',\n",
       " 'яўляюцца',\n",
       " 'адну',\n",
       " 'бнф',\n",
       " 'кіраўніка',\n",
       " 'міжнародны',\n",
       " 'людзям',\n",
       " 'хоча',\n",
       " 'жыхары',\n",
       " 'увагу',\n",
       " 'новая',\n",
       " 'польскай',\n",
       " 'галоўнага',\n",
       " 'выкарыстоўваць',\n",
       " 'сталіцы',\n",
       " 'мэтай',\n",
       " 'гадзін',\n",
       " 'падтрымку',\n",
       " 'дачыненні',\n",
       " 'бачыць',\n",
       " 'месяцаў',\n",
       " 'знаходзяцца',\n",
       " 'млн',\n",
       " 'канферэнцыі',\n",
       " 'тысячы',\n",
       " 'рынку',\n",
       " 'міністра',\n",
       " 'праходзіць',\n",
       " 'краінах',\n",
       " 'адносна',\n",
       " 'мяжы',\n",
       " 'фестываль',\n",
       " 'маладых',\n",
       " 'перайсці',\n",
       " 'вады',\n",
       " 'міліцыі',\n",
       " 'вочы',\n",
       " 'міжнароднага',\n",
       " 'вкл',\n",
       " 'ролю',\n",
       " 'выстава',\n",
       " 'айчыннай',\n",
       " 'маю',\n",
       " 'твораў',\n",
       " 'службы',\n",
       " 'словах',\n",
       " 'аснове',\n",
       " 'даць',\n",
       " 'агульнай',\n",
       " 'апошняе',\n",
       " 'журналістаў',\n",
       " 'святога',\n",
       " 'самай',\n",
       " 'інстытут',\n",
       " 'тыс',\n",
       " 'нагоды',\n",
       " 'мінулым',\n",
       " 'душы',\n",
       " 'прыйшоў',\n",
       " 'лёс',\n",
       " 'дзяржаўных',\n",
       " 'аддзела',\n",
       " 'якімі',\n",
       " 'відаць',\n",
       " 'назад',\n",
       " 'напэўна',\n",
       " 'штаны',\n",
       " 'сяброў',\n",
       " 'сына',\n",
       " 'другое',\n",
       " 'атрымала',\n",
       " 'цела',\n",
       " 'іван',\n",
       " 'робіць',\n",
       " 'аан',\n",
       " 'музеі',\n",
       " 'сардэчна',\n",
       " 'дапамогу',\n",
       " 'мерапрыемстваў',\n",
       " 'супольнасці',\n",
       " 'вільні',\n",
       " 'вялікую',\n",
       " 'хачу',\n",
       " 'кропка',\n",
       " 'менск',\n",
       " 'добры',\n",
       " 'дадзеных',\n",
       " 'рэсурсаў',\n",
       " 'туды',\n",
       " 'асноўным',\n",
       " 'камітэта',\n",
       " 'сітуацыя',\n",
       " 'змены',\n",
       " 'актыўна',\n",
       " 'лёгка',\n",
       " 'характар',\n",
       " 'удзельнікаў',\n",
       " 'запіс',\n",
       " 'выбар',\n",
       " 'маладыя',\n",
       " 'практычна',\n",
       " 'мінулага',\n",
       " 'расійскай',\n",
       " 'асноўныя',\n",
       " 'перш',\n",
       " 'кожным',\n",
       " 'аўтара',\n",
       " 'адмовіцца',\n",
       " 'такую',\n",
       " 'эканомікі',\n",
       " 'мясцовыя',\n",
       " 'студэнты',\n",
       " 'свабоды',\n",
       " 'нядаўна',\n",
       " 'дзейнічаць',\n",
       " 'прадпрыемства',\n",
       " 'жывуць',\n",
       " 'дэпутатаў',\n",
       " 'традыцыі',\n",
       " 'бібліятэкі',\n",
       " 'болей',\n",
       " 'перамогі',\n",
       " 'міністр',\n",
       " 'дапамогі',\n",
       " 'дастаткова',\n",
       " 'замест',\n",
       " 'афіцыйны',\n",
       " 'бду',\n",
       " 'падобныя',\n",
       " 'траўня',\n",
       " 'майстар',\n",
       " 'хацеў',\n",
       " 'стварэнне',\n",
       " 'заходняй',\n",
       " 'выбарах',\n",
       " 'сучаснай',\n",
       " 'паказаць',\n",
       " 'меры',\n",
       " 'паэта',\n",
       " 'даступны',\n",
       " 'праводзіць',\n",
       " 'быццам',\n",
       " 'частку',\n",
       " 'тэгі',\n",
       " 'некалькіх',\n",
       " 'тэму',\n",
       " 'пісьменнік',\n",
       " 'назва',\n",
       " 'другога',\n",
       " 'міжнароднай',\n",
       " 'шляху',\n",
       " 'купалы',\n",
       " 'сезон',\n",
       " 'канцэрт',\n",
       " 'прычыны',\n",
       " 'праблем',\n",
       " 'дзякуй',\n",
       " 'пытаннях',\n",
       " 'фільм',\n",
       " 'міжнародных',\n",
       " 'сацыяльна',\n",
       " 'райвыканкама',\n",
       " 'аат',\n",
       " 'павел',\n",
       " 'літоўскага',\n",
       " 'прадукцыі',\n",
       " 'хуткасцю',\n",
       " 'складае',\n",
       " 'нейкі',\n",
       " 'месцаў',\n",
       " 'прычым',\n",
       " 'першых',\n",
       " 'пытанняў',\n",
       " 'супрацоўнікі',\n",
       " 'буду',\n",
       " 'работ',\n",
       " 'файлаў',\n",
       " 'даследаванняў',\n",
       " 'арт',\n",
       " 'дзіця',\n",
       " 'касцёла',\n",
       " 'немагчыма',\n",
       " 'увесь',\n",
       " 'няхай',\n",
       " 'паведамляе',\n",
       " 'налады',\n",
       " 'дакладна',\n",
       " 'наступная',\n",
       " 'між',\n",
       " 'сацыяльнай',\n",
       " 'моцна',\n",
       " 'піша',\n",
       " 'выйшаў',\n",
       " 'днём',\n",
       " 'адначасова',\n",
       " 'заканадаўства',\n",
       " 'тэма',\n",
       " 'лета',\n",
       " 'ідэі',\n",
       " 'нашая',\n",
       " 'паслугі',\n",
       " 'вялікае',\n",
       " 'напярэдадні',\n",
       " 'беларуска',\n",
       " 'сем',\n",
       " 'дзеянні',\n",
       " 'ліст',\n",
       " 'зрабілі',\n",
       " 'часоў',\n",
       " 'часцей',\n",
       " 'школу',\n",
       " 'створаны',\n",
       " 'нібыта',\n",
       " 'іншае',\n",
       " 'зменаў',\n",
       " 'ліцэнзіі',\n",
       " 'выкарыстоўвае',\n",
       " 'ігар',\n",
       " 'кватэры',\n",
       " 'гадзіны',\n",
       " 'жонка',\n",
       " 'грамадзянскай',\n",
       " 'наогул',\n",
       " 'органаў',\n",
       " 'ўзровень',\n",
       " 'дакументы',\n",
       " 'новае',\n",
       " 'арміі',\n",
       " 'сюды',\n",
       " 'значэнне',\n",
       " 'зямлю',\n",
       " 'выданне',\n",
       " 'савецкай',\n",
       " 'расы',\n",
       " 'становішча',\n",
       " 'прынялі',\n",
       " 'правесці',\n",
       " 'партал',\n",
       " 'з’яўляюцца',\n",
       " 'праваабаронцы',\n",
       " 'устаноў',\n",
       " 'ноч',\n",
       " 'мастацтваў',\n",
       " 'дзьме',\n",
       " 'казаць',\n",
       " 'прыняць',\n",
       " 'даведацца',\n",
       " 'можам',\n",
       " 'работу',\n",
       " 'тыдні',\n",
       " 'ўніверсітэта',\n",
       " 'доўга',\n",
       " 'янкі',\n",
       " 'украіне',\n",
       " 'погляд',\n",
       " 'дзіцяці',\n",
       " 'ведаюць',\n",
       " 'уладзіміра',\n",
       " 'стан',\n",
       " 'народу',\n",
       " 'сайту',\n",
       " 'даў',\n",
       " 'грошай',\n",
       " 'каму',\n",
       " 'нарэшце',\n",
       " 'хай',\n",
       " 'бізнес',\n",
       " 'вікідадзеных',\n",
       " 'кожнай',\n",
       " 'паслуг',\n",
       " 'прыйшлі',\n",
       " 'напісаў',\n",
       " 'belsat',\n",
       " 'грамадскага',\n",
       " 'форме',\n",
       " 'голас',\n",
       " 'помнік',\n",
       " 'цэлым',\n",
       " 'маёй',\n",
       " 'рэспубліцы',\n",
       " 'хвілін',\n",
       " 'дазваляецца',\n",
       " 'ўпершыню',\n",
       " 'галоўным',\n",
       " 'тбм',\n",
       " 'нашу',\n",
       " 'выйшла',\n",
       " 'часе',\n",
       " 'навучанне',\n",
       " 'алена',\n",
       " 'паважаныя',\n",
       " 'ніякіх',\n",
       " 'сацыяльных',\n",
       " 'мела',\n",
       " 'інтэрнэце',\n",
       " 'любоў',\n",
       " 'формы',\n",
       " 'святы',\n",
       " 'войска',\n",
       " 'ісці',\n",
       " 'германіі',\n",
       " 'праектаў',\n",
       " 'казаў',\n",
       " 'маскве',\n",
       " 'работнікаў',\n",
       " 'нумар',\n",
       " 'столькі',\n",
       " 'будынак',\n",
       " 'радзімы',\n",
       " 'патрэбна',\n",
       " 'асаблівасці',\n",
       " 'ветeр',\n",
       " 'прасторы',\n",
       " 'падрыхтоўкі',\n",
       " 'пайшоў',\n",
       " 'адпачынку',\n",
       " 'мора',\n",
       " 'адзначыць',\n",
       " 'стаіць',\n",
       " 'нашую',\n",
       " 'чакаецца',\n",
       " 'тэмы',\n",
       " 'тэмпература',\n",
       " 'спорту',\n",
       " 'працягласць',\n",
       " 'інстытута',\n",
       " 'выніках',\n",
       " 'тэатр',\n",
       " 'народнага',\n",
       " 'вышэй',\n",
       " 'занадта',\n",
       " 'адносінах',\n",
       " 'частцы',\n",
       " 'далёка',\n",
       " 'сельскай',\n",
       " 'тэмпературы',\n",
       " 'лепшай',\n",
       " 'commons',\n",
       " 'становіцца',\n",
       " 'ўмове',\n",
       " 'васіль',\n",
       " 'літвы',\n",
       " 'вопыт',\n",
       " 'народаў',\n",
       " 'сонца',\n",
       " 'думкі',\n",
       " 'мовай',\n",
       " 'creatіve',\n",
       " 'міхаіл',\n",
       " 'chatroulette',\n",
       " 'скончыў',\n",
       " 'прыкладна',\n",
       " 'лепшыя',\n",
       " 'музыка',\n",
       " 'дадзеныя',\n",
       " 'справах',\n",
       " 'складаецца',\n",
       " 'упершыню',\n",
       " 'робяць',\n",
       " 'ўдзелу',\n",
       " 'тэатра',\n",
       " 'пакарання',\n",
       " 'малады',\n",
       " 'умовах',\n",
       " 'узроўні',\n",
       " 'рэалізацыі',\n",
       " 'еўропе',\n",
       " 'прайшла',\n",
       " 'нейкія',\n",
       " 'тарашкевіца',\n",
       " 'палітычнай',\n",
       " 'другая',\n",
       " 'сябра',\n",
       " 'дакументаў',\n",
       " 'паспалітай',\n",
       " 'спадчыны',\n",
       " 'гадах',\n",
       " 'іншай',\n",
       " 'каманды',\n",
       " 'гаворыць',\n",
       " 'дзеянняў',\n",
       " 'месяцы',\n",
       " 'жыў',\n",
       " 'whatschat',\n",
       " 'дзеяч',\n",
       " 'папярэдняя',\n",
       " 'мэта',\n",
       " 'знайшлі',\n",
       " 'attrіbutіon',\n",
       " 'наконт',\n",
       " 'адказаў',\n",
       " 'тая',\n",
       " 'элемент',\n",
       " 'раённага',\n",
       " 'хочацца',\n",
       " 'францыі',\n",
       " 'фактычна',\n",
       " 'the',\n",
       " 'аляксей',\n",
       " 'культурнай',\n",
       " 'залежыць',\n",
       " 'хочуць',\n",
       " 'алеся',\n",
       " 'наколькі',\n",
       " 'падкрэсліў',\n",
       " 'карысць',\n",
       " 'большасці',\n",
       " 'парадак',\n",
       " 'грамадскіх',\n",
       " 'патрабуе',\n",
       " 'доступ',\n",
       " 'назвай',\n",
       " 'майго',\n",
       " 'цэнтральнай',\n",
       " 'суда',\n",
       " 'нашыя',\n",
       " 'пісьменніка',\n",
       " 'кіно',\n",
       " 'мерапрыемствы',\n",
       " 'коласа',\n",
       " 'начальнік',\n",
       " 'лічыцца',\n",
       " 'анатоль',\n",
       " 'кажучы',\n",
       " 'віцебску',\n",
       " 'правіла',\n",
       " 'гродна',\n",
       " 'друку',\n",
       " 'артыкула',\n",
       " 'пісаць',\n",
       " 'нацыянальным',\n",
       " 'безумоўна',\n",
       " 'тэхналогіі',\n",
       " 'неяк',\n",
       " 'паглядзець',\n",
       " 'народны',\n",
       " 'мінскай',\n",
       " 'трэці',\n",
       " 'зразумець',\n",
       " 'тэме',\n",
       " 'шчыра',\n",
       " 'вырашылі',\n",
       " 'гарады',\n",
       " 'нехта',\n",
       " 'разы',\n",
       " 'выданні',\n",
       " 'лепшым',\n",
       " 'мастак',\n",
       " 'алег',\n",
       " 'адміністрацыі',\n",
       " 'пагаджаецеся',\n",
       " 'сучасных',\n",
       " 'шляхам',\n",
       " 'краіну',\n",
       " 'любіць',\n",
       " 'дамоў',\n",
       " 'факт',\n",
       " 'ідэя',\n",
       " 'ўвогуле',\n",
       " 'наступным',\n",
       " 'гістарычных',\n",
       " 'прадпрыемстваў',\n",
       " 'новую',\n",
       " 'сям’я',\n",
       " 'самая',\n",
       " 'другім',\n",
       " 'былы',\n",
       " ...]"
      ]
     },
     "execution_count": 28,
     "metadata": {},
     "output_type": "execute_result"
    }
   ],
   "source": [
    "model.wv.index_to_key"
   ]
  },
  {
   "cell_type": "code",
   "execution_count": 37,
   "id": "0ffb10e4",
   "metadata": {},
   "outputs": [
    {
     "data": {
      "text/plain": [
       "1379"
      ]
     },
     "execution_count": 37,
     "metadata": {},
     "output_type": "execute_result"
    }
   ],
   "source": [
    "model.wv.get_vecattr(\"чарадзей\", \"count\")"
   ]
  }
 ],
 "metadata": {
  "kernelspec": {
   "display_name": "Python 3 (ipykernel)",
   "language": "python",
   "name": "python3"
  },
  "language_info": {
   "codemirror_mode": {
    "name": "ipython",
    "version": 3
   },
   "file_extension": ".py",
   "mimetype": "text/x-python",
   "name": "python",
   "nbconvert_exporter": "python",
   "pygments_lexer": "ipython3",
   "version": "3.11.3"
  }
 },
 "nbformat": 4,
 "nbformat_minor": 5
}
