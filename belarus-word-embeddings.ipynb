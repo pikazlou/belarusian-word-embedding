{
 "cells": [
  {
   "cell_type": "code",
   "execution_count": 1,
   "id": "de7b8b0c",
   "metadata": {},
   "outputs": [],
   "source": [
    "from gensim.models.word2vec import LineSentence\n",
    "from gensim.models import Word2Vec\n",
    "from gensim.models.callbacks import CallbackAny2Vec\n",
    "import matplotlib.pyplot as plt"
   ]
  },
  {
   "cell_type": "code",
   "execution_count": 2,
   "id": "7dc6904a",
   "metadata": {},
   "outputs": [
    {
     "name": "stderr",
     "output_type": "stream",
     "text": [
      "INFO:root:Logging initialized\n"
     ]
    }
   ],
   "source": [
    "import logging\n",
    "logging.basicConfig(level=logging.INFO, force = True)\n",
    "logger = logging.getLogger()\n",
    "logger.info(\"Logging initialized\")"
   ]
  },
  {
   "cell_type": "code",
   "execution_count": 3,
   "id": "ab9fc39e",
   "metadata": {},
   "outputs": [],
   "source": [
    "loss_list = []\n",
    "class Callback(CallbackAny2Vec):\n",
    "    def __init__(self):\n",
    "        self.epoch = 0\n",
    "\n",
    "    def on_epoch_end(self, model):\n",
    "        loss = model.get_latest_training_loss()\n",
    "        loss_list.append(loss)\n",
    "        logger.info('Loss after epoch {}:{}'.format(self.epoch, loss))\n",
    "        model.running_training_loss = 0.0\n",
    "        self.epoch = self.epoch + 1"
   ]
  },
  {
   "cell_type": "code",
   "execution_count": 4,
   "id": "61e8337d",
   "metadata": {},
   "outputs": [
    {
     "name": "stderr",
     "output_type": "stream",
     "text": [
      "INFO:gensim.utils:Word2Vec lifecycle event {'params': 'Word2Vec<vocab=0, vector_size=100, alpha=0.025>', 'datetime': '2023-05-18T16:58:29.556606', 'gensim': '4.3.1', 'python': '3.11.3 | packaged by conda-forge | (main, Apr  6 2023, 09:05:00) [Clang 14.0.6 ]', 'platform': 'macOS-12.6-x86_64-i386-64bit', 'event': 'created'}\n"
     ]
    }
   ],
   "source": [
    "model = Word2Vec(vector_size=100, window=3, min_count=10, workers=5)"
   ]
  },
  {
   "cell_type": "code",
   "execution_count": 5,
   "id": "35054bd1",
   "metadata": {},
   "outputs": [],
   "source": [
    "sentences = LineSentence('processed-corpus.txt')"
   ]
  },
  {
   "cell_type": "code",
   "execution_count": 6,
   "id": "615cf92b",
   "metadata": {},
   "outputs": [
    {
     "name": "stderr",
     "output_type": "stream",
     "text": [
      "INFO:gensim.models.word2vec:collecting all words and their counts\n",
      "INFO:gensim.models.word2vec:PROGRESS: at sentence #0, processed 0 words, keeping 0 word types\n",
      "INFO:gensim.models.word2vec:PROGRESS: at sentence #5000000, processed 40831628 words, keeping 101552 word types\n",
      "INFO:gensim.models.word2vec:PROGRESS: at sentence #10000000, processed 81753225 words, keeping 114802 word types\n",
      "INFO:gensim.models.word2vec:PROGRESS: at sentence #15000000, processed 122575037 words, keeping 122333 word types\n",
      "INFO:gensim.models.word2vec:PROGRESS: at sentence #20000000, processed 163439274 words, keeping 127317 word types\n",
      "INFO:gensim.models.word2vec:collected 130029 word types from a corpus of 191558143 raw words and 23453583 sentences\n",
      "INFO:gensim.models.word2vec:Creating a fresh vocabulary\n",
      "INFO:gensim.utils:Word2Vec lifecycle event {'msg': 'effective_min_count=10 retains 79373 unique words (61.04% of original 130029, drops 50656)', 'datetime': '2023-05-18T16:59:36.701774', 'gensim': '4.3.1', 'python': '3.11.3 | packaged by conda-forge | (main, Apr  6 2023, 09:05:00) [Clang 14.0.6 ]', 'platform': 'macOS-12.6-x86_64-i386-64bit', 'event': 'prepare_vocab'}\n",
      "INFO:gensim.utils:Word2Vec lifecycle event {'msg': 'effective_min_count=10 leaves 191387939 word corpus (99.91% of original 191558143, drops 170204)', 'datetime': '2023-05-18T16:59:36.703060', 'gensim': '4.3.1', 'python': '3.11.3 | packaged by conda-forge | (main, Apr  6 2023, 09:05:00) [Clang 14.0.6 ]', 'platform': 'macOS-12.6-x86_64-i386-64bit', 'event': 'prepare_vocab'}\n",
      "INFO:gensim.models.word2vec:deleting the raw counts dictionary of 130029 items\n",
      "INFO:gensim.models.word2vec:sample=0.001 downsamples 16 most-common words\n",
      "INFO:gensim.utils:Word2Vec lifecycle event {'msg': 'downsampling leaves estimated 185893234.09818068 word corpus (97.1%% of prior 191387939)', 'datetime': '2023-05-18T16:59:36.969032', 'gensim': '4.3.1', 'python': '3.11.3 | packaged by conda-forge | (main, Apr  6 2023, 09:05:00) [Clang 14.0.6 ]', 'platform': 'macOS-12.6-x86_64-i386-64bit', 'event': 'prepare_vocab'}\n",
      "INFO:gensim.models.word2vec:estimated required memory for 79373 words and 100 dimensions: 103184900 bytes\n",
      "INFO:gensim.models.word2vec:resetting layer weights\n",
      "INFO:gensim.utils:Word2Vec lifecycle event {'update': False, 'trim_rule': 'None', 'datetime': '2023-05-18T16:59:37.479993', 'gensim': '4.3.1', 'python': '3.11.3 | packaged by conda-forge | (main, Apr  6 2023, 09:05:00) [Clang 14.0.6 ]', 'platform': 'macOS-12.6-x86_64-i386-64bit', 'event': 'build_vocab'}\n"
     ]
    }
   ],
   "source": [
    "model.build_vocab(sentences, progress_per=5000000)"
   ]
  },
  {
   "cell_type": "code",
   "execution_count": 7,
   "id": "867dc13c",
   "metadata": {},
   "outputs": [
    {
     "name": "stderr",
     "output_type": "stream",
     "text": [
      "INFO:gensim.utils:Word2Vec lifecycle event {'msg': 'training model with 5 workers on 79373 vocabulary and 100 features, using sg=0 hs=0 sample=0.001 negative=5 window=3 shrink_windows=True', 'datetime': '2023-05-18T16:59:37.493707', 'gensim': '4.3.1', 'python': '3.11.3 | packaged by conda-forge | (main, Apr  6 2023, 09:05:00) [Clang 14.0.6 ]', 'platform': 'macOS-12.6-x86_64-i386-64bit', 'event': 'train'}\n",
      "INFO:gensim.models.word2vec:EPOCH 0 - PROGRESS: at 0.75% examples, 1383683 words/s, in_qsize 9, out_qsize 0\n",
      "INFO:gensim.models.word2vec:EPOCH 0: training on 191558143 raw words (185893074 effective words) took 125.1s, 1485947 effective words/s\n",
      "INFO:root:Loss after epoch 0:37784104.0\n",
      "INFO:gensim.models.word2vec:EPOCH 1 - PROGRESS: at 0.80% examples, 1452975 words/s, in_qsize 10, out_qsize 1\n",
      "INFO:gensim.models.word2vec:EPOCH 1: training on 191558143 raw words (185894039 effective words) took 123.6s, 1504325 effective words/s\n",
      "INFO:root:Loss after epoch 1:46927652.0\n",
      "INFO:gensim.models.word2vec:EPOCH 2 - PROGRESS: at 0.80% examples, 1466413 words/s, in_qsize 9, out_qsize 0\n",
      "INFO:gensim.models.word2vec:EPOCH 2: training on 191558143 raw words (185892058 effective words) took 125.2s, 1484666 effective words/s\n",
      "INFO:root:Loss after epoch 2:46198732.0\n",
      "INFO:gensim.models.word2vec:EPOCH 3 - PROGRESS: at 0.81% examples, 1488359 words/s, in_qsize 9, out_qsize 0\n",
      "INFO:gensim.models.word2vec:EPOCH 3: training on 191558143 raw words (185895227 effective words) took 126.0s, 1474813 effective words/s\n",
      "INFO:root:Loss after epoch 3:45014408.0\n",
      "INFO:gensim.models.word2vec:EPOCH 4 - PROGRESS: at 0.77% examples, 1410655 words/s, in_qsize 9, out_qsize 0\n",
      "INFO:gensim.models.word2vec:EPOCH 4: training on 191558143 raw words (185892073 effective words) took 125.4s, 1482963 effective words/s\n",
      "INFO:root:Loss after epoch 4:44127928.0\n",
      "INFO:gensim.models.word2vec:EPOCH 5 - PROGRESS: at 0.77% examples, 1429079 words/s, in_qsize 9, out_qsize 1\n",
      "INFO:gensim.models.word2vec:EPOCH 5: training on 191558143 raw words (185893693 effective words) took 123.5s, 1505695 effective words/s\n",
      "INFO:root:Loss after epoch 5:43150532.0\n",
      "INFO:gensim.models.word2vec:EPOCH 6 - PROGRESS: at 0.78% examples, 1398214 words/s, in_qsize 10, out_qsize 3\n",
      "INFO:gensim.models.word2vec:EPOCH 6: training on 191558143 raw words (185890486 effective words) took 129.1s, 1440195 effective words/s\n",
      "INFO:root:Loss after epoch 6:42722436.0\n",
      "INFO:gensim.models.word2vec:EPOCH 7 - PROGRESS: at 0.78% examples, 1441298 words/s, in_qsize 9, out_qsize 0\n",
      "INFO:gensim.models.word2vec:EPOCH 7: training on 191558143 raw words (185892626 effective words) took 126.7s, 1466903 effective words/s\n",
      "INFO:root:Loss after epoch 7:42197628.0\n",
      "INFO:gensim.models.word2vec:EPOCH 8 - PROGRESS: at 0.75% examples, 1381007 words/s, in_qsize 10, out_qsize 0\n",
      "INFO:gensim.models.word2vec:EPOCH 8: training on 191558143 raw words (185896891 effective words) took 132.8s, 1400192 effective words/s\n",
      "INFO:root:Loss after epoch 8:42039188.0\n",
      "INFO:gensim.models.word2vec:EPOCH 9 - PROGRESS: at 0.75% examples, 1382954 words/s, in_qsize 9, out_qsize 0\n",
      "INFO:gensim.models.word2vec:EPOCH 9: training on 191558143 raw words (185892410 effective words) took 128.6s, 1445738 effective words/s\n",
      "INFO:root:Loss after epoch 9:41645116.0\n",
      "INFO:gensim.models.word2vec:EPOCH 10 - PROGRESS: at 0.77% examples, 1424366 words/s, in_qsize 9, out_qsize 0\n",
      "INFO:gensim.models.word2vec:EPOCH 10: training on 191558143 raw words (185893475 effective words) took 131.7s, 1411896 effective words/s\n",
      "INFO:root:Loss after epoch 10:41198076.0\n",
      "INFO:gensim.models.word2vec:EPOCH 11 - PROGRESS: at 0.68% examples, 1260808 words/s, in_qsize 9, out_qsize 0\n",
      "INFO:gensim.models.word2vec:EPOCH 11: training on 191558143 raw words (185894829 effective words) took 131.3s, 1415984 effective words/s\n",
      "INFO:root:Loss after epoch 11:41069256.0\n",
      "INFO:gensim.models.word2vec:EPOCH 12 - PROGRESS: at 0.72% examples, 1326221 words/s, in_qsize 8, out_qsize 1\n",
      "INFO:gensim.models.word2vec:EPOCH 12: training on 191558143 raw words (185894691 effective words) took 137.3s, 1353648 effective words/s\n",
      "INFO:root:Loss after epoch 12:40978320.0\n",
      "INFO:gensim.models.word2vec:EPOCH 13 - PROGRESS: at 0.74% examples, 1358510 words/s, in_qsize 7, out_qsize 3\n",
      "INFO:gensim.models.word2vec:EPOCH 13: training on 191558143 raw words (185892391 effective words) took 131.8s, 1410617 effective words/s\n",
      "INFO:root:Loss after epoch 13:40759800.0\n",
      "INFO:gensim.models.word2vec:EPOCH 14 - PROGRESS: at 0.73% examples, 1352092 words/s, in_qsize 9, out_qsize 1\n",
      "INFO:gensim.models.word2vec:EPOCH 14: training on 191558143 raw words (185891745 effective words) took 128.2s, 1450198 effective words/s\n",
      "INFO:root:Loss after epoch 14:40356948.0\n",
      "INFO:gensim.models.word2vec:EPOCH 15 - PROGRESS: at 0.74% examples, 1359566 words/s, in_qsize 9, out_qsize 0\n",
      "INFO:gensim.models.word2vec:EPOCH 15: training on 191558143 raw words (185895123 effective words) took 129.3s, 1438258 effective words/s\n",
      "INFO:root:Loss after epoch 15:40351944.0\n",
      "INFO:gensim.models.word2vec:EPOCH 16 - PROGRESS: at 0.71% examples, 1303873 words/s, in_qsize 9, out_qsize 0\n",
      "INFO:gensim.models.word2vec:EPOCH 16: training on 191558143 raw words (185890696 effective words) took 126.3s, 1472399 effective words/s\n",
      "INFO:root:Loss after epoch 16:40244308.0\n",
      "INFO:gensim.models.word2vec:EPOCH 17 - PROGRESS: at 0.77% examples, 1403071 words/s, in_qsize 10, out_qsize 0\n",
      "INFO:gensim.models.word2vec:EPOCH 17: training on 191558143 raw words (185893627 effective words) took 127.2s, 1461725 effective words/s\n",
      "INFO:root:Loss after epoch 17:40069744.0\n",
      "INFO:gensim.models.word2vec:EPOCH 18 - PROGRESS: at 0.77% examples, 1404169 words/s, in_qsize 10, out_qsize 1\n",
      "INFO:gensim.models.word2vec:EPOCH 18: training on 191558143 raw words (185894765 effective words) took 132.0s, 1408005 effective words/s\n",
      "INFO:root:Loss after epoch 18:40047064.0\n",
      "INFO:gensim.models.word2vec:EPOCH 19 - PROGRESS: at 0.75% examples, 1389389 words/s, in_qsize 9, out_qsize 0\n",
      "INFO:gensim.models.word2vec:EPOCH 19: training on 191558143 raw words (185891294 effective words) took 125.1s, 1485946 effective words/s\n",
      "INFO:root:Loss after epoch 19:39727192.0\n",
      "INFO:gensim.models.word2vec:EPOCH 20 - PROGRESS: at 0.77% examples, 1415677 words/s, in_qsize 9, out_qsize 0\n",
      "INFO:gensim.models.word2vec:EPOCH 20: training on 191558143 raw words (185894223 effective words) took 125.0s, 1486937 effective words/s\n",
      "INFO:root:Loss after epoch 20:40021580.0\n",
      "INFO:gensim.models.word2vec:EPOCH 21 - PROGRESS: at 0.77% examples, 1410253 words/s, in_qsize 9, out_qsize 0\n",
      "INFO:gensim.models.word2vec:EPOCH 21: training on 191558143 raw words (185894759 effective words) took 124.5s, 1492666 effective words/s\n",
      "INFO:root:Loss after epoch 21:39977072.0\n",
      "INFO:gensim.models.word2vec:EPOCH 22 - PROGRESS: at 0.77% examples, 1433152 words/s, in_qsize 9, out_qsize 0\n",
      "INFO:gensim.models.word2vec:EPOCH 22: training on 191558143 raw words (185893529 effective words) took 124.5s, 1493117 effective words/s\n",
      "INFO:root:Loss after epoch 22:39571516.0\n",
      "INFO:gensim.models.word2vec:EPOCH 23 - PROGRESS: at 0.74% examples, 1366265 words/s, in_qsize 9, out_qsize 0\n",
      "INFO:gensim.models.word2vec:EPOCH 23: training on 191558143 raw words (185890850 effective words) took 124.4s, 1493737 effective words/s\n",
      "INFO:root:Loss after epoch 23:39617280.0\n",
      "INFO:gensim.models.word2vec:EPOCH 24 - PROGRESS: at 0.56% examples, 1036367 words/s, in_qsize 0, out_qsize 1\n",
      "INFO:gensim.models.word2vec:EPOCH 24: training on 191558143 raw words (185890688 effective words) took 125.6s, 1480221 effective words/s\n",
      "INFO:root:Loss after epoch 24:39477248.0\n",
      "INFO:gensim.models.word2vec:EPOCH 25 - PROGRESS: at 0.82% examples, 1473527 words/s, in_qsize 6, out_qsize 3\n",
      "INFO:gensim.models.word2vec:EPOCH 25: training on 191558143 raw words (185893957 effective words) took 124.9s, 1488918 effective words/s\n",
      "INFO:root:Loss after epoch 25:39463496.0\n",
      "INFO:gensim.models.word2vec:EPOCH 26 - PROGRESS: at 0.80% examples, 1459653 words/s, in_qsize 9, out_qsize 0\n",
      "INFO:gensim.models.word2vec:EPOCH 26: training on 191558143 raw words (185895047 effective words) took 125.6s, 1480103 effective words/s\n",
      "INFO:root:Loss after epoch 26:39507140.0\n",
      "INFO:gensim.models.word2vec:EPOCH 27 - PROGRESS: at 0.70% examples, 1283345 words/s, in_qsize 10, out_qsize 1\n"
     ]
    },
    {
     "name": "stderr",
     "output_type": "stream",
     "text": [
      "INFO:gensim.models.word2vec:EPOCH 27: training on 191558143 raw words (185893040 effective words) took 131.1s, 1417543 effective words/s\n",
      "INFO:root:Loss after epoch 27:39332368.0\n",
      "INFO:gensim.models.word2vec:EPOCH 28 - PROGRESS: at 0.76% examples, 1393961 words/s, in_qsize 8, out_qsize 2\n",
      "INFO:gensim.models.word2vec:EPOCH 28: training on 191558143 raw words (185893216 effective words) took 126.9s, 1465222 effective words/s\n",
      "INFO:root:Loss after epoch 28:39305260.0\n",
      "INFO:gensim.models.word2vec:EPOCH 29 - PROGRESS: at 0.81% examples, 1490588 words/s, in_qsize 8, out_qsize 1\n",
      "INFO:gensim.models.word2vec:EPOCH 29: training on 191558143 raw words (185896875 effective words) took 127.6s, 1457293 effective words/s\n",
      "INFO:root:Loss after epoch 29:39393412.0\n",
      "INFO:gensim.models.word2vec:EPOCH 30 - PROGRESS: at 0.77% examples, 1418894 words/s, in_qsize 9, out_qsize 0\n",
      "INFO:gensim.models.word2vec:EPOCH 30: training on 191558143 raw words (185893333 effective words) took 129.4s, 1436998 effective words/s\n",
      "INFO:root:Loss after epoch 30:39254868.0\n",
      "INFO:gensim.models.word2vec:EPOCH 31 - PROGRESS: at 0.67% examples, 1248253 words/s, in_qsize 9, out_qsize 0\n",
      "INFO:gensim.models.word2vec:EPOCH 31: training on 191558143 raw words (185890776 effective words) took 129.6s, 1433825 effective words/s\n",
      "INFO:root:Loss after epoch 31:39267328.0\n",
      "INFO:gensim.models.word2vec:EPOCH 32 - PROGRESS: at 0.73% examples, 1340625 words/s, in_qsize 8, out_qsize 1\n",
      "INFO:gensim.models.word2vec:EPOCH 32: training on 191558143 raw words (185894563 effective words) took 133.9s, 1387826 effective words/s\n",
      "INFO:root:Loss after epoch 32:39233020.0\n",
      "INFO:gensim.models.word2vec:EPOCH 33 - PROGRESS: at 0.72% examples, 1332427 words/s, in_qsize 7, out_qsize 1\n",
      "INFO:gensim.models.word2vec:EPOCH 33: training on 191558143 raw words (185890405 effective words) took 132.4s, 1404234 effective words/s\n",
      "INFO:root:Loss after epoch 33:39360164.0\n",
      "INFO:gensim.models.word2vec:EPOCH 34 - PROGRESS: at 0.80% examples, 1454080 words/s, in_qsize 9, out_qsize 0\n",
      "INFO:gensim.models.word2vec:EPOCH 34: training on 191558143 raw words (185891295 effective words) took 128.8s, 1443551 effective words/s\n",
      "INFO:root:Loss after epoch 34:38928248.0\n",
      "INFO:gensim.models.word2vec:EPOCH 35 - PROGRESS: at 0.73% examples, 1351088 words/s, in_qsize 9, out_qsize 0\n",
      "INFO:gensim.models.word2vec:EPOCH 35: training on 191558143 raw words (185894654 effective words) took 127.6s, 1456742 effective words/s\n",
      "INFO:root:Loss after epoch 35:39095588.0\n",
      "INFO:gensim.models.word2vec:EPOCH 36 - PROGRESS: at 0.78% examples, 1433242 words/s, in_qsize 9, out_qsize 0\n",
      "INFO:gensim.models.word2vec:EPOCH 36: training on 191558143 raw words (185893754 effective words) took 126.8s, 1465522 effective words/s\n",
      "INFO:root:Loss after epoch 36:39023748.0\n",
      "INFO:gensim.models.word2vec:EPOCH 37 - PROGRESS: at 0.76% examples, 1411046 words/s, in_qsize 9, out_qsize 0\n",
      "INFO:gensim.models.word2vec:EPOCH 37: training on 191558143 raw words (185895433 effective words) took 126.9s, 1464956 effective words/s\n",
      "INFO:root:Loss after epoch 37:38911116.0\n",
      "INFO:gensim.models.word2vec:EPOCH 38 - PROGRESS: at 0.77% examples, 1423887 words/s, in_qsize 9, out_qsize 0\n",
      "INFO:gensim.models.word2vec:EPOCH 38: training on 191558143 raw words (185893427 effective words) took 129.4s, 1436974 effective words/s\n",
      "INFO:root:Loss after epoch 38:38899144.0\n",
      "INFO:gensim.models.word2vec:EPOCH 39 - PROGRESS: at 0.69% examples, 1276513 words/s, in_qsize 10, out_qsize 1\n",
      "INFO:gensim.models.word2vec:EPOCH 39: training on 191558143 raw words (185895431 effective words) took 130.7s, 1421816 effective words/s\n",
      "INFO:root:Loss after epoch 39:39115776.0\n",
      "INFO:gensim.models.word2vec:EPOCH 40 - PROGRESS: at 0.75% examples, 1374109 words/s, in_qsize 9, out_qsize 1\n",
      "INFO:gensim.models.word2vec:EPOCH 40: training on 191558143 raw words (185895913 effective words) took 128.4s, 1448168 effective words/s\n",
      "INFO:root:Loss after epoch 40:39116780.0\n",
      "INFO:gensim.models.word2vec:EPOCH 41 - PROGRESS: at 0.75% examples, 1380596 words/s, in_qsize 9, out_qsize 1\n",
      "INFO:gensim.models.word2vec:EPOCH 41: training on 191558143 raw words (185889992 effective words) took 128.8s, 1443727 effective words/s\n",
      "INFO:root:Loss after epoch 41:39123520.0\n",
      "INFO:gensim.models.word2vec:EPOCH 42 - PROGRESS: at 0.76% examples, 1381049 words/s, in_qsize 9, out_qsize 0\n",
      "INFO:gensim.models.word2vec:EPOCH 42: training on 191558143 raw words (185892918 effective words) took 128.0s, 1452256 effective words/s\n",
      "INFO:root:Loss after epoch 42:39146320.0\n",
      "INFO:gensim.models.word2vec:EPOCH 43 - PROGRESS: at 0.74% examples, 1366475 words/s, in_qsize 9, out_qsize 0\n",
      "INFO:gensim.models.word2vec:EPOCH 43: training on 191558143 raw words (185894496 effective words) took 126.5s, 1469218 effective words/s\n",
      "INFO:root:Loss after epoch 43:38969508.0\n",
      "INFO:gensim.models.word2vec:EPOCH 44 - PROGRESS: at 0.78% examples, 1427004 words/s, in_qsize 9, out_qsize 0\n",
      "INFO:gensim.models.word2vec:EPOCH 44: training on 191558143 raw words (185892326 effective words) took 125.3s, 1484007 effective words/s\n",
      "INFO:root:Loss after epoch 44:39035096.0\n",
      "INFO:gensim.models.word2vec:EPOCH 45 - PROGRESS: at 0.80% examples, 1472387 words/s, in_qsize 9, out_qsize 0\n",
      "INFO:gensim.models.word2vec:EPOCH 45: training on 191558143 raw words (185894459 effective words) took 124.8s, 1489324 effective words/s\n",
      "INFO:root:Loss after epoch 45:38723808.0\n",
      "INFO:gensim.models.word2vec:EPOCH 46 - PROGRESS: at 0.78% examples, 1418557 words/s, in_qsize 9, out_qsize 0\n",
      "INFO:gensim.models.word2vec:EPOCH 46: training on 191558143 raw words (185893915 effective words) took 125.3s, 1483482 effective words/s\n",
      "INFO:root:Loss after epoch 46:38670856.0\n",
      "INFO:gensim.models.word2vec:EPOCH 47 - PROGRESS: at 0.76% examples, 1397331 words/s, in_qsize 9, out_qsize 0\n",
      "INFO:gensim.models.word2vec:EPOCH 47: training on 191558143 raw words (185893411 effective words) took 125.2s, 1484474 effective words/s\n",
      "INFO:root:Loss after epoch 47:39034452.0\n",
      "INFO:gensim.models.word2vec:EPOCH 48 - PROGRESS: at 0.80% examples, 1463529 words/s, in_qsize 9, out_qsize 0\n",
      "INFO:gensim.models.word2vec:EPOCH 48: training on 191558143 raw words (185893012 effective words) took 124.9s, 1488368 effective words/s\n",
      "INFO:root:Loss after epoch 48:38817708.0\n",
      "INFO:gensim.models.word2vec:EPOCH 49 - PROGRESS: at 0.80% examples, 1472814 words/s, in_qsize 9, out_qsize 0\n",
      "INFO:gensim.models.word2vec:EPOCH 49: training on 191558143 raw words (185893530 effective words) took 125.1s, 1486531 effective words/s\n",
      "INFO:root:Loss after epoch 49:38788120.0\n",
      "INFO:gensim.models.word2vec:EPOCH 50 - PROGRESS: at 0.79% examples, 1460863 words/s, in_qsize 9, out_qsize 0\n",
      "INFO:gensim.models.word2vec:EPOCH 50: training on 191558143 raw words (185893071 effective words) took 125.0s, 1487019 effective words/s\n",
      "INFO:root:Loss after epoch 50:39028176.0\n",
      "INFO:gensim.models.word2vec:EPOCH 51 - PROGRESS: at 0.78% examples, 1426187 words/s, in_qsize 9, out_qsize 0\n",
      "INFO:gensim.models.word2vec:EPOCH 51: training on 191558143 raw words (185892343 effective words) took 129.5s, 1434968 effective words/s\n",
      "INFO:root:Loss after epoch 51:39059676.0\n",
      "INFO:gensim.models.word2vec:EPOCH 52 - PROGRESS: at 0.59% examples, 1078718 words/s, in_qsize 9, out_qsize 0\n",
      "INFO:gensim.models.word2vec:EPOCH 52: training on 191558143 raw words (185894951 effective words) took 127.4s, 1458772 effective words/s\n",
      "INFO:root:Loss after epoch 52:38765288.0\n",
      "INFO:gensim.models.word2vec:EPOCH 53 - PROGRESS: at 0.77% examples, 1413991 words/s, in_qsize 10, out_qsize 0\n",
      "INFO:gensim.models.word2vec:EPOCH 53: training on 191558143 raw words (185894604 effective words) took 130.4s, 1425636 effective words/s\n",
      "INFO:root:Loss after epoch 53:41421340.0\n",
      "INFO:gensim.models.word2vec:EPOCH 54 - PROGRESS: at 0.74% examples, 1352175 words/s, in_qsize 10, out_qsize 3\n",
      "INFO:gensim.models.word2vec:EPOCH 54: training on 191558143 raw words (185893606 effective words) took 139.1s, 1336248 effective words/s\n",
      "INFO:root:Loss after epoch 54:38869556.0\n",
      "INFO:gensim.models.word2vec:EPOCH 55 - PROGRESS: at 0.72% examples, 1312440 words/s, in_qsize 9, out_qsize 0\n",
      "INFO:gensim.models.word2vec:EPOCH 55: training on 191558143 raw words (185892298 effective words) took 136.3s, 1364246 effective words/s\n",
      "INFO:root:Loss after epoch 55:39005320.0\n"
     ]
    },
    {
     "name": "stderr",
     "output_type": "stream",
     "text": [
      "INFO:gensim.models.word2vec:EPOCH 56 - PROGRESS: at 0.73% examples, 1356230 words/s, in_qsize 0, out_qsize 0\n",
      "INFO:gensim.models.word2vec:EPOCH 56: training on 191558143 raw words (185893305 effective words) took 130.5s, 1423938 effective words/s\n",
      "INFO:root:Loss after epoch 56:38980196.0\n",
      "INFO:gensim.models.word2vec:EPOCH 57 - PROGRESS: at 0.76% examples, 1392274 words/s, in_qsize 9, out_qsize 0\n",
      "INFO:gensim.models.word2vec:EPOCH 57: training on 191558143 raw words (185894711 effective words) took 128.3s, 1449029 effective words/s\n",
      "INFO:root:Loss after epoch 57:38990592.0\n",
      "INFO:gensim.models.word2vec:EPOCH 58 - PROGRESS: at 0.78% examples, 1440257 words/s, in_qsize 9, out_qsize 0\n",
      "INFO:gensim.models.word2vec:EPOCH 58: training on 191558143 raw words (185894448 effective words) took 124.0s, 1499001 effective words/s\n",
      "INFO:root:Loss after epoch 58:38678696.0\n",
      "INFO:gensim.models.word2vec:EPOCH 59 - PROGRESS: at 0.75% examples, 1390602 words/s, in_qsize 9, out_qsize 0\n",
      "INFO:gensim.models.word2vec:EPOCH 59: training on 191558143 raw words (185892683 effective words) took 124.4s, 1494634 effective words/s\n",
      "INFO:root:Loss after epoch 59:38639956.0\n",
      "INFO:gensim.models.word2vec:EPOCH 60 - PROGRESS: at 0.78% examples, 1416226 words/s, in_qsize 9, out_qsize 0\n",
      "INFO:gensim.models.word2vec:EPOCH 60: training on 191558143 raw words (185891147 effective words) took 124.1s, 1498077 effective words/s\n",
      "INFO:root:Loss after epoch 60:38644436.0\n",
      "INFO:gensim.models.word2vec:EPOCH 61 - PROGRESS: at 0.78% examples, 1432993 words/s, in_qsize 9, out_qsize 0\n",
      "INFO:gensim.models.word2vec:EPOCH 61: training on 191558143 raw words (185891952 effective words) took 124.1s, 1498353 effective words/s\n",
      "INFO:root:Loss after epoch 61:38944608.0\n",
      "INFO:gensim.models.word2vec:EPOCH 62 - PROGRESS: at 0.76% examples, 1398205 words/s, in_qsize 9, out_qsize 0\n",
      "INFO:gensim.models.word2vec:EPOCH 62: training on 191558143 raw words (185893084 effective words) took 124.1s, 1498343 effective words/s\n",
      "INFO:root:Loss after epoch 62:38852092.0\n",
      "INFO:gensim.models.word2vec:EPOCH 63 - PROGRESS: at 0.79% examples, 1454323 words/s, in_qsize 8, out_qsize 1\n",
      "INFO:gensim.models.word2vec:EPOCH 63: training on 191558143 raw words (185900195 effective words) took 124.1s, 1498381 effective words/s\n",
      "INFO:root:Loss after epoch 63:38795404.0\n",
      "INFO:gensim.models.word2vec:EPOCH 64 - PROGRESS: at 0.75% examples, 1376123 words/s, in_qsize 8, out_qsize 3\n",
      "INFO:gensim.models.word2vec:EPOCH 64: training on 191558143 raw words (185892912 effective words) took 123.8s, 1501449 effective words/s\n",
      "INFO:root:Loss after epoch 64:38589692.0\n",
      "INFO:gensim.models.word2vec:EPOCH 65 - PROGRESS: at 0.78% examples, 1440691 words/s, in_qsize 9, out_qsize 1\n",
      "INFO:gensim.models.word2vec:EPOCH 65: training on 191558143 raw words (185891434 effective words) took 123.8s, 1500951 effective words/s\n",
      "INFO:root:Loss after epoch 65:38495508.0\n",
      "INFO:gensim.models.word2vec:EPOCH 66 - PROGRESS: at 0.78% examples, 1446797 words/s, in_qsize 9, out_qsize 0\n",
      "INFO:gensim.models.word2vec:EPOCH 66: training on 191558143 raw words (185891801 effective words) took 124.9s, 1488247 effective words/s\n",
      "INFO:root:Loss after epoch 66:38532756.0\n",
      "INFO:gensim.models.word2vec:EPOCH 67 - PROGRESS: at 0.79% examples, 1452791 words/s, in_qsize 9, out_qsize 0\n",
      "INFO:gensim.models.word2vec:EPOCH 67: training on 191558143 raw words (185894957 effective words) took 124.2s, 1496929 effective words/s\n",
      "INFO:root:Loss after epoch 67:38559448.0\n",
      "INFO:gensim.models.word2vec:EPOCH 68 - PROGRESS: at 0.77% examples, 1408600 words/s, in_qsize 9, out_qsize 0\n",
      "INFO:gensim.models.word2vec:EPOCH 68: training on 191558143 raw words (185892685 effective words) took 123.7s, 1503322 effective words/s\n",
      "INFO:root:Loss after epoch 68:38680020.0\n",
      "INFO:gensim.models.word2vec:EPOCH 69 - PROGRESS: at 0.80% examples, 1462074 words/s, in_qsize 9, out_qsize 0\n",
      "INFO:gensim.models.word2vec:EPOCH 69: training on 191558143 raw words (185890528 effective words) took 123.5s, 1504762 effective words/s\n",
      "INFO:root:Loss after epoch 69:38588456.0\n",
      "INFO:gensim.models.word2vec:EPOCH 70 - PROGRESS: at 0.76% examples, 1396825 words/s, in_qsize 9, out_qsize 0\n",
      "INFO:gensim.models.word2vec:EPOCH 70: training on 191558143 raw words (185891313 effective words) took 124.9s, 1488311 effective words/s\n",
      "INFO:root:Loss after epoch 70:38621296.0\n",
      "INFO:gensim.models.word2vec:EPOCH 71 - PROGRESS: at 0.74% examples, 1374708 words/s, in_qsize 9, out_qsize 0\n",
      "INFO:gensim.models.word2vec:EPOCH 71: training on 191558143 raw words (185893712 effective words) took 123.8s, 1500995 effective words/s\n",
      "INFO:root:Loss after epoch 71:38574092.0\n",
      "INFO:gensim.models.word2vec:EPOCH 72 - PROGRESS: at 0.78% examples, 1443313 words/s, in_qsize 9, out_qsize 0\n",
      "INFO:gensim.models.word2vec:EPOCH 72: training on 191558143 raw words (185893686 effective words) took 123.8s, 1501043 effective words/s\n",
      "INFO:root:Loss after epoch 72:38730112.0\n",
      "INFO:gensim.models.word2vec:EPOCH 73 - PROGRESS: at 0.76% examples, 1382166 words/s, in_qsize 9, out_qsize 0\n",
      "INFO:gensim.models.word2vec:EPOCH 73: training on 191558143 raw words (185893977 effective words) took 124.0s, 1498973 effective words/s\n",
      "INFO:root:Loss after epoch 73:38700748.0\n",
      "INFO:gensim.models.word2vec:EPOCH 74 - PROGRESS: at 0.75% examples, 1382079 words/s, in_qsize 10, out_qsize 0\n",
      "INFO:gensim.models.word2vec:EPOCH 74: training on 191558143 raw words (185892921 effective words) took 123.8s, 1501807 effective words/s\n",
      "INFO:root:Loss after epoch 74:38812708.0\n",
      "INFO:gensim.models.word2vec:EPOCH 75 - PROGRESS: at 0.78% examples, 1394865 words/s, in_qsize 10, out_qsize 4\n",
      "INFO:gensim.models.word2vec:EPOCH 75: training on 191558143 raw words (185891752 effective words) took 126.0s, 1475673 effective words/s\n",
      "INFO:root:Loss after epoch 75:38755752.0\n",
      "INFO:gensim.models.word2vec:EPOCH 76 - PROGRESS: at 0.80% examples, 1472452 words/s, in_qsize 8, out_qsize 1\n",
      "INFO:gensim.models.word2vec:EPOCH 76: training on 191558143 raw words (185891534 effective words) took 123.9s, 1500420 effective words/s\n",
      "INFO:root:Loss after epoch 76:38707408.0\n",
      "INFO:gensim.models.word2vec:EPOCH 77 - PROGRESS: at 0.76% examples, 1398932 words/s, in_qsize 9, out_qsize 0\n",
      "INFO:gensim.models.word2vec:EPOCH 77: training on 191558143 raw words (185896240 effective words) took 124.0s, 1499185 effective words/s\n",
      "INFO:root:Loss after epoch 77:38743676.0\n",
      "INFO:gensim.models.word2vec:EPOCH 78 - PROGRESS: at 0.77% examples, 1417350 words/s, in_qsize 9, out_qsize 0\n",
      "INFO:gensim.models.word2vec:EPOCH 78: training on 191558143 raw words (185892885 effective words) took 123.7s, 1502871 effective words/s\n",
      "INFO:root:Loss after epoch 78:38530408.0\n",
      "INFO:gensim.models.word2vec:EPOCH 79 - PROGRESS: at 0.79% examples, 1444751 words/s, in_qsize 9, out_qsize 0\n",
      "INFO:gensim.models.word2vec:EPOCH 79: training on 191558143 raw words (185895296 effective words) took 124.9s, 1488736 effective words/s\n",
      "INFO:root:Loss after epoch 79:40902548.0\n",
      "INFO:gensim.models.word2vec:EPOCH 80 - PROGRESS: at 0.65% examples, 1207485 words/s, in_qsize 7, out_qsize 0\n",
      "INFO:gensim.models.word2vec:EPOCH 80: training on 191558143 raw words (185893307 effective words) took 126.2s, 1473232 effective words/s\n",
      "INFO:root:Loss after epoch 80:38679764.0\n",
      "INFO:gensim.models.word2vec:EPOCH 81 - PROGRESS: at 0.77% examples, 1431290 words/s, in_qsize 9, out_qsize 0\n",
      "INFO:gensim.models.word2vec:EPOCH 81: training on 191558143 raw words (185892690 effective words) took 123.5s, 1505525 effective words/s\n",
      "INFO:root:Loss after epoch 81:38507140.0\n",
      "INFO:gensim.models.word2vec:EPOCH 82 - PROGRESS: at 0.80% examples, 1455237 words/s, in_qsize 9, out_qsize 2\n",
      "INFO:gensim.models.word2vec:EPOCH 82: training on 191558143 raw words (185893207 effective words) took 123.5s, 1505588 effective words/s\n",
      "INFO:root:Loss after epoch 82:38570560.0\n",
      "INFO:gensim.models.word2vec:EPOCH 83 - PROGRESS: at 0.76% examples, 1411942 words/s, in_qsize 9, out_qsize 0\n",
      "INFO:gensim.models.word2vec:EPOCH 83: training on 191558143 raw words (185893616 effective words) took 123.7s, 1503338 effective words/s\n",
      "INFO:root:Loss after epoch 83:38650476.0\n",
      "INFO:gensim.models.word2vec:EPOCH 84 - PROGRESS: at 0.77% examples, 1428190 words/s, in_qsize 9, out_qsize 0\n",
      "INFO:gensim.models.word2vec:EPOCH 84: training on 191558143 raw words (185893654 effective words) took 125.2s, 1485041 effective words/s\n"
     ]
    },
    {
     "name": "stderr",
     "output_type": "stream",
     "text": [
      "INFO:root:Loss after epoch 84:38542256.0\n",
      "INFO:gensim.models.word2vec:EPOCH 85 - PROGRESS: at 0.79% examples, 1459648 words/s, in_qsize 10, out_qsize 0\n",
      "INFO:gensim.models.word2vec:EPOCH 85: training on 191558143 raw words (185891446 effective words) took 125.7s, 1479021 effective words/s\n",
      "INFO:root:Loss after epoch 85:38015652.0\n",
      "INFO:gensim.models.word2vec:EPOCH 86 - PROGRESS: at 0.78% examples, 1440129 words/s, in_qsize 9, out_qsize 0\n",
      "INFO:gensim.models.word2vec:EPOCH 86: training on 191558143 raw words (185895022 effective words) took 123.3s, 1507925 effective words/s\n",
      "INFO:root:Loss after epoch 86:38515532.0\n",
      "INFO:gensim.models.word2vec:EPOCH 87 - PROGRESS: at 0.78% examples, 1433902 words/s, in_qsize 10, out_qsize 1\n",
      "INFO:gensim.models.word2vec:EPOCH 87: training on 191558143 raw words (185893946 effective words) took 123.4s, 1506182 effective words/s\n",
      "INFO:root:Loss after epoch 87:38381412.0\n",
      "INFO:gensim.models.word2vec:EPOCH 88 - PROGRESS: at 0.78% examples, 1443504 words/s, in_qsize 9, out_qsize 1\n",
      "INFO:gensim.models.word2vec:EPOCH 88: training on 191558143 raw words (185892022 effective words) took 127.1s, 1462303 effective words/s\n",
      "INFO:root:Loss after epoch 88:38534104.0\n",
      "INFO:gensim.models.word2vec:EPOCH 89 - PROGRESS: at 0.71% examples, 1304945 words/s, in_qsize 10, out_qsize 0\n",
      "INFO:gensim.models.word2vec:EPOCH 89: training on 191558143 raw words (185892720 effective words) took 134.8s, 1379073 effective words/s\n",
      "INFO:root:Loss after epoch 89:38606504.0\n",
      "INFO:gensim.models.word2vec:EPOCH 90 - PROGRESS: at 0.70% examples, 1271840 words/s, in_qsize 5, out_qsize 6\n",
      "INFO:gensim.models.word2vec:EPOCH 90: training on 191558143 raw words (185894505 effective words) took 130.3s, 1426892 effective words/s\n",
      "INFO:root:Loss after epoch 90:39696172.0\n",
      "INFO:gensim.models.word2vec:EPOCH 91 - PROGRESS: at 0.77% examples, 1426267 words/s, in_qsize 9, out_qsize 0\n",
      "INFO:gensim.models.word2vec:EPOCH 91: training on 191558143 raw words (185893941 effective words) took 129.6s, 1433863 effective words/s\n",
      "INFO:root:Loss after epoch 91:38626052.0\n",
      "INFO:gensim.models.word2vec:EPOCH 92 - PROGRESS: at 0.78% examples, 1429123 words/s, in_qsize 9, out_qsize 0\n",
      "INFO:gensim.models.word2vec:EPOCH 92: training on 191558143 raw words (185890709 effective words) took 129.5s, 1435051 effective words/s\n",
      "INFO:root:Loss after epoch 92:38603828.0\n",
      "INFO:gensim.models.word2vec:EPOCH 93 - PROGRESS: at 0.71% examples, 1313422 words/s, in_qsize 6, out_qsize 3\n",
      "INFO:gensim.models.word2vec:EPOCH 93: training on 191558143 raw words (185893431 effective words) took 129.8s, 1432022 effective words/s\n",
      "INFO:root:Loss after epoch 93:38616040.0\n",
      "INFO:gensim.models.word2vec:EPOCH 94 - PROGRESS: at 0.78% examples, 1437053 words/s, in_qsize 8, out_qsize 1\n",
      "INFO:gensim.models.word2vec:EPOCH 94: training on 191558143 raw words (185893273 effective words) took 128.6s, 1445054 effective words/s\n",
      "INFO:root:Loss after epoch 94:38801956.0\n",
      "INFO:gensim.models.word2vec:EPOCH 95 - PROGRESS: at 0.75% examples, 1379381 words/s, in_qsize 9, out_qsize 0\n",
      "INFO:gensim.models.word2vec:EPOCH 95: training on 191558143 raw words (185894061 effective words) took 127.8s, 1454197 effective words/s\n",
      "INFO:root:Loss after epoch 95:38627416.0\n",
      "INFO:gensim.models.word2vec:EPOCH 96 - PROGRESS: at 0.73% examples, 1336456 words/s, in_qsize 9, out_qsize 0\n",
      "INFO:gensim.models.word2vec:EPOCH 96: training on 191558143 raw words (185893056 effective words) took 127.2s, 1461235 effective words/s\n",
      "INFO:root:Loss after epoch 96:38488856.0\n",
      "INFO:gensim.models.word2vec:EPOCH 97 - PROGRESS: at 0.78% examples, 1446544 words/s, in_qsize 9, out_qsize 0\n",
      "INFO:gensim.models.word2vec:EPOCH 97: training on 191558143 raw words (185892105 effective words) took 124.5s, 1492762 effective words/s\n",
      "INFO:root:Loss after epoch 97:38589492.0\n",
      "INFO:gensim.models.word2vec:EPOCH 98 - PROGRESS: at 0.77% examples, 1417005 words/s, in_qsize 8, out_qsize 1\n",
      "INFO:gensim.models.word2vec:EPOCH 98: training on 191558143 raw words (185889630 effective words) took 125.1s, 1485402 effective words/s\n",
      "INFO:root:Loss after epoch 98:38405400.0\n",
      "INFO:gensim.models.word2vec:EPOCH 99 - PROGRESS: at 0.77% examples, 1414045 words/s, in_qsize 8, out_qsize 3\n",
      "INFO:gensim.models.word2vec:EPOCH 99: training on 191558143 raw words (185892331 effective words) took 124.0s, 1499472 effective words/s\n",
      "INFO:root:Loss after epoch 99:38660468.0\n",
      "INFO:gensim.utils:Word2Vec lifecycle event {'msg': 'training on 19155814300 raw words (18589327143 effective words) took 12695.4s, 1464260 effective words/s', 'datetime': '2023-05-18T23:19:59.011203', 'gensim': '4.3.1', 'python': '3.11.3 | packaged by conda-forge | (main, Apr  6 2023, 09:05:00) [Clang 14.0.6 ]', 'platform': 'macOS-12.6-x86_64-i386-64bit', 'event': 'train'}\n"
     ]
    },
    {
     "data": {
      "text/plain": [
       "(18589327143, 19155814300)"
      ]
     },
     "execution_count": 7,
     "metadata": {},
     "output_type": "execute_result"
    }
   ],
   "source": [
    "#we override alpha with small values, since default values result in poor train performance. See loss plot below\n",
    "model.train(sentences, epochs=100, start_alpha=0.0001, end_alpha=0.00001, total_examples=model.corpus_count, total_words=model.corpus_total_words, compute_loss=True, report_delay=300, callbacks=[Callback()])\n"
   ]
  },
  {
   "cell_type": "code",
   "execution_count": 8,
   "id": "d5e1b267",
   "metadata": {},
   "outputs": [
    {
     "data": {
      "text/plain": [
       "[<matplotlib.lines.Line2D at 0x179eedb50>]"
      ]
     },
     "execution_count": 8,
     "metadata": {},
     "output_type": "execute_result"
    },
    {
     "data": {
      "image/png": "[encoded data removed]",
      "text/plain": [
       "<Figure size 640x480 with 1 Axes>"
      ]
     },
     "metadata": {},
     "output_type": "display_data"
    }
   ],
   "source": [
    "plt.plot(loss_list)"
   ]
  },
  {
   "cell_type": "markdown",
   "id": "a42f370d",
   "metadata": {},
   "source": [
    "For comaprison, below is the loss plot when using default (larger) values for alpha. Note, that during training alpha is decreasing linearly from start value to end value. With default values in use the loss goes down near the end, once alpha gets smaller values."
   ]
  },
  {
   "cell_type": "code",
   "execution_count": 9,
   "id": "56eaea48",
   "metadata": {},
   "outputs": [
    {
     "data": {
      "text/plain": [
       "[<matplotlib.lines.Line2D at 0x17990b690>]"
      ]
     },
     "execution_count": 9,
     "metadata": {},
     "output_type": "execute_result"
    },
    {
     "data": {
      "image/png": "[encoded data removed]",
      "text/plain": [
       "<Figure size 640x480 with 1 Axes>"
      ]
     },
     "metadata": {},
     "output_type": "display_data"
    }
   ],
   "source": [
    "default_alpha_loss_list = [45621836.0, 44355904.0, 44249936.0, 44104492.0, 44107028.0, 44097436.0, 44270596.0, 44089604.0, 44185456.0, 44285424.0, 44182396.0, 44126032.0, 44408908.0, 44199988.0, 44425624.0, 44209516.0, 44227556.0, 44041368.0, 44373620.0, 44456688.0, 44070200.0, 43995008.0, 44134528.0, 44107632.0, 43802268.0, 44047244.0, 43904480.0, 43939264.0, 43987436.0, 43859148.0, 43961468.0, 44073332.0, 43907992.0, 43725336.0, 43849884.0, 43924944.0, 43826232.0, 43496588.0, 43605268.0, 43641544.0, 43543980.0, 43537204.0, 43491140.0, 43373268.0, 43624628.0, 43330720.0, 43449924.0, 43234040.0, 43097712.0, 44565932.0, 43416728.0, 43234072.0, 43260536.0, 43074152.0, 43096868.0, 42714596.0, 43268708.0, 42984456.0, 43917916.0, 43035192.0, 42818392.0, 42656488.0, 42411144.0, 42707748.0, 42523348.0, 42491780.0, 42605616.0, 42294312.0, 42310540.0, 42306532.0, 42327836.0, 42028380.0, 43780020.0, 41960848.0, 41753348.0, 41644528.0, 42072300.0, 41830796.0, 41535968.0, 41507712.0, 41336916.0, 41256888.0, 41069008.0, 40828812.0, 40791320.0, 40758012.0, 40487952.0, 40521400.0, 40385292.0, 40164828.0, 41217672.0, 39945608.0, 39633816.0, 39335348.0, 39096012.0, 39050096.0, 38497092.0, 38436708.0, 38193532.0, 37834140.0]\n",
    "plt.plot(default_alpha_loss_list)"
   ]
  },
  {
   "cell_type": "code",
   "execution_count": 10,
   "id": "47482d49",
   "metadata": {},
   "outputs": [
    {
     "data": {
      "text/plain": [
       "[('котка', 0.8674803376197815),\n",
       " ('кошка', 0.864650547504425),\n",
       " ('кот', 0.861745297908783),\n",
       " ('жывёліна', 0.8478010892868042),\n",
       " ('дзік', 0.8465594053268433),\n",
       " ('пацук', 0.8393999338150024),\n",
       " ('кацяня', 0.8384274244308472),\n",
       " ('сабачка', 0.824194610118866),\n",
       " ('конь', 0.8237901926040649),\n",
       " ('муха', 0.8178677558898926),\n",
       " ('малпа', 0.8122631311416626),\n",
       " ('воўк', 0.8108128905296326),\n",
       " ('шчанюк', 0.8072198629379272),\n",
       " ('звер', 0.8003535270690918),\n",
       " ('лісіца', 0.7995669841766357),\n",
       " ('авечка', 0.7984723448753357),\n",
       " ('асёл', 0.7966972589492798),\n",
       " ('мядзведзь', 0.794684886932373),\n",
       " ('каза', 0.7887024283409119),\n",
       " ('зграя', 0.7850828766822815)]"
      ]
     },
     "execution_count": 10,
     "metadata": {},
     "output_type": "execute_result"
    }
   ],
   "source": [
    "model.wv.most_similar('сабака', topn=20)"
   ]
  },
  {
   "cell_type": "code",
   "execution_count": 11,
   "id": "0090e873",
   "metadata": {},
   "outputs": [
    {
     "data": {
      "text/plain": [
       "['быць',\n",
       " 'год',\n",
       " 'беларускі',\n",
       " 'беларусь',\n",
       " 'чалавек',\n",
       " 'магчы',\n",
       " 'час',\n",
       " 'усё',\n",
       " 'дзень',\n",
       " 'большыць']"
      ]
     },
     "execution_count": 11,
     "metadata": {},
     "output_type": "execute_result"
    }
   ],
   "source": [
    "model.wv.index_to_key[:10]"
   ]
  },
  {
   "cell_type": "code",
   "execution_count": 12,
   "id": "d587b37a",
   "metadata": {},
   "outputs": [],
   "source": [
    "# tsne for visualization\n",
    "# plotly for interactivity https://towardsdatascience.com/how-to-train-a-word2vec-model-from-scratch-with-gensim-c457d587e031\n",
    "# save filtered out wods into separat file to verify\n",
    "# dont explicitly list stop words\n",
    "# prepare assessment data (50 words with 10 most similar wods for them)\n",
    "# remove words after training\n",
    "# increase corpus\n",
    "# increase dimensionality\n",
    "# merge е/ё , e.g. пачуцце/пачуццё\n",
    "# п'еса is split to 'п' і 'еса'"
   ]
  },
  {
   "cell_type": "code",
   "execution_count": 13,
   "id": "ec534c05",
   "metadata": {},
   "outputs": [
    {
     "name": "stderr",
     "output_type": "stream",
     "text": [
      "INFO:gensim.utils:Word2Vec lifecycle event {'fname_or_handle': 'word2vec-100-bel-cc100.model', 'separately': 'None', 'sep_limit': 10485760, 'ignore': frozenset(), 'datetime': '2023-05-18T23:19:59.478852', 'gensim': '4.3.1', 'python': '3.11.3 | packaged by conda-forge | (main, Apr  6 2023, 09:05:00) [Clang 14.0.6 ]', 'platform': 'macOS-12.6-x86_64-i386-64bit', 'event': 'saving'}\n",
      "INFO:gensim.utils:not storing attribute cum_table\n",
      "INFO:gensim.utils:saved word2vec-100-bel-cc100.model\n"
     ]
    }
   ],
   "source": [
    "model.save(\"word2vec-100-bel-cc100.model\")"
   ]
  },
  {
   "cell_type": "code",
   "execution_count": 14,
   "id": "389e42e0",
   "metadata": {},
   "outputs": [
    {
     "name": "stderr",
     "output_type": "stream",
     "text": [
      "INFO:gensim.models.keyedvectors:storing 79373x100 projection weights into word2vec-100-bel-cc100.vectors\n"
     ]
    }
   ],
   "source": [
    "model.wv.save_word2vec_format('word2vec-100-bel-cc100.vectors')"
   ]
  }
 ],
 "metadata": {
  "kernelspec": {
   "display_name": "Python 3 (ipykernel)",
   "language": "python",
   "name": "python3"
  },
  "language_info": {
   "codemirror_mode": {
    "name": "ipython",
    "version": 3
   },
   "file_extension": ".py",
   "mimetype": "text/x-python",
   "name": "python",
   "nbconvert_exporter": "python",
   "pygments_lexer": "ipython3",
   "version": "3.11.3"
  }
 },
 "nbformat": 4,
 "nbformat_minor": 5
}
