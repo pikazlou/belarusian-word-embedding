{
 "cells": [
  {
   "cell_type": "code",
   "execution_count": 20,
   "id": "de7b8b0c",
   "metadata": {},
   "outputs": [],
   "source": [
    "import re\n",
    "import gensim\n",
    "from gensim.parsing.preprocessing import strip_punctuation, strip_short, strip_numeric, strip_multiple_whitespaces, remove_stopwords\n",
    "from gensim.models.word2vec import LineSentence\n",
    "from gensim.models import Word2Vec\n",
    "from gensim.models.callbacks import CallbackAny2Vec\n",
    "import urllib.request\n",
    "import zipfile\n",
    "import lzma\n",
    "import shutil\n",
    "import matplotlib.pyplot as plt"
   ]
  },
  {
   "cell_type": "code",
   "execution_count": 2,
   "id": "7dc6904a",
   "metadata": {},
   "outputs": [
    {
     "name": "stderr",
     "output_type": "stream",
     "text": [
      "INFO:root:Logging initialized\n"
     ]
    }
   ],
   "source": [
    "import logging\n",
    "logging.basicConfig(level=logging.INFO, force = True)\n",
    "logger = logging.getLogger()\n",
    "logger.info(\"Logging initialized\")"
   ]
  },
  {
   "cell_type": "code",
   "execution_count": 3,
   "id": "63844db8",
   "metadata": {},
   "outputs": [
    {
     "data": {
      "text/plain": [
       "('GrammarDB.zip', <http.client.HTTPMessage at 0x177027c90>)"
      ]
     },
     "execution_count": 3,
     "metadata": {},
     "output_type": "execute_result"
    }
   ],
   "source": [
    "#Link found here: https://metatext.io/datasets/cc100-belarusian\n",
    "urllib.request.urlretrieve('https://data.statmt.org/cc-100/be.txt.xz', \n",
    "                           'be.txt.xz')\n",
    "\n",
    "urllib.request.urlretrieve('https://github.com/Belarus/GrammarDB/archive/refs/tags/PUBLICATION_2021.zip', \n",
    "                           'GrammarDB.zip')"
   ]
  },
  {
   "cell_type": "code",
   "execution_count": 4,
   "id": "999d375c",
   "metadata": {},
   "outputs": [],
   "source": [
    "with lzma.open(\"be.txt.xz\", \"rb\") as fsrc:\n",
    "    with open(\"be.txt\", \"wb\") as fdst:\n",
    "        shutil.copyfileobj(fsrc, fdst)\n",
    "\n",
    "with zipfile.ZipFile('GrammarDB.zip', 'r') as zip_ref:\n",
    "    zip_ref.extractall('.')"
   ]
  },
  {
   "cell_type": "code",
   "execution_count": 5,
   "id": "49326e47",
   "metadata": {},
   "outputs": [],
   "source": [
    "import xml.dom.minidom\n",
    "from itertools import islice\n",
    "\n",
    "def calculate_mapping_from_forms_to_base(filepath, tag_prefix=\"\"):\n",
    "    xml_doc = xml.dom.minidom.parse(filepath)\n",
    "    paradigms = xml_doc.getElementsByTagName('Paradigm')\n",
    "    result = {}\n",
    "    collision_count = 0\n",
    "    collisions = set()\n",
    "    for paradigm in paradigms:\n",
    "        tag = paradigm.getAttribute('tag')\n",
    "        if tag.startswith(tag_prefix):\n",
    "            variants = paradigm.getElementsByTagName('Variant')\n",
    "            for variant in variants:\n",
    "                base = variant.getAttribute('lemma').replace(\"+\", \"\").lower()\n",
    "                forms = variant.getElementsByTagName('Form')\n",
    "                local_map = {}\n",
    "                citation_count = max([form.getAttribute('slouniki').count(',') for form in forms]) + 1\n",
    "                for form in forms:\n",
    "                    if len(form.childNodes) > 0:\n",
    "                        word = form.childNodes[0].data.replace(\"+\", \"\").lower()\n",
    "                        local_map[word] = (base, citation_count)\n",
    "                for k, v in local_map.items():\n",
    "                    if k in result:\n",
    "                        if result[k][1] == v[1] and result[k][0] != v[0]:\n",
    "                            collision_count += 1\n",
    "                            collisions.add(v[0])\n",
    "                            collisions.add(result[k][0])\n",
    "                        elif result[k][1] < v[1]:\n",
    "                            result[k] = v\n",
    "                    else:\n",
    "                        result[k] = v\n",
    "                    \n",
    "    logger.info(f\"Collisions (forms leading to different base word, and having same amount of citation): {collision_count}\")\n",
    "    logger.info(f\"Examples of collisions: {list(islice(collisions, 5))}\")\n",
    "    for k in result:\n",
    "        result[k] = result[k][0]\n",
    "    return result"
   ]
  },
  {
   "cell_type": "code",
   "execution_count": 6,
   "id": "048cd3f1",
   "metadata": {},
   "outputs": [
    {
     "name": "stderr",
     "output_type": "stream",
     "text": [
      "INFO:root:Collisions (forms leading to different base word, and having same amount of citation): 2597\n",
      "INFO:root:Examples of collisions: ['зацыкліць', 'пераўшчыльняць', 'збядніць', 'адурняць', 'апастыляць']\n",
      "INFO:root:Collisions (forms leading to different base word, and having same amount of citation): 33\n",
      "INFO:root:Examples of collisions: ['палестына', 'мачулішчы', 'полацк', 'герцагавіна', 'палесціна']\n",
      "INFO:root:Collisions (forms leading to different base word, and having same amount of citation): 1345\n",
      "INFO:root:Examples of collisions: ['залогадаўца', 'абісінец', 'барэц', 'бесхацінка', 'духі']\n",
      "INFO:root:Collisions (forms leading to different base word, and having same amount of citation): 1155\n",
      "INFO:root:Examples of collisions: ['ком', 'паля', 'пацярпелая', 'канвой', 'містык']\n",
      "INFO:root:Collisions (forms leading to different base word, and having same amount of citation): 954\n",
      "INFO:root:Examples of collisions: ['разлог', 'самец', 'хіндустанка', 'туш', 'цеплатэхніка']\n",
      "INFO:root:Collisions (forms leading to different base word, and having same amount of citation): 150\n",
      "INFO:root:Examples of collisions: ['жакардавы', 'вітавы', 'дэкартавы', 'крэчатавы', 'дакалумбавы']\n",
      "INFO:root:Collisions (forms leading to different base word, and having same amount of citation): 84\n",
      "INFO:root:Examples of collisions: ['фраўнгоферавы', 'чыжовы', 'шчупаковы', 'сомаў', 'шчупакоў']\n"
     ]
    }
   ],
   "source": [
    "#verbs\n",
    "v = calculate_mapping_from_forms_to_base('GrammarDB-PUBLICATION_2021/V.xml')\n",
    "\n",
    "#proper nouns\n",
    "np = calculate_mapping_from_forms_to_base('GrammarDB-PUBLICATION_2021/NP.xml', 'NPII')\n",
    "\n",
    "#nouns\n",
    "n1 = calculate_mapping_from_forms_to_base('GrammarDB-PUBLICATION_2021/N1.xml')\n",
    "n2 = calculate_mapping_from_forms_to_base('GrammarDB-PUBLICATION_2021/N2.xml')\n",
    "n3 = calculate_mapping_from_forms_to_base('GrammarDB-PUBLICATION_2021/N3.xml')\n",
    "\n",
    "#adjectives\n",
    "adj1 = calculate_mapping_from_forms_to_base('GrammarDB-PUBLICATION_2021/A1.xml')\n",
    "adj2 = calculate_mapping_from_forms_to_base('GrammarDB-PUBLICATION_2021/A2.xml')\n",
    "\n",
    "WORD_MAP = {}\n",
    "WORD_MAP.update(v)\n",
    "WORD_MAP.update(np)\n",
    "WORD_MAP.update(n1)\n",
    "WORD_MAP.update(n2)\n",
    "WORD_MAP.update(n3)\n",
    "WORD_MAP.update(adj1)\n",
    "WORD_MAP.update(adj2)"
   ]
  },
  {
   "cell_type": "code",
   "execution_count": 7,
   "id": "a11b12a9",
   "metadata": {},
   "outputs": [
    {
     "name": "stdout",
     "output_type": "stream",
     "text": [
      "2272218\n"
     ]
    }
   ],
   "source": [
    "print(len(WORD_MAP))"
   ]
  },
  {
   "cell_type": "code",
   "execution_count": 8,
   "id": "48c63417",
   "metadata": {},
   "outputs": [
    {
     "name": "stdout",
     "output_type": "stream",
     "text": [
      "рух\n",
      "беларусь\n"
     ]
    }
   ],
   "source": [
    "print(WORD_MAP['рухам'])\n",
    "print(WORD_MAP['беларусі'])"
   ]
  },
  {
   "cell_type": "code",
   "execution_count": 9,
   "id": "ca36540b",
   "metadata": {},
   "outputs": [],
   "source": [
    "def strip_trailing_newline(iterable):\n",
    "    for i in iterable:\n",
    "        yield i.rstrip()\n",
    "\n",
    "CHARACTERS_MAP = {'ý': 'ў', 'i': 'і', 'ньн': 'нн', 'цьц': 'цц', 'сьц': 'сц', 'сьл':'сл', 'дзьдз': 'ддз', ' ў': 'у'}\n",
    "def replace_characters(iterable):\n",
    "    for s in iterable:\n",
    "        for k, v in CHARACTERS_MAP.items():\n",
    "            s = s.replace(k, v)\n",
    "        yield s\n",
    "\n",
    "def split_sentences(iterable):\n",
    "    for i in iterable:\n",
    "        merged_dots = re.sub(\"[\\.]+\", \".\", i)\n",
    "        sentences = merged_dots.split('.')\n",
    "        for s in sentences:\n",
    "            yield s\n",
    "\n",
    "STOPWORDS = ['на', 'не', 'што', 'да', 'па', 'як', 'за', 'для', 'гэта', 'ад', 'але', 'калі', 'пра', 'у', 'яго', 'якія', 'ён', 'іх', 'мы', 'каб', 'толькі', 'аб', 'таксама', 'які', 'ці', 'быў', 'было', 'яны', 'так', 'вы', 'яе', 'будзе', 'пры', 'яшчэ', 'тым', 'таму', 'вельмі', 'былі', 'можна', 'яна', 'пасля', 'пад', 'можа', 'дзе', 'якая', 'тут', 'была', 'трэба', 'тое', 'таго', 'або', 'гэтым', 'бо', 'ўсё', 'хто', 'ня', 'нас', 'гэтага', 'быць', 'гэты', 'ёсць', 'праз', 'ўжо', 'са', 'нават', 'то', 'мяне', 'ім','ва', 'той', 'усе', 'без', 'чым', 'мне', 'мае', 'сябе', 'гэтай', 'там', 'усё', 'вось', 'ды', 'каля', 'якіх', 'ты', 'якой', 'ўсе', 'жа', 'ужо', 'паводле', 'будуць', 'аднак', 'могуць', 'сваю', 'ні', 'сваёй', 'яму', 'свае', 'гэтыя', 'проста', 'ўсіх', 'якім', 'падчас', 'тады', 'свой', 'вас', 'паміж', 'нам', 'раз', 'сваіх', 'нашай', 'менавіта', 'перад', 'вам', 'тых','зь','такім', 'свайго', 'над', 'зараз', 'амаль', 'чаму', 'ёй', 'чынам', 'напрыклад', 'якога', 'якое', 'сваім', 'можаце', 'га', 'хоць', 'бы', 'тыя', 'такія', 'потым', 'адным', 'такі', 'якую', 'сабе','сам','гэтых','мая','наш','зусім','чаго','наша','зноў','дык','такіх','нашага','адразу','каго','самі','ст','ну','нашы','нашым','самы','яно','гэтае','дзеля','куды','by','гг']\n",
    "def preprocess_sentences(iterable):\n",
    "    for i in iterable:\n",
    "        s = strip_multiple_whitespaces(strip_numeric(strip_short(strip_punctuation(i))))\n",
    "        s = s.lower()\n",
    "        s = re.sub(\"[«»“”„…—°′²]\", \"\", s)\n",
    "        s = remove_stopwords(s, stopwords=STOPWORDS)\n",
    "        s = ' '.join([WORD_MAP[w] for w in s.split() if w in WORD_MAP])\n",
    "        yield s\n",
    "\n",
    "def remove_short_lines(iterable):\n",
    "    for i in iterable:\n",
    "        if not i.isspace() and len(i) >= 20:\n",
    "            yield i\n"
   ]
  },
  {
   "cell_type": "code",
   "execution_count": 10,
   "id": "1044a584",
   "metadata": {},
   "outputs": [],
   "source": [
    "with open('be.txt', 'r') as original_file:\n",
    "    with open('processed-corpus.txt', 'w') as sentences_file:\n",
    "        for s in remove_short_lines(preprocess_sentences(split_sentences(replace_characters(strip_trailing_newline(original_file))))):\n",
    "            sentences_file.write(s + \"\\n\")"
   ]
  },
  {
   "cell_type": "code",
   "execution_count": 11,
   "id": "ab9fc39e",
   "metadata": {},
   "outputs": [],
   "source": [
    "loss_list = []\n",
    "class Callback(CallbackAny2Vec):\n",
    "    def __init__(self):\n",
    "        self.epoch = 0\n",
    "\n",
    "    def on_epoch_end(self, model):\n",
    "        loss = model.get_latest_training_loss()\n",
    "        loss_list.append(loss)\n",
    "        logger.info('Loss after epoch {}:{}'.format(self.epoch, loss))\n",
    "        model.running_training_loss = 0.0\n",
    "        self.epoch = self.epoch + 1"
   ]
  },
  {
   "cell_type": "code",
   "execution_count": 16,
   "id": "61e8337d",
   "metadata": {},
   "outputs": [
    {
     "name": "stderr",
     "output_type": "stream",
     "text": [
      "INFO:gensim.utils:Word2Vec lifecycle event {'params': 'Word2Vec<vocab=0, vector_size=100, alpha=0.025>', 'datetime': '2023-04-25T17:14:31.634420', 'gensim': '4.3.1', 'python': '3.11.3 | packaged by conda-forge | (main, Apr  6 2023, 09:05:00) [Clang 14.0.6 ]', 'platform': 'macOS-12.6-x86_64-i386-64bit', 'event': 'created'}\n"
     ]
    }
   ],
   "source": [
    "model = Word2Vec(vector_size=100, window=3, min_count=10, workers=5)"
   ]
  },
  {
   "cell_type": "code",
   "execution_count": 17,
   "id": "35054bd1",
   "metadata": {},
   "outputs": [],
   "source": [
    "sentences = LineSentence('processed-corpus.txt')"
   ]
  },
  {
   "cell_type": "code",
   "execution_count": 18,
   "id": "615cf92b",
   "metadata": {},
   "outputs": [
    {
     "name": "stderr",
     "output_type": "stream",
     "text": [
      "INFO:gensim.models.word2vec:collecting all words and their counts\n",
      "INFO:gensim.models.word2vec:PROGRESS: at sentence #0, processed 0 words, keeping 0 word types\n",
      "INFO:gensim.models.word2vec:PROGRESS: at sentence #5000000, processed 37867729 words, keeping 101012 word types\n",
      "INFO:gensim.models.word2vec:PROGRESS: at sentence #10000000, processed 75796913 words, keeping 114270 word types\n",
      "INFO:gensim.models.word2vec:PROGRESS: at sentence #15000000, processed 113650824 words, keeping 121748 word types\n",
      "INFO:gensim.models.word2vec:PROGRESS: at sentence #20000000, processed 151518980 words, keeping 126665 word types\n",
      "INFO:gensim.models.word2vec:collected 128690 word types from a corpus of 170374613 raw words and 22495632 sentences\n",
      "INFO:gensim.models.word2vec:Creating a fresh vocabulary\n",
      "INFO:gensim.utils:Word2Vec lifecycle event {'msg': 'effective_min_count=10 retains 77978 unique words (60.59% of original 128690, drops 50712)', 'datetime': '2023-04-25T17:15:35.710567', 'gensim': '4.3.1', 'python': '3.11.3 | packaged by conda-forge | (main, Apr  6 2023, 09:05:00) [Clang 14.0.6 ]', 'platform': 'macOS-12.6-x86_64-i386-64bit', 'event': 'prepare_vocab'}\n",
      "INFO:gensim.utils:Word2Vec lifecycle event {'msg': 'effective_min_count=10 leaves 170204251 word corpus (99.90% of original 170374613, drops 170362)', 'datetime': '2023-04-25T17:15:35.711267', 'gensim': '4.3.1', 'python': '3.11.3 | packaged by conda-forge | (main, Apr  6 2023, 09:05:00) [Clang 14.0.6 ]', 'platform': 'macOS-12.6-x86_64-i386-64bit', 'event': 'prepare_vocab'}\n",
      "INFO:gensim.models.word2vec:deleting the raw counts dictionary of 128690 items\n",
      "INFO:gensim.models.word2vec:sample=0.001 downsamples 11 most-common words\n",
      "INFO:gensim.utils:Word2Vec lifecycle event {'msg': 'downsampling leaves estimated 166723438.8829754 word corpus (98.0%% of prior 170204251)', 'datetime': '2023-04-25T17:15:35.978284', 'gensim': '4.3.1', 'python': '3.11.3 | packaged by conda-forge | (main, Apr  6 2023, 09:05:00) [Clang 14.0.6 ]', 'platform': 'macOS-12.6-x86_64-i386-64bit', 'event': 'prepare_vocab'}\n",
      "INFO:gensim.models.word2vec:estimated required memory for 77978 words and 100 dimensions: 101371400 bytes\n",
      "INFO:gensim.models.word2vec:resetting layer weights\n",
      "INFO:gensim.utils:Word2Vec lifecycle event {'update': False, 'trim_rule': 'None', 'datetime': '2023-04-25T17:15:36.473963', 'gensim': '4.3.1', 'python': '3.11.3 | packaged by conda-forge | (main, Apr  6 2023, 09:05:00) [Clang 14.0.6 ]', 'platform': 'macOS-12.6-x86_64-i386-64bit', 'event': 'build_vocab'}\n"
     ]
    }
   ],
   "source": [
    "model.build_vocab(sentences, progress_per=5000000)"
   ]
  },
  {
   "cell_type": "code",
   "execution_count": 19,
   "id": "867dc13c",
   "metadata": {},
   "outputs": [
    {
     "name": "stderr",
     "output_type": "stream",
     "text": [
      "INFO:gensim.utils:Word2Vec lifecycle event {'msg': 'training model with 5 workers on 77978 vocabulary and 100 features, using sg=0 hs=0 sample=0.001 negative=5 window=3 shrink_windows=True', 'datetime': '2023-04-25T17:15:36.491245', 'gensim': '4.3.1', 'python': '3.11.3 | packaged by conda-forge | (main, Apr  6 2023, 09:05:00) [Clang 14.0.6 ]', 'platform': 'macOS-12.6-x86_64-i386-64bit', 'event': 'train'}\n",
      "INFO:gensim.models.word2vec:EPOCH 0 - PROGRESS: at 0.73% examples, 1187746 words/s, in_qsize 9, out_qsize 0\n",
      "INFO:gensim.models.word2vec:EPOCH 0: training on 170374613 raw words (166723350 effective words) took 116.6s, 1430417 effective words/s\n",
      "INFO:root:Loss after epoch 0:34990456.0\n",
      "INFO:gensim.models.word2vec:EPOCH 1 - PROGRESS: at 0.80% examples, 1318250 words/s, in_qsize 9, out_qsize 0\n",
      "INFO:gensim.models.word2vec:EPOCH 1: training on 170374613 raw words (166723634 effective words) took 116.1s, 1435655 effective words/s\n",
      "INFO:root:Loss after epoch 1:44155292.0\n",
      "INFO:gensim.models.word2vec:EPOCH 2 - PROGRESS: at 0.87% examples, 1433877 words/s, in_qsize 9, out_qsize 0\n",
      "INFO:gensim.models.word2vec:EPOCH 2: training on 170374613 raw words (166722136 effective words) took 116.1s, 1435409 effective words/s\n",
      "INFO:root:Loss after epoch 2:43774140.0\n",
      "INFO:gensim.models.word2vec:EPOCH 3 - PROGRESS: at 0.81% examples, 1333371 words/s, in_qsize 9, out_qsize 0\n",
      "INFO:gensim.models.word2vec:EPOCH 3: training on 170374613 raw words (166723419 effective words) took 119.1s, 1399544 effective words/s\n",
      "INFO:root:Loss after epoch 3:42801976.0\n",
      "INFO:gensim.models.word2vec:EPOCH 4 - PROGRESS: at 0.80% examples, 1316763 words/s, in_qsize 10, out_qsize 0\n",
      "INFO:gensim.models.word2vec:EPOCH 4: training on 170374613 raw words (166720766 effective words) took 119.8s, 1391280 effective words/s\n",
      "INFO:root:Loss after epoch 4:41692076.0\n",
      "INFO:gensim.models.word2vec:EPOCH 5 - PROGRESS: at 0.74% examples, 1218653 words/s, in_qsize 7, out_qsize 2\n",
      "INFO:gensim.models.word2vec:EPOCH 5: training on 170374613 raw words (166722876 effective words) took 118.3s, 1409062 effective words/s\n",
      "INFO:root:Loss after epoch 5:41202028.0\n",
      "INFO:gensim.models.word2vec:EPOCH 6 - PROGRESS: at 0.78% examples, 1283040 words/s, in_qsize 9, out_qsize 0\n",
      "INFO:gensim.models.word2vec:EPOCH 6: training on 170374613 raw words (166723782 effective words) took 118.0s, 1412608 effective words/s\n",
      "INFO:root:Loss after epoch 6:40764956.0\n",
      "INFO:gensim.models.word2vec:EPOCH 7 - PROGRESS: at 0.81% examples, 1333147 words/s, in_qsize 9, out_qsize 1\n",
      "INFO:gensim.models.word2vec:EPOCH 7: training on 170374613 raw words (166723349 effective words) took 115.8s, 1440319 effective words/s\n",
      "INFO:root:Loss after epoch 7:40118484.0\n",
      "INFO:gensim.models.word2vec:EPOCH 8 - PROGRESS: at 0.81% examples, 1330576 words/s, in_qsize 9, out_qsize 0\n",
      "INFO:gensim.models.word2vec:EPOCH 8: training on 170374613 raw words (166722325 effective words) took 118.5s, 1406557 effective words/s\n",
      "INFO:root:Loss after epoch 8:39938364.0\n",
      "INFO:gensim.models.word2vec:EPOCH 9 - PROGRESS: at 0.84% examples, 1373596 words/s, in_qsize 8, out_qsize 1\n",
      "INFO:gensim.models.word2vec:EPOCH 9: training on 170374613 raw words (166724646 effective words) took 116.0s, 1437050 effective words/s\n",
      "INFO:root:Loss after epoch 9:39543252.0\n",
      "INFO:gensim.models.word2vec:EPOCH 10 - PROGRESS: at 0.82% examples, 1345195 words/s, in_qsize 9, out_qsize 1\n",
      "INFO:gensim.models.word2vec:EPOCH 10: training on 170374613 raw words (166722668 effective words) took 116.1s, 1436366 effective words/s\n",
      "INFO:root:Loss after epoch 10:39217676.0\n",
      "INFO:gensim.models.word2vec:EPOCH 11 - PROGRESS: at 0.83% examples, 1359519 words/s, in_qsize 10, out_qsize 1\n",
      "INFO:gensim.models.word2vec:EPOCH 11: training on 170374613 raw words (166720535 effective words) took 114.8s, 1452018 effective words/s\n",
      "INFO:root:Loss after epoch 11:38934936.0\n",
      "INFO:gensim.models.word2vec:EPOCH 12 - PROGRESS: at 0.82% examples, 1355465 words/s, in_qsize 8, out_qsize 3\n",
      "INFO:gensim.models.word2vec:EPOCH 12: training on 170374613 raw words (166722031 effective words) took 116.2s, 1434394 effective words/s\n",
      "INFO:root:Loss after epoch 12:38721272.0\n",
      "INFO:gensim.models.word2vec:EPOCH 13 - PROGRESS: at 0.88% examples, 1461170 words/s, in_qsize 7, out_qsize 0\n",
      "INFO:gensim.models.word2vec:EPOCH 13: training on 170374613 raw words (166724105 effective words) took 115.0s, 1449383 effective words/s\n",
      "INFO:root:Loss after epoch 13:38602584.0\n",
      "INFO:gensim.models.word2vec:EPOCH 14 - PROGRESS: at 0.83% examples, 1360282 words/s, in_qsize 9, out_qsize 0\n",
      "INFO:gensim.models.word2vec:EPOCH 14: training on 170374613 raw words (166723551 effective words) took 115.1s, 1448375 effective words/s\n",
      "INFO:root:Loss after epoch 14:38402392.0\n",
      "INFO:gensim.models.word2vec:EPOCH 15 - PROGRESS: at 0.81% examples, 1338206 words/s, in_qsize 9, out_qsize 0\n",
      "INFO:gensim.models.word2vec:EPOCH 15: training on 170374613 raw words (166723535 effective words) took 115.7s, 1440438 effective words/s\n",
      "INFO:root:Loss after epoch 15:38411224.0\n",
      "INFO:gensim.models.word2vec:EPOCH 16 - PROGRESS: at 0.85% examples, 1387387 words/s, in_qsize 9, out_qsize 0\n",
      "INFO:gensim.models.word2vec:EPOCH 16: training on 170374613 raw words (166722426 effective words) took 125.5s, 1328015 effective words/s\n",
      "INFO:root:Loss after epoch 16:38274288.0\n",
      "INFO:gensim.models.word2vec:EPOCH 17 - PROGRESS: at 0.80% examples, 1264321 words/s, in_qsize 8, out_qsize 1\n",
      "INFO:gensim.models.word2vec:EPOCH 17: training on 170374613 raw words (166723646 effective words) took 122.3s, 1363609 effective words/s\n",
      "INFO:root:Loss after epoch 17:38144160.0\n",
      "INFO:gensim.models.word2vec:EPOCH 18 - PROGRESS: at 0.78% examples, 1282670 words/s, in_qsize 10, out_qsize 0\n",
      "INFO:gensim.models.word2vec:EPOCH 18: training on 170374613 raw words (166723883 effective words) took 120.1s, 1388054 effective words/s\n",
      "INFO:root:Loss after epoch 18:38282388.0\n",
      "INFO:gensim.models.word2vec:EPOCH 19 - PROGRESS: at 0.81% examples, 1341498 words/s, in_qsize 8, out_qsize 1\n",
      "INFO:gensim.models.word2vec:EPOCH 19: training on 170374613 raw words (166723225 effective words) took 122.7s, 1358717 effective words/s\n",
      "INFO:root:Loss after epoch 19:37920432.0\n",
      "INFO:gensim.models.word2vec:EPOCH 20 - PROGRESS: at 0.85% examples, 1410369 words/s, in_qsize 9, out_qsize 0\n",
      "INFO:gensim.models.word2vec:EPOCH 20: training on 170374613 raw words (166722354 effective words) took 119.6s, 1394120 effective words/s\n",
      "INFO:root:Loss after epoch 20:37784524.0\n",
      "INFO:gensim.models.word2vec:EPOCH 21 - PROGRESS: at 0.85% examples, 1393308 words/s, in_qsize 9, out_qsize 0\n",
      "INFO:gensim.models.word2vec:EPOCH 21: training on 170374613 raw words (166725358 effective words) took 117.1s, 1423507 effective words/s\n",
      "INFO:root:Loss after epoch 21:37814952.0\n",
      "INFO:gensim.models.word2vec:EPOCH 22 - PROGRESS: at 0.85% examples, 1400989 words/s, in_qsize 9, out_qsize 0\n",
      "INFO:gensim.models.word2vec:EPOCH 22: training on 170374613 raw words (166721932 effective words) took 117.1s, 1423585 effective words/s\n",
      "INFO:root:Loss after epoch 22:37653800.0\n",
      "INFO:gensim.models.word2vec:EPOCH 23 - PROGRESS: at 0.80% examples, 1310027 words/s, in_qsize 8, out_qsize 2\n",
      "INFO:gensim.models.word2vec:EPOCH 23: training on 170374613 raw words (166724477 effective words) took 118.6s, 1405904 effective words/s\n",
      "INFO:root:Loss after epoch 23:37770144.0\n",
      "INFO:gensim.models.word2vec:EPOCH 24 - PROGRESS: at 0.84% examples, 1357333 words/s, in_qsize 9, out_qsize 0\n",
      "INFO:gensim.models.word2vec:EPOCH 24: training on 170374613 raw words (166724584 effective words) took 119.6s, 1393441 effective words/s\n",
      "INFO:root:Loss after epoch 24:37506004.0\n",
      "INFO:gensim.models.word2vec:EPOCH 25 - PROGRESS: at 0.84% examples, 1376213 words/s, in_qsize 9, out_qsize 0\n",
      "INFO:gensim.models.word2vec:EPOCH 25: training on 170374613 raw words (166724698 effective words) took 117.8s, 1415030 effective words/s\n",
      "INFO:root:Loss after epoch 25:37602848.0\n",
      "INFO:gensim.models.word2vec:EPOCH 26 - PROGRESS: at 0.81% examples, 1320551 words/s, in_qsize 9, out_qsize 0\n",
      "INFO:gensim.models.word2vec:EPOCH 26: training on 170374613 raw words (166725753 effective words) took 121.5s, 1372225 effective words/s\n",
      "INFO:root:Loss after epoch 26:37411972.0\n",
      "INFO:gensim.models.word2vec:EPOCH 27 - PROGRESS: at 0.82% examples, 1344253 words/s, in_qsize 0, out_qsize 1\n"
     ]
    },
    {
     "name": "stderr",
     "output_type": "stream",
     "text": [
      "INFO:gensim.models.word2vec:EPOCH 27: training on 170374613 raw words (166723307 effective words) took 116.2s, 1434713 effective words/s\n",
      "INFO:root:Loss after epoch 27:37371768.0\n",
      "INFO:gensim.models.word2vec:EPOCH 28 - PROGRESS: at 0.83% examples, 1362784 words/s, in_qsize 10, out_qsize 0\n",
      "INFO:gensim.models.word2vec:EPOCH 28: training on 170374613 raw words (166723926 effective words) took 115.9s, 1438260 effective words/s\n",
      "INFO:root:Loss after epoch 28:37405836.0\n",
      "INFO:gensim.models.word2vec:EPOCH 29 - PROGRESS: at 0.81% examples, 1335635 words/s, in_qsize 10, out_qsize 0\n",
      "INFO:gensim.models.word2vec:EPOCH 29: training on 170374613 raw words (166723381 effective words) took 124.8s, 1336115 effective words/s\n",
      "INFO:root:Loss after epoch 29:37312652.0\n",
      "INFO:gensim.models.word2vec:EPOCH 30 - PROGRESS: at 0.74% examples, 1223069 words/s, in_qsize 9, out_qsize 0\n",
      "INFO:gensim.models.word2vec:EPOCH 30: training on 170374613 raw words (166724245 effective words) took 117.2s, 1422669 effective words/s\n",
      "INFO:root:Loss after epoch 30:37241056.0\n",
      "INFO:gensim.models.word2vec:EPOCH 31 - PROGRESS: at 0.84% examples, 1376974 words/s, in_qsize 9, out_qsize 1\n",
      "INFO:gensim.models.word2vec:EPOCH 31: training on 170374613 raw words (166720728 effective words) took 115.9s, 1438252 effective words/s\n",
      "INFO:root:Loss after epoch 31:37346588.0\n",
      "INFO:gensim.models.word2vec:EPOCH 32 - PROGRESS: at 0.77% examples, 1264240 words/s, in_qsize 9, out_qsize 3\n",
      "INFO:gensim.models.word2vec:EPOCH 32: training on 170374613 raw words (166724618 effective words) took 121.2s, 1375851 effective words/s\n",
      "INFO:root:Loss after epoch 32:37052908.0\n",
      "INFO:gensim.models.word2vec:EPOCH 33 - PROGRESS: at 0.75% examples, 1244682 words/s, in_qsize 9, out_qsize 0\n",
      "INFO:gensim.models.word2vec:EPOCH 33: training on 170374613 raw words (166724883 effective words) took 120.8s, 1379890 effective words/s\n",
      "INFO:root:Loss after epoch 33:37255288.0\n",
      "INFO:gensim.models.word2vec:EPOCH 34 - PROGRESS: at 0.81% examples, 1334412 words/s, in_qsize 9, out_qsize 0\n",
      "INFO:gensim.models.word2vec:EPOCH 34: training on 170374613 raw words (166722568 effective words) took 119.4s, 1395799 effective words/s\n",
      "INFO:root:Loss after epoch 34:36918040.0\n",
      "INFO:gensim.models.word2vec:EPOCH 35 - PROGRESS: at 0.84% examples, 1390743 words/s, in_qsize 9, out_qsize 0\n",
      "INFO:gensim.models.word2vec:EPOCH 35: training on 170374613 raw words (166721834 effective words) took 117.9s, 1414536 effective words/s\n",
      "INFO:root:Loss after epoch 35:37249712.0\n",
      "INFO:gensim.models.word2vec:EPOCH 36 - PROGRESS: at 0.81% examples, 1334618 words/s, in_qsize 8, out_qsize 1\n",
      "INFO:gensim.models.word2vec:EPOCH 36: training on 170374613 raw words (166722149 effective words) took 117.1s, 1423660 effective words/s\n",
      "INFO:root:Loss after epoch 36:36770280.0\n",
      "INFO:gensim.models.word2vec:EPOCH 37 - PROGRESS: at 0.80% examples, 1327018 words/s, in_qsize 10, out_qsize 2\n",
      "INFO:gensim.models.word2vec:EPOCH 37: training on 170374613 raw words (166722311 effective words) took 116.7s, 1428343 effective words/s\n",
      "INFO:root:Loss after epoch 37:37026576.0\n",
      "INFO:gensim.models.word2vec:EPOCH 38 - PROGRESS: at 0.81% examples, 1341668 words/s, in_qsize 9, out_qsize 0\n",
      "INFO:gensim.models.word2vec:EPOCH 38: training on 170374613 raw words (166724804 effective words) took 115.9s, 1438469 effective words/s\n",
      "INFO:root:Loss after epoch 38:37025256.0\n",
      "INFO:gensim.models.word2vec:EPOCH 39 - PROGRESS: at 0.83% examples, 1361472 words/s, in_qsize 9, out_qsize 0\n",
      "INFO:gensim.models.word2vec:EPOCH 39: training on 170374613 raw words (166724818 effective words) took 115.3s, 1446430 effective words/s\n",
      "INFO:root:Loss after epoch 39:36958468.0\n",
      "INFO:gensim.models.word2vec:EPOCH 40 - PROGRESS: at 0.85% examples, 1385864 words/s, in_qsize 8, out_qsize 0\n",
      "INFO:gensim.models.word2vec:EPOCH 40: training on 170374613 raw words (166725215 effective words) took 117.8s, 1415267 effective words/s\n",
      "INFO:root:Loss after epoch 40:37139980.0\n",
      "INFO:gensim.models.word2vec:EPOCH 41 - PROGRESS: at 0.92% examples, 1497832 words/s, in_qsize 9, out_qsize 1\n",
      "INFO:gensim.models.word2vec:EPOCH 41: training on 170374613 raw words (166722474 effective words) took 117.7s, 1416230 effective words/s\n",
      "INFO:root:Loss after epoch 41:36978576.0\n",
      "INFO:gensim.models.word2vec:EPOCH 42 - PROGRESS: at 0.83% examples, 1372714 words/s, in_qsize 9, out_qsize 0\n",
      "INFO:gensim.models.word2vec:EPOCH 42: training on 170374613 raw words (166725370 effective words) took 115.4s, 1444890 effective words/s\n",
      "INFO:root:Loss after epoch 42:36820628.0\n",
      "INFO:gensim.models.word2vec:EPOCH 43 - PROGRESS: at 0.82% examples, 1342057 words/s, in_qsize 9, out_qsize 0\n",
      "INFO:gensim.models.word2vec:EPOCH 43: training on 170374613 raw words (166721369 effective words) took 117.6s, 1417934 effective words/s\n",
      "INFO:root:Loss after epoch 43:37056728.0\n",
      "INFO:gensim.models.word2vec:EPOCH 44 - PROGRESS: at 0.79% examples, 1311125 words/s, in_qsize 7, out_qsize 2\n",
      "INFO:gensim.models.word2vec:EPOCH 44: training on 170374613 raw words (166725484 effective words) took 118.5s, 1406450 effective words/s\n",
      "INFO:root:Loss after epoch 44:37054200.0\n",
      "INFO:gensim.models.word2vec:EPOCH 45 - PROGRESS: at 0.82% examples, 1363865 words/s, in_qsize 6, out_qsize 3\n",
      "INFO:gensim.models.word2vec:EPOCH 45: training on 170374613 raw words (166720880 effective words) took 116.0s, 1436909 effective words/s\n",
      "INFO:root:Loss after epoch 45:36746960.0\n",
      "INFO:gensim.models.word2vec:EPOCH 46 - PROGRESS: at 0.78% examples, 1290893 words/s, in_qsize 9, out_qsize 0\n",
      "INFO:gensim.models.word2vec:EPOCH 46: training on 170374613 raw words (166724309 effective words) took 118.8s, 1403553 effective words/s\n",
      "INFO:root:Loss after epoch 46:36922028.0\n",
      "INFO:gensim.models.word2vec:EPOCH 47 - PROGRESS: at 0.89% examples, 1453957 words/s, in_qsize 10, out_qsize 3\n",
      "INFO:gensim.models.word2vec:EPOCH 47: training on 170374613 raw words (166721468 effective words) took 116.9s, 1426643 effective words/s\n",
      "INFO:root:Loss after epoch 47:36878244.0\n",
      "INFO:gensim.models.word2vec:EPOCH 48 - PROGRESS: at 0.80% examples, 1320466 words/s, in_qsize 8, out_qsize 3\n",
      "INFO:gensim.models.word2vec:EPOCH 48: training on 170374613 raw words (166722779 effective words) took 116.1s, 1435417 effective words/s\n",
      "INFO:root:Loss after epoch 48:36849780.0\n",
      "INFO:gensim.models.word2vec:EPOCH 49 - PROGRESS: at 0.85% examples, 1400810 words/s, in_qsize 9, out_qsize 0\n",
      "INFO:gensim.models.word2vec:EPOCH 49: training on 170374613 raw words (166723951 effective words) took 115.3s, 1446587 effective words/s\n",
      "INFO:root:Loss after epoch 49:36904392.0\n",
      "INFO:gensim.models.word2vec:EPOCH 50 - PROGRESS: at 0.85% examples, 1395479 words/s, in_qsize 8, out_qsize 1\n",
      "INFO:gensim.models.word2vec:EPOCH 50: training on 170374613 raw words (166723674 effective words) took 115.2s, 1447384 effective words/s\n",
      "INFO:root:Loss after epoch 50:36662732.0\n",
      "INFO:gensim.models.word2vec:EPOCH 51 - PROGRESS: at 0.81% examples, 1346041 words/s, in_qsize 9, out_qsize 0\n",
      "INFO:gensim.models.word2vec:EPOCH 51: training on 170374613 raw words (166722705 effective words) took 115.4s, 1444660 effective words/s\n",
      "INFO:root:Loss after epoch 51:36799160.0\n",
      "INFO:gensim.models.word2vec:EPOCH 52 - PROGRESS: at 0.86% examples, 1408627 words/s, in_qsize 9, out_qsize 0\n",
      "INFO:gensim.models.word2vec:EPOCH 52: training on 170374613 raw words (166722584 effective words) took 114.9s, 1450605 effective words/s\n",
      "INFO:root:Loss after epoch 52:36775364.0\n",
      "INFO:gensim.models.word2vec:EPOCH 53 - PROGRESS: at 0.84% examples, 1389575 words/s, in_qsize 9, out_qsize 0\n",
      "INFO:gensim.models.word2vec:EPOCH 53: training on 170374613 raw words (166722903 effective words) took 115.3s, 1445786 effective words/s\n",
      "INFO:root:Loss after epoch 53:36705724.0\n",
      "INFO:gensim.models.word2vec:EPOCH 54 - PROGRESS: at 0.84% examples, 1392191 words/s, in_qsize 9, out_qsize 1\n",
      "INFO:gensim.models.word2vec:EPOCH 54: training on 170374613 raw words (166723588 effective words) took 115.0s, 1450085 effective words/s\n",
      "INFO:root:Loss after epoch 54:36672292.0\n",
      "INFO:gensim.models.word2vec:EPOCH 55 - PROGRESS: at 0.79% examples, 1294068 words/s, in_qsize 9, out_qsize 0\n",
      "INFO:gensim.models.word2vec:EPOCH 55: training on 170374613 raw words (166723285 effective words) took 116.1s, 1436640 effective words/s\n",
      "INFO:root:Loss after epoch 55:36744912.0\n"
     ]
    },
    {
     "name": "stderr",
     "output_type": "stream",
     "text": [
      "INFO:gensim.models.word2vec:EPOCH 56 - PROGRESS: at 0.80% examples, 1328447 words/s, in_qsize 10, out_qsize 0\n",
      "INFO:gensim.models.word2vec:EPOCH 56: training on 170374613 raw words (166724372 effective words) took 115.5s, 1443721 effective words/s\n",
      "INFO:root:Loss after epoch 56:36649264.0\n",
      "INFO:gensim.models.word2vec:EPOCH 57 - PROGRESS: at 0.84% examples, 1393687 words/s, in_qsize 9, out_qsize 0\n",
      "INFO:gensim.models.word2vec:EPOCH 57: training on 170374613 raw words (166724703 effective words) took 115.6s, 1442438 effective words/s\n",
      "INFO:root:Loss after epoch 57:36740652.0\n",
      "INFO:gensim.models.word2vec:EPOCH 58 - PROGRESS: at 0.80% examples, 1323235 words/s, in_qsize 10, out_qsize 2\n",
      "INFO:gensim.models.word2vec:EPOCH 58: training on 170374613 raw words (166723645 effective words) took 115.0s, 1449659 effective words/s\n",
      "INFO:root:Loss after epoch 58:36722216.0\n",
      "INFO:gensim.models.word2vec:EPOCH 59 - PROGRESS: at 0.82% examples, 1363583 words/s, in_qsize 9, out_qsize 0\n",
      "INFO:gensim.models.word2vec:EPOCH 59: training on 170374613 raw words (166720952 effective words) took 115.0s, 1449571 effective words/s\n",
      "INFO:root:Loss after epoch 59:36719980.0\n",
      "INFO:gensim.models.word2vec:EPOCH 60 - PROGRESS: at 0.86% examples, 1413783 words/s, in_qsize 9, out_qsize 0\n",
      "INFO:gensim.models.word2vec:EPOCH 60: training on 170374613 raw words (166722980 effective words) took 115.1s, 1448636 effective words/s\n",
      "INFO:root:Loss after epoch 60:36666644.0\n",
      "INFO:gensim.models.word2vec:EPOCH 61 - PROGRESS: at 0.81% examples, 1335821 words/s, in_qsize 9, out_qsize 0\n",
      "INFO:gensim.models.word2vec:EPOCH 61: training on 170374613 raw words (166724146 effective words) took 115.9s, 1438816 effective words/s\n",
      "INFO:root:Loss after epoch 61:36575848.0\n",
      "INFO:gensim.models.word2vec:EPOCH 62 - PROGRESS: at 0.80% examples, 1328103 words/s, in_qsize 8, out_qsize 1\n",
      "INFO:gensim.models.word2vec:EPOCH 62: training on 170374613 raw words (166722000 effective words) took 115.7s, 1441436 effective words/s\n",
      "INFO:root:Loss after epoch 62:36596376.0\n",
      "INFO:gensim.models.word2vec:EPOCH 63 - PROGRESS: at 0.81% examples, 1345140 words/s, in_qsize 8, out_qsize 1\n",
      "INFO:gensim.models.word2vec:EPOCH 63: training on 170374613 raw words (166721241 effective words) took 114.8s, 1452165 effective words/s\n",
      "INFO:root:Loss after epoch 63:36707072.0\n",
      "INFO:gensim.models.word2vec:EPOCH 64 - PROGRESS: at 0.81% examples, 1324638 words/s, in_qsize 8, out_qsize 1\n",
      "INFO:gensim.models.word2vec:EPOCH 64: training on 170374613 raw words (166724448 effective words) took 118.6s, 1405821 effective words/s\n",
      "INFO:root:Loss after epoch 64:36823184.0\n",
      "INFO:gensim.models.word2vec:EPOCH 65 - PROGRESS: at 0.82% examples, 1362352 words/s, in_qsize 7, out_qsize 2\n",
      "INFO:gensim.models.word2vec:EPOCH 65: training on 170374613 raw words (166725151 effective words) took 117.1s, 1424090 effective words/s\n",
      "INFO:root:Loss after epoch 65:36677368.0\n",
      "INFO:gensim.models.word2vec:EPOCH 66 - PROGRESS: at 0.85% examples, 1395683 words/s, in_qsize 9, out_qsize 1\n",
      "INFO:gensim.models.word2vec:EPOCH 66: training on 170374613 raw words (166722391 effective words) took 115.6s, 1442720 effective words/s\n",
      "INFO:root:Loss after epoch 66:36544060.0\n",
      "INFO:gensim.models.word2vec:EPOCH 67 - PROGRESS: at 0.85% examples, 1372032 words/s, in_qsize 10, out_qsize 0\n",
      "INFO:gensim.models.word2vec:EPOCH 67: training on 170374613 raw words (166722714 effective words) took 115.2s, 1446958 effective words/s\n",
      "INFO:root:Loss after epoch 67:36836048.0\n",
      "INFO:gensim.models.word2vec:EPOCH 68 - PROGRESS: at 0.80% examples, 1326066 words/s, in_qsize 7, out_qsize 2\n",
      "INFO:gensim.models.word2vec:EPOCH 68: training on 170374613 raw words (166719905 effective words) took 115.4s, 1444374 effective words/s\n",
      "INFO:root:Loss after epoch 68:36430088.0\n",
      "INFO:gensim.models.word2vec:EPOCH 69 - PROGRESS: at 0.81% examples, 1337915 words/s, in_qsize 9, out_qsize 0\n",
      "INFO:gensim.models.word2vec:EPOCH 69: training on 170374613 raw words (166723077 effective words) took 119.4s, 1396823 effective words/s\n",
      "INFO:root:Loss after epoch 69:36648588.0\n",
      "INFO:gensim.models.word2vec:EPOCH 70 - PROGRESS: at 0.83% examples, 1373723 words/s, in_qsize 9, out_qsize 0\n",
      "INFO:gensim.models.word2vec:EPOCH 70: training on 170374613 raw words (166722857 effective words) took 118.2s, 1410480 effective words/s\n",
      "INFO:root:Loss after epoch 70:36810408.0\n",
      "INFO:gensim.models.word2vec:EPOCH 71 - PROGRESS: at 0.75% examples, 1236271 words/s, in_qsize 9, out_qsize 0\n",
      "INFO:gensim.models.word2vec:EPOCH 71: training on 170374613 raw words (166721519 effective words) took 116.8s, 1427035 effective words/s\n",
      "INFO:root:Loss after epoch 71:36740760.0\n",
      "INFO:gensim.models.word2vec:EPOCH 72 - PROGRESS: at 0.82% examples, 1352347 words/s, in_qsize 9, out_qsize 1\n",
      "INFO:gensim.models.word2vec:EPOCH 72: training on 170374613 raw words (166722943 effective words) took 116.7s, 1428586 effective words/s\n",
      "INFO:root:Loss after epoch 72:36632088.0\n",
      "INFO:gensim.models.word2vec:EPOCH 73 - PROGRESS: at 0.84% examples, 1392411 words/s, in_qsize 9, out_qsize 0\n",
      "INFO:gensim.models.word2vec:EPOCH 73: training on 170374613 raw words (166723412 effective words) took 116.8s, 1427702 effective words/s\n",
      "INFO:root:Loss after epoch 73:36367352.0\n",
      "INFO:gensim.models.word2vec:EPOCH 74 - PROGRESS: at 0.82% examples, 1352842 words/s, in_qsize 8, out_qsize 1\n",
      "INFO:gensim.models.word2vec:EPOCH 74: training on 170374613 raw words (166719753 effective words) took 116.8s, 1427307 effective words/s\n",
      "INFO:root:Loss after epoch 74:36594256.0\n",
      "INFO:gensim.models.word2vec:EPOCH 75 - PROGRESS: at 0.84% examples, 1385563 words/s, in_qsize 9, out_qsize 0\n",
      "INFO:gensim.models.word2vec:EPOCH 75: training on 170374613 raw words (166720583 effective words) took 116.0s, 1436868 effective words/s\n",
      "INFO:root:Loss after epoch 75:36539872.0\n",
      "INFO:gensim.models.word2vec:EPOCH 76 - PROGRESS: at 0.85% examples, 1401275 words/s, in_qsize 8, out_qsize 1\n",
      "INFO:gensim.models.word2vec:EPOCH 76: training on 170374613 raw words (166722507 effective words) took 115.2s, 1447752 effective words/s\n",
      "INFO:root:Loss after epoch 76:36533708.0\n",
      "INFO:gensim.models.word2vec:EPOCH 77 - PROGRESS: at 0.81% examples, 1347951 words/s, in_qsize 7, out_qsize 2\n",
      "INFO:gensim.models.word2vec:EPOCH 77: training on 170374613 raw words (166722525 effective words) took 117.7s, 1416029 effective words/s\n",
      "INFO:root:Loss after epoch 77:36492432.0\n",
      "INFO:gensim.models.word2vec:EPOCH 78 - PROGRESS: at 0.82% examples, 1364534 words/s, in_qsize 8, out_qsize 1\n",
      "INFO:gensim.models.word2vec:EPOCH 78: training on 170374613 raw words (166724069 effective words) took 115.0s, 1449754 effective words/s\n",
      "INFO:root:Loss after epoch 78:36534964.0\n",
      "INFO:gensim.models.word2vec:EPOCH 79 - PROGRESS: at 0.86% examples, 1425779 words/s, in_qsize 10, out_qsize 0\n",
      "INFO:gensim.models.word2vec:EPOCH 79: training on 170374613 raw words (166722574 effective words) took 114.5s, 1456491 effective words/s\n",
      "INFO:root:Loss after epoch 79:36589048.0\n",
      "INFO:gensim.models.word2vec:EPOCH 80 - PROGRESS: at 0.82% examples, 1349461 words/s, in_qsize 8, out_qsize 1\n",
      "INFO:gensim.models.word2vec:EPOCH 80: training on 170374613 raw words (166722827 effective words) took 117.1s, 1424177 effective words/s\n",
      "INFO:root:Loss after epoch 80:36474124.0\n",
      "INFO:gensim.models.word2vec:EPOCH 81 - PROGRESS: at 0.87% examples, 1432600 words/s, in_qsize 9, out_qsize 0\n",
      "INFO:gensim.models.word2vec:EPOCH 81: training on 170374613 raw words (166723552 effective words) took 115.1s, 1448673 effective words/s\n",
      "INFO:root:Loss after epoch 81:36664488.0\n",
      "INFO:gensim.models.word2vec:EPOCH 82 - PROGRESS: at 0.88% examples, 1463801 words/s, in_qsize 9, out_qsize 0\n",
      "INFO:gensim.models.word2vec:EPOCH 82: training on 170374613 raw words (166725065 effective words) took 115.6s, 1442774 effective words/s\n",
      "INFO:root:Loss after epoch 82:36609492.0\n",
      "INFO:gensim.models.word2vec:EPOCH 83 - PROGRESS: at 0.81% examples, 1335285 words/s, in_qsize 9, out_qsize 0\n",
      "INFO:gensim.models.word2vec:EPOCH 83: training on 170374613 raw words (166723588 effective words) took 121.5s, 1372482 effective words/s\n",
      "INFO:root:Loss after epoch 83:36576860.0\n",
      "INFO:gensim.models.word2vec:EPOCH 84 - PROGRESS: at 0.85% examples, 1395348 words/s, in_qsize 10, out_qsize 0\n",
      "INFO:gensim.models.word2vec:EPOCH 84: training on 170374613 raw words (166723694 effective words) took 118.0s, 1412907 effective words/s\n"
     ]
    },
    {
     "name": "stderr",
     "output_type": "stream",
     "text": [
      "INFO:root:Loss after epoch 84:36475404.0\n",
      "INFO:gensim.models.word2vec:EPOCH 85 - PROGRESS: at 0.81% examples, 1345684 words/s, in_qsize 9, out_qsize 0\n",
      "INFO:gensim.models.word2vec:EPOCH 85: training on 170374613 raw words (166724465 effective words) took 117.3s, 1421946 effective words/s\n",
      "INFO:root:Loss after epoch 85:36560712.0\n",
      "INFO:gensim.models.word2vec:EPOCH 86 - PROGRESS: at 0.85% examples, 1386970 words/s, in_qsize 9, out_qsize 0\n",
      "INFO:gensim.models.word2vec:EPOCH 86: training on 170374613 raw words (166721772 effective words) took 116.0s, 1437329 effective words/s\n",
      "INFO:root:Loss after epoch 86:36437896.0\n",
      "INFO:gensim.models.word2vec:EPOCH 87 - PROGRESS: at 0.81% examples, 1342665 words/s, in_qsize 8, out_qsize 2\n",
      "INFO:gensim.models.word2vec:EPOCH 87: training on 170374613 raw words (166722549 effective words) took 117.8s, 1414893 effective words/s\n",
      "INFO:root:Loss after epoch 87:36656224.0\n",
      "INFO:gensim.models.word2vec:EPOCH 88 - PROGRESS: at 0.82% examples, 1356874 words/s, in_qsize 9, out_qsize 0\n",
      "INFO:gensim.models.word2vec:EPOCH 88: training on 170374613 raw words (166720284 effective words) took 117.1s, 1424041 effective words/s\n",
      "INFO:root:Loss after epoch 88:36570288.0\n",
      "INFO:gensim.models.word2vec:EPOCH 89 - PROGRESS: at 0.81% examples, 1334019 words/s, in_qsize 9, out_qsize 0\n",
      "INFO:gensim.models.word2vec:EPOCH 89: training on 170374613 raw words (166723237 effective words) took 118.3s, 1408827 effective words/s\n",
      "INFO:root:Loss after epoch 89:36567668.0\n",
      "INFO:gensim.models.word2vec:EPOCH 90 - PROGRESS: at 0.82% examples, 1365992 words/s, in_qsize 9, out_qsize 1\n",
      "INFO:gensim.models.word2vec:EPOCH 90: training on 170374613 raw words (166724329 effective words) took 116.7s, 1428272 effective words/s\n",
      "INFO:root:Loss after epoch 90:36669880.0\n",
      "INFO:gensim.models.word2vec:EPOCH 91 - PROGRESS: at 0.82% examples, 1368019 words/s, in_qsize 9, out_qsize 0\n",
      "INFO:gensim.models.word2vec:EPOCH 91: training on 170374613 raw words (166725283 effective words) took 115.6s, 1442805 effective words/s\n",
      "INFO:root:Loss after epoch 91:36529488.0\n",
      "INFO:gensim.models.word2vec:EPOCH 92 - PROGRESS: at 0.85% examples, 1404114 words/s, in_qsize 10, out_qsize 0\n",
      "INFO:gensim.models.word2vec:EPOCH 92: training on 170374613 raw words (166722245 effective words) took 116.2s, 1434783 effective words/s\n",
      "INFO:root:Loss after epoch 92:36215048.0\n",
      "INFO:gensim.models.word2vec:EPOCH 93 - PROGRESS: at 0.82% examples, 1341984 words/s, in_qsize 9, out_qsize 0\n",
      "INFO:gensim.models.word2vec:EPOCH 93: training on 170374613 raw words (166722844 effective words) took 117.3s, 1420963 effective words/s\n",
      "INFO:root:Loss after epoch 93:36602300.0\n",
      "INFO:gensim.models.word2vec:EPOCH 94 - PROGRESS: at 0.82% examples, 1348939 words/s, in_qsize 10, out_qsize 0\n",
      "INFO:gensim.models.word2vec:EPOCH 94: training on 170374613 raw words (166724059 effective words) took 115.3s, 1446203 effective words/s\n",
      "INFO:root:Loss after epoch 94:36717328.0\n",
      "INFO:gensim.models.word2vec:EPOCH 95 - PROGRESS: at 0.81% examples, 1342954 words/s, in_qsize 9, out_qsize 0\n",
      "INFO:gensim.models.word2vec:EPOCH 95: training on 170374613 raw words (166723788 effective words) took 114.9s, 1450660 effective words/s\n",
      "INFO:root:Loss after epoch 95:38550288.0\n",
      "INFO:gensim.models.word2vec:EPOCH 96 - PROGRESS: at 0.81% examples, 1330098 words/s, in_qsize 9, out_qsize 0\n",
      "INFO:gensim.models.word2vec:EPOCH 96: training on 170374613 raw words (166724672 effective words) took 116.6s, 1430225 effective words/s\n",
      "INFO:root:Loss after epoch 96:36613632.0\n",
      "INFO:gensim.models.word2vec:EPOCH 97 - PROGRESS: at 0.82% examples, 1354224 words/s, in_qsize 10, out_qsize 0\n",
      "INFO:gensim.models.word2vec:EPOCH 97: training on 170374613 raw words (166722832 effective words) took 115.2s, 1447212 effective words/s\n",
      "INFO:root:Loss after epoch 97:36557560.0\n",
      "INFO:gensim.models.word2vec:EPOCH 98 - PROGRESS: at 0.82% examples, 1359831 words/s, in_qsize 10, out_qsize 0\n",
      "INFO:gensim.models.word2vec:EPOCH 98: training on 170374613 raw words (166723353 effective words) took 115.3s, 1445547 effective words/s\n",
      "INFO:root:Loss after epoch 98:36418692.0\n",
      "INFO:gensim.models.word2vec:EPOCH 99 - PROGRESS: at 0.83% examples, 1337893 words/s, in_qsize 10, out_qsize 2\n",
      "INFO:gensim.models.word2vec:EPOCH 99: training on 170374613 raw words (166723587 effective words) took 115.1s, 1448358 effective words/s\n",
      "INFO:root:Loss after epoch 99:36499456.0\n",
      "INFO:gensim.utils:Word2Vec lifecycle event {'msg': 'training on 17037461300 raw words (16672317146 effective words) took 11705.7s, 1424295 effective words/s', 'datetime': '2023-04-25T21:07:55.427232', 'gensim': '4.3.1', 'python': '3.11.3 | packaged by conda-forge | (main, Apr  6 2023, 09:05:00) [Clang 14.0.6 ]', 'platform': 'macOS-12.6-x86_64-i386-64bit', 'event': 'train'}\n"
     ]
    },
    {
     "data": {
      "text/plain": [
       "(16672317146, 17037461300)"
      ]
     },
     "execution_count": 19,
     "metadata": {},
     "output_type": "execute_result"
    }
   ],
   "source": [
    "#we override alpha with small values, since default values result in poor train performance. See loss plot below\n",
    "model.train(sentences, epochs=100, start_alpha=0.0001, end_alpha=0.00001, total_examples=model.corpus_count, total_words=model.corpus_total_words, compute_loss=True, report_delay=300, callbacks=[Callback()])\n"
   ]
  },
  {
   "cell_type": "code",
   "execution_count": 21,
   "id": "d5e1b267",
   "metadata": {},
   "outputs": [
    {
     "data": {
      "text/plain": [
       "[<matplotlib.lines.Line2D at 0x1ec392210>]"
      ]
     },
     "execution_count": 21,
     "metadata": {},
     "output_type": "execute_result"
    },
    {
     "data": {
      "image/png": "[encoded data removed]",
      "text/plain": [
       "<Figure size 640x480 with 1 Axes>"
      ]
     },
     "metadata": {},
     "output_type": "display_data"
    }
   ],
   "source": [
    "plt.plot(loss_list)"
   ]
  },
  {
   "cell_type": "markdown",
   "id": "a42f370d",
   "metadata": {},
   "source": [
    "For comaprison, below is the loss plot when using default (larger) values for alpha. Note, that during training alpha is decreasing linearly from start value to end value. With default values in use the loss goes down near the end, once alpha gets smaller values."
   ]
  },
  {
   "cell_type": "code",
   "execution_count": 28,
   "id": "56eaea48",
   "metadata": {},
   "outputs": [
    {
     "data": {
      "text/plain": [
       "[<matplotlib.lines.Line2D at 0x1ea8a8e10>]"
      ]
     },
     "execution_count": 28,
     "metadata": {},
     "output_type": "execute_result"
    },
    {
     "data": {
      "image/png": "[encoded data removed]",
      "text/plain": [
       "<Figure size 640x480 with 1 Axes>"
      ]
     },
     "metadata": {},
     "output_type": "display_data"
    }
   ],
   "source": [
    "default_alpha_loss_list = [45621836.0, 44355904.0, 44249936.0, 44104492.0, 44107028.0, 44097436.0, 44270596.0, 44089604.0, 44185456.0, 44285424.0, 44182396.0, 44126032.0, 44408908.0, 44199988.0, 44425624.0, 44209516.0, 44227556.0, 44041368.0, 44373620.0, 44456688.0, 44070200.0, 43995008.0, 44134528.0, 44107632.0, 43802268.0, 44047244.0, 43904480.0, 43939264.0, 43987436.0, 43859148.0, 43961468.0, 44073332.0, 43907992.0, 43725336.0, 43849884.0, 43924944.0, 43826232.0, 43496588.0, 43605268.0, 43641544.0, 43543980.0, 43537204.0, 43491140.0, 43373268.0, 43624628.0, 43330720.0, 43449924.0, 43234040.0, 43097712.0, 44565932.0, 43416728.0, 43234072.0, 43260536.0, 43074152.0, 43096868.0, 42714596.0, 43268708.0, 42984456.0, 43917916.0, 43035192.0, 42818392.0, 42656488.0, 42411144.0, 42707748.0, 42523348.0, 42491780.0, 42605616.0, 42294312.0, 42310540.0, 42306532.0, 42327836.0, 42028380.0, 43780020.0, 41960848.0, 41753348.0, 41644528.0, 42072300.0, 41830796.0, 41535968.0, 41507712.0, 41336916.0, 41256888.0, 41069008.0, 40828812.0, 40791320.0, 40758012.0, 40487952.0, 40521400.0, 40385292.0, 40164828.0, 41217672.0, 39945608.0, 39633816.0, 39335348.0, 39096012.0, 39050096.0, 38497092.0, 38436708.0, 38193532.0, 37834140.0]\n",
    "plt.plot(default_alpha_loss_list)"
   ]
  },
  {
   "cell_type": "code",
   "execution_count": 24,
   "id": "47482d49",
   "metadata": {},
   "outputs": [
    {
     "data": {
      "text/plain": [
       "[('котка', 0.8813685774803162),\n",
       " ('кошка', 0.8693367838859558),\n",
       " ('кот', 0.8607653379440308),\n",
       " ('жывёліна', 0.8550747036933899),\n",
       " ('кацяня', 0.8518059253692627),\n",
       " ('пацук', 0.8364773988723755),\n",
       " ('дзік', 0.8306906223297119),\n",
       " ('сабачка', 0.8288159370422363),\n",
       " ('шчанюк', 0.8283321857452393),\n",
       " ('конь', 0.8242195248603821),\n",
       " ('муха', 0.8205313682556152),\n",
       " ('звер', 0.808570146560669),\n",
       " ('авечка', 0.8058522343635559),\n",
       " ('малпа', 0.8028984069824219),\n",
       " ('лісіца', 0.7969299554824829),\n",
       " ('брахаць', 0.7953426241874695),\n",
       " ('ведзьма', 0.7952244877815247),\n",
       " ('воўк', 0.7950000762939453),\n",
       " ('асёл', 0.7937894463539124),\n",
       " ('жаба', 0.7918252348899841)]"
      ]
     },
     "execution_count": 24,
     "metadata": {},
     "output_type": "execute_result"
    }
   ],
   "source": [
    "model.wv.most_similar('сабака', topn=20)"
   ]
  },
  {
   "cell_type": "code",
   "execution_count": 25,
   "id": "66d4d6be",
   "metadata": {},
   "outputs": [
    {
     "data": {
      "text/plain": [
       "['беларускі',\n",
       " 'год',\n",
       " 'беларусь',\n",
       " 'чалавек',\n",
       " 'час',\n",
       " 'дзень',\n",
       " 'большыць',\n",
       " 'мова',\n",
       " 'новы',\n",
       " 'вялікі']"
      ]
     },
     "execution_count": 25,
     "metadata": {},
     "output_type": "execute_result"
    }
   ],
   "source": [
    "model.wv.index_to_key[:10]"
   ]
  },
  {
   "cell_type": "code",
   "execution_count": 26,
   "id": "ec534c05",
   "metadata": {},
   "outputs": [
    {
     "name": "stderr",
     "output_type": "stream",
     "text": [
      "INFO:gensim.utils:Word2Vec lifecycle event {'fname_or_handle': 'word2vec-100-bel-cc100.model', 'separately': 'None', 'sep_limit': 10485760, 'ignore': frozenset(), 'datetime': '2023-04-25T21:14:43.257452', 'gensim': '4.3.1', 'python': '3.11.3 | packaged by conda-forge | (main, Apr  6 2023, 09:05:00) [Clang 14.0.6 ]', 'platform': 'macOS-12.6-x86_64-i386-64bit', 'event': 'saving'}\n",
      "INFO:gensim.utils:not storing attribute cum_table\n",
      "INFO:gensim.utils:saved word2vec-100-bel-cc100.model\n"
     ]
    }
   ],
   "source": [
    "model.save(\"word2vec-100-bel-cc100.model\")"
   ]
  },
  {
   "cell_type": "code",
   "execution_count": 27,
   "id": "389e42e0",
   "metadata": {},
   "outputs": [
    {
     "name": "stderr",
     "output_type": "stream",
     "text": [
      "INFO:gensim.models.keyedvectors:storing 77978x100 projection weights into word-vectors.txt\n"
     ]
    }
   ],
   "source": [
    "model.wv.save_word2vec_format('word-vectors.txt')"
   ]
  }
 ],
 "metadata": {
  "kernelspec": {
   "display_name": "Python 3 (ipykernel)",
   "language": "python",
   "name": "python3"
  },
  "language_info": {
   "codemirror_mode": {
    "name": "ipython",
    "version": 3
   },
   "file_extension": ".py",
   "mimetype": "text/x-python",
   "name": "python",
   "nbconvert_exporter": "python",
   "pygments_lexer": "ipython3",
   "version": "3.11.3"
  }
 },
 "nbformat": 4,
 "nbformat_minor": 5
}
