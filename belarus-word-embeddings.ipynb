{
 "cells": [
  {
   "cell_type": "code",
   "execution_count": 1,
   "id": "de7b8b0c",
   "metadata": {},
   "outputs": [],
   "source": [
    "import re\n",
    "import gensim\n",
    "from gensim.parsing.preprocessing import strip_punctuation, strip_short, strip_numeric, strip_multiple_whitespaces, remove_stopwords\n",
    "from gensim.models.word2vec import LineSentence\n",
    "from gensim.models import Word2Vec\n",
    "from gensim.models.callbacks import CallbackAny2Vec\n",
    "import urllib.request\n",
    "import zipfile\n",
    "import lzma\n",
    "import shutil\n",
    "import matplotlib.pyplot as plt"
   ]
  },
  {
   "cell_type": "code",
   "execution_count": 2,
   "id": "7dc6904a",
   "metadata": {},
   "outputs": [
    {
     "name": "stderr",
     "output_type": "stream",
     "text": [
      "INFO:root:Logging initialized\n"
     ]
    }
   ],
   "source": [
    "import logging\n",
    "logging.basicConfig(level=logging.INFO, force = True)\n",
    "logger = logging.getLogger()\n",
    "logger.info(\"Logging initialized\")"
   ]
  },
  {
   "cell_type": "code",
   "execution_count": 3,
   "id": "63844db8",
   "metadata": {},
   "outputs": [
    {
     "data": {
      "text/plain": [
       "('GrammarDB.zip', <http.client.HTTPMessage at 0x176cc3890>)"
      ]
     },
     "execution_count": 3,
     "metadata": {},
     "output_type": "execute_result"
    }
   ],
   "source": [
    "#Link found here: https://metatext.io/datasets/cc100-belarusian\n",
    "urllib.request.urlretrieve('https://data.statmt.org/cc-100/be.txt.xz', \n",
    "                           'be.txt.xz')\n",
    "\n",
    "urllib.request.urlretrieve('https://github.com/Belarus/GrammarDB/archive/refs/tags/PUBLICATION_2021.zip', \n",
    "                           'GrammarDB.zip')"
   ]
  },
  {
   "cell_type": "code",
   "execution_count": 4,
   "id": "999d375c",
   "metadata": {},
   "outputs": [],
   "source": [
    "with lzma.open(\"be.txt.xz\", \"rb\") as fsrc:\n",
    "    with open(\"be.txt\", \"wb\") as fdst:\n",
    "        shutil.copyfileobj(fsrc, fdst)\n",
    "\n",
    "with zipfile.ZipFile('GrammarDB.zip', 'r') as zip_ref:\n",
    "    zip_ref.extractall('.')"
   ]
  },
  {
   "cell_type": "code",
   "execution_count": 5,
   "id": "49326e47",
   "metadata": {},
   "outputs": [],
   "source": [
    "import xml.dom.minidom\n",
    "from itertools import islice\n",
    "\n",
    "def calculate_mapping_from_forms_to_base(filepath, tag_prefixes=[]):\n",
    "    xml_doc = xml.dom.minidom.parse(filepath)\n",
    "    paradigms = xml_doc.getElementsByTagName('Paradigm')\n",
    "    result = {}\n",
    "    collision_count = 0\n",
    "    collisions = set()\n",
    "    for paradigm in paradigms:\n",
    "        tag = paradigm.getAttribute('tag')\n",
    "        if len(tag_prefixes) == 0 or any([tag.startswith(p) for p in tag_prefixes]):\n",
    "            variants = paradigm.getElementsByTagName('Variant')\n",
    "            for variant in variants:\n",
    "                base = variant.getAttribute('lemma').replace(\"+\", \"\").lower()\n",
    "                if base not in BASE_FORM_BLACKLIST:\n",
    "                    forms = variant.getElementsByTagName('Form')\n",
    "                    local_map = {}\n",
    "                    citation_count = max([form.getAttribute('slouniki').count(',') for form in forms]) + 1\n",
    "                    for form in forms:\n",
    "                        if len(form.childNodes) > 0:\n",
    "                            word = form.childNodes[0].data.replace(\"+\", \"\").lower()\n",
    "                            local_map[word] = (base, citation_count)\n",
    "                    for k, v in local_map.items():\n",
    "                        if k in result:\n",
    "                            if result[k][1] == v[1] and result[k][0] != v[0]:\n",
    "                                collision_count += 1\n",
    "                                collisions.add(v[0])\n",
    "                                collisions.add(result[k][0])\n",
    "                            elif result[k][1] < v[1]:\n",
    "                                result[k] = v\n",
    "                        else:\n",
    "                            result[k] = v\n",
    "                    \n",
    "    logger.info(f\"Collisions (forms leading to different base word, and having same amount of citation): {collision_count}\")\n",
    "    logger.info(f\"Examples of collisions: {list(islice(collisions, 5))}\")\n",
    "    for k in result:\n",
    "        result[k] = result[k][0]\n",
    "    return result"
   ]
  },
  {
   "cell_type": "code",
   "execution_count": 6,
   "id": "6184b181",
   "metadata": {},
   "outputs": [],
   "source": [
    "BASE_FORM_BLACKLIST = [\n",
    "    'як' # can mean 'bull', but mostly used as particle \n",
    "] + [chr(ord('а')+delta) for delta in range(0, 32)] # alphabet letters\n",
    "\n",
    "DERIVED_FORM_BLACKLIST = [\n",
    "    'але', # can mean geographic place 'Ала', but mostly used as particle 'але'\n",
    "    'калі', # weird form of 'калій' - 'каль', but used as particle 'калі'\n",
    "    'вось', # can mean 'axis', but mostly used as particle\n",
    "    'нам', # can mean short form of 'намеснік', but mostly used as pronoun 'мы'\n",
    "    'наша', # some weird noun 'наша', but mostly used as pronoun 'мы'\n",
    "    'нашы', # can be used as noun, but motly used as pronoun 'мы'\n",
    "    'яму' # can be used as rare noun 'ям', but mostly used as pronoun 'ён'\n",
    "]"
   ]
  },
  {
   "cell_type": "code",
   "execution_count": 7,
   "id": "048cd3f1",
   "metadata": {},
   "outputs": [
    {
     "name": "stderr",
     "output_type": "stream",
     "text": [
      "INFO:root:Collisions (forms leading to different base word, and having same amount of citation): 2597\n",
      "INFO:root:Examples of collisions: ['самаўшчыльніцца', 'памесці', 'азначаць', 'забрынчаць', 'раскудлачыцца']\n",
      "INFO:root:Collisions (forms leading to different base word, and having same amount of citation): 33\n",
      "INFO:root:Examples of collisions: ['полацк', 'дняпро', 'мачулішча', 'палесціна', 'полацак']\n",
      "INFO:root:Collisions (forms leading to different base word, and having same amount of citation): 1345\n",
      "INFO:root:Examples of collisions: ['акт', 'вол', 'біяфізік', 'гексоз', 'веруючы']\n",
      "INFO:root:Collisions (forms leading to different base word, and having same amount of citation): 1155\n",
      "INFO:root:Examples of collisions: ['пастаў', 'падлог', 'кенійка', 'начоўкі', 'лаза']\n",
      "INFO:root:Collisions (forms leading to different base word, and having same amount of citation): 954\n",
      "INFO:root:Examples of collisions: ['таваразнавец', 'таган', 'цурок', 'электрамеханіка', 'рагатка']\n",
      "INFO:root:Collisions (forms leading to different base word, and having same amount of citation): 51\n",
      "INFO:root:Examples of collisions: ['дугласавы', 'крэчатавы', 'дакалумбаў', 'дэкартаў', 'вітавы']\n",
      "INFO:root:Collisions (forms leading to different base word, and having same amount of citation): 37\n",
      "INFO:root:Examples of collisions: ['чэпікавы', 'шчупакоў', 'пупартаў', 'пупартавы', 'чыжовы']\n"
     ]
    }
   ],
   "source": [
    "#verbs\n",
    "v = calculate_mapping_from_forms_to_base('GrammarDB-PUBLICATION_2021/V.xml')\n",
    "\n",
    "#proper nouns\n",
    "np = calculate_mapping_from_forms_to_base('GrammarDB-PUBLICATION_2021/NP.xml', ['NPII'])\n",
    "\n",
    "#nouns\n",
    "n1 = calculate_mapping_from_forms_to_base('GrammarDB-PUBLICATION_2021/N1.xml')\n",
    "n2 = calculate_mapping_from_forms_to_base('GrammarDB-PUBLICATION_2021/N2.xml')\n",
    "n3 = calculate_mapping_from_forms_to_base('GrammarDB-PUBLICATION_2021/N3.xml')\n",
    "\n",
    "#adjectives\n",
    "adj1 = calculate_mapping_from_forms_to_base('GrammarDB-PUBLICATION_2021/A1.xml', ['ARP', 'AQP'])\n",
    "adj2 = calculate_mapping_from_forms_to_base('GrammarDB-PUBLICATION_2021/A2.xml', ['ARP', 'AQP'])\n",
    "\n",
    "WORD_MAP = {}\n",
    "WORD_MAP.update(v)\n",
    "WORD_MAP.update(np)\n",
    "WORD_MAP.update(n1)\n",
    "WORD_MAP.update(n2)\n",
    "WORD_MAP.update(n3)\n",
    "WORD_MAP.update(adj1)\n",
    "WORD_MAP.update(adj2)"
   ]
  },
  {
   "cell_type": "code",
   "execution_count": 8,
   "id": "a11b12a9",
   "metadata": {},
   "outputs": [
    {
     "name": "stdout",
     "output_type": "stream",
     "text": [
      "2262675\n"
     ]
    }
   ],
   "source": [
    "print(len(WORD_MAP))"
   ]
  },
  {
   "cell_type": "code",
   "execution_count": 9,
   "id": "48c63417",
   "metadata": {},
   "outputs": [
    {
     "name": "stdout",
     "output_type": "stream",
     "text": [
      "рух\n",
      "беларусь\n"
     ]
    }
   ],
   "source": [
    "print(WORD_MAP['рухам'])\n",
    "print(WORD_MAP['беларусі'])"
   ]
  },
  {
   "cell_type": "code",
   "execution_count": 10,
   "id": "ca36540b",
   "metadata": {},
   "outputs": [],
   "source": [
    "def strip_trailing_newline(iterable):\n",
    "    for i in iterable:\n",
    "        yield i.rstrip()\n",
    "\n",
    "CHARACTERS_MAP = {'’': '\\'', 'ý': 'ў', ' ў': ' у', 'i': 'і', 'ньн': 'нн', 'цьц': 'цц', 'сьц': 'сц', 'сьл':'сл', 'дзьдз': 'ддз', 'сьв': 'св', 'зьв': 'зв', 'сьп': 'сп', 'сьс': 'сс', 'сьн': 'сн', 'зьм': 'зм', 'зьн': 'зн', 'зьл': 'зл'}\n",
    "def replace_characters(iterable):\n",
    "    for s in iterable:\n",
    "        for k, v in CHARACTERS_MAP.items():\n",
    "            s = s.replace(k, v)\n",
    "        yield s\n",
    "\n",
    "def split_sentences(iterable):\n",
    "    for i in iterable:\n",
    "        merged_dots = re.sub(\"[\\.]+\", \".\", i)\n",
    "        sentences = merged_dots.split('.')\n",
    "        for s in sentences:\n",
    "            yield s\n",
    "\n",
    "removed_words = []\n",
    "def preprocess_sentences(iterable):\n",
    "    for i in iterable:\n",
    "        s = strip_multiple_whitespaces(strip_numeric(strip_short(strip_punctuation(i))))\n",
    "        s = s.lower()\n",
    "        s = re.sub(\"[«»“”„…—°′²]\", \"\", s)\n",
    "        s = remove_stopwords(s, stopwords=DERIVED_FORM_BLACKLIST)\n",
    "        words = s.split()\n",
    "        s = ' '.join([WORD_MAP[w] for w in words if w in WORD_MAP])\n",
    "        removed_words.extend([w for w in words if w not in WORD_MAP])\n",
    "        yield s\n",
    "\n",
    "def remove_short_lines(iterable):\n",
    "    for i in iterable:\n",
    "        if not i.isspace() and len(i) >= 20:\n",
    "            yield i\n"
   ]
  },
  {
   "cell_type": "code",
   "execution_count": 11,
   "id": "1044a584",
   "metadata": {},
   "outputs": [],
   "source": [
    "with open('be.txt', 'r') as original_file:\n",
    "    with open('processed-corpus.txt', 'w') as sentences_file:\n",
    "        with open('removed-words.txt', 'w') as removed_words_file:\n",
    "            for s in remove_short_lines(preprocess_sentences(split_sentences(replace_characters(strip_trailing_newline(original_file))))):\n",
    "                sentences_file.write(s + \"\\n\")\n",
    "                removed_words_file.write(' '.join(removed_words) + \"\\n\")\n",
    "                removed_words.clear()"
   ]
  },
  {
   "cell_type": "code",
   "execution_count": 12,
   "id": "ab9fc39e",
   "metadata": {},
   "outputs": [],
   "source": [
    "loss_list = []\n",
    "class Callback(CallbackAny2Vec):\n",
    "    def __init__(self):\n",
    "        self.epoch = 0\n",
    "\n",
    "    def on_epoch_end(self, model):\n",
    "        loss = model.get_latest_training_loss()\n",
    "        loss_list.append(loss)\n",
    "        logger.info('Loss after epoch {}:{}'.format(self.epoch, loss))\n",
    "        model.running_training_loss = 0.0\n",
    "        self.epoch = self.epoch + 1"
   ]
  },
  {
   "cell_type": "code",
   "execution_count": 13,
   "id": "61e8337d",
   "metadata": {},
   "outputs": [
    {
     "name": "stderr",
     "output_type": "stream",
     "text": [
      "INFO:gensim.utils:Word2Vec lifecycle event {'params': 'Word2Vec<vocab=0, vector_size=100, alpha=0.025>', 'datetime': '2023-05-12T11:17:27.668178', 'gensim': '4.3.1', 'python': '3.11.3 | packaged by conda-forge | (main, Apr  6 2023, 09:05:00) [Clang 14.0.6 ]', 'platform': 'macOS-12.6-x86_64-i386-64bit', 'event': 'created'}\n"
     ]
    }
   ],
   "source": [
    "model = Word2Vec(vector_size=100, window=3, min_count=10, workers=5)"
   ]
  },
  {
   "cell_type": "code",
   "execution_count": 14,
   "id": "35054bd1",
   "metadata": {},
   "outputs": [],
   "source": [
    "sentences = LineSentence('processed-corpus.txt')"
   ]
  },
  {
   "cell_type": "code",
   "execution_count": 15,
   "id": "615cf92b",
   "metadata": {},
   "outputs": [
    {
     "name": "stderr",
     "output_type": "stream",
     "text": [
      "INFO:gensim.models.word2vec:collecting all words and their counts\n",
      "INFO:gensim.models.word2vec:PROGRESS: at sentence #0, processed 0 words, keeping 0 word types\n",
      "INFO:gensim.models.word2vec:PROGRESS: at sentence #5000000, processed 40682920 words, keeping 101057 word types\n",
      "INFO:gensim.models.word2vec:PROGRESS: at sentence #10000000, processed 81447063 words, keeping 114218 word types\n",
      "INFO:gensim.models.word2vec:PROGRESS: at sentence #15000000, processed 122113394 words, keeping 121741 word types\n",
      "INFO:gensim.models.word2vec:PROGRESS: at sentence #20000000, processed 162836116 words, keeping 126674 word types\n",
      "INFO:gensim.models.word2vec:collected 129281 word types from a corpus of 189926854 raw words and 23340244 sentences\n",
      "INFO:gensim.models.word2vec:Creating a fresh vocabulary\n",
      "INFO:gensim.utils:Word2Vec lifecycle event {'msg': 'effective_min_count=10 retains 78886 unique words (61.02% of original 129281, drops 50395)', 'datetime': '2023-05-12T11:18:32.753741', 'gensim': '4.3.1', 'python': '3.11.3 | packaged by conda-forge | (main, Apr  6 2023, 09:05:00) [Clang 14.0.6 ]', 'platform': 'macOS-12.6-x86_64-i386-64bit', 'event': 'prepare_vocab'}\n",
      "INFO:gensim.utils:Word2Vec lifecycle event {'msg': 'effective_min_count=10 leaves 189757470 word corpus (99.91% of original 189926854, drops 169384)', 'datetime': '2023-05-12T11:18:32.754638', 'gensim': '4.3.1', 'python': '3.11.3 | packaged by conda-forge | (main, Apr  6 2023, 09:05:00) [Clang 14.0.6 ]', 'platform': 'macOS-12.6-x86_64-i386-64bit', 'event': 'prepare_vocab'}\n",
      "INFO:gensim.models.word2vec:deleting the raw counts dictionary of 129281 items\n",
      "INFO:gensim.models.word2vec:sample=0.001 downsamples 16 most-common words\n",
      "INFO:gensim.utils:Word2Vec lifecycle event {'msg': 'downsampling leaves estimated 184244535.82850948 word corpus (97.1%% of prior 189757470)', 'datetime': '2023-05-12T11:18:33.046714', 'gensim': '4.3.1', 'python': '3.11.3 | packaged by conda-forge | (main, Apr  6 2023, 09:05:00) [Clang 14.0.6 ]', 'platform': 'macOS-12.6-x86_64-i386-64bit', 'event': 'prepare_vocab'}\n",
      "INFO:gensim.models.word2vec:estimated required memory for 78886 words and 100 dimensions: 102551800 bytes\n",
      "INFO:gensim.models.word2vec:resetting layer weights\n",
      "INFO:gensim.utils:Word2Vec lifecycle event {'update': False, 'trim_rule': 'None', 'datetime': '2023-05-12T11:18:33.594290', 'gensim': '4.3.1', 'python': '3.11.3 | packaged by conda-forge | (main, Apr  6 2023, 09:05:00) [Clang 14.0.6 ]', 'platform': 'macOS-12.6-x86_64-i386-64bit', 'event': 'build_vocab'}\n"
     ]
    }
   ],
   "source": [
    "model.build_vocab(sentences, progress_per=5000000)"
   ]
  },
  {
   "cell_type": "code",
   "execution_count": 16,
   "id": "867dc13c",
   "metadata": {},
   "outputs": [
    {
     "name": "stderr",
     "output_type": "stream",
     "text": [
      "INFO:gensim.utils:Word2Vec lifecycle event {'msg': 'training model with 5 workers on 78886 vocabulary and 100 features, using sg=0 hs=0 sample=0.001 negative=5 window=3 shrink_windows=True', 'datetime': '2023-05-12T11:18:33.607494', 'gensim': '4.3.1', 'python': '3.11.3 | packaged by conda-forge | (main, Apr  6 2023, 09:05:00) [Clang 14.0.6 ]', 'platform': 'macOS-12.6-x86_64-i386-64bit', 'event': 'train'}\n",
      "INFO:gensim.models.word2vec:EPOCH 0 - PROGRESS: at 0.75% examples, 1376887 words/s, in_qsize 9, out_qsize 0\n",
      "INFO:gensim.models.word2vec:EPOCH 0: training on 189926854 raw words (184244874 effective words) took 134.0s, 1374497 effective words/s\n",
      "INFO:root:Loss after epoch 0:37681856.0\n",
      "INFO:gensim.models.word2vec:EPOCH 1 - PROGRESS: at 0.76% examples, 1387129 words/s, in_qsize 9, out_qsize 0\n",
      "INFO:gensim.models.word2vec:EPOCH 1: training on 189926854 raw words (184243263 effective words) took 128.6s, 1432133 effective words/s\n",
      "INFO:root:Loss after epoch 1:46817596.0\n",
      "INFO:gensim.models.word2vec:EPOCH 2 - PROGRESS: at 0.74% examples, 1363285 words/s, in_qsize 10, out_qsize 1\n",
      "INFO:gensim.models.word2vec:EPOCH 2: training on 189926854 raw words (184244815 effective words) took 126.7s, 1453797 effective words/s\n",
      "INFO:root:Loss after epoch 2:46010376.0\n",
      "INFO:gensim.models.word2vec:EPOCH 3 - PROGRESS: at 0.81% examples, 1406536 words/s, in_qsize 9, out_qsize 0\n",
      "INFO:gensim.models.word2vec:EPOCH 3: training on 189926854 raw words (184248147 effective words) took 124.4s, 1480844 effective words/s\n",
      "INFO:root:Loss after epoch 3:44518684.0\n",
      "INFO:gensim.models.word2vec:EPOCH 4 - PROGRESS: at 0.79% examples, 1426781 words/s, in_qsize 9, out_qsize 0\n",
      "INFO:gensim.models.word2vec:EPOCH 4: training on 189926854 raw words (184244673 effective words) took 126.3s, 1458706 effective words/s\n",
      "INFO:root:Loss after epoch 4:44182372.0\n",
      "INFO:gensim.models.word2vec:EPOCH 5 - PROGRESS: at 0.82% examples, 1460148 words/s, in_qsize 8, out_qsize 0\n",
      "INFO:gensim.models.word2vec:EPOCH 5: training on 189926854 raw words (184243825 effective words) took 122.7s, 1501008 effective words/s\n",
      "INFO:root:Loss after epoch 5:43396928.0\n",
      "INFO:gensim.models.word2vec:EPOCH 6 - PROGRESS: at 0.79% examples, 1420471 words/s, in_qsize 9, out_qsize 0\n",
      "INFO:gensim.models.word2vec:EPOCH 6: training on 189926854 raw words (184242602 effective words) took 125.4s, 1469657 effective words/s\n",
      "INFO:root:Loss after epoch 6:42442024.0\n",
      "INFO:gensim.models.word2vec:EPOCH 7 - PROGRESS: at 0.80% examples, 1411359 words/s, in_qsize 6, out_qsize 2\n",
      "INFO:gensim.models.word2vec:EPOCH 7: training on 189926854 raw words (184247445 effective words) took 126.8s, 1452534 effective words/s\n",
      "INFO:root:Loss after epoch 7:42462500.0\n",
      "INFO:gensim.models.word2vec:EPOCH 8 - PROGRESS: at 0.80% examples, 1461118 words/s, in_qsize 8, out_qsize 2\n",
      "INFO:gensim.models.word2vec:EPOCH 8: training on 189926854 raw words (184241562 effective words) took 124.6s, 1478485 effective words/s\n",
      "INFO:root:Loss after epoch 8:41869224.0\n",
      "INFO:gensim.models.word2vec:EPOCH 9 - PROGRESS: at 0.74% examples, 1351355 words/s, in_qsize 10, out_qsize 0\n",
      "INFO:gensim.models.word2vec:EPOCH 9: training on 189926854 raw words (184243140 effective words) took 123.9s, 1487074 effective words/s\n",
      "INFO:root:Loss after epoch 9:41571168.0\n",
      "INFO:gensim.models.word2vec:EPOCH 10 - PROGRESS: at 0.79% examples, 1442392 words/s, in_qsize 9, out_qsize 0\n",
      "INFO:gensim.models.word2vec:EPOCH 10: training on 189926854 raw words (184241427 effective words) took 125.4s, 1469365 effective words/s\n",
      "INFO:root:Loss after epoch 10:41048168.0\n",
      "INFO:gensim.models.word2vec:EPOCH 11 - PROGRESS: at 0.74% examples, 1342587 words/s, in_qsize 9, out_qsize 0\n",
      "INFO:gensim.models.word2vec:EPOCH 11: training on 189926854 raw words (184243001 effective words) took 125.5s, 1468075 effective words/s\n",
      "INFO:root:Loss after epoch 11:40852816.0\n",
      "INFO:gensim.models.word2vec:EPOCH 12 - PROGRESS: at 0.76% examples, 1397896 words/s, in_qsize 9, out_qsize 0\n",
      "INFO:gensim.models.word2vec:EPOCH 12: training on 189926854 raw words (184246421 effective words) took 125.3s, 1470853 effective words/s\n",
      "INFO:root:Loss after epoch 12:40649444.0\n",
      "INFO:gensim.models.word2vec:EPOCH 13 - PROGRESS: at 0.80% examples, 1463206 words/s, in_qsize 9, out_qsize 0\n",
      "INFO:gensim.models.word2vec:EPOCH 13: training on 189926854 raw words (184244231 effective words) took 123.6s, 1490795 effective words/s\n",
      "INFO:root:Loss after epoch 13:40276444.0\n",
      "INFO:gensim.models.word2vec:EPOCH 14 - PROGRESS: at 0.78% examples, 1421234 words/s, in_qsize 9, out_qsize 0\n",
      "INFO:gensim.models.word2vec:EPOCH 14: training on 189926854 raw words (184244125 effective words) took 125.2s, 1471472 effective words/s\n",
      "INFO:root:Loss after epoch 14:40237832.0\n",
      "INFO:gensim.models.word2vec:EPOCH 15 - PROGRESS: at 0.71% examples, 1295400 words/s, in_qsize 3, out_qsize 1\n",
      "INFO:gensim.models.word2vec:EPOCH 15: training on 189926854 raw words (184248970 effective words) took 124.5s, 1479765 effective words/s\n",
      "INFO:root:Loss after epoch 15:40292172.0\n",
      "INFO:gensim.models.word2vec:EPOCH 16 - PROGRESS: at 0.77% examples, 1414029 words/s, in_qsize 9, out_qsize 0\n",
      "INFO:gensim.models.word2vec:EPOCH 16: training on 189926854 raw words (184245946 effective words) took 128.8s, 1430785 effective words/s\n",
      "INFO:root:Loss after epoch 16:40127612.0\n",
      "INFO:gensim.models.word2vec:EPOCH 17 - PROGRESS: at 0.67% examples, 1238437 words/s, in_qsize 9, out_qsize 0\n",
      "INFO:gensim.models.word2vec:EPOCH 17: training on 189926854 raw words (184245443 effective words) took 127.8s, 1441720 effective words/s\n",
      "INFO:root:Loss after epoch 17:39970856.0\n",
      "INFO:gensim.models.word2vec:EPOCH 18 - PROGRESS: at 0.80% examples, 1457789 words/s, in_qsize 9, out_qsize 0\n",
      "INFO:gensim.models.word2vec:EPOCH 18: training on 189926854 raw words (184243241 effective words) took 128.0s, 1439232 effective words/s\n",
      "INFO:root:Loss after epoch 18:39938976.0\n",
      "INFO:gensim.models.word2vec:EPOCH 19 - PROGRESS: at 0.77% examples, 1405679 words/s, in_qsize 7, out_qsize 2\n",
      "INFO:gensim.models.word2vec:EPOCH 19: training on 189926854 raw words (184242803 effective words) took 124.9s, 1474744 effective words/s\n",
      "INFO:root:Loss after epoch 19:39873188.0\n",
      "INFO:gensim.models.word2vec:EPOCH 20 - PROGRESS: at 0.78% examples, 1410052 words/s, in_qsize 10, out_qsize 1\n",
      "INFO:gensim.models.word2vec:EPOCH 20: training on 189926854 raw words (184243167 effective words) took 123.9s, 1487240 effective words/s\n",
      "INFO:root:Loss after epoch 20:39593340.0\n",
      "INFO:gensim.models.word2vec:EPOCH 21 - PROGRESS: at 0.77% examples, 1404474 words/s, in_qsize 9, out_qsize 0\n",
      "INFO:gensim.models.word2vec:EPOCH 21: training on 189926854 raw words (184244461 effective words) took 123.8s, 1488060 effective words/s\n",
      "INFO:root:Loss after epoch 21:39552728.0\n",
      "INFO:gensim.models.word2vec:EPOCH 22 - PROGRESS: at 0.80% examples, 1451515 words/s, in_qsize 8, out_qsize 1\n",
      "INFO:gensim.models.word2vec:EPOCH 22: training on 189926854 raw words (184243535 effective words) took 124.5s, 1480322 effective words/s\n",
      "INFO:root:Loss after epoch 22:39365468.0\n",
      "INFO:gensim.models.word2vec:EPOCH 23 - PROGRESS: at 0.71% examples, 1276101 words/s, in_qsize 9, out_qsize 0\n",
      "INFO:gensim.models.word2vec:EPOCH 23: training on 189926854 raw words (184246072 effective words) took 130.2s, 1415414 effective words/s\n",
      "INFO:root:Loss after epoch 23:39430600.0\n",
      "INFO:gensim.models.word2vec:EPOCH 24 - PROGRESS: at 0.76% examples, 1392449 words/s, in_qsize 9, out_qsize 0\n",
      "INFO:gensim.models.word2vec:EPOCH 24: training on 189926854 raw words (184243149 effective words) took 124.9s, 1475534 effective words/s\n",
      "INFO:root:Loss after epoch 24:39576192.0\n",
      "INFO:gensim.models.word2vec:EPOCH 25 - PROGRESS: at 0.77% examples, 1408088 words/s, in_qsize 9, out_qsize 0\n",
      "INFO:gensim.models.word2vec:EPOCH 25: training on 189926854 raw words (184246478 effective words) took 123.0s, 1497533 effective words/s\n",
      "INFO:root:Loss after epoch 25:39443112.0\n",
      "INFO:gensim.models.word2vec:EPOCH 26 - PROGRESS: at 0.79% examples, 1432226 words/s, in_qsize 10, out_qsize 0\n",
      "INFO:gensim.models.word2vec:EPOCH 26: training on 189926854 raw words (184242729 effective words) took 123.8s, 1488774 effective words/s\n",
      "INFO:root:Loss after epoch 26:39202244.0\n",
      "INFO:gensim.models.word2vec:EPOCH 27 - PROGRESS: at 0.76% examples, 1400601 words/s, in_qsize 9, out_qsize 0\n"
     ]
    },
    {
     "name": "stderr",
     "output_type": "stream",
     "text": [
      "INFO:gensim.models.word2vec:EPOCH 27: training on 189926854 raw words (184246235 effective words) took 121.7s, 1514313 effective words/s\n",
      "INFO:root:Loss after epoch 27:39721964.0\n",
      "INFO:gensim.models.word2vec:EPOCH 28 - PROGRESS: at 0.93% examples, 1691896 words/s, in_qsize 0, out_qsize 0\n",
      "INFO:gensim.models.word2vec:EPOCH 28: training on 189926854 raw words (184245549 effective words) took 121.5s, 1515887 effective words/s\n",
      "INFO:root:Loss after epoch 28:40083324.0\n",
      "INFO:gensim.models.word2vec:EPOCH 29 - PROGRESS: at 0.81% examples, 1477786 words/s, in_qsize 9, out_qsize 0\n",
      "INFO:gensim.models.word2vec:EPOCH 29: training on 189926854 raw words (184242243 effective words) took 126.4s, 1457306 effective words/s\n",
      "INFO:root:Loss after epoch 29:39229652.0\n",
      "INFO:gensim.models.word2vec:EPOCH 30 - PROGRESS: at 0.80% examples, 1472193 words/s, in_qsize 10, out_qsize 0\n",
      "INFO:gensim.models.word2vec:EPOCH 30: training on 189926854 raw words (184241564 effective words) took 125.7s, 1466034 effective words/s\n",
      "INFO:root:Loss after epoch 30:39155820.0\n",
      "INFO:gensim.models.word2vec:EPOCH 31 - PROGRESS: at 0.79% examples, 1440148 words/s, in_qsize 9, out_qsize 0\n",
      "INFO:gensim.models.word2vec:EPOCH 31: training on 189926854 raw words (184243426 effective words) took 122.9s, 1498781 effective words/s\n",
      "INFO:root:Loss after epoch 31:38937396.0\n",
      "INFO:gensim.models.word2vec:EPOCH 32 - PROGRESS: at 0.78% examples, 1419974 words/s, in_qsize 9, out_qsize 0\n",
      "INFO:gensim.models.word2vec:EPOCH 32: training on 189926854 raw words (184245260 effective words) took 122.6s, 1502650 effective words/s\n",
      "INFO:root:Loss after epoch 32:39192628.0\n",
      "INFO:gensim.models.word2vec:EPOCH 33 - PROGRESS: at 0.76% examples, 1391451 words/s, in_qsize 9, out_qsize 0\n",
      "INFO:gensim.models.word2vec:EPOCH 33: training on 189926854 raw words (184243321 effective words) took 123.0s, 1497365 effective words/s\n",
      "INFO:root:Loss after epoch 33:39139732.0\n",
      "INFO:gensim.models.word2vec:EPOCH 34 - PROGRESS: at 0.79% examples, 1441684 words/s, in_qsize 8, out_qsize 1\n",
      "INFO:gensim.models.word2vec:EPOCH 34: training on 189926854 raw words (184242547 effective words) took 124.0s, 1486332 effective words/s\n",
      "INFO:root:Loss after epoch 34:38797920.0\n",
      "INFO:gensim.models.word2vec:EPOCH 35 - PROGRESS: at 0.71% examples, 1302922 words/s, in_qsize 9, out_qsize 0\n",
      "INFO:gensim.models.word2vec:EPOCH 35: training on 189926854 raw words (184248092 effective words) took 126.1s, 1461366 effective words/s\n",
      "INFO:root:Loss after epoch 35:39173608.0\n",
      "INFO:gensim.models.word2vec:EPOCH 36 - PROGRESS: at 0.80% examples, 1446013 words/s, in_qsize 9, out_qsize 0\n",
      "INFO:gensim.models.word2vec:EPOCH 36: training on 189926854 raw words (184247715 effective words) took 122.8s, 1500869 effective words/s\n",
      "INFO:root:Loss after epoch 36:38705412.0\n",
      "INFO:gensim.models.word2vec:EPOCH 37 - PROGRESS: at 0.78% examples, 1433692 words/s, in_qsize 8, out_qsize 1\n",
      "INFO:gensim.models.word2vec:EPOCH 37: training on 189926854 raw words (184245598 effective words) took 122.9s, 1499429 effective words/s\n",
      "INFO:root:Loss after epoch 37:38853788.0\n",
      "INFO:gensim.models.word2vec:EPOCH 38 - PROGRESS: at 0.78% examples, 1433414 words/s, in_qsize 7, out_qsize 3\n",
      "INFO:gensim.models.word2vec:EPOCH 38: training on 189926854 raw words (184243989 effective words) took 122.9s, 1499000 effective words/s\n",
      "INFO:root:Loss after epoch 38:38969204.0\n",
      "INFO:gensim.models.word2vec:EPOCH 39 - PROGRESS: at 0.77% examples, 1421393 words/s, in_qsize 9, out_qsize 0\n",
      "INFO:gensim.models.word2vec:EPOCH 39: training on 189926854 raw words (184246350 effective words) took 124.0s, 1485353 effective words/s\n",
      "INFO:root:Loss after epoch 39:38823748.0\n",
      "INFO:gensim.models.word2vec:EPOCH 40 - PROGRESS: at 0.78% examples, 1410538 words/s, in_qsize 10, out_qsize 2\n",
      "INFO:gensim.models.word2vec:EPOCH 40: training on 189926854 raw words (184246655 effective words) took 122.8s, 1499984 effective words/s\n",
      "INFO:root:Loss after epoch 40:38697100.0\n",
      "INFO:gensim.models.word2vec:EPOCH 41 - PROGRESS: at 0.76% examples, 1396833 words/s, in_qsize 9, out_qsize 0\n",
      "INFO:gensim.models.word2vec:EPOCH 41: training on 189926854 raw words (184243763 effective words) took 123.1s, 1496881 effective words/s\n",
      "INFO:root:Loss after epoch 41:38768944.0\n",
      "INFO:gensim.models.word2vec:EPOCH 42 - PROGRESS: at 0.77% examples, 1410976 words/s, in_qsize 9, out_qsize 0\n",
      "INFO:gensim.models.word2vec:EPOCH 42: training on 189926854 raw words (184243827 effective words) took 123.2s, 1495331 effective words/s\n",
      "INFO:root:Loss after epoch 42:38693164.0\n",
      "INFO:gensim.models.word2vec:EPOCH 43 - PROGRESS: at 0.76% examples, 1351224 words/s, in_qsize 5, out_qsize 0\n",
      "INFO:gensim.models.word2vec:EPOCH 43: training on 189926854 raw words (184244190 effective words) took 124.3s, 1481977 effective words/s\n",
      "INFO:root:Loss after epoch 43:38850468.0\n",
      "INFO:gensim.models.word2vec:EPOCH 44 - PROGRESS: at 0.77% examples, 1406558 words/s, in_qsize 8, out_qsize 3\n",
      "INFO:gensim.models.word2vec:EPOCH 44: training on 189926854 raw words (184248096 effective words) took 124.7s, 1477874 effective words/s\n",
      "INFO:root:Loss after epoch 44:38742444.0\n",
      "INFO:gensim.models.word2vec:EPOCH 45 - PROGRESS: at 0.79% examples, 1451092 words/s, in_qsize 10, out_qsize 0\n",
      "INFO:gensim.models.word2vec:EPOCH 45: training on 189926854 raw words (184244864 effective words) took 123.0s, 1497950 effective words/s\n",
      "INFO:root:Loss after epoch 45:38719268.0\n",
      "INFO:gensim.models.word2vec:EPOCH 46 - PROGRESS: at 0.76% examples, 1393080 words/s, in_qsize 9, out_qsize 0\n",
      "INFO:gensim.models.word2vec:EPOCH 46: training on 189926854 raw words (184246333 effective words) took 122.6s, 1502624 effective words/s\n",
      "INFO:root:Loss after epoch 46:38741120.0\n",
      "INFO:gensim.models.word2vec:EPOCH 47 - PROGRESS: at 0.77% examples, 1398448 words/s, in_qsize 8, out_qsize 2\n",
      "INFO:gensim.models.word2vec:EPOCH 47: training on 189926854 raw words (184246510 effective words) took 124.2s, 1483249 effective words/s\n",
      "INFO:root:Loss after epoch 47:38581596.0\n",
      "INFO:gensim.models.word2vec:EPOCH 48 - PROGRESS: at 0.76% examples, 1383299 words/s, in_qsize 9, out_qsize 0\n",
      "INFO:gensim.models.word2vec:EPOCH 48: training on 189926854 raw words (184243765 effective words) took 122.4s, 1505388 effective words/s\n",
      "INFO:root:Loss after epoch 48:38634064.0\n",
      "INFO:gensim.models.word2vec:EPOCH 49 - PROGRESS: at 0.77% examples, 1417892 words/s, in_qsize 9, out_qsize 0\n",
      "INFO:gensim.models.word2vec:EPOCH 49: training on 189926854 raw words (184245934 effective words) took 126.5s, 1456636 effective words/s\n",
      "INFO:root:Loss after epoch 49:38961916.0\n",
      "INFO:gensim.models.word2vec:EPOCH 50 - PROGRESS: at 0.76% examples, 1389084 words/s, in_qsize 9, out_qsize 0\n",
      "INFO:gensim.models.word2vec:EPOCH 50: training on 189926854 raw words (184245168 effective words) took 127.8s, 1441225 effective words/s\n",
      "INFO:root:Loss after epoch 50:39914596.0\n",
      "INFO:gensim.models.word2vec:EPOCH 51 - PROGRESS: at 0.75% examples, 1375151 words/s, in_qsize 7, out_qsize 2\n",
      "INFO:gensim.models.word2vec:EPOCH 51: training on 189926854 raw words (184246090 effective words) took 126.4s, 1457246 effective words/s\n",
      "INFO:root:Loss after epoch 51:39447940.0\n",
      "INFO:gensim.models.word2vec:EPOCH 52 - PROGRESS: at 0.80% examples, 1453654 words/s, in_qsize 9, out_qsize 0\n",
      "INFO:gensim.models.word2vec:EPOCH 52: training on 189926854 raw words (184243494 effective words) took 123.6s, 1491041 effective words/s\n",
      "INFO:root:Loss after epoch 52:38615188.0\n",
      "INFO:gensim.models.word2vec:EPOCH 53 - PROGRESS: at 0.81% examples, 1424995 words/s, in_qsize 10, out_qsize 0\n",
      "INFO:gensim.models.word2vec:EPOCH 53: training on 189926854 raw words (184245010 effective words) took 123.3s, 1493710 effective words/s\n",
      "INFO:root:Loss after epoch 53:38756508.0\n",
      "INFO:gensim.models.word2vec:EPOCH 54 - PROGRESS: at 0.74% examples, 1363261 words/s, in_qsize 8, out_qsize 1\n",
      "INFO:gensim.models.word2vec:EPOCH 54: training on 189926854 raw words (184245248 effective words) took 123.7s, 1488948 effective words/s\n",
      "INFO:root:Loss after epoch 54:38597868.0\n",
      "INFO:gensim.models.word2vec:EPOCH 55 - PROGRESS: at 0.80% examples, 1455250 words/s, in_qsize 9, out_qsize 0\n",
      "INFO:gensim.models.word2vec:EPOCH 55: training on 189926854 raw words (184242639 effective words) took 123.2s, 1495459 effective words/s\n",
      "INFO:root:Loss after epoch 55:38697760.0\n"
     ]
    },
    {
     "name": "stderr",
     "output_type": "stream",
     "text": [
      "INFO:gensim.models.word2vec:EPOCH 56 - PROGRESS: at 0.78% examples, 1422338 words/s, in_qsize 10, out_qsize 1\n",
      "INFO:gensim.models.word2vec:EPOCH 56: training on 189926854 raw words (184245804 effective words) took 124.0s, 1485284 effective words/s\n",
      "INFO:root:Loss after epoch 56:38527652.0\n",
      "INFO:gensim.models.word2vec:EPOCH 57 - PROGRESS: at 0.77% examples, 1412352 words/s, in_qsize 9, out_qsize 2\n",
      "INFO:gensim.models.word2vec:EPOCH 57: training on 189926854 raw words (184245943 effective words) took 124.4s, 1481141 effective words/s\n",
      "INFO:root:Loss after epoch 57:38508960.0\n",
      "INFO:gensim.models.word2vec:EPOCH 58 - PROGRESS: at 0.80% examples, 1446340 words/s, in_qsize 8, out_qsize 1\n",
      "INFO:gensim.models.word2vec:EPOCH 58: training on 189926854 raw words (184244568 effective words) took 124.8s, 1476413 effective words/s\n",
      "INFO:root:Loss after epoch 58:38568180.0\n",
      "INFO:gensim.models.word2vec:EPOCH 59 - PROGRESS: at 0.76% examples, 1392441 words/s, in_qsize 9, out_qsize 0\n",
      "INFO:gensim.models.word2vec:EPOCH 59: training on 189926854 raw words (184247673 effective words) took 125.5s, 1468353 effective words/s\n",
      "INFO:root:Loss after epoch 59:38680868.0\n",
      "INFO:gensim.models.word2vec:EPOCH 60 - PROGRESS: at 0.81% examples, 1466986 words/s, in_qsize 8, out_qsize 2\n",
      "INFO:gensim.models.word2vec:EPOCH 60: training on 189926854 raw words (184242387 effective words) took 124.7s, 1477999 effective words/s\n",
      "INFO:root:Loss after epoch 60:38661056.0\n",
      "INFO:gensim.models.word2vec:EPOCH 61 - PROGRESS: at 0.75% examples, 1361477 words/s, in_qsize 10, out_qsize 2\n",
      "INFO:gensim.models.word2vec:EPOCH 61: training on 189926854 raw words (184244667 effective words) took 124.7s, 1477666 effective words/s\n",
      "INFO:root:Loss after epoch 61:38675560.0\n",
      "INFO:gensim.models.word2vec:EPOCH 62 - PROGRESS: at 0.73% examples, 1336523 words/s, in_qsize 9, out_qsize 0\n",
      "INFO:gensim.models.word2vec:EPOCH 62: training on 189926854 raw words (184241649 effective words) took 123.8s, 1488369 effective words/s\n",
      "INFO:root:Loss after epoch 62:38673744.0\n",
      "INFO:gensim.models.word2vec:EPOCH 63 - PROGRESS: at 0.76% examples, 1405001 words/s, in_qsize 8, out_qsize 1\n",
      "INFO:gensim.models.word2vec:EPOCH 63: training on 189926854 raw words (184243854 effective words) took 124.9s, 1475389 effective words/s\n",
      "INFO:root:Loss after epoch 63:38653064.0\n",
      "INFO:gensim.models.word2vec:EPOCH 64 - PROGRESS: at 0.75% examples, 1373297 words/s, in_qsize 8, out_qsize 0\n",
      "INFO:gensim.models.word2vec:EPOCH 64: training on 189926854 raw words (184246453 effective words) took 127.8s, 1441147 effective words/s\n",
      "INFO:root:Loss after epoch 64:38618060.0\n",
      "INFO:gensim.models.word2vec:EPOCH 65 - PROGRESS: at 0.80% examples, 1455686 words/s, in_qsize 9, out_qsize 0\n",
      "INFO:gensim.models.word2vec:EPOCH 65: training on 189926854 raw words (184243879 effective words) took 124.6s, 1478583 effective words/s\n",
      "INFO:root:Loss after epoch 65:38603384.0\n",
      "INFO:gensim.models.word2vec:EPOCH 66 - PROGRESS: at 0.76% examples, 1400614 words/s, in_qsize 9, out_qsize 0\n",
      "INFO:gensim.models.word2vec:EPOCH 66: training on 189926854 raw words (184243613 effective words) took 125.2s, 1471358 effective words/s\n",
      "INFO:root:Loss after epoch 66:38622948.0\n",
      "INFO:gensim.models.word2vec:EPOCH 67 - PROGRESS: at 0.81% examples, 1475461 words/s, in_qsize 10, out_qsize 1\n",
      "INFO:gensim.models.word2vec:EPOCH 67: training on 189926854 raw words (184242490 effective words) took 125.0s, 1474312 effective words/s\n",
      "INFO:root:Loss after epoch 67:38651440.0\n",
      "INFO:gensim.models.word2vec:EPOCH 68 - PROGRESS: at 0.78% examples, 1410205 words/s, in_qsize 9, out_qsize 0\n",
      "INFO:gensim.models.word2vec:EPOCH 68: training on 189926854 raw words (184246980 effective words) took 125.1s, 1473120 effective words/s\n",
      "INFO:root:Loss after epoch 68:38622596.0\n",
      "INFO:gensim.models.word2vec:EPOCH 69 - PROGRESS: at 0.75% examples, 1375379 words/s, in_qsize 10, out_qsize 3\n",
      "INFO:gensim.models.word2vec:EPOCH 69: training on 189926854 raw words (184241871 effective words) took 126.9s, 1452074 effective words/s\n",
      "INFO:root:Loss after epoch 69:38356628.0\n",
      "INFO:gensim.models.word2vec:EPOCH 70 - PROGRESS: at 0.74% examples, 1354817 words/s, in_qsize 10, out_qsize 1\n",
      "INFO:gensim.models.word2vec:EPOCH 70: training on 189926854 raw words (184244264 effective words) took 128.8s, 1429959 effective words/s\n",
      "INFO:root:Loss after epoch 70:39407072.0\n",
      "INFO:gensim.models.word2vec:EPOCH 71 - PROGRESS: at 0.73% examples, 1336192 words/s, in_qsize 8, out_qsize 1\n",
      "INFO:gensim.models.word2vec:EPOCH 71: training on 189926854 raw words (184243478 effective words) took 128.7s, 1431366 effective words/s\n",
      "INFO:root:Loss after epoch 71:38495184.0\n",
      "INFO:gensim.models.word2vec:EPOCH 72 - PROGRESS: at 0.78% examples, 1424153 words/s, in_qsize 9, out_qsize 0\n",
      "INFO:gensim.models.word2vec:EPOCH 72: training on 189926854 raw words (184245439 effective words) took 127.6s, 1444361 effective words/s\n",
      "INFO:root:Loss after epoch 72:38712108.0\n",
      "INFO:gensim.models.word2vec:EPOCH 73 - PROGRESS: at 0.74% examples, 1354378 words/s, in_qsize 9, out_qsize 0\n",
      "INFO:gensim.models.word2vec:EPOCH 73: training on 189926854 raw words (184246938 effective words) took 127.5s, 1444977 effective words/s\n",
      "INFO:root:Loss after epoch 73:38630940.0\n",
      "INFO:gensim.models.word2vec:EPOCH 74 - PROGRESS: at 0.74% examples, 1344861 words/s, in_qsize 8, out_qsize 3\n",
      "INFO:gensim.models.word2vec:EPOCH 74: training on 189926854 raw words (184246021 effective words) took 126.8s, 1452973 effective words/s\n",
      "INFO:root:Loss after epoch 74:38579160.0\n",
      "INFO:gensim.models.word2vec:EPOCH 75 - PROGRESS: at 0.73% examples, 1330008 words/s, in_qsize 9, out_qsize 0\n",
      "INFO:gensim.models.word2vec:EPOCH 75: training on 189926854 raw words (184245878 effective words) took 129.2s, 1426315 effective words/s\n",
      "INFO:root:Loss after epoch 75:38652824.0\n",
      "INFO:gensim.models.word2vec:EPOCH 76 - PROGRESS: at 0.76% examples, 1392204 words/s, in_qsize 9, out_qsize 0\n",
      "INFO:gensim.models.word2vec:EPOCH 76: training on 189926854 raw words (184243047 effective words) took 128.8s, 1430756 effective words/s\n",
      "INFO:root:Loss after epoch 76:38712880.0\n",
      "INFO:gensim.models.word2vec:EPOCH 77 - PROGRESS: at 0.77% examples, 1411450 words/s, in_qsize 10, out_qsize 0\n",
      "INFO:gensim.models.word2vec:EPOCH 77: training on 189926854 raw words (184243312 effective words) took 126.2s, 1460458 effective words/s\n",
      "INFO:root:Loss after epoch 77:38501948.0\n",
      "INFO:gensim.models.word2vec:EPOCH 78 - PROGRESS: at 0.78% examples, 1414718 words/s, in_qsize 9, out_qsize 1\n",
      "INFO:gensim.models.word2vec:EPOCH 78: training on 189926854 raw words (184243681 effective words) took 130.1s, 1415805 effective words/s\n",
      "INFO:root:Loss after epoch 78:38408944.0\n",
      "INFO:gensim.models.word2vec:EPOCH 79 - PROGRESS: at 0.74% examples, 1364928 words/s, in_qsize 10, out_qsize 0\n",
      "INFO:gensim.models.word2vec:EPOCH 79: training on 189926854 raw words (184245204 effective words) took 128.0s, 1439537 effective words/s\n",
      "INFO:root:Loss after epoch 79:38718228.0\n",
      "INFO:gensim.models.word2vec:EPOCH 80 - PROGRESS: at 0.80% examples, 1454997 words/s, in_qsize 9, out_qsize 0\n",
      "INFO:gensim.models.word2vec:EPOCH 80: training on 189926854 raw words (184247332 effective words) took 124.5s, 1480234 effective words/s\n",
      "INFO:root:Loss after epoch 80:38377660.0\n",
      "INFO:gensim.models.word2vec:EPOCH 81 - PROGRESS: at 0.76% examples, 1389508 words/s, in_qsize 7, out_qsize 2\n",
      "INFO:gensim.models.word2vec:EPOCH 81: training on 189926854 raw words (184243818 effective words) took 122.8s, 1500883 effective words/s\n",
      "INFO:root:Loss after epoch 81:38321468.0\n",
      "INFO:gensim.models.word2vec:EPOCH 82 - PROGRESS: at 0.78% examples, 1432608 words/s, in_qsize 9, out_qsize 0\n",
      "INFO:gensim.models.word2vec:EPOCH 82: training on 189926854 raw words (184242626 effective words) took 123.7s, 1489829 effective words/s\n",
      "INFO:root:Loss after epoch 82:38463588.0\n",
      "INFO:gensim.models.word2vec:EPOCH 83 - PROGRESS: at 0.73% examples, 1297064 words/s, in_qsize 7, out_qsize 2\n",
      "INFO:gensim.models.word2vec:EPOCH 83: training on 189926854 raw words (184244671 effective words) took 126.5s, 1456779 effective words/s\n",
      "INFO:root:Loss after epoch 83:38491840.0\n",
      "INFO:gensim.models.word2vec:EPOCH 84 - PROGRESS: at 0.77% examples, 1402328 words/s, in_qsize 9, out_qsize 0\n",
      "INFO:gensim.models.word2vec:EPOCH 84: training on 189926854 raw words (184244752 effective words) took 126.2s, 1459795 effective words/s\n"
     ]
    },
    {
     "name": "stderr",
     "output_type": "stream",
     "text": [
      "INFO:root:Loss after epoch 84:38614948.0\n",
      "INFO:gensim.models.word2vec:EPOCH 85 - PROGRESS: at 0.76% examples, 1393405 words/s, in_qsize 9, out_qsize 2\n",
      "INFO:gensim.models.word2vec:EPOCH 85: training on 189926854 raw words (184245307 effective words) took 124.9s, 1474793 effective words/s\n",
      "INFO:root:Loss after epoch 85:38491344.0\n",
      "INFO:gensim.models.word2vec:EPOCH 86 - PROGRESS: at 0.76% examples, 1404153 words/s, in_qsize 9, out_qsize 0\n",
      "INFO:gensim.models.word2vec:EPOCH 86: training on 189926854 raw words (184243629 effective words) took 125.6s, 1467349 effective words/s\n",
      "INFO:root:Loss after epoch 86:38494836.0\n",
      "INFO:gensim.models.word2vec:EPOCH 87 - PROGRESS: at 0.80% examples, 1458861 words/s, in_qsize 9, out_qsize 0\n",
      "INFO:gensim.models.word2vec:EPOCH 87: training on 189926854 raw words (184243349 effective words) took 127.6s, 1443689 effective words/s\n",
      "INFO:root:Loss after epoch 87:39651152.0\n",
      "INFO:gensim.models.word2vec:EPOCH 88 - PROGRESS: at 0.78% examples, 1415284 words/s, in_qsize 7, out_qsize 2\n",
      "INFO:gensim.models.word2vec:EPOCH 88: training on 189926854 raw words (184245172 effective words) took 125.5s, 1467903 effective words/s\n",
      "INFO:root:Loss after epoch 88:38375336.0\n",
      "INFO:gensim.models.word2vec:EPOCH 89 - PROGRESS: at 0.78% examples, 1396614 words/s, in_qsize 9, out_qsize 0\n",
      "INFO:gensim.models.word2vec:EPOCH 89: training on 189926854 raw words (184245138 effective words) took 127.6s, 1443454 effective words/s\n",
      "INFO:root:Loss after epoch 89:38558104.0\n",
      "INFO:gensim.models.word2vec:EPOCH 90 - PROGRESS: at 0.77% examples, 1412056 words/s, in_qsize 9, out_qsize 0\n",
      "INFO:gensim.models.word2vec:EPOCH 90: training on 189926854 raw words (184245862 effective words) took 125.7s, 1465755 effective words/s\n",
      "INFO:root:Loss after epoch 90:38450116.0\n",
      "INFO:gensim.models.word2vec:EPOCH 91 - PROGRESS: at 0.76% examples, 1404032 words/s, in_qsize 9, out_qsize 0\n",
      "INFO:gensim.models.word2vec:EPOCH 91: training on 189926854 raw words (184243326 effective words) took 125.1s, 1472191 effective words/s\n",
      "INFO:root:Loss after epoch 91:38421844.0\n",
      "INFO:gensim.models.word2vec:EPOCH 92 - PROGRESS: at 0.78% examples, 1379065 words/s, in_qsize 8, out_qsize 2\n",
      "INFO:gensim.models.word2vec:EPOCH 92: training on 189926854 raw words (184247620 effective words) took 125.4s, 1469733 effective words/s\n",
      "INFO:root:Loss after epoch 92:38514144.0\n",
      "INFO:gensim.models.word2vec:EPOCH 93 - PROGRESS: at 0.79% examples, 1443144 words/s, in_qsize 7, out_qsize 2\n",
      "INFO:gensim.models.word2vec:EPOCH 93: training on 189926854 raw words (184246446 effective words) took 126.8s, 1453113 effective words/s\n",
      "INFO:root:Loss after epoch 93:38575124.0\n",
      "INFO:gensim.models.word2vec:EPOCH 94 - PROGRESS: at 0.79% examples, 1438254 words/s, in_qsize 10, out_qsize 1\n",
      "INFO:gensim.models.word2vec:EPOCH 94: training on 189926854 raw words (184245100 effective words) took 125.9s, 1463050 effective words/s\n",
      "INFO:root:Loss after epoch 94:38458996.0\n",
      "INFO:gensim.models.word2vec:EPOCH 95 - PROGRESS: at 0.77% examples, 1416939 words/s, in_qsize 10, out_qsize 0\n",
      "INFO:gensim.models.word2vec:EPOCH 95: training on 189926854 raw words (184246995 effective words) took 126.3s, 1458517 effective words/s\n",
      "INFO:root:Loss after epoch 95:38489932.0\n",
      "INFO:gensim.models.word2vec:EPOCH 96 - PROGRESS: at 0.78% examples, 1397029 words/s, in_qsize 9, out_qsize 0\n",
      "INFO:gensim.models.word2vec:EPOCH 96: training on 189926854 raw words (184242675 effective words) took 127.1s, 1449095 effective words/s\n",
      "INFO:root:Loss after epoch 96:38396924.0\n",
      "INFO:gensim.models.word2vec:EPOCH 97 - PROGRESS: at 0.76% examples, 1385153 words/s, in_qsize 9, out_qsize 0\n",
      "INFO:gensim.models.word2vec:EPOCH 97: training on 189926854 raw words (184245175 effective words) took 125.8s, 1464891 effective words/s\n",
      "INFO:root:Loss after epoch 97:38473748.0\n",
      "INFO:gensim.models.word2vec:EPOCH 98 - PROGRESS: at 0.76% examples, 1384032 words/s, in_qsize 9, out_qsize 0\n",
      "INFO:gensim.models.word2vec:EPOCH 98: training on 189926854 raw words (184244405 effective words) took 130.6s, 1411127 effective words/s\n",
      "INFO:root:Loss after epoch 98:39724780.0\n",
      "INFO:gensim.models.word2vec:EPOCH 99 - PROGRESS: at 0.74% examples, 1365679 words/s, in_qsize 8, out_qsize 1\n",
      "INFO:gensim.models.word2vec:EPOCH 99: training on 189926854 raw words (184244187 effective words) took 130.2s, 1415297 effective words/s\n",
      "INFO:root:Loss after epoch 99:38390420.0\n",
      "INFO:gensim.utils:Word2Vec lifecycle event {'msg': 'training on 18992685400 raw words (18424469698 effective words) took 12545.4s, 1468628 effective words/s', 'datetime': '2023-05-12T15:01:16.925448', 'gensim': '4.3.1', 'python': '3.11.3 | packaged by conda-forge | (main, Apr  6 2023, 09:05:00) [Clang 14.0.6 ]', 'platform': 'macOS-12.6-x86_64-i386-64bit', 'event': 'train'}\n"
     ]
    },
    {
     "data": {
      "text/plain": [
       "(18424469698, 18992685400)"
      ]
     },
     "execution_count": 16,
     "metadata": {},
     "output_type": "execute_result"
    }
   ],
   "source": [
    "#we override alpha with small values, since default values result in poor train performance. See loss plot below\n",
    "model.train(sentences, epochs=100, start_alpha=0.0001, end_alpha=0.00001, total_examples=model.corpus_count, total_words=model.corpus_total_words, compute_loss=True, report_delay=300, callbacks=[Callback()])\n"
   ]
  },
  {
   "cell_type": "code",
   "execution_count": 17,
   "id": "d5e1b267",
   "metadata": {},
   "outputs": [
    {
     "data": {
      "text/plain": [
       "[<matplotlib.lines.Line2D at 0x194bfba90>]"
      ]
     },
     "execution_count": 17,
     "metadata": {},
     "output_type": "execute_result"
    },
    {
     "data": {
      "image/png": "[encoded data removed]",
      "text/plain": [
       "<Figure size 640x480 with 1 Axes>"
      ]
     },
     "metadata": {},
     "output_type": "display_data"
    }
   ],
   "source": [
    "plt.plot(loss_list)"
   ]
  },
  {
   "cell_type": "markdown",
   "id": "a42f370d",
   "metadata": {},
   "source": [
    "For comaprison, below is the loss plot when using default (larger) values for alpha. Note, that during training alpha is decreasing linearly from start value to end value. With default values in use the loss goes down near the end, once alpha gets smaller values."
   ]
  },
  {
   "cell_type": "code",
   "execution_count": 18,
   "id": "56eaea48",
   "metadata": {},
   "outputs": [
    {
     "data": {
      "text/plain": [
       "[<matplotlib.lines.Line2D at 0x194277350>]"
      ]
     },
     "execution_count": 18,
     "metadata": {},
     "output_type": "execute_result"
    },
    {
     "data": {
      "image/png": "[encoded data removed]",
      "text/plain": [
       "<Figure size 640x480 with 1 Axes>"
      ]
     },
     "metadata": {},
     "output_type": "display_data"
    }
   ],
   "source": [
    "default_alpha_loss_list = [45621836.0, 44355904.0, 44249936.0, 44104492.0, 44107028.0, 44097436.0, 44270596.0, 44089604.0, 44185456.0, 44285424.0, 44182396.0, 44126032.0, 44408908.0, 44199988.0, 44425624.0, 44209516.0, 44227556.0, 44041368.0, 44373620.0, 44456688.0, 44070200.0, 43995008.0, 44134528.0, 44107632.0, 43802268.0, 44047244.0, 43904480.0, 43939264.0, 43987436.0, 43859148.0, 43961468.0, 44073332.0, 43907992.0, 43725336.0, 43849884.0, 43924944.0, 43826232.0, 43496588.0, 43605268.0, 43641544.0, 43543980.0, 43537204.0, 43491140.0, 43373268.0, 43624628.0, 43330720.0, 43449924.0, 43234040.0, 43097712.0, 44565932.0, 43416728.0, 43234072.0, 43260536.0, 43074152.0, 43096868.0, 42714596.0, 43268708.0, 42984456.0, 43917916.0, 43035192.0, 42818392.0, 42656488.0, 42411144.0, 42707748.0, 42523348.0, 42491780.0, 42605616.0, 42294312.0, 42310540.0, 42306532.0, 42327836.0, 42028380.0, 43780020.0, 41960848.0, 41753348.0, 41644528.0, 42072300.0, 41830796.0, 41535968.0, 41507712.0, 41336916.0, 41256888.0, 41069008.0, 40828812.0, 40791320.0, 40758012.0, 40487952.0, 40521400.0, 40385292.0, 40164828.0, 41217672.0, 39945608.0, 39633816.0, 39335348.0, 39096012.0, 39050096.0, 38497092.0, 38436708.0, 38193532.0, 37834140.0]\n",
    "plt.plot(default_alpha_loss_list)"
   ]
  },
  {
   "cell_type": "code",
   "execution_count": 19,
   "id": "47482d49",
   "metadata": {},
   "outputs": [
    {
     "data": {
      "text/plain": [
       "[('кошка', 0.8682211637496948),\n",
       " ('котка', 0.8644775748252869),\n",
       " ('жывёліна', 0.8603729605674744),\n",
       " ('кот', 0.8575648665428162),\n",
       " ('кацяня', 0.8407812118530273),\n",
       " ('дзік', 0.8391797542572021),\n",
       " ('конь', 0.8259259462356567),\n",
       " ('пацук', 0.8205081820487976),\n",
       " ('сабачка', 0.8192765116691589),\n",
       " ('воўк', 0.8112694621086121),\n",
       " ('муха', 0.8064222931861877),\n",
       " ('авечка', 0.8052395582199097),\n",
       " ('шчанюк', 0.8034665584564209),\n",
       " ('малпа', 0.7998183965682983),\n",
       " ('звер', 0.7971243262290955),\n",
       " ('лісіца', 0.7915029525756836),\n",
       " ('асёл', 0.7902921438217163),\n",
       " ('зграя', 0.7896773219108582),\n",
       " ('мядзведзь', 0.7882097363471985),\n",
       " ('каза', 0.7871083617210388)]"
      ]
     },
     "execution_count": 19,
     "metadata": {},
     "output_type": "execute_result"
    }
   ],
   "source": [
    "model.wv.most_similar('сабака', topn=20)"
   ]
  },
  {
   "cell_type": "code",
   "execution_count": 20,
   "id": "0090e873",
   "metadata": {},
   "outputs": [
    {
     "data": {
      "text/plain": [
       "['быць',\n",
       " 'год',\n",
       " 'беларускі',\n",
       " 'беларусь',\n",
       " 'чалавек',\n",
       " 'магчы',\n",
       " 'час',\n",
       " 'усё',\n",
       " 'дзень',\n",
       " 'большыць',\n",
       " 'мова',\n",
       " 'перці',\n",
       " 'новы',\n",
       " 'мець',\n",
       " 'буда',\n",
       " 'вялікі',\n",
       " 'краіна',\n",
       " 'жыццё',\n",
       " 'раз',\n",
       " 'праца',\n",
       " 'быль',\n",
       " 'месца',\n",
       " 'адзін',\n",
       " 'горад',\n",
       " 'справа',\n",
       " 'рэспубліка',\n",
       " 'гісторыя',\n",
       " 'трэба',\n",
       " 'яўляцца',\n",
       " 'тут',\n",
       " 'свет',\n",
       " 'слова',\n",
       " 'кожны',\n",
       " 'дзіцё',\n",
       " 'дзяржаўны',\n",
       " 'нацыянальны',\n",
       " 'працаваць',\n",
       " 'пытанне',\n",
       " 'раён',\n",
       " 'галоўны',\n",
       " 'імя',\n",
       " 'культура',\n",
       " 'сайт',\n",
       " 'казаць',\n",
       " 'гульня',\n",
       " 'кніга',\n",
       " 'розны',\n",
       " 'атрымаць',\n",
       " 'другі',\n",
       " 'арганізацыя',\n",
       " 'школа',\n",
       " 'апошні',\n",
       " 'старонка',\n",
       " 'адбыцца',\n",
       " 'улада',\n",
       " 'зрабіць',\n",
       " 'цэнтр',\n",
       " 'ведаць',\n",
       " 'матэрыял',\n",
       " 'мінск',\n",
       " 'вынік',\n",
       " 'дом',\n",
       " 'хацець',\n",
       " 'мяць',\n",
       " 'правіць',\n",
       " 'рабіць',\n",
       " 'права',\n",
       " 'праект',\n",
       " 'беларус',\n",
       " 'умова',\n",
       " 'адукацыя',\n",
       " 'частка',\n",
       " 'вайна',\n",
       " 'праграма',\n",
       " 'дзяржава',\n",
       " 'міжнародны',\n",
       " 'зямля',\n",
       " 'шмат',\n",
       " 'развіццё',\n",
       " 'удзел',\n",
       " 'жыць',\n",
       " 'гад',\n",
       " 'каль',\n",
       " 'работа',\n",
       " 'інфармацыя',\n",
       " 'выбар',\n",
       " 'народны',\n",
       " 'наступны',\n",
       " 'палітычны',\n",
       " 'праблема',\n",
       " 'народ',\n",
       " 'кіраўнік',\n",
       " 'вёска',\n",
       " 'знаходзіцца',\n",
       " 'пачатак',\n",
       " 'мяжа',\n",
       " 'літаратура',\n",
       " 'стол',\n",
       " 'магчымасць',\n",
       " 'дзейнасць']"
      ]
     },
     "execution_count": 20,
     "metadata": {},
     "output_type": "execute_result"
    }
   ],
   "source": [
    "model.wv.index_to_key[:100]"
   ]
  },
  {
   "cell_type": "code",
   "execution_count": 21,
   "id": "d587b37a",
   "metadata": {},
   "outputs": [],
   "source": [
    "# tsne for visualization\n",
    "# plotly for interactivity https://towardsdatascience.com/how-to-train-a-word2vec-model-from-scratch-with-gensim-c457d587e031\n",
    "# save filtered out wods into separat file to verify\n",
    "# dont explicitly list stop words\n",
    "# prepare assessment data (50 words with 10 most similar wods for them)\n",
    "# remove words after training\n",
    "# increase corpus\n",
    "# increase dimensionality\n",
    "# merge е/ё , e.g. пачуцце/пачуццё\n",
    "# п'еса is split to 'п' і 'еса'"
   ]
  },
  {
   "cell_type": "code",
   "execution_count": 22,
   "id": "ec534c05",
   "metadata": {},
   "outputs": [
    {
     "name": "stderr",
     "output_type": "stream",
     "text": [
      "INFO:gensim.utils:Word2Vec lifecycle event {'fname_or_handle': 'word2vec-100-bel-cc100.model', 'separately': 'None', 'sep_limit': 10485760, 'ignore': frozenset(), 'datetime': '2023-05-12T15:01:17.893336', 'gensim': '4.3.1', 'python': '3.11.3 | packaged by conda-forge | (main, Apr  6 2023, 09:05:00) [Clang 14.0.6 ]', 'platform': 'macOS-12.6-x86_64-i386-64bit', 'event': 'saving'}\n",
      "INFO:gensim.utils:not storing attribute cum_table\n",
      "INFO:gensim.utils:saved word2vec-100-bel-cc100.model\n"
     ]
    }
   ],
   "source": [
    "model.save(\"word2vec-100-bel-cc100.model\")"
   ]
  },
  {
   "cell_type": "code",
   "execution_count": 23,
   "id": "389e42e0",
   "metadata": {},
   "outputs": [
    {
     "name": "stderr",
     "output_type": "stream",
     "text": [
      "INFO:gensim.models.keyedvectors:storing 78886x100 projection weights into word2vec-100-bel-cc100.vectors\n"
     ]
    }
   ],
   "source": [
    "model.wv.save_word2vec_format('word2vec-100-bel-cc100.vectors')"
   ]
  },
  {
   "cell_type": "code",
   "execution_count": null,
   "id": "1f386e21",
   "metadata": {},
   "outputs": [],
   "source": []
  }
 ],
 "metadata": {
  "kernelspec": {
   "display_name": "Python 3 (ipykernel)",
   "language": "python",
   "name": "python3"
  },
  "language_info": {
   "codemirror_mode": {
    "name": "ipython",
    "version": 3
   },
   "file_extension": ".py",
   "mimetype": "text/x-python",
   "name": "python",
   "nbconvert_exporter": "python",
   "pygments_lexer": "ipython3",
   "version": "3.11.3"
  }
 },
 "nbformat": 4,
 "nbformat_minor": 5
}
