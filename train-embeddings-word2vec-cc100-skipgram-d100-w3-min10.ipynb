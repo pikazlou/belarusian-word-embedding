{
 "cells": [
  {
   "cell_type": "code",
   "execution_count": 1,
   "id": "de7b8b0c",
   "metadata": {},
   "outputs": [],
   "source": [
    "from gensim.models.word2vec import LineSentence\n",
    "from gensim.models import Word2Vec\n",
    "from gensim.models.callbacks import CallbackAny2Vec\n",
    "import matplotlib.pyplot as plt"
   ]
  },
  {
   "cell_type": "code",
   "execution_count": 2,
   "id": "7dc6904a",
   "metadata": {},
   "outputs": [
    {
     "name": "stderr",
     "output_type": "stream",
     "text": [
      "INFO:root:Logging initialized\n"
     ]
    }
   ],
   "source": [
    "import logging\n",
    "logging.basicConfig(level=logging.INFO, force = True)\n",
    "logger = logging.getLogger()\n",
    "logger.info(\"Logging initialized\")"
   ]
  },
  {
   "cell_type": "code",
   "execution_count": 3,
   "id": "ab9fc39e",
   "metadata": {},
   "outputs": [],
   "source": [
    "loss_list = []\n",
    "class Callback(CallbackAny2Vec):\n",
    "    def __init__(self):\n",
    "        self.epoch = 0\n",
    "\n",
    "    def on_epoch_end(self, model):\n",
    "        loss = model.get_latest_training_loss()\n",
    "        loss_list.append(loss)\n",
    "        logger.info('Loss after epoch {}:{}'.format(self.epoch, loss))\n",
    "        model.running_training_loss = 0.0\n",
    "        self.epoch = self.epoch + 1"
   ]
  },
  {
   "cell_type": "code",
   "execution_count": 4,
   "id": "61e8337d",
   "metadata": {},
   "outputs": [
    {
     "name": "stderr",
     "output_type": "stream",
     "text": [
      "INFO:gensim.utils:Word2Vec lifecycle event {'params': 'Word2Vec<vocab=0, vector_size=100, alpha=0.025>', 'datetime': '2023-05-19T15:41:51.796103', 'gensim': '4.3.1', 'python': '3.11.3 | packaged by conda-forge | (main, Apr  6 2023, 09:05:00) [Clang 14.0.6 ]', 'platform': 'macOS-12.6-x86_64-i386-64bit', 'event': 'created'}\n"
     ]
    }
   ],
   "source": [
    "model = Word2Vec(sg=1, vector_size=100, window=3, min_count=10, workers=5)"
   ]
  },
  {
   "cell_type": "code",
   "execution_count": 5,
   "id": "35054bd1",
   "metadata": {},
   "outputs": [],
   "source": [
    "sentences = LineSentence('processed-corpus.txt')"
   ]
  },
  {
   "cell_type": "code",
   "execution_count": 6,
   "id": "615cf92b",
   "metadata": {},
   "outputs": [
    {
     "name": "stderr",
     "output_type": "stream",
     "text": [
      "INFO:gensim.models.word2vec:collecting all words and their counts\n",
      "INFO:gensim.models.word2vec:PROGRESS: at sentence #0, processed 0 words, keeping 0 word types\n",
      "INFO:gensim.models.word2vec:PROGRESS: at sentence #5000000, processed 40831628 words, keeping 101552 word types\n",
      "INFO:gensim.models.word2vec:PROGRESS: at sentence #10000000, processed 81753225 words, keeping 114802 word types\n",
      "INFO:gensim.models.word2vec:PROGRESS: at sentence #15000000, processed 122575037 words, keeping 122333 word types\n",
      "INFO:gensim.models.word2vec:PROGRESS: at sentence #20000000, processed 163439274 words, keeping 127317 word types\n",
      "INFO:gensim.models.word2vec:collected 130029 word types from a corpus of 191558143 raw words and 23453583 sentences\n",
      "INFO:gensim.models.word2vec:Creating a fresh vocabulary\n",
      "INFO:gensim.utils:Word2Vec lifecycle event {'msg': 'effective_min_count=10 retains 79373 unique words (61.04% of original 130029, drops 50656)', 'datetime': '2023-05-19T15:43:08.605477', 'gensim': '4.3.1', 'python': '3.11.3 | packaged by conda-forge | (main, Apr  6 2023, 09:05:00) [Clang 14.0.6 ]', 'platform': 'macOS-12.6-x86_64-i386-64bit', 'event': 'prepare_vocab'}\n",
      "INFO:gensim.utils:Word2Vec lifecycle event {'msg': 'effective_min_count=10 leaves 191387939 word corpus (99.91% of original 191558143, drops 170204)', 'datetime': '2023-05-19T15:43:08.606170', 'gensim': '4.3.1', 'python': '3.11.3 | packaged by conda-forge | (main, Apr  6 2023, 09:05:00) [Clang 14.0.6 ]', 'platform': 'macOS-12.6-x86_64-i386-64bit', 'event': 'prepare_vocab'}\n",
      "INFO:gensim.models.word2vec:deleting the raw counts dictionary of 130029 items\n",
      "INFO:gensim.models.word2vec:sample=0.001 downsamples 16 most-common words\n",
      "INFO:gensim.utils:Word2Vec lifecycle event {'msg': 'downsampling leaves estimated 185893234.09818068 word corpus (97.1%% of prior 191387939)', 'datetime': '2023-05-19T15:43:08.883678', 'gensim': '4.3.1', 'python': '3.11.3 | packaged by conda-forge | (main, Apr  6 2023, 09:05:00) [Clang 14.0.6 ]', 'platform': 'macOS-12.6-x86_64-i386-64bit', 'event': 'prepare_vocab'}\n",
      "INFO:gensim.models.word2vec:estimated required memory for 79373 words and 100 dimensions: 103184900 bytes\n",
      "INFO:gensim.models.word2vec:resetting layer weights\n",
      "INFO:gensim.utils:Word2Vec lifecycle event {'update': False, 'trim_rule': 'None', 'datetime': '2023-05-19T15:43:09.416682', 'gensim': '4.3.1', 'python': '3.11.3 | packaged by conda-forge | (main, Apr  6 2023, 09:05:00) [Clang 14.0.6 ]', 'platform': 'macOS-12.6-x86_64-i386-64bit', 'event': 'build_vocab'}\n"
     ]
    }
   ],
   "source": [
    "model.build_vocab(sentences, progress_per=5000000)"
   ]
  },
  {
   "cell_type": "code",
   "execution_count": 7,
   "id": "867dc13c",
   "metadata": {},
   "outputs": [
    {
     "name": "stderr",
     "output_type": "stream",
     "text": [
      "INFO:gensim.utils:Word2Vec lifecycle event {'msg': 'training model with 5 workers on 79373 vocabulary and 100 features, using sg=1 hs=0 sample=0.001 negative=5 window=3 shrink_windows=True', 'datetime': '2023-05-19T15:43:09.423833', 'gensim': '4.3.1', 'python': '3.11.3 | packaged by conda-forge | (main, Apr  6 2023, 09:05:00) [Clang 14.0.6 ]', 'platform': 'macOS-12.6-x86_64-i386-64bit', 'event': 'train'}\n",
      "INFO:gensim.models.word2vec:EPOCH 0 - PROGRESS: at 0.51% examples, 937538 words/s, in_qsize 9, out_qsize 0\n",
      "INFO:gensim.models.word2vec:EPOCH 0: training on 191558143 raw words (185889644 effective words) took 177.6s, 1046906 effective words/s\n",
      "INFO:root:Loss after epoch 0:65791416.0\n",
      "INFO:gensim.models.word2vec:EPOCH 1 - PROGRESS: at 0.53% examples, 974067 words/s, in_qsize 9, out_qsize 0\n",
      "INFO:gensim.models.word2vec:EPOCH 1: training on 191558143 raw words (185893121 effective words) took 176.4s, 1053781 effective words/s\n",
      "INFO:root:Loss after epoch 1:67453424.0\n",
      "INFO:gensim.models.word2vec:EPOCH 2 - PROGRESS: at 0.54% examples, 992942 words/s, in_qsize 9, out_qsize 0\n",
      "INFO:gensim.models.word2vec:EPOCH 2: training on 191558143 raw words (185892830 effective words) took 177.1s, 1049939 effective words/s\n",
      "INFO:root:Loss after epoch 2:67744288.0\n",
      "INFO:gensim.models.word2vec:EPOCH 3 - PROGRESS: at 0.51% examples, 937576 words/s, in_qsize 9, out_qsize 0\n",
      "INFO:gensim.models.word2vec:EPOCH 3: training on 191558143 raw words (185891419 effective words) took 175.0s, 1062345 effective words/s\n",
      "INFO:root:Loss after epoch 3:67989224.0\n",
      "INFO:gensim.models.word2vec:EPOCH 4 - PROGRESS: at 0.57% examples, 1048240 words/s, in_qsize 9, out_qsize 0\n",
      "INFO:gensim.models.word2vec:EPOCH 4: training on 191558143 raw words (185893309 effective words) took 174.5s, 1065003 effective words/s\n",
      "INFO:root:Loss after epoch 4:68209808.0\n",
      "INFO:gensim.models.word2vec:EPOCH 5 - PROGRESS: at 0.55% examples, 1019877 words/s, in_qsize 9, out_qsize 0\n",
      "INFO:gensim.models.word2vec:EPOCH 5: training on 191558143 raw words (185895529 effective words) took 172.3s, 1079056 effective words/s\n",
      "INFO:root:Loss after epoch 5:68408736.0\n",
      "INFO:gensim.models.word2vec:EPOCH 6 - PROGRESS: at 0.54% examples, 994605 words/s, in_qsize 9, out_qsize 0\n",
      "INFO:gensim.models.word2vec:EPOCH 6: training on 191558143 raw words (185892855 effective words) took 172.1s, 1080282 effective words/s\n",
      "INFO:root:Loss after epoch 6:68563840.0\n",
      "INFO:gensim.models.word2vec:EPOCH 7 - PROGRESS: at 0.55% examples, 1007333 words/s, in_qsize 10, out_qsize 0\n",
      "INFO:gensim.models.word2vec:EPOCH 7: training on 191558143 raw words (185895443 effective words) took 172.4s, 1078592 effective words/s\n",
      "INFO:root:Loss after epoch 7:68730808.0\n",
      "INFO:gensim.models.word2vec:EPOCH 8 - PROGRESS: at 0.56% examples, 1045299 words/s, in_qsize 9, out_qsize 0\n",
      "INFO:gensim.models.word2vec:EPOCH 8: training on 191558143 raw words (185894614 effective words) took 171.6s, 1083344 effective words/s\n",
      "INFO:root:Loss after epoch 8:68886352.0\n",
      "INFO:gensim.models.word2vec:EPOCH 9 - PROGRESS: at 0.56% examples, 1037166 words/s, in_qsize 9, out_qsize 0\n",
      "INFO:gensim.models.word2vec:EPOCH 9: training on 191558143 raw words (185891980 effective words) took 172.1s, 1079925 effective words/s\n",
      "INFO:root:Loss after epoch 9:68989544.0\n",
      "INFO:gensim.models.word2vec:EPOCH 10 - PROGRESS: at 0.56% examples, 1029610 words/s, in_qsize 10, out_qsize 0\n",
      "INFO:gensim.models.word2vec:EPOCH 10: training on 191558143 raw words (185893455 effective words) took 181.1s, 1026471 effective words/s\n",
      "INFO:root:Loss after epoch 10:69111104.0\n",
      "INFO:gensim.models.word2vec:EPOCH 11 - PROGRESS: at 0.55% examples, 1016514 words/s, in_qsize 9, out_qsize 0\n",
      "INFO:gensim.models.word2vec:EPOCH 11: training on 191558143 raw words (185892409 effective words) took 181.7s, 1022969 effective words/s\n",
      "INFO:root:Loss after epoch 11:69213656.0\n",
      "INFO:gensim.models.word2vec:EPOCH 12 - PROGRESS: at 0.53% examples, 975224 words/s, in_qsize 9, out_qsize 0\n",
      "INFO:gensim.models.word2vec:EPOCH 12: training on 191558143 raw words (185893379 effective words) took 179.8s, 1033919 effective words/s\n",
      "INFO:root:Loss after epoch 12:69296536.0\n",
      "INFO:gensim.models.word2vec:EPOCH 13 - PROGRESS: at 0.54% examples, 997804 words/s, in_qsize 9, out_qsize 0\n",
      "INFO:gensim.models.word2vec:EPOCH 13: training on 191558143 raw words (185892802 effective words) took 183.3s, 1013977 effective words/s\n",
      "INFO:root:Loss after epoch 13:69352920.0\n",
      "INFO:gensim.models.word2vec:EPOCH 14 - PROGRESS: at 0.52% examples, 962029 words/s, in_qsize 9, out_qsize 0\n",
      "INFO:gensim.models.word2vec:EPOCH 14: training on 191558143 raw words (185893706 effective words) took 180.3s, 1030779 effective words/s\n",
      "INFO:root:Loss after epoch 14:69457472.0\n",
      "INFO:gensim.models.word2vec:EPOCH 15 - PROGRESS: at 0.53% examples, 974452 words/s, in_qsize 10, out_qsize 0\n",
      "INFO:gensim.models.word2vec:EPOCH 15: training on 191558143 raw words (185894867 effective words) took 179.9s, 1033517 effective words/s\n",
      "INFO:root:Loss after epoch 15:69556248.0\n",
      "INFO:gensim.models.word2vec:EPOCH 16 - PROGRESS: at 0.54% examples, 976958 words/s, in_qsize 10, out_qsize 0\n",
      "INFO:gensim.models.word2vec:EPOCH 16: training on 191558143 raw words (185891727 effective words) took 180.4s, 1030726 effective words/s\n",
      "INFO:root:Loss after epoch 16:69598128.0\n",
      "INFO:gensim.models.word2vec:EPOCH 17 - PROGRESS: at 0.57% examples, 1048436 words/s, in_qsize 10, out_qsize 0\n",
      "INFO:gensim.models.word2vec:EPOCH 17: training on 191558143 raw words (185893100 effective words) took 178.9s, 1038857 effective words/s\n",
      "INFO:root:Loss after epoch 17:69660176.0\n",
      "INFO:gensim.models.word2vec:EPOCH 18 - PROGRESS: at 0.54% examples, 919498 words/s, in_qsize 6, out_qsize 4\n",
      "INFO:gensim.models.word2vec:EPOCH 18: training on 191558143 raw words (185893396 effective words) took 178.7s, 1040479 effective words/s\n",
      "INFO:root:Loss after epoch 18:69698224.0\n",
      "INFO:gensim.models.word2vec:EPOCH 19 - PROGRESS: at 0.55% examples, 1023263 words/s, in_qsize 9, out_qsize 0\n",
      "INFO:gensim.models.word2vec:EPOCH 19: training on 191558143 raw words (185894147 effective words) took 174.8s, 1063662 effective words/s\n",
      "INFO:root:Loss after epoch 19:69736472.0\n",
      "INFO:gensim.models.word2vec:EPOCH 20 - PROGRESS: at 0.54% examples, 993879 words/s, in_qsize 9, out_qsize 0\n",
      "INFO:gensim.models.word2vec:EPOCH 20: training on 191558143 raw words (185894240 effective words) took 175.2s, 1060842 effective words/s\n",
      "INFO:root:Loss after epoch 20:69797440.0\n",
      "INFO:gensim.models.word2vec:EPOCH 21 - PROGRESS: at 0.55% examples, 1017948 words/s, in_qsize 10, out_qsize 0\n",
      "INFO:gensim.models.word2vec:EPOCH 21: training on 191558143 raw words (185891638 effective words) took 174.6s, 1064856 effective words/s\n",
      "INFO:root:Loss after epoch 21:69853080.0\n",
      "INFO:gensim.models.word2vec:EPOCH 22 - PROGRESS: at 0.55% examples, 1011339 words/s, in_qsize 9, out_qsize 0\n",
      "INFO:gensim.models.word2vec:EPOCH 22: training on 191558143 raw words (185891365 effective words) took 171.5s, 1083643 effective words/s\n",
      "INFO:root:Loss after epoch 22:69867464.0\n",
      "INFO:gensim.models.word2vec:EPOCH 23 - PROGRESS: at 0.55% examples, 1027101 words/s, in_qsize 9, out_qsize 0\n",
      "INFO:gensim.models.word2vec:EPOCH 23: training on 191558143 raw words (185893541 effective words) took 173.9s, 1068693 effective words/s\n",
      "INFO:root:Loss after epoch 23:69902280.0\n",
      "INFO:gensim.models.word2vec:EPOCH 24 - PROGRESS: at 0.56% examples, 981454 words/s, in_qsize 6, out_qsize 3\n",
      "INFO:gensim.models.word2vec:EPOCH 24: training on 191558143 raw words (185890998 effective words) took 183.6s, 1012439 effective words/s\n",
      "INFO:root:Loss after epoch 24:69991312.0\n",
      "INFO:gensim.models.word2vec:EPOCH 25 - PROGRESS: at 0.54% examples, 994255 words/s, in_qsize 10, out_qsize 0\n",
      "INFO:gensim.models.word2vec:EPOCH 25: training on 191558143 raw words (185896002 effective words) took 181.3s, 1025408 effective words/s\n",
      "INFO:root:Loss after epoch 25:70013192.0\n",
      "INFO:gensim.models.word2vec:EPOCH 26 - PROGRESS: at 0.55% examples, 1026532 words/s, in_qsize 10, out_qsize 0\n",
      "INFO:gensim.models.word2vec:EPOCH 26: training on 191558143 raw words (185893213 effective words) took 174.9s, 1062622 effective words/s\n",
      "INFO:root:Loss after epoch 26:70048872.0\n",
      "INFO:gensim.models.word2vec:EPOCH 27 - PROGRESS: at 0.54% examples, 993381 words/s, in_qsize 9, out_qsize 0\n"
     ]
    },
    {
     "name": "stderr",
     "output_type": "stream",
     "text": [
      "INFO:gensim.models.word2vec:EPOCH 27: training on 191558143 raw words (185893606 effective words) took 184.6s, 1007127 effective words/s\n",
      "INFO:root:Loss after epoch 27:70063656.0\n",
      "INFO:gensim.models.word2vec:EPOCH 28 - PROGRESS: at 0.53% examples, 977756 words/s, in_qsize 9, out_qsize 0\n",
      "INFO:gensim.models.word2vec:EPOCH 28: training on 191558143 raw words (185892911 effective words) took 180.2s, 1031863 effective words/s\n",
      "INFO:root:Loss after epoch 28:70089896.0\n",
      "INFO:gensim.models.word2vec:EPOCH 29 - PROGRESS: at 0.56% examples, 1027222 words/s, in_qsize 9, out_qsize 0\n",
      "INFO:gensim.models.word2vec:EPOCH 29: training on 191558143 raw words (185893452 effective words) took 173.7s, 1070499 effective words/s\n",
      "INFO:root:Loss after epoch 29:70129952.0\n",
      "INFO:gensim.models.word2vec:EPOCH 30 - PROGRESS: at 0.55% examples, 1017987 words/s, in_qsize 9, out_qsize 0\n",
      "INFO:gensim.models.word2vec:EPOCH 30: training on 191558143 raw words (185894732 effective words) took 174.6s, 1064818 effective words/s\n",
      "INFO:root:Loss after epoch 30:70138520.0\n",
      "INFO:gensim.models.word2vec:EPOCH 31 - PROGRESS: at 0.55% examples, 1019468 words/s, in_qsize 9, out_qsize 0\n",
      "INFO:gensim.models.word2vec:EPOCH 31: training on 191558143 raw words (185895135 effective words) took 173.1s, 1073862 effective words/s\n",
      "INFO:root:Loss after epoch 31:70160968.0\n",
      "INFO:gensim.models.word2vec:EPOCH 32 - PROGRESS: at 0.55% examples, 1014250 words/s, in_qsize 9, out_qsize 0\n",
      "INFO:gensim.models.word2vec:EPOCH 32: training on 191558143 raw words (185892337 effective words) took 178.7s, 1040475 effective words/s\n",
      "INFO:root:Loss after epoch 32:70168368.0\n",
      "INFO:gensim.models.word2vec:EPOCH 33 - PROGRESS: at 0.56% examples, 1021383 words/s, in_qsize 9, out_qsize 0\n",
      "INFO:gensim.models.word2vec:EPOCH 33: training on 191558143 raw words (185894445 effective words) took 181.0s, 1027021 effective words/s\n",
      "INFO:root:Loss after epoch 33:70179928.0\n",
      "INFO:gensim.models.word2vec:EPOCH 34 - PROGRESS: at 0.54% examples, 995494 words/s, in_qsize 9, out_qsize 0\n",
      "INFO:gensim.models.word2vec:EPOCH 34: training on 191558143 raw words (185894910 effective words) took 185.9s, 1000006 effective words/s\n",
      "INFO:root:Loss after epoch 34:70254864.0\n",
      "INFO:gensim.models.word2vec:EPOCH 35 - PROGRESS: at 0.52% examples, 966010 words/s, in_qsize 9, out_qsize 0\n",
      "INFO:gensim.models.word2vec:EPOCH 35: training on 191558143 raw words (185895929 effective words) took 185.0s, 1004813 effective words/s\n",
      "INFO:root:Loss after epoch 35:70273368.0\n",
      "INFO:gensim.models.word2vec:EPOCH 36 - PROGRESS: at 0.51% examples, 929959 words/s, in_qsize 10, out_qsize 0\n",
      "INFO:gensim.models.word2vec:EPOCH 36: training on 191558143 raw words (185891868 effective words) took 182.6s, 1017927 effective words/s\n",
      "INFO:root:Loss after epoch 36:70273880.0\n",
      "INFO:gensim.models.word2vec:EPOCH 37 - PROGRESS: at 0.57% examples, 1031372 words/s, in_qsize 9, out_qsize 0\n",
      "INFO:gensim.models.word2vec:EPOCH 37: training on 191558143 raw words (185891530 effective words) took 174.6s, 1064437 effective words/s\n",
      "INFO:root:Loss after epoch 37:70302544.0\n",
      "INFO:gensim.models.word2vec:EPOCH 38 - PROGRESS: at 0.54% examples, 1006977 words/s, in_qsize 9, out_qsize 0\n",
      "INFO:gensim.models.word2vec:EPOCH 38: training on 191558143 raw words (185891568 effective words) took 178.8s, 1039891 effective words/s\n",
      "INFO:root:Loss after epoch 38:70317008.0\n",
      "INFO:gensim.models.word2vec:EPOCH 39 - PROGRESS: at 0.49% examples, 890162 words/s, in_qsize 9, out_qsize 1\n",
      "INFO:gensim.models.word2vec:EPOCH 39: training on 191558143 raw words (185894994 effective words) took 175.2s, 1061147 effective words/s\n",
      "INFO:root:Loss after epoch 39:70292712.0\n",
      "INFO:gensim.models.word2vec:EPOCH 40 - PROGRESS: at 0.54% examples, 945999 words/s, in_qsize 7, out_qsize 3\n",
      "INFO:gensim.models.word2vec:EPOCH 40: training on 191558143 raw words (185893181 effective words) took 183.9s, 1010947 effective words/s\n",
      "INFO:root:Loss after epoch 40:70351136.0\n",
      "INFO:gensim.models.word2vec:EPOCH 41 - PROGRESS: at 0.54% examples, 979242 words/s, in_qsize 9, out_qsize 0\n",
      "INFO:gensim.models.word2vec:EPOCH 41: training on 191558143 raw words (185893627 effective words) took 177.3s, 1048231 effective words/s\n",
      "INFO:root:Loss after epoch 41:70361944.0\n",
      "INFO:gensim.models.word2vec:EPOCH 42 - PROGRESS: at 0.55% examples, 1019096 words/s, in_qsize 8, out_qsize 1\n",
      "INFO:gensim.models.word2vec:EPOCH 42: training on 191558143 raw words (185891722 effective words) took 174.5s, 1064977 effective words/s\n",
      "INFO:root:Loss after epoch 42:70404072.0\n",
      "INFO:gensim.models.word2vec:EPOCH 43 - PROGRESS: at 0.54% examples, 996858 words/s, in_qsize 9, out_qsize 0\n",
      "INFO:gensim.models.word2vec:EPOCH 43: training on 191558143 raw words (185892454 effective words) took 175.1s, 1061423 effective words/s\n",
      "INFO:root:Loss after epoch 43:70377768.0\n",
      "INFO:gensim.models.word2vec:EPOCH 44 - PROGRESS: at 0.55% examples, 1025021 words/s, in_qsize 9, out_qsize 0\n",
      "INFO:gensim.models.word2vec:EPOCH 44: training on 191558143 raw words (185893820 effective words) took 171.3s, 1085510 effective words/s\n",
      "INFO:root:Loss after epoch 44:70433008.0\n",
      "INFO:gensim.models.word2vec:EPOCH 45 - PROGRESS: at 0.55% examples, 1008571 words/s, in_qsize 9, out_qsize 0\n",
      "INFO:gensim.models.word2vec:EPOCH 45: training on 191558143 raw words (185894394 effective words) took 174.6s, 1064954 effective words/s\n",
      "INFO:root:Loss after epoch 45:70423672.0\n",
      "INFO:gensim.models.word2vec:EPOCH 46 - PROGRESS: at 0.55% examples, 1009962 words/s, in_qsize 9, out_qsize 0\n",
      "INFO:gensim.models.word2vec:EPOCH 46: training on 191558143 raw words (185893472 effective words) took 172.0s, 1080655 effective words/s\n",
      "INFO:root:Loss after epoch 46:70435840.0\n",
      "INFO:gensim.models.word2vec:EPOCH 47 - PROGRESS: at 0.55% examples, 1012297 words/s, in_qsize 9, out_qsize 0\n",
      "INFO:gensim.models.word2vec:EPOCH 47: training on 191558143 raw words (185895728 effective words) took 171.4s, 1084792 effective words/s\n",
      "INFO:root:Loss after epoch 47:70446744.0\n",
      "INFO:gensim.models.word2vec:EPOCH 48 - PROGRESS: at 0.55% examples, 1021957 words/s, in_qsize 9, out_qsize 0\n",
      "INFO:gensim.models.word2vec:EPOCH 48: training on 191558143 raw words (185895369 effective words) took 174.9s, 1063078 effective words/s\n",
      "INFO:root:Loss after epoch 48:70442448.0\n",
      "INFO:gensim.models.word2vec:EPOCH 49 - PROGRESS: at 0.54% examples, 1001386 words/s, in_qsize 10, out_qsize 0\n",
      "INFO:gensim.models.word2vec:EPOCH 49: training on 191558143 raw words (185894674 effective words) took 173.0s, 1074333 effective words/s\n",
      "INFO:root:Loss after epoch 49:70455936.0\n",
      "INFO:gensim.models.word2vec:EPOCH 50 - PROGRESS: at 0.54% examples, 1003340 words/s, in_qsize 9, out_qsize 0\n",
      "INFO:gensim.models.word2vec:EPOCH 50: training on 191558143 raw words (185893788 effective words) took 180.2s, 1031435 effective words/s\n",
      "INFO:root:Loss after epoch 50:70482664.0\n",
      "INFO:gensim.models.word2vec:EPOCH 51 - PROGRESS: at 0.52% examples, 921905 words/s, in_qsize 9, out_qsize 3\n",
      "INFO:gensim.models.word2vec:EPOCH 51: training on 191558143 raw words (185891967 effective words) took 177.1s, 1049395 effective words/s\n",
      "INFO:root:Loss after epoch 51:70485312.0\n",
      "INFO:gensim.models.word2vec:EPOCH 52 - PROGRESS: at 0.54% examples, 998080 words/s, in_qsize 9, out_qsize 0\n",
      "INFO:gensim.models.word2vec:EPOCH 52: training on 191558143 raw words (185891964 effective words) took 179.7s, 1034669 effective words/s\n",
      "INFO:root:Loss after epoch 52:70488856.0\n",
      "INFO:gensim.models.word2vec:EPOCH 53 - PROGRESS: at 0.55% examples, 959228 words/s, in_qsize 7, out_qsize 3\n",
      "INFO:gensim.models.word2vec:EPOCH 53: training on 191558143 raw words (185893124 effective words) took 177.8s, 1045259 effective words/s\n",
      "INFO:root:Loss after epoch 53:70477840.0\n",
      "INFO:gensim.models.word2vec:EPOCH 54 - PROGRESS: at 0.55% examples, 1022490 words/s, in_qsize 10, out_qsize 0\n",
      "INFO:gensim.models.word2vec:EPOCH 54: training on 191558143 raw words (185890780 effective words) took 176.5s, 1053106 effective words/s\n",
      "INFO:root:Loss after epoch 54:70510648.0\n",
      "INFO:gensim.models.word2vec:EPOCH 55 - PROGRESS: at 0.55% examples, 1022011 words/s, in_qsize 9, out_qsize 0\n",
      "INFO:gensim.models.word2vec:EPOCH 55: training on 191558143 raw words (185893156 effective words) took 177.5s, 1047392 effective words/s\n",
      "INFO:root:Loss after epoch 55:70547192.0\n"
     ]
    },
    {
     "name": "stderr",
     "output_type": "stream",
     "text": [
      "INFO:gensim.models.word2vec:EPOCH 56 - PROGRESS: at 0.55% examples, 1015424 words/s, in_qsize 9, out_qsize 0\n",
      "INFO:gensim.models.word2vec:EPOCH 56: training on 191558143 raw words (185892750 effective words) took 180.8s, 1027935 effective words/s\n",
      "INFO:root:Loss after epoch 56:70534584.0\n",
      "INFO:gensim.models.word2vec:EPOCH 57 - PROGRESS: at 0.50% examples, 913385 words/s, in_qsize 9, out_qsize 0\n",
      "INFO:gensim.models.word2vec:EPOCH 57: training on 191558143 raw words (185893404 effective words) took 182.5s, 1018554 effective words/s\n",
      "INFO:root:Loss after epoch 57:70544992.0\n",
      "INFO:gensim.models.word2vec:EPOCH 58 - PROGRESS: at 0.49% examples, 899245 words/s, in_qsize 9, out_qsize 0\n",
      "INFO:gensim.models.word2vec:EPOCH 58: training on 191558143 raw words (185892525 effective words) took 191.1s, 972497 effective words/s\n",
      "INFO:root:Loss after epoch 58:70549184.0\n",
      "INFO:gensim.models.word2vec:EPOCH 59 - PROGRESS: at 0.49% examples, 905463 words/s, in_qsize 9, out_qsize 0\n",
      "INFO:gensim.models.word2vec:EPOCH 59: training on 191558143 raw words (185894577 effective words) took 196.2s, 947540 effective words/s\n",
      "INFO:root:Loss after epoch 59:70558360.0\n",
      "INFO:gensim.models.word2vec:EPOCH 60 - PROGRESS: at 0.55% examples, 1013010 words/s, in_qsize 9, out_qsize 0\n",
      "INFO:gensim.models.word2vec:EPOCH 60: training on 191558143 raw words (185893977 effective words) took 178.1s, 1043583 effective words/s\n",
      "INFO:root:Loss after epoch 60:70537240.0\n",
      "INFO:gensim.models.word2vec:EPOCH 61 - PROGRESS: at 0.54% examples, 973910 words/s, in_qsize 9, out_qsize 0\n",
      "INFO:gensim.models.word2vec:EPOCH 61: training on 191558143 raw words (185892483 effective words) took 176.6s, 1052388 effective words/s\n",
      "INFO:root:Loss after epoch 61:70571176.0\n",
      "INFO:gensim.models.word2vec:EPOCH 62 - PROGRESS: at 0.52% examples, 967895 words/s, in_qsize 9, out_qsize 0\n",
      "INFO:gensim.models.word2vec:EPOCH 62: training on 191558143 raw words (185893542 effective words) took 176.7s, 1052203 effective words/s\n",
      "INFO:root:Loss after epoch 62:70584784.0\n",
      "INFO:gensim.models.word2vec:EPOCH 63 - PROGRESS: at 0.53% examples, 974004 words/s, in_qsize 10, out_qsize 0\n",
      "INFO:gensim.models.word2vec:EPOCH 63: training on 191558143 raw words (185893813 effective words) took 176.5s, 1053120 effective words/s\n",
      "INFO:root:Loss after epoch 63:70581984.0\n",
      "INFO:gensim.models.word2vec:EPOCH 64 - PROGRESS: at 0.53% examples, 975609 words/s, in_qsize 8, out_qsize 1\n",
      "INFO:gensim.models.word2vec:EPOCH 64: training on 191558143 raw words (185894804 effective words) took 176.2s, 1055219 effective words/s\n",
      "INFO:root:Loss after epoch 64:70580888.0\n",
      "INFO:gensim.models.word2vec:EPOCH 65 - PROGRESS: at 0.52% examples, 965981 words/s, in_qsize 9, out_qsize 0\n",
      "INFO:gensim.models.word2vec:EPOCH 65: training on 191558143 raw words (185893806 effective words) took 176.6s, 1052820 effective words/s\n",
      "INFO:root:Loss after epoch 65:70607192.0\n",
      "INFO:gensim.models.word2vec:EPOCH 66 - PROGRESS: at 0.54% examples, 1001068 words/s, in_qsize 9, out_qsize 0\n",
      "INFO:gensim.models.word2vec:EPOCH 66: training on 191558143 raw words (185895242 effective words) took 177.7s, 1045935 effective words/s\n",
      "INFO:root:Loss after epoch 66:70624256.0\n",
      "INFO:gensim.models.word2vec:EPOCH 67 - PROGRESS: at 0.51% examples, 928984 words/s, in_qsize 9, out_qsize 0\n",
      "INFO:gensim.models.word2vec:EPOCH 67: training on 191558143 raw words (185895009 effective words) took 178.0s, 1044236 effective words/s\n",
      "INFO:root:Loss after epoch 67:70584552.0\n",
      "INFO:gensim.models.word2vec:EPOCH 68 - PROGRESS: at 0.57% examples, 975376 words/s, in_qsize 10, out_qsize 3\n",
      "INFO:gensim.models.word2vec:EPOCH 68: training on 191558143 raw words (185894981 effective words) took 175.4s, 1059747 effective words/s\n",
      "INFO:root:Loss after epoch 68:70583584.0\n",
      "INFO:gensim.models.word2vec:EPOCH 69 - PROGRESS: at 0.54% examples, 1001744 words/s, in_qsize 9, out_qsize 0\n",
      "INFO:gensim.models.word2vec:EPOCH 69: training on 191558143 raw words (185892861 effective words) took 175.5s, 1059321 effective words/s\n",
      "INFO:root:Loss after epoch 69:70671808.0\n",
      "INFO:gensim.models.word2vec:EPOCH 70 - PROGRESS: at 0.56% examples, 1042658 words/s, in_qsize 9, out_qsize 0\n",
      "INFO:gensim.models.word2vec:EPOCH 70: training on 191558143 raw words (185892754 effective words) took 176.5s, 1053146 effective words/s\n",
      "INFO:root:Loss after epoch 70:70622712.0\n",
      "INFO:gensim.models.word2vec:EPOCH 71 - PROGRESS: at 0.56% examples, 1031416 words/s, in_qsize 9, out_qsize 0\n",
      "INFO:gensim.models.word2vec:EPOCH 71: training on 191558143 raw words (185895100 effective words) took 173.9s, 1069077 effective words/s\n",
      "INFO:root:Loss after epoch 71:70639200.0\n",
      "INFO:gensim.models.word2vec:EPOCH 72 - PROGRESS: at 0.52% examples, 912864 words/s, in_qsize 6, out_qsize 3\n",
      "INFO:gensim.models.word2vec:EPOCH 72: training on 191558143 raw words (185891241 effective words) took 176.0s, 1056423 effective words/s\n",
      "INFO:root:Loss after epoch 72:70651712.0\n",
      "INFO:gensim.models.word2vec:EPOCH 73 - PROGRESS: at 0.56% examples, 1036964 words/s, in_qsize 9, out_qsize 0\n",
      "INFO:gensim.models.word2vec:EPOCH 73: training on 191558143 raw words (185892917 effective words) took 172.8s, 1075991 effective words/s\n",
      "INFO:root:Loss after epoch 73:70646536.0\n",
      "INFO:gensim.models.word2vec:EPOCH 74 - PROGRESS: at 0.56% examples, 1038517 words/s, in_qsize 9, out_qsize 0\n",
      "INFO:gensim.models.word2vec:EPOCH 74: training on 191558143 raw words (185892677 effective words) took 172.9s, 1074897 effective words/s\n",
      "INFO:root:Loss after epoch 74:70638984.0\n",
      "INFO:gensim.models.word2vec:EPOCH 75 - PROGRESS: at 0.54% examples, 980158 words/s, in_qsize 9, out_qsize 0\n",
      "INFO:gensim.models.word2vec:EPOCH 75: training on 191558143 raw words (185893848 effective words) took 174.3s, 1066285 effective words/s\n",
      "INFO:root:Loss after epoch 75:70661128.0\n",
      "INFO:gensim.models.word2vec:EPOCH 76 - PROGRESS: at 0.55% examples, 1015343 words/s, in_qsize 10, out_qsize 0\n",
      "INFO:gensim.models.word2vec:EPOCH 76: training on 191558143 raw words (185892184 effective words) took 176.5s, 1053398 effective words/s\n",
      "INFO:root:Loss after epoch 76:70666504.0\n",
      "INFO:gensim.models.word2vec:EPOCH 77 - PROGRESS: at 0.56% examples, 1034341 words/s, in_qsize 9, out_qsize 0\n",
      "INFO:gensim.models.word2vec:EPOCH 77: training on 191558143 raw words (185893772 effective words) took 173.7s, 1070170 effective words/s\n",
      "INFO:root:Loss after epoch 77:70677048.0\n",
      "INFO:gensim.models.word2vec:EPOCH 78 - PROGRESS: at 0.54% examples, 1003234 words/s, in_qsize 9, out_qsize 0\n",
      "INFO:gensim.models.word2vec:EPOCH 78: training on 191558143 raw words (185894352 effective words) took 174.2s, 1066934 effective words/s\n",
      "INFO:root:Loss after epoch 78:70649696.0\n",
      "INFO:gensim.models.word2vec:EPOCH 79 - PROGRESS: at 0.56% examples, 1030197 words/s, in_qsize 10, out_qsize 0\n",
      "INFO:gensim.models.word2vec:EPOCH 79: training on 191558143 raw words (185894867 effective words) took 175.5s, 1059339 effective words/s\n",
      "INFO:root:Loss after epoch 79:70654008.0\n",
      "INFO:gensim.models.word2vec:EPOCH 80 - PROGRESS: at 0.54% examples, 1001854 words/s, in_qsize 9, out_qsize 0\n",
      "INFO:gensim.models.word2vec:EPOCH 80: training on 191558143 raw words (185893686 effective words) took 182.5s, 1018866 effective words/s\n",
      "INFO:root:Loss after epoch 80:70654376.0\n",
      "INFO:gensim.models.word2vec:EPOCH 81 - PROGRESS: at 0.52% examples, 947803 words/s, in_qsize 10, out_qsize 0\n",
      "INFO:gensim.models.word2vec:EPOCH 81: training on 191558143 raw words (185891401 effective words) took 183.8s, 1011268 effective words/s\n",
      "INFO:root:Loss after epoch 81:70684456.0\n",
      "INFO:gensim.models.word2vec:EPOCH 82 - PROGRESS: at 0.54% examples, 993281 words/s, in_qsize 9, out_qsize 0\n",
      "INFO:gensim.models.word2vec:EPOCH 82: training on 191558143 raw words (185894121 effective words) took 182.4s, 1019006 effective words/s\n",
      "INFO:root:Loss after epoch 82:70704792.0\n",
      "INFO:gensim.models.word2vec:EPOCH 83 - PROGRESS: at 0.57% examples, 1049107 words/s, in_qsize 9, out_qsize 0\n",
      "INFO:gensim.models.word2vec:EPOCH 83: training on 191558143 raw words (185894063 effective words) took 176.0s, 1056204 effective words/s\n",
      "INFO:root:Loss after epoch 83:70704528.0\n",
      "INFO:gensim.models.word2vec:EPOCH 84 - PROGRESS: at 0.54% examples, 919085 words/s, in_qsize 10, out_qsize 3\n",
      "INFO:gensim.models.word2vec:EPOCH 84: training on 191558143 raw words (185896557 effective words) took 177.1s, 1049820 effective words/s\n"
     ]
    },
    {
     "name": "stderr",
     "output_type": "stream",
     "text": [
      "INFO:root:Loss after epoch 84:70699360.0\n",
      "INFO:gensim.models.word2vec:EPOCH 85 - PROGRESS: at 0.54% examples, 981716 words/s, in_qsize 9, out_qsize 1\n",
      "INFO:gensim.models.word2vec:EPOCH 85: training on 191558143 raw words (185893900 effective words) took 176.2s, 1055165 effective words/s\n",
      "INFO:root:Loss after epoch 85:70669800.0\n",
      "INFO:gensim.models.word2vec:EPOCH 86 - PROGRESS: at 0.55% examples, 1014866 words/s, in_qsize 9, out_qsize 0\n",
      "INFO:gensim.models.word2vec:EPOCH 86: training on 191558143 raw words (185893945 effective words) took 175.9s, 1057060 effective words/s\n",
      "INFO:root:Loss after epoch 86:70698088.0\n",
      "INFO:gensim.models.word2vec:EPOCH 87 - PROGRESS: at 0.55% examples, 1015785 words/s, in_qsize 9, out_qsize 0\n",
      "INFO:gensim.models.word2vec:EPOCH 87: training on 191558143 raw words (185894493 effective words) took 176.0s, 1056444 effective words/s\n",
      "INFO:root:Loss after epoch 87:70704976.0\n",
      "INFO:gensim.models.word2vec:EPOCH 88 - PROGRESS: at 0.54% examples, 1004394 words/s, in_qsize 10, out_qsize 0\n",
      "INFO:gensim.models.word2vec:EPOCH 88: training on 191558143 raw words (185895023 effective words) took 175.9s, 1056954 effective words/s\n",
      "INFO:root:Loss after epoch 88:70685928.0\n",
      "INFO:gensim.models.word2vec:EPOCH 89 - PROGRESS: at 0.54% examples, 985193 words/s, in_qsize 9, out_qsize 0\n",
      "INFO:gensim.models.word2vec:EPOCH 89: training on 191558143 raw words (185891131 effective words) took 181.3s, 1025563 effective words/s\n",
      "INFO:root:Loss after epoch 89:70695840.0\n",
      "INFO:gensim.models.word2vec:EPOCH 90 - PROGRESS: at 0.55% examples, 1010987 words/s, in_qsize 9, out_qsize 0\n",
      "INFO:gensim.models.word2vec:EPOCH 90: training on 191558143 raw words (185895838 effective words) took 172.0s, 1080990 effective words/s\n",
      "INFO:root:Loss after epoch 90:70697904.0\n",
      "INFO:gensim.models.word2vec:EPOCH 91 - PROGRESS: at 0.54% examples, 992652 words/s, in_qsize 10, out_qsize 0\n",
      "INFO:gensim.models.word2vec:EPOCH 91: training on 191558143 raw words (185891391 effective words) took 172.3s, 1078689 effective words/s\n",
      "INFO:root:Loss after epoch 91:70700480.0\n",
      "INFO:gensim.models.word2vec:EPOCH 92 - PROGRESS: at 0.58% examples, 1062898 words/s, in_qsize 9, out_qsize 0\n",
      "INFO:gensim.models.word2vec:EPOCH 92: training on 191558143 raw words (185894172 effective words) took 174.3s, 1066583 effective words/s\n",
      "INFO:root:Loss after epoch 92:70704432.0\n",
      "INFO:gensim.models.word2vec:EPOCH 93 - PROGRESS: at 0.58% examples, 1053272 words/s, in_qsize 9, out_qsize 0\n",
      "INFO:gensim.models.word2vec:EPOCH 93: training on 191558143 raw words (185894544 effective words) took 175.8s, 1057645 effective words/s\n",
      "INFO:root:Loss after epoch 93:70720112.0\n",
      "INFO:gensim.models.word2vec:EPOCH 94 - PROGRESS: at 0.56% examples, 958753 words/s, in_qsize 10, out_qsize 2\n",
      "INFO:gensim.models.word2vec:EPOCH 94: training on 191558143 raw words (185894125 effective words) took 172.4s, 1078585 effective words/s\n",
      "INFO:root:Loss after epoch 94:70695824.0\n",
      "INFO:gensim.models.word2vec:EPOCH 95 - PROGRESS: at 0.54% examples, 987778 words/s, in_qsize 9, out_qsize 0\n",
      "INFO:gensim.models.word2vec:EPOCH 95: training on 191558143 raw words (185894600 effective words) took 172.7s, 1076614 effective words/s\n",
      "INFO:root:Loss after epoch 95:70712240.0\n",
      "INFO:gensim.models.word2vec:EPOCH 96 - PROGRESS: at 0.57% examples, 1052098 words/s, in_qsize 9, out_qsize 0\n",
      "INFO:gensim.models.word2vec:EPOCH 96: training on 191558143 raw words (185893765 effective words) took 174.0s, 1068073 effective words/s\n",
      "INFO:root:Loss after epoch 96:70715752.0\n",
      "INFO:gensim.models.word2vec:EPOCH 97 - PROGRESS: at 0.36% examples, 657520 words/s, in_qsize 10, out_qsize 0\n",
      "INFO:gensim.models.word2vec:EPOCH 97: training on 191558143 raw words (185896620 effective words) took 174.0s, 1068517 effective words/s\n",
      "INFO:root:Loss after epoch 97:70680200.0\n",
      "INFO:gensim.models.word2vec:EPOCH 98 - PROGRESS: at 0.54% examples, 985310 words/s, in_qsize 9, out_qsize 1\n",
      "INFO:gensim.models.word2vec:EPOCH 98: training on 191558143 raw words (185892393 effective words) took 172.4s, 1078039 effective words/s\n",
      "INFO:root:Loss after epoch 98:70716992.0\n",
      "INFO:gensim.models.word2vec:EPOCH 99 - PROGRESS: at 0.54% examples, 1004250 words/s, in_qsize 10, out_qsize 0\n",
      "INFO:gensim.models.word2vec:EPOCH 99: training on 191558143 raw words (185891941 effective words) took 171.3s, 1085214 effective words/s\n",
      "INFO:root:Loss after epoch 99:70682640.0\n",
      "INFO:gensim.utils:Word2Vec lifecycle event {'msg': 'training on 19155814300 raw words (18589350561 effective words) took 17702.7s, 1050089 effective words/s', 'datetime': '2023-05-19T21:45:51.177520', 'gensim': '4.3.1', 'python': '3.11.3 | packaged by conda-forge | (main, Apr  6 2023, 09:05:00) [Clang 14.0.6 ]', 'platform': 'macOS-12.6-x86_64-i386-64bit', 'event': 'train'}\n"
     ]
    },
    {
     "data": {
      "text/plain": [
       "(18589350561, 19155814300)"
      ]
     },
     "execution_count": 7,
     "metadata": {},
     "output_type": "execute_result"
    }
   ],
   "source": [
    "#we override alpha with small values, since default values result in poor train performance. See loss plot below\n",
    "model.train(sentences, epochs=100, start_alpha=0.0001, end_alpha=0.00001, total_examples=model.corpus_count, total_words=model.corpus_total_words, compute_loss=True, report_delay=300, callbacks=[Callback()])\n"
   ]
  },
  {
   "cell_type": "code",
   "execution_count": 8,
   "id": "d5e1b267",
   "metadata": {},
   "outputs": [
    {
     "data": {
      "text/plain": [
       "[<matplotlib.lines.Line2D at 0x177f1d090>]"
      ]
     },
     "execution_count": 8,
     "metadata": {},
     "output_type": "execute_result"
    },
    {
     "data": {
      "image/png": "[encoded data removed]",
      "text/plain": [
       "<Figure size 640x480 with 1 Axes>"
      ]
     },
     "metadata": {},
     "output_type": "display_data"
    }
   ],
   "source": [
    "plt.plot(loss_list)"
   ]
  },
  {
   "cell_type": "code",
   "execution_count": 10,
   "id": "47482d49",
   "metadata": {},
   "outputs": [
    {
     "data": {
      "text/plain": [
       "[('кошка', 0.8314971923828125),\n",
       " ('котка', 0.799300491809845),\n",
       " ('жывёліна', 0.7933835387229919),\n",
       " ('кот', 0.7918497323989868),\n",
       " ('сабачка', 0.7706744074821472),\n",
       " ('кацяня', 0.760342001914978),\n",
       " ('звер', 0.7451285719871521),\n",
       " ('дзік', 0.7436728477478027),\n",
       " ('мядзведзь', 0.7309896349906921),\n",
       " ('малпа', 0.7297574877738953),\n",
       " ('лісіца', 0.7211086750030518),\n",
       " ('конь', 0.7209383845329285),\n",
       " ('пацук', 0.7193618416786194),\n",
       " ('бык', 0.7151439189910889),\n",
       " ('муха', 0.7126638889312744),\n",
       " ('драпежнік', 0.7105709314346313),\n",
       " ('каза', 0.7051055431365967),\n",
       " ('асёл', 0.7039604783058167),\n",
       " ('пародзісты', 0.6996980905532837),\n",
       " ('бомж', 0.6990068554878235)]"
      ]
     },
     "execution_count": 10,
     "metadata": {},
     "output_type": "execute_result"
    }
   ],
   "source": [
    "model.wv.most_similar('сабака', topn=20)"
   ]
  },
  {
   "cell_type": "code",
   "execution_count": 11,
   "id": "0090e873",
   "metadata": {},
   "outputs": [
    {
     "data": {
      "text/plain": [
       "['быць',\n",
       " 'год',\n",
       " 'беларускі',\n",
       " 'беларусь',\n",
       " 'чалавек',\n",
       " 'магчы',\n",
       " 'час',\n",
       " 'усё',\n",
       " 'дзень',\n",
       " 'большыць']"
      ]
     },
     "execution_count": 11,
     "metadata": {},
     "output_type": "execute_result"
    }
   ],
   "source": [
    "model.wv.index_to_key[:10]"
   ]
  },
  {
   "cell_type": "code",
   "execution_count": 12,
   "id": "ec534c05",
   "metadata": {},
   "outputs": [
    {
     "name": "stderr",
     "output_type": "stream",
     "text": [
      "INFO:gensim.utils:Word2Vec lifecycle event {'fname_or_handle': 'word2vec-cc100-skipgram-d100-w3-min10.model', 'separately': 'None', 'sep_limit': 10485760, 'ignore': frozenset(), 'datetime': '2023-05-19T21:45:51.693746', 'gensim': '4.3.1', 'python': '3.11.3 | packaged by conda-forge | (main, Apr  6 2023, 09:05:00) [Clang 14.0.6 ]', 'platform': 'macOS-12.6-x86_64-i386-64bit', 'event': 'saving'}\n",
      "INFO:gensim.utils:not storing attribute cum_table\n",
      "INFO:gensim.utils:saved word2vec-cc100-skipgram-d100-w3-min10.model\n"
     ]
    }
   ],
   "source": [
    "model.save(\"word2vec-cc100-skipgram-d100-w3-min10.model\")"
   ]
  },
  {
   "cell_type": "code",
   "execution_count": 13,
   "id": "389e42e0",
   "metadata": {},
   "outputs": [
    {
     "name": "stderr",
     "output_type": "stream",
     "text": [
      "INFO:gensim.models.keyedvectors:storing 79373x100 projection weights into word2vec-cc100-skipgram-d100-w3-min10.vectors\n"
     ]
    }
   ],
   "source": [
    "model.wv.save_word2vec_format('word2vec-cc100-skipgram-d100-w3-min10.vectors')"
   ]
  }
 ],
 "metadata": {
  "kernelspec": {
   "display_name": "Python 3 (ipykernel)",
   "language": "python",
   "name": "python3"
  },
  "language_info": {
   "codemirror_mode": {
    "name": "ipython",
    "version": 3
   },
   "file_extension": ".py",
   "mimetype": "text/x-python",
   "name": "python",
   "nbconvert_exporter": "python",
   "pygments_lexer": "ipython3",
   "version": "3.11.3"
  }
 },
 "nbformat": 4,
 "nbformat_minor": 5
}
