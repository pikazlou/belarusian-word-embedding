{
 "cells": [
  {
   "cell_type": "code",
   "execution_count": 1,
   "id": "92d7d12d",
   "metadata": {},
   "outputs": [],
   "source": [
    "import urllib.request\n",
    "import zipfile\n",
    "import re\n",
    "import string\n",
    "import json\n",
    "import math\n",
    "from collections import defaultdict\n",
    "from gensim.models import KeyedVectors\n",
    "import numpy as np\n",
    "from compute_accuracy import compute_accuracy"
   ]
  },
  {
   "cell_type": "code",
   "execution_count": 2,
   "id": "408db070",
   "metadata": {},
   "outputs": [],
   "source": [
    "np.set_printoptions(suppress=True)"
   ]
  },
  {
   "cell_type": "code",
   "execution_count": 3,
   "id": "11207e37",
   "metadata": {},
   "outputs": [
    {
     "name": "stderr",
     "output_type": "stream",
     "text": [
      "INFO:root:Logging initialized\n"
     ]
    }
   ],
   "source": [
    "import logging\n",
    "logging.basicConfig(level=logging.INFO, force = True)\n",
    "logger = logging.getLogger()\n",
    "logger.info(\"Logging initialized\")"
   ]
  },
  {
   "cell_type": "code",
   "execution_count": 4,
   "id": "f8a21573",
   "metadata": {},
   "outputs": [
    {
     "data": {
      "text/plain": [
       "('tsbm.dsl.zip', <http.client.HTTPMessage at 0x136388a10>)"
      ]
     },
     "execution_count": 4,
     "metadata": {},
     "output_type": "execute_result"
    }
   ],
   "source": [
    "urllib.request.urlretrieve('https://belarus-embedding.s3.eu-central-1.amazonaws.com/tsbm.dsl.zip', 'tsbm.dsl.zip')"
   ]
  },
  {
   "cell_type": "code",
   "execution_count": 5,
   "id": "be6782cb",
   "metadata": {},
   "outputs": [],
   "source": [
    "with zipfile.ZipFile('tsbm.dsl.zip', 'r') as zip_ref:\n",
    "    zip_ref.extractall('.')"
   ]
  },
  {
   "cell_type": "code",
   "execution_count": 6,
   "id": "3168acbc",
   "metadata": {},
   "outputs": [],
   "source": [
    "# this function is based on gensim.parser.preprocessing.strip_punctuation\n",
    "# we replace gensim's version to correctly handle symbol ' in words, such as п'еса or кар'ера\n",
    "RE_PUNCTUATION = re.compile(r'([!\"#$%&()*+,-./:;<=>?@[\\]^_`{|}~«»\\\\])+', re.UNICODE)\n",
    "def strip_punctuation(s):\n",
    "    return RE_PUNCTUATION.sub(\" \", s)"
   ]
  },
  {
   "cell_type": "code",
   "execution_count": 7,
   "id": "19d39a4d",
   "metadata": {},
   "outputs": [],
   "source": [
    "with open('word_map.txt', 'r') as f:\n",
    "    word_map = json.load(f)"
   ]
  },
  {
   "cell_type": "code",
   "execution_count": 8,
   "id": "cb03da34",
   "metadata": {},
   "outputs": [],
   "source": [
    "processed_dict = {}\n",
    "with open('tsbm.dsl') as f:\n",
    "    current_word = None\n",
    "    explanation_words = []\n",
    "    for line in f:\n",
    "        line = line.rstrip()\n",
    "        if len(line) == 0:\n",
    "            if current_word in word_map and len(explanation_words) > 0:\n",
    "                processed_dict[current_word] = explanation_words\n",
    "            current_word = None\n",
    "            explanation_words = []\n",
    "        elif line[0] != ' ' and line[0] != '\\t':\n",
    "            current_word = line\n",
    "        else:\n",
    "            example_index = line.find(\"[ex]\")\n",
    "            if example_index > 0:\n",
    "                line = line[:example_index]\n",
    "            if line.find(\"[m1]\") > 0:\n",
    "                line = ''\n",
    "            line = line.lower()\n",
    "            line = line.replace(\"знач.\", \"\").replace(\"зал.\", \"\").replace(\"дзеянне\", \"\")\n",
    "            line = strip_punctuation(line)\n",
    "            \n",
    "            words = line.split()\n",
    "            for w in words:\n",
    "                if w in word_map and word_map[w] != current_word:\n",
    "                    explanation_words.append(word_map[w])"
   ]
  },
  {
   "cell_type": "code",
   "execution_count": 9,
   "id": "379d09a4",
   "metadata": {},
   "outputs": [
    {
     "data": {
      "text/plain": [
       "['вялікі', 'драпежны', 'неядавіты', 'змяя', 'вадзіцца', 'тропік']"
      ]
     },
     "execution_count": 9,
     "metadata": {},
     "output_type": "execute_result"
    }
   ],
   "source": [
    "processed_dict['удаў']"
   ]
  },
  {
   "cell_type": "code",
   "execution_count": 10,
   "id": "29222ce2",
   "metadata": {},
   "outputs": [
    {
     "name": "stdout",
     "output_type": "stream",
     "text": [
      "10.304286234236946\n",
      "4.0090202327973\n"
     ]
    }
   ],
   "source": [
    "words_frequency = defaultdict(int)\n",
    "for word, explanation in processed_dict.items():\n",
    "    unique_expl = set(explanation)\n",
    "    for word_expl in unique_expl:\n",
    "        words_frequency[word_expl] += 1\n",
    "idf = {}\n",
    "N = len(processed_dict)\n",
    "for word, frequency in words_frequency.items():\n",
    "    idf[word] = math.log(1.0 * N / frequency)\n",
    "print(idf['акула'])\n",
    "print(idf['чалавек'])"
   ]
  },
  {
   "cell_type": "code",
   "execution_count": 11,
   "id": "286b36ea",
   "metadata": {},
   "outputs": [
    {
     "name": "stderr",
     "output_type": "stream",
     "text": [
      "INFO:gensim.models.keyedvectors:loading projection weights from word2vec-cc100-cbow-d100-w3-min10.vectors\n",
      "INFO:gensim.utils:KeyedVectors lifecycle event {'msg': 'loaded (79373, 100) matrix of type float32 from word2vec-cc100-cbow-d100-w3-min10.vectors', 'binary': False, 'encoding': 'utf8', 'datetime': '2023-06-04T20:16:09.883258', 'gensim': '4.3.1', 'python': '3.11.3 | packaged by conda-forge | (main, Apr  6 2023, 08:58:31) [Clang 14.0.6 ]', 'platform': 'macOS-12.6-arm64-arm-64bit', 'event': 'load_word2vec_format'}\n"
     ]
    }
   ],
   "source": [
    "wv = KeyedVectors.load_word2vec_format('word2vec-cc100-cbow-d100-w3-min10.vectors', binary=False)"
   ]
  },
  {
   "cell_type": "code",
   "execution_count": 12,
   "id": "74350f5e",
   "metadata": {},
   "outputs": [
    {
     "data": {
      "text/plain": [
       "0.8333333333333334"
      ]
     },
     "execution_count": 12,
     "metadata": {},
     "output_type": "execute_result"
    }
   ],
   "source": [
    "compute_accuracy(lambda w1, w2: wv.similarity(w1, w2), log_failed_cases=False)"
   ]
  },
  {
   "cell_type": "code",
   "execution_count": 13,
   "id": "c5b6e8bb",
   "metadata": {},
   "outputs": [
    {
     "data": {
      "text/plain": [
       "array([-0.2922294 ,  0.40758115, -0.34638226, -0.36782512, -0.2914711 ,\n",
       "       -0.23186941, -0.08000712,  0.9142046 , -0.42972255,  0.05153808],\n",
       "      dtype=float32)"
      ]
     },
     "execution_count": 13,
     "metadata": {},
     "output_type": "execute_result"
    }
   ],
   "source": [
    "wv[\"акула\"][:10]"
   ]
  },
  {
   "cell_type": "code",
   "execution_count": 14,
   "id": "b752b5fe",
   "metadata": {},
   "outputs": [
    {
     "name": "stdout",
     "output_type": "stream",
     "text": [
      "0\n",
      "1\n",
      "2\n",
      "3\n",
      "4\n"
     ]
    }
   ],
   "source": [
    "FACTOR = 0.6\n",
    "ITERATIONS = 5\n",
    "ALPHA = FACTOR / ITERATIONS\n",
    "for i in range(0, ITERATIONS):\n",
    "    print(i)\n",
    "    for word, explanation in processed_dict.items():\n",
    "        if word in wv:\n",
    "            s = np.zeros_like(wv[word])\n",
    "            coef_sum = 0.0\n",
    "            for exp_word in explanation:\n",
    "                if exp_word in wv:\n",
    "                    s = s + idf[exp_word] * wv[exp_word]\n",
    "                    coef_sum += idf[exp_word]\n",
    "            if coef_sum > 0.0:\n",
    "                avg = s / coef_sum\n",
    "                wv[word] = (1 - ALPHA) * wv[word] + ALPHA * avg"
   ]
  },
  {
   "cell_type": "code",
   "execution_count": 15,
   "id": "819e7cca",
   "metadata": {},
   "outputs": [
    {
     "data": {
      "text/plain": [
       "0.8505747126436781"
      ]
     },
     "execution_count": 15,
     "metadata": {},
     "output_type": "execute_result"
    }
   ],
   "source": [
    "compute_accuracy(lambda w1, w2: wv.similarity(w1, w2), log_failed_cases=False)"
   ]
  },
  {
   "cell_type": "code",
   "execution_count": 16,
   "id": "c975c8be",
   "metadata": {},
   "outputs": [
    {
     "data": {
      "text/plain": [
       "array([-0.30332246,  0.595187  , -0.26627123, -0.00242245,  0.42038128,\n",
       "       -0.52545875, -0.36166292,  0.93984926, -0.03500113, -0.2031757 ],\n",
       "      dtype=float32)"
      ]
     },
     "execution_count": 16,
     "metadata": {},
     "output_type": "execute_result"
    }
   ],
   "source": [
    "wv[\"акула\"][:10]"
   ]
  },
  {
   "cell_type": "code",
   "execution_count": 17,
   "id": "23da0d96",
   "metadata": {},
   "outputs": [
    {
     "data": {
      "text/plain": [
       "[('удаў', 0.9108102917671204),\n",
       " ('ігуана', 0.9065163135528564),\n",
       " ('бурундук', 0.8689566254615784),\n",
       " ('раскашаваць', 0.8682907223701477),\n",
       " ('насарог', 0.8580600023269653),\n",
       " ('суслік', 0.8533772230148315),\n",
       " ('арангутан', 0.8494911789894104),\n",
       " ('шаблязубы', 0.8486717343330383),\n",
       " ('глушэц', 0.8426281213760376),\n",
       " ('акула', 0.8423356413841248),\n",
       " ('пелікан', 0.8389197587966919),\n",
       " ('няясыць', 0.8328167796134949),\n",
       " ('гаротнік', 0.8257499933242798),\n",
       " ('шымпанзэ', 0.8243662714958191),\n",
       " ('сурок', 0.8232481479644775),\n",
       " ('баклан', 0.8230767846107483),\n",
       " ('марал', 0.8194829225540161),\n",
       " ('сенбернар', 0.819077730178833),\n",
       " ('раскашоўвацца', 0.8165847063064575),\n",
       " ('балацянік', 0.8151198625564575)]"
      ]
     },
     "execution_count": 17,
     "metadata": {},
     "output_type": "execute_result"
    }
   ],
   "source": [
    "wv.most_similar('пітон', topn=20)"
   ]
  },
  {
   "cell_type": "code",
   "execution_count": null,
   "id": "16fd3582",
   "metadata": {},
   "outputs": [],
   "source": []
  }
 ],
 "metadata": {
  "kernelspec": {
   "display_name": "Python 3 (ipykernel)",
   "language": "python",
   "name": "python3"
  },
  "language_info": {
   "codemirror_mode": {
    "name": "ipython",
    "version": 3
   },
   "file_extension": ".py",
   "mimetype": "text/x-python",
   "name": "python",
   "nbconvert_exporter": "python",
   "pygments_lexer": "ipython3",
   "version": "3.11.3"
  }
 },
 "nbformat": 4,
 "nbformat_minor": 5
}
