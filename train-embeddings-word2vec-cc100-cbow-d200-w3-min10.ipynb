{
 "cells": [
  {
   "cell_type": "code",
   "execution_count": 1,
   "id": "de7b8b0c",
   "metadata": {},
   "outputs": [],
   "source": [
    "from gensim.models.word2vec import LineSentence\n",
    "from gensim.models import Word2Vec\n",
    "from gensim.models.callbacks import CallbackAny2Vec\n",
    "import matplotlib.pyplot as plt"
   ]
  },
  {
   "cell_type": "code",
   "execution_count": 2,
   "id": "7dc6904a",
   "metadata": {},
   "outputs": [
    {
     "name": "stderr",
     "output_type": "stream",
     "text": [
      "INFO:root:Logging initialized\n"
     ]
    }
   ],
   "source": [
    "import logging\n",
    "logging.basicConfig(level=logging.INFO, force = True)\n",
    "logger = logging.getLogger()\n",
    "logger.info(\"Logging initialized\")"
   ]
  },
  {
   "cell_type": "code",
   "execution_count": 3,
   "id": "ab9fc39e",
   "metadata": {},
   "outputs": [],
   "source": [
    "loss_list = []\n",
    "class Callback(CallbackAny2Vec):\n",
    "    def __init__(self):\n",
    "        self.epoch = 0\n",
    "\n",
    "    def on_epoch_end(self, model):\n",
    "        loss = model.get_latest_training_loss()\n",
    "        loss_list.append(loss)\n",
    "        logger.info('Loss after epoch {}:{}'.format(self.epoch, loss))\n",
    "        model.running_training_loss = 0.0\n",
    "        self.epoch = self.epoch + 1"
   ]
  },
  {
   "cell_type": "code",
   "execution_count": 4,
   "id": "61e8337d",
   "metadata": {},
   "outputs": [
    {
     "name": "stderr",
     "output_type": "stream",
     "text": [
      "INFO:gensim.utils:Word2Vec lifecycle event {'params': 'Word2Vec<vocab=0, vector_size=200, alpha=0.025>', 'datetime': '2023-05-21T08:53:24.121474', 'gensim': '4.3.1', 'python': '3.11.3 | packaged by conda-forge | (main, Apr  6 2023, 08:58:31) [Clang 14.0.6 ]', 'platform': 'macOS-12.6-arm64-arm-64bit', 'event': 'created'}\n"
     ]
    }
   ],
   "source": [
    "model = Word2Vec(vector_size=200, window=3, min_count=10, workers=5)"
   ]
  },
  {
   "cell_type": "code",
   "execution_count": 5,
   "id": "35054bd1",
   "metadata": {},
   "outputs": [],
   "source": [
    "sentences = LineSentence('processed-corpus.txt')"
   ]
  },
  {
   "cell_type": "code",
   "execution_count": 6,
   "id": "615cf92b",
   "metadata": {},
   "outputs": [
    {
     "name": "stderr",
     "output_type": "stream",
     "text": [
      "INFO:gensim.models.word2vec:collecting all words and their counts\n",
      "INFO:gensim.models.word2vec:PROGRESS: at sentence #0, processed 0 words, keeping 0 word types\n",
      "INFO:gensim.models.word2vec:PROGRESS: at sentence #5000000, processed 40831628 words, keeping 101552 word types\n",
      "INFO:gensim.models.word2vec:PROGRESS: at sentence #10000000, processed 81753225 words, keeping 114802 word types\n",
      "INFO:gensim.models.word2vec:PROGRESS: at sentence #15000000, processed 122575037 words, keeping 122333 word types\n",
      "INFO:gensim.models.word2vec:PROGRESS: at sentence #20000000, processed 163439274 words, keeping 127317 word types\n",
      "INFO:gensim.models.word2vec:collected 130029 word types from a corpus of 191558143 raw words and 23453583 sentences\n",
      "INFO:gensim.models.word2vec:Creating a fresh vocabulary\n",
      "INFO:gensim.utils:Word2Vec lifecycle event {'msg': 'effective_min_count=10 retains 79373 unique words (61.04% of original 130029, drops 50656)', 'datetime': '2023-05-21T08:54:10.497269', 'gensim': '4.3.1', 'python': '3.11.3 | packaged by conda-forge | (main, Apr  6 2023, 08:58:31) [Clang 14.0.6 ]', 'platform': 'macOS-12.6-arm64-arm-64bit', 'event': 'prepare_vocab'}\n",
      "INFO:gensim.utils:Word2Vec lifecycle event {'msg': 'effective_min_count=10 leaves 191387939 word corpus (99.91% of original 191558143, drops 170204)', 'datetime': '2023-05-21T08:54:10.497725', 'gensim': '4.3.1', 'python': '3.11.3 | packaged by conda-forge | (main, Apr  6 2023, 08:58:31) [Clang 14.0.6 ]', 'platform': 'macOS-12.6-arm64-arm-64bit', 'event': 'prepare_vocab'}\n",
      "INFO:gensim.models.word2vec:deleting the raw counts dictionary of 130029 items\n",
      "INFO:gensim.models.word2vec:sample=0.001 downsamples 16 most-common words\n",
      "INFO:gensim.utils:Word2Vec lifecycle event {'msg': 'downsampling leaves estimated 185893234.09818068 word corpus (97.1%% of prior 191387939)', 'datetime': '2023-05-21T08:54:10.644889', 'gensim': '4.3.1', 'python': '3.11.3 | packaged by conda-forge | (main, Apr  6 2023, 08:58:31) [Clang 14.0.6 ]', 'platform': 'macOS-12.6-arm64-arm-64bit', 'event': 'prepare_vocab'}\n",
      "INFO:gensim.models.word2vec:estimated required memory for 79373 words and 200 dimensions: 166683300 bytes\n",
      "INFO:gensim.models.word2vec:resetting layer weights\n",
      "INFO:gensim.utils:Word2Vec lifecycle event {'update': False, 'trim_rule': 'None', 'datetime': '2023-05-21T08:54:10.963365', 'gensim': '4.3.1', 'python': '3.11.3 | packaged by conda-forge | (main, Apr  6 2023, 08:58:31) [Clang 14.0.6 ]', 'platform': 'macOS-12.6-arm64-arm-64bit', 'event': 'build_vocab'}\n"
     ]
    }
   ],
   "source": [
    "model.build_vocab(sentences, progress_per=5000000)"
   ]
  },
  {
   "cell_type": "code",
   "execution_count": 7,
   "id": "867dc13c",
   "metadata": {},
   "outputs": [
    {
     "name": "stderr",
     "output_type": "stream",
     "text": [
      "INFO:gensim.utils:Word2Vec lifecycle event {'msg': 'training model with 5 workers on 79373 vocabulary and 200 features, using sg=0 hs=0 sample=0.001 negative=5 window=3 shrink_windows=True', 'datetime': '2023-05-21T08:54:10.968830', 'gensim': '4.3.1', 'python': '3.11.3 | packaged by conda-forge | (main, Apr  6 2023, 08:58:31) [Clang 14.0.6 ]', 'platform': 'macOS-12.6-arm64-arm-64bit', 'event': 'train'}\n",
      "INFO:gensim.models.word2vec:EPOCH 0 - PROGRESS: at 0.95% examples, 1704585 words/s, in_qsize 5, out_qsize 3\n",
      "INFO:gensim.models.word2vec:EPOCH 0: training on 191558143 raw words (185893187 effective words) took 101.2s, 1836535 effective words/s\n",
      "INFO:root:Loss after epoch 0:37360480.0\n",
      "INFO:gensim.models.word2vec:EPOCH 1 - PROGRESS: at 0.92% examples, 1701936 words/s, in_qsize 9, out_qsize 0\n",
      "INFO:gensim.models.word2vec:EPOCH 1: training on 191558143 raw words (185894087 effective words) took 101.5s, 1830626 effective words/s\n",
      "INFO:root:Loss after epoch 1:47930048.0\n",
      "INFO:gensim.models.word2vec:EPOCH 2 - PROGRESS: at 0.98% examples, 1796876 words/s, in_qsize 9, out_qsize 0\n",
      "INFO:gensim.models.word2vec:EPOCH 2: training on 191558143 raw words (185896199 effective words) took 101.0s, 1840433 effective words/s\n",
      "INFO:root:Loss after epoch 2:46654148.0\n",
      "INFO:gensim.models.word2vec:EPOCH 3 - PROGRESS: at 0.98% examples, 1798842 words/s, in_qsize 9, out_qsize 0\n",
      "INFO:gensim.models.word2vec:EPOCH 3: training on 191558143 raw words (185897283 effective words) took 101.6s, 1829690 effective words/s\n",
      "INFO:root:Loss after epoch 3:46018620.0\n",
      "INFO:gensim.models.word2vec:EPOCH 4 - PROGRESS: at 0.97% examples, 1790638 words/s, in_qsize 9, out_qsize 0\n",
      "INFO:gensim.models.word2vec:EPOCH 4: training on 191558143 raw words (185897103 effective words) took 101.2s, 1837050 effective words/s\n",
      "INFO:root:Loss after epoch 4:43032984.0\n",
      "INFO:gensim.models.word2vec:EPOCH 5 - PROGRESS: at 1.03% examples, 1893030 words/s, in_qsize 9, out_qsize 0\n",
      "INFO:gensim.models.word2vec:EPOCH 5: training on 191558143 raw words (185891623 effective words) took 100.0s, 1859671 effective words/s\n",
      "INFO:root:Loss after epoch 5:43409416.0\n",
      "INFO:gensim.models.word2vec:EPOCH 6 - PROGRESS: at 0.97% examples, 1799003 words/s, in_qsize 9, out_qsize 0\n",
      "INFO:gensim.models.word2vec:EPOCH 6: training on 191558143 raw words (185891357 effective words) took 100.8s, 1843975 effective words/s\n",
      "INFO:root:Loss after epoch 6:42375304.0\n",
      "INFO:gensim.models.word2vec:EPOCH 7 - PROGRESS: at 0.98% examples, 1817770 words/s, in_qsize 10, out_qsize 0\n",
      "INFO:gensim.models.word2vec:EPOCH 7: training on 191558143 raw words (185889936 effective words) took 102.4s, 1814776 effective words/s\n",
      "INFO:root:Loss after epoch 7:42622620.0\n",
      "INFO:gensim.models.word2vec:EPOCH 8 - PROGRESS: at 0.99% examples, 1836034 words/s, in_qsize 9, out_qsize 0\n",
      "INFO:gensim.models.word2vec:EPOCH 8: training on 191558143 raw words (185894320 effective words) took 101.1s, 1839384 effective words/s\n",
      "INFO:root:Loss after epoch 8:41972968.0\n",
      "INFO:gensim.models.word2vec:EPOCH 9 - PROGRESS: at 1.02% examples, 1882474 words/s, in_qsize 9, out_qsize 0\n",
      "INFO:gensim.models.word2vec:EPOCH 9: training on 191558143 raw words (185892794 effective words) took 102.2s, 1818679 effective words/s\n",
      "INFO:root:Loss after epoch 9:41613920.0\n",
      "INFO:gensim.models.word2vec:EPOCH 10 - PROGRESS: at 0.96% examples, 1764293 words/s, in_qsize 9, out_qsize 0\n",
      "INFO:gensim.models.word2vec:EPOCH 10: training on 191558143 raw words (185892114 effective words) took 100.6s, 1848106 effective words/s\n",
      "INFO:root:Loss after epoch 10:41654928.0\n",
      "INFO:gensim.models.word2vec:EPOCH 11 - PROGRESS: at 0.98% examples, 1808329 words/s, in_qsize 9, out_qsize 0\n",
      "INFO:gensim.models.word2vec:EPOCH 11: training on 191558143 raw words (185893174 effective words) took 100.8s, 1844797 effective words/s\n",
      "INFO:root:Loss after epoch 11:41023416.0\n",
      "INFO:gensim.models.word2vec:EPOCH 12 - PROGRESS: at 1.00% examples, 1850271 words/s, in_qsize 9, out_qsize 0\n",
      "INFO:gensim.models.word2vec:EPOCH 12: training on 191558143 raw words (185894144 effective words) took 100.1s, 1857769 effective words/s\n",
      "INFO:root:Loss after epoch 12:41192732.0\n",
      "INFO:gensim.models.word2vec:EPOCH 13 - PROGRESS: at 1.03% examples, 1894856 words/s, in_qsize 9, out_qsize 0\n",
      "INFO:gensim.models.word2vec:EPOCH 13: training on 191558143 raw words (185892760 effective words) took 102.8s, 1808690 effective words/s\n",
      "INFO:root:Loss after epoch 13:40675196.0\n",
      "INFO:gensim.models.word2vec:EPOCH 14 - PROGRESS: at 0.98% examples, 1818067 words/s, in_qsize 9, out_qsize 0\n",
      "INFO:gensim.models.word2vec:EPOCH 14: training on 191558143 raw words (185892576 effective words) took 100.9s, 1841810 effective words/s\n",
      "INFO:root:Loss after epoch 14:40652712.0\n",
      "INFO:gensim.models.word2vec:EPOCH 15 - PROGRESS: at 1.02% examples, 1884590 words/s, in_qsize 9, out_qsize 0\n",
      "INFO:gensim.models.word2vec:EPOCH 15: training on 191558143 raw words (185893331 effective words) took 100.1s, 1856154 effective words/s\n",
      "INFO:root:Loss after epoch 15:40459536.0\n",
      "INFO:gensim.models.word2vec:EPOCH 16 - PROGRESS: at 0.97% examples, 1802335 words/s, in_qsize 9, out_qsize 0\n",
      "INFO:gensim.models.word2vec:EPOCH 16: training on 191558143 raw words (185893358 effective words) took 100.5s, 1849212 effective words/s\n",
      "INFO:root:Loss after epoch 16:39912208.0\n",
      "INFO:gensim.models.word2vec:EPOCH 17 - PROGRESS: at 0.96% examples, 1782212 words/s, in_qsize 10, out_qsize 0\n",
      "INFO:gensim.models.word2vec:EPOCH 17: training on 191558143 raw words (185897019 effective words) took 100.2s, 1854814 effective words/s\n",
      "INFO:root:Loss after epoch 17:39856736.0\n",
      "INFO:gensim.models.word2vec:EPOCH 18 - PROGRESS: at 0.96% examples, 1772708 words/s, in_qsize 9, out_qsize 0\n",
      "INFO:gensim.models.word2vec:EPOCH 18: training on 191558143 raw words (185894179 effective words) took 101.4s, 1833714 effective words/s\n",
      "INFO:root:Loss after epoch 18:39013380.0\n",
      "INFO:gensim.models.word2vec:EPOCH 19 - PROGRESS: at 0.93% examples, 1712718 words/s, in_qsize 9, out_qsize 0\n",
      "INFO:gensim.models.word2vec:EPOCH 19: training on 191558143 raw words (185891952 effective words) took 101.7s, 1827276 effective words/s\n",
      "INFO:root:Loss after epoch 19:39663544.0\n",
      "INFO:gensim.models.word2vec:EPOCH 20 - PROGRESS: at 0.98% examples, 1803116 words/s, in_qsize 9, out_qsize 0\n",
      "INFO:gensim.models.word2vec:EPOCH 20: training on 191558143 raw words (185893943 effective words) took 101.2s, 1837677 effective words/s\n",
      "INFO:root:Loss after epoch 20:39494852.0\n",
      "INFO:gensim.models.word2vec:EPOCH 21 - PROGRESS: at 0.97% examples, 1780453 words/s, in_qsize 9, out_qsize 1\n",
      "INFO:gensim.models.word2vec:EPOCH 21: training on 191558143 raw words (185894077 effective words) took 102.0s, 1822114 effective words/s\n",
      "INFO:root:Loss after epoch 21:39489300.0\n",
      "INFO:gensim.models.word2vec:EPOCH 22 - PROGRESS: at 0.97% examples, 1787570 words/s, in_qsize 8, out_qsize 1\n",
      "INFO:gensim.models.word2vec:EPOCH 22: training on 191558143 raw words (185892981 effective words) took 102.7s, 1809507 effective words/s\n",
      "INFO:root:Loss after epoch 22:39802912.0\n",
      "INFO:gensim.models.word2vec:EPOCH 23 - PROGRESS: at 0.97% examples, 1795819 words/s, in_qsize 9, out_qsize 0\n",
      "INFO:gensim.models.word2vec:EPOCH 23: training on 191558143 raw words (185892500 effective words) took 101.0s, 1840420 effective words/s\n",
      "INFO:root:Loss after epoch 23:38810864.0\n",
      "INFO:gensim.models.word2vec:EPOCH 24 - PROGRESS: at 0.96% examples, 1768286 words/s, in_qsize 9, out_qsize 0\n",
      "INFO:gensim.models.word2vec:EPOCH 24: training on 191558143 raw words (185892244 effective words) took 101.8s, 1825571 effective words/s\n",
      "INFO:root:Loss after epoch 24:39383328.0\n",
      "INFO:gensim.models.word2vec:EPOCH 25 - PROGRESS: at 0.99% examples, 1787845 words/s, in_qsize 9, out_qsize 1\n",
      "INFO:gensim.models.word2vec:EPOCH 25: training on 191558143 raw words (185893340 effective words) took 101.0s, 1840656 effective words/s\n",
      "INFO:root:Loss after epoch 25:39330112.0\n",
      "INFO:gensim.models.word2vec:EPOCH 26 - PROGRESS: at 0.98% examples, 1805997 words/s, in_qsize 8, out_qsize 1\n",
      "INFO:gensim.models.word2vec:EPOCH 26: training on 191558143 raw words (185892851 effective words) took 100.9s, 1842890 effective words/s\n",
      "INFO:root:Loss after epoch 26:38850608.0\n",
      "INFO:gensim.models.word2vec:EPOCH 27 - PROGRESS: at 0.97% examples, 1798961 words/s, in_qsize 9, out_qsize 0\n"
     ]
    },
    {
     "name": "stderr",
     "output_type": "stream",
     "text": [
      "INFO:gensim.models.word2vec:EPOCH 27: training on 191558143 raw words (185893476 effective words) took 101.1s, 1838213 effective words/s\n",
      "INFO:root:Loss after epoch 27:39205360.0\n",
      "INFO:gensim.models.word2vec:EPOCH 28 - PROGRESS: at 0.99% examples, 1838713 words/s, in_qsize 7, out_qsize 2\n",
      "INFO:gensim.models.word2vec:EPOCH 28: training on 191558143 raw words (185894491 effective words) took 100.6s, 1848046 effective words/s\n",
      "INFO:root:Loss after epoch 28:38808624.0\n",
      "INFO:gensim.models.word2vec:EPOCH 29 - PROGRESS: at 0.99% examples, 1826337 words/s, in_qsize 9, out_qsize 0\n",
      "INFO:gensim.models.word2vec:EPOCH 29: training on 191558143 raw words (185892412 effective words) took 99.6s, 1867170 effective words/s\n",
      "INFO:root:Loss after epoch 29:38825524.0\n",
      "INFO:gensim.models.word2vec:EPOCH 30 - PROGRESS: at 1.00% examples, 1800278 words/s, in_qsize 8, out_qsize 3\n",
      "INFO:gensim.models.word2vec:EPOCH 30: training on 191558143 raw words (185892987 effective words) took 99.5s, 1868400 effective words/s\n",
      "INFO:root:Loss after epoch 30:38951472.0\n",
      "INFO:gensim.models.word2vec:EPOCH 31 - PROGRESS: at 0.97% examples, 1798999 words/s, in_qsize 8, out_qsize 1\n",
      "INFO:gensim.models.word2vec:EPOCH 31: training on 191558143 raw words (185893100 effective words) took 99.1s, 1875902 effective words/s\n",
      "INFO:root:Loss after epoch 31:38877860.0\n",
      "INFO:gensim.models.word2vec:EPOCH 32 - PROGRESS: at 1.01% examples, 1879700 words/s, in_qsize 9, out_qsize 0\n",
      "INFO:gensim.models.word2vec:EPOCH 32: training on 191558143 raw words (185894600 effective words) took 99.4s, 1870570 effective words/s\n",
      "INFO:root:Loss after epoch 32:38718708.0\n",
      "INFO:gensim.models.word2vec:EPOCH 33 - PROGRESS: at 0.94% examples, 1738666 words/s, in_qsize 9, out_qsize 0\n",
      "INFO:gensim.models.word2vec:EPOCH 33: training on 191558143 raw words (185897347 effective words) took 101.6s, 1829848 effective words/s\n",
      "INFO:root:Loss after epoch 33:39257340.0\n",
      "INFO:gensim.models.word2vec:EPOCH 34 - PROGRESS: at 0.98% examples, 1808125 words/s, in_qsize 9, out_qsize 0\n",
      "INFO:gensim.models.word2vec:EPOCH 34: training on 191558143 raw words (185895294 effective words) took 99.6s, 1866015 effective words/s\n",
      "INFO:root:Loss after epoch 34:38621340.0\n",
      "INFO:gensim.models.word2vec:EPOCH 35 - PROGRESS: at 0.95% examples, 1752047 words/s, in_qsize 9, out_qsize 0\n",
      "INFO:gensim.models.word2vec:EPOCH 35: training on 191558143 raw words (185894898 effective words) took 100.6s, 1847342 effective words/s\n",
      "INFO:root:Loss after epoch 35:38369016.0\n",
      "INFO:gensim.models.word2vec:EPOCH 36 - PROGRESS: at 1.01% examples, 1867059 words/s, in_qsize 9, out_qsize 0\n",
      "INFO:gensim.models.word2vec:EPOCH 36: training on 191558143 raw words (185891871 effective words) took 101.0s, 1839651 effective words/s\n",
      "INFO:root:Loss after epoch 36:38014764.0\n",
      "INFO:gensim.models.word2vec:EPOCH 37 - PROGRESS: at 0.97% examples, 1797191 words/s, in_qsize 9, out_qsize 0\n",
      "INFO:gensim.models.word2vec:EPOCH 37: training on 191558143 raw words (185890279 effective words) took 103.2s, 1800429 effective words/s\n",
      "INFO:root:Loss after epoch 37:38994952.0\n",
      "INFO:gensim.models.word2vec:EPOCH 38 - PROGRESS: at 0.94% examples, 1731018 words/s, in_qsize 10, out_qsize 1\n",
      "INFO:gensim.models.word2vec:EPOCH 38: training on 191558143 raw words (185894401 effective words) took 100.6s, 1846943 effective words/s\n",
      "INFO:root:Loss after epoch 38:38511004.0\n",
      "INFO:gensim.models.word2vec:EPOCH 39 - PROGRESS: at 0.99% examples, 1837901 words/s, in_qsize 9, out_qsize 0\n",
      "INFO:gensim.models.word2vec:EPOCH 39: training on 191558143 raw words (185894250 effective words) took 100.4s, 1850930 effective words/s\n",
      "INFO:root:Loss after epoch 39:38563920.0\n",
      "INFO:gensim.models.word2vec:EPOCH 40 - PROGRESS: at 0.99% examples, 1809717 words/s, in_qsize 9, out_qsize 0\n",
      "INFO:gensim.models.word2vec:EPOCH 40: training on 191558143 raw words (185893172 effective words) took 99.8s, 1863301 effective words/s\n",
      "INFO:root:Loss after epoch 40:38349208.0\n",
      "INFO:gensim.models.word2vec:EPOCH 41 - PROGRESS: at 0.96% examples, 1778342 words/s, in_qsize 8, out_qsize 1\n",
      "INFO:gensim.models.word2vec:EPOCH 41: training on 191558143 raw words (185894221 effective words) took 100.3s, 1853731 effective words/s\n",
      "INFO:root:Loss after epoch 41:38336356.0\n",
      "INFO:gensim.models.word2vec:EPOCH 42 - PROGRESS: at 1.01% examples, 1855730 words/s, in_qsize 9, out_qsize 0\n",
      "INFO:gensim.models.word2vec:EPOCH 42: training on 191558143 raw words (185891321 effective words) took 99.7s, 1863956 effective words/s\n",
      "INFO:root:Loss after epoch 42:37924868.0\n",
      "INFO:gensim.models.word2vec:EPOCH 43 - PROGRESS: at 0.98% examples, 1816151 words/s, in_qsize 9, out_qsize 0\n",
      "INFO:gensim.models.word2vec:EPOCH 43: training on 191558143 raw words (185893673 effective words) took 100.2s, 1855745 effective words/s\n",
      "INFO:root:Loss after epoch 43:38395212.0\n",
      "INFO:gensim.models.word2vec:EPOCH 44 - PROGRESS: at 0.98% examples, 1807499 words/s, in_qsize 9, out_qsize 0\n",
      "INFO:gensim.models.word2vec:EPOCH 44: training on 191558143 raw words (185893154 effective words) took 100.5s, 1850296 effective words/s\n",
      "INFO:root:Loss after epoch 44:38460136.0\n",
      "INFO:gensim.models.word2vec:EPOCH 45 - PROGRESS: at 0.98% examples, 1809567 words/s, in_qsize 9, out_qsize 3\n",
      "INFO:gensim.models.word2vec:EPOCH 45: training on 191558143 raw words (185891786 effective words) took 100.9s, 1841729 effective words/s\n",
      "INFO:root:Loss after epoch 45:38335932.0\n",
      "INFO:gensim.models.word2vec:EPOCH 46 - PROGRESS: at 0.95% examples, 1753749 words/s, in_qsize 10, out_qsize 0\n",
      "INFO:gensim.models.word2vec:EPOCH 46: training on 191558143 raw words (185893876 effective words) took 100.5s, 1849849 effective words/s\n",
      "INFO:root:Loss after epoch 46:38061268.0\n",
      "INFO:gensim.models.word2vec:EPOCH 47 - PROGRESS: at 0.95% examples, 1748643 words/s, in_qsize 9, out_qsize 0\n",
      "INFO:gensim.models.word2vec:EPOCH 47: training on 191558143 raw words (185890239 effective words) took 100.8s, 1843780 effective words/s\n",
      "INFO:root:Loss after epoch 47:38299856.0\n",
      "INFO:gensim.models.word2vec:EPOCH 48 - PROGRESS: at 0.99% examples, 1832108 words/s, in_qsize 9, out_qsize 0\n",
      "INFO:gensim.models.word2vec:EPOCH 48: training on 191558143 raw words (185890212 effective words) took 101.1s, 1839496 effective words/s\n",
      "INFO:root:Loss after epoch 48:37926024.0\n",
      "INFO:gensim.models.word2vec:EPOCH 49 - PROGRESS: at 0.97% examples, 1798679 words/s, in_qsize 9, out_qsize 0\n",
      "INFO:gensim.models.word2vec:EPOCH 49: training on 191558143 raw words (185894521 effective words) took 101.2s, 1837467 effective words/s\n",
      "INFO:root:Loss after epoch 49:38313580.0\n",
      "INFO:gensim.models.word2vec:EPOCH 50 - PROGRESS: at 0.95% examples, 1745596 words/s, in_qsize 9, out_qsize 1\n",
      "INFO:gensim.models.word2vec:EPOCH 50: training on 191558143 raw words (185894210 effective words) took 102.6s, 1811716 effective words/s\n",
      "INFO:root:Loss after epoch 50:39010956.0\n",
      "INFO:gensim.models.word2vec:EPOCH 51 - PROGRESS: at 0.99% examples, 1827766 words/s, in_qsize 9, out_qsize 0\n",
      "INFO:gensim.models.word2vec:EPOCH 51: training on 191558143 raw words (185894836 effective words) took 101.1s, 1838690 effective words/s\n",
      "INFO:root:Loss after epoch 51:37931604.0\n",
      "INFO:gensim.models.word2vec:EPOCH 52 - PROGRESS: at 0.99% examples, 1834831 words/s, in_qsize 9, out_qsize 0\n",
      "INFO:gensim.models.word2vec:EPOCH 52: training on 191558143 raw words (185889015 effective words) took 101.2s, 1837382 effective words/s\n",
      "INFO:root:Loss after epoch 52:38641288.0\n",
      "INFO:gensim.models.word2vec:EPOCH 53 - PROGRESS: at 1.02% examples, 1875461 words/s, in_qsize 10, out_qsize 0\n",
      "INFO:gensim.models.word2vec:EPOCH 53: training on 191558143 raw words (185891052 effective words) took 101.5s, 1831151 effective words/s\n",
      "INFO:root:Loss after epoch 53:38047488.0\n",
      "INFO:gensim.models.word2vec:EPOCH 54 - PROGRESS: at 0.98% examples, 1811477 words/s, in_qsize 9, out_qsize 0\n",
      "INFO:gensim.models.word2vec:EPOCH 54: training on 191558143 raw words (185892697 effective words) took 99.5s, 1867744 effective words/s\n",
      "INFO:root:Loss after epoch 54:38229988.0\n",
      "INFO:gensim.models.word2vec:EPOCH 55 - PROGRESS: at 0.99% examples, 1824939 words/s, in_qsize 9, out_qsize 0\n",
      "INFO:gensim.models.word2vec:EPOCH 55: training on 191558143 raw words (185896081 effective words) took 102.5s, 1812931 effective words/s\n",
      "INFO:root:Loss after epoch 55:37854252.0\n"
     ]
    },
    {
     "name": "stderr",
     "output_type": "stream",
     "text": [
      "INFO:gensim.models.word2vec:EPOCH 56 - PROGRESS: at 0.96% examples, 1763493 words/s, in_qsize 9, out_qsize 0\n",
      "INFO:gensim.models.word2vec:EPOCH 56: training on 191558143 raw words (185893334 effective words) took 100.5s, 1848844 effective words/s\n",
      "INFO:root:Loss after epoch 56:37820088.0\n",
      "INFO:gensim.models.word2vec:EPOCH 57 - PROGRESS: at 1.02% examples, 1887040 words/s, in_qsize 9, out_qsize 0\n",
      "INFO:gensim.models.word2vec:EPOCH 57: training on 191558143 raw words (185893104 effective words) took 101.6s, 1829106 effective words/s\n",
      "INFO:root:Loss after epoch 57:37525160.0\n",
      "INFO:gensim.models.word2vec:EPOCH 58 - PROGRESS: at 1.01% examples, 1868637 words/s, in_qsize 9, out_qsize 0\n",
      "INFO:gensim.models.word2vec:EPOCH 58: training on 191558143 raw words (185892774 effective words) took 101.7s, 1828401 effective words/s\n",
      "INFO:root:Loss after epoch 58:38224424.0\n",
      "INFO:gensim.models.word2vec:EPOCH 59 - PROGRESS: at 0.99% examples, 1827935 words/s, in_qsize 10, out_qsize 0\n",
      "INFO:gensim.models.word2vec:EPOCH 59: training on 191558143 raw words (185894203 effective words) took 102.5s, 1813530 effective words/s\n",
      "INFO:root:Loss after epoch 59:38858724.0\n",
      "INFO:gensim.models.word2vec:EPOCH 60 - PROGRESS: at 0.98% examples, 1804638 words/s, in_qsize 9, out_qsize 0\n",
      "INFO:gensim.models.word2vec:EPOCH 60: training on 191558143 raw words (185894810 effective words) took 102.1s, 1820114 effective words/s\n",
      "INFO:root:Loss after epoch 60:38739956.0\n",
      "INFO:gensim.models.word2vec:EPOCH 61 - PROGRESS: at 0.95% examples, 1753906 words/s, in_qsize 9, out_qsize 0\n",
      "INFO:gensim.models.word2vec:EPOCH 61: training on 191558143 raw words (185893756 effective words) took 103.8s, 1790739 effective words/s\n",
      "INFO:root:Loss after epoch 61:37806888.0\n",
      "INFO:gensim.models.word2vec:EPOCH 62 - PROGRESS: at 0.98% examples, 1820347 words/s, in_qsize 8, out_qsize 1\n",
      "INFO:gensim.models.word2vec:EPOCH 62: training on 191558143 raw words (185892780 effective words) took 108.3s, 1716778 effective words/s\n",
      "INFO:root:Loss after epoch 62:37110220.0\n",
      "INFO:gensim.models.word2vec:EPOCH 63 - PROGRESS: at 0.87% examples, 1602254 words/s, in_qsize 8, out_qsize 1\n",
      "INFO:gensim.models.word2vec:EPOCH 63: training on 191558143 raw words (185894405 effective words) took 109.5s, 1697703 effective words/s\n",
      "INFO:root:Loss after epoch 63:38510308.0\n",
      "INFO:gensim.models.word2vec:EPOCH 64 - PROGRESS: at 0.92% examples, 1684672 words/s, in_qsize 9, out_qsize 0\n",
      "INFO:gensim.models.word2vec:EPOCH 64: training on 191558143 raw words (185892827 effective words) took 108.9s, 1706664 effective words/s\n",
      "INFO:root:Loss after epoch 64:38561184.0\n",
      "INFO:gensim.models.word2vec:EPOCH 65 - PROGRESS: at 0.93% examples, 1715535 words/s, in_qsize 9, out_qsize 0\n",
      "INFO:gensim.models.word2vec:EPOCH 65: training on 191558143 raw words (185895216 effective words) took 108.9s, 1707635 effective words/s\n",
      "INFO:root:Loss after epoch 65:37060388.0\n",
      "INFO:gensim.models.word2vec:EPOCH 66 - PROGRESS: at 0.85% examples, 1563392 words/s, in_qsize 8, out_qsize 1\n",
      "INFO:gensim.models.word2vec:EPOCH 66: training on 191558143 raw words (185895666 effective words) took 110.2s, 1686925 effective words/s\n",
      "INFO:root:Loss after epoch 66:37765660.0\n",
      "INFO:gensim.models.word2vec:EPOCH 67 - PROGRESS: at 0.94% examples, 1743625 words/s, in_qsize 9, out_qsize 0\n",
      "INFO:gensim.models.word2vec:EPOCH 67: training on 191558143 raw words (185893698 effective words) took 102.8s, 1809138 effective words/s\n",
      "INFO:root:Loss after epoch 67:37665824.0\n",
      "INFO:gensim.models.word2vec:EPOCH 68 - PROGRESS: at 0.99% examples, 1822900 words/s, in_qsize 9, out_qsize 0\n",
      "INFO:gensim.models.word2vec:EPOCH 68: training on 191558143 raw words (185892229 effective words) took 100.9s, 1842838 effective words/s\n",
      "INFO:root:Loss after epoch 68:38138944.0\n",
      "INFO:gensim.models.word2vec:EPOCH 69 - PROGRESS: at 0.98% examples, 1819835 words/s, in_qsize 9, out_qsize 0\n",
      "INFO:gensim.models.word2vec:EPOCH 69: training on 191558143 raw words (185891659 effective words) took 100.8s, 1844606 effective words/s\n",
      "INFO:root:Loss after epoch 69:37904004.0\n",
      "INFO:gensim.models.word2vec:EPOCH 70 - PROGRESS: at 0.98% examples, 1796621 words/s, in_qsize 9, out_qsize 0\n",
      "INFO:gensim.models.word2vec:EPOCH 70: training on 191558143 raw words (185893453 effective words) took 101.5s, 1830804 effective words/s\n",
      "INFO:root:Loss after epoch 70:38236256.0\n",
      "INFO:gensim.models.word2vec:EPOCH 71 - PROGRESS: at 0.97% examples, 1796218 words/s, in_qsize 9, out_qsize 0\n",
      "INFO:gensim.models.word2vec:EPOCH 71: training on 191558143 raw words (185892437 effective words) took 101.0s, 1839672 effective words/s\n",
      "INFO:root:Loss after epoch 71:37961500.0\n",
      "INFO:gensim.models.word2vec:EPOCH 72 - PROGRESS: at 0.97% examples, 1782659 words/s, in_qsize 9, out_qsize 0\n",
      "INFO:gensim.models.word2vec:EPOCH 72: training on 191558143 raw words (185893149 effective words) took 102.5s, 1813595 effective words/s\n",
      "INFO:root:Loss after epoch 72:38067840.0\n",
      "INFO:gensim.models.word2vec:EPOCH 73 - PROGRESS: at 0.96% examples, 1774497 words/s, in_qsize 9, out_qsize 0\n",
      "INFO:gensim.models.word2vec:EPOCH 73: training on 191558143 raw words (185895172 effective words) took 107.4s, 1730930 effective words/s\n",
      "INFO:root:Loss after epoch 73:35125812.0\n",
      "INFO:gensim.models.word2vec:EPOCH 74 - PROGRESS: at 0.90% examples, 1648328 words/s, in_qsize 7, out_qsize 0\n",
      "INFO:gensim.models.word2vec:EPOCH 74: training on 191558143 raw words (185893779 effective words) took 104.6s, 1777733 effective words/s\n",
      "INFO:root:Loss after epoch 74:37262204.0\n",
      "INFO:gensim.models.word2vec:EPOCH 75 - PROGRESS: at 0.91% examples, 1684407 words/s, in_qsize 9, out_qsize 0\n",
      "INFO:gensim.models.word2vec:EPOCH 75: training on 191558143 raw words (185893902 effective words) took 107.0s, 1736621 effective words/s\n",
      "INFO:root:Loss after epoch 75:37068520.0\n",
      "INFO:gensim.models.word2vec:EPOCH 76 - PROGRESS: at 0.98% examples, 1821096 words/s, in_qsize 9, out_qsize 0\n",
      "INFO:gensim.models.word2vec:EPOCH 76: training on 191558143 raw words (185892170 effective words) took 105.3s, 1764843 effective words/s\n",
      "INFO:root:Loss after epoch 76:38598428.0\n",
      "INFO:gensim.models.word2vec:EPOCH 77 - PROGRESS: at 0.91% examples, 1673298 words/s, in_qsize 9, out_qsize 0\n",
      "INFO:gensim.models.word2vec:EPOCH 77: training on 191558143 raw words (185894980 effective words) took 104.8s, 1773281 effective words/s\n",
      "INFO:root:Loss after epoch 77:38351720.0\n",
      "INFO:gensim.models.word2vec:EPOCH 78 - PROGRESS: at 0.96% examples, 1766765 words/s, in_qsize 8, out_qsize 1\n",
      "INFO:gensim.models.word2vec:EPOCH 78: training on 191558143 raw words (185895589 effective words) took 104.7s, 1775100 effective words/s\n",
      "INFO:root:Loss after epoch 78:37256944.0\n",
      "INFO:gensim.models.word2vec:EPOCH 79 - PROGRESS: at 0.97% examples, 1788999 words/s, in_qsize 9, out_qsize 0\n",
      "INFO:gensim.models.word2vec:EPOCH 79: training on 191558143 raw words (185892189 effective words) took 104.2s, 1784607 effective words/s\n",
      "INFO:root:Loss after epoch 79:36953708.0\n",
      "INFO:gensim.models.word2vec:EPOCH 80 - PROGRESS: at 0.96% examples, 1781153 words/s, in_qsize 9, out_qsize 0\n",
      "INFO:gensim.models.word2vec:EPOCH 80: training on 191558143 raw words (185890832 effective words) took 105.2s, 1767571 effective words/s\n",
      "INFO:root:Loss after epoch 80:36797476.0\n",
      "INFO:gensim.models.word2vec:EPOCH 81 - PROGRESS: at 0.93% examples, 1705600 words/s, in_qsize 9, out_qsize 0\n",
      "INFO:gensim.models.word2vec:EPOCH 81: training on 191558143 raw words (185892989 effective words) took 103.7s, 1792720 effective words/s\n",
      "INFO:root:Loss after epoch 81:38241640.0\n",
      "INFO:gensim.models.word2vec:EPOCH 82 - PROGRESS: at 0.98% examples, 1809623 words/s, in_qsize 9, out_qsize 0\n",
      "INFO:gensim.models.word2vec:EPOCH 82: training on 191558143 raw words (185892114 effective words) took 105.1s, 1768694 effective words/s\n",
      "INFO:root:Loss after epoch 82:36785500.0\n",
      "INFO:gensim.models.word2vec:EPOCH 83 - PROGRESS: at 0.95% examples, 1761408 words/s, in_qsize 9, out_qsize 2\n",
      "INFO:gensim.models.word2vec:EPOCH 83: training on 191558143 raw words (185893265 effective words) took 103.9s, 1789616 effective words/s\n",
      "INFO:root:Loss after epoch 83:36654660.0\n",
      "INFO:gensim.models.word2vec:EPOCH 84 - PROGRESS: at 0.93% examples, 1719755 words/s, in_qsize 9, out_qsize 0\n",
      "INFO:gensim.models.word2vec:EPOCH 84: training on 191558143 raw words (185891980 effective words) took 105.5s, 1761825 effective words/s\n"
     ]
    },
    {
     "name": "stderr",
     "output_type": "stream",
     "text": [
      "INFO:root:Loss after epoch 84:39360312.0\n",
      "INFO:gensim.models.word2vec:EPOCH 85 - PROGRESS: at 0.97% examples, 1790079 words/s, in_qsize 9, out_qsize 0\n",
      "INFO:gensim.models.word2vec:EPOCH 85: training on 191558143 raw words (185891302 effective words) took 102.1s, 1820386 effective words/s\n",
      "INFO:root:Loss after epoch 85:38118572.0\n",
      "INFO:gensim.models.word2vec:EPOCH 86 - PROGRESS: at 0.97% examples, 1786912 words/s, in_qsize 10, out_qsize 0\n",
      "INFO:gensim.models.word2vec:EPOCH 86: training on 191558143 raw words (185890633 effective words) took 102.3s, 1816639 effective words/s\n",
      "INFO:root:Loss after epoch 86:36954804.0\n",
      "INFO:gensim.models.word2vec:EPOCH 87 - PROGRESS: at 0.98% examples, 1819574 words/s, in_qsize 9, out_qsize 0\n",
      "INFO:gensim.models.word2vec:EPOCH 87: training on 191558143 raw words (185895499 effective words) took 102.9s, 1805847 effective words/s\n",
      "INFO:root:Loss after epoch 87:37332404.0\n",
      "INFO:gensim.models.word2vec:EPOCH 88 - PROGRESS: at 0.97% examples, 1787766 words/s, in_qsize 9, out_qsize 0\n",
      "INFO:gensim.models.word2vec:EPOCH 88: training on 191558143 raw words (185893376 effective words) took 103.8s, 1790924 effective words/s\n",
      "INFO:root:Loss after epoch 88:36682428.0\n",
      "INFO:gensim.models.word2vec:EPOCH 89 - PROGRESS: at 0.94% examples, 1743399 words/s, in_qsize 9, out_qsize 0\n",
      "INFO:gensim.models.word2vec:EPOCH 89: training on 191558143 raw words (185893343 effective words) took 104.4s, 1780413 effective words/s\n",
      "INFO:root:Loss after epoch 89:37066156.0\n",
      "INFO:gensim.models.word2vec:EPOCH 90 - PROGRESS: at 0.95% examples, 1744969 words/s, in_qsize 9, out_qsize 0\n",
      "INFO:gensim.models.word2vec:EPOCH 90: training on 191558143 raw words (185890220 effective words) took 107.0s, 1736922 effective words/s\n",
      "INFO:root:Loss after epoch 90:37397444.0\n",
      "INFO:gensim.models.word2vec:EPOCH 91 - PROGRESS: at 0.93% examples, 1714373 words/s, in_qsize 9, out_qsize 0\n",
      "INFO:gensim.models.word2vec:EPOCH 91: training on 191558143 raw words (185895264 effective words) took 104.7s, 1775525 effective words/s\n",
      "INFO:root:Loss after epoch 91:38353388.0\n",
      "INFO:gensim.models.word2vec:EPOCH 92 - PROGRESS: at 0.91% examples, 1662746 words/s, in_qsize 9, out_qsize 0\n",
      "INFO:gensim.models.word2vec:EPOCH 92: training on 191558143 raw words (185891926 effective words) took 104.8s, 1773343 effective words/s\n",
      "INFO:root:Loss after epoch 92:38114152.0\n",
      "INFO:gensim.models.word2vec:EPOCH 93 - PROGRESS: at 0.90% examples, 1649825 words/s, in_qsize 9, out_qsize 2\n",
      "INFO:gensim.models.word2vec:EPOCH 93: training on 191558143 raw words (185893994 effective words) took 106.4s, 1747123 effective words/s\n",
      "INFO:root:Loss after epoch 93:37067796.0\n",
      "INFO:gensim.models.word2vec:EPOCH 94 - PROGRESS: at 0.96% examples, 1781606 words/s, in_qsize 9, out_qsize 0\n",
      "INFO:gensim.models.word2vec:EPOCH 94: training on 191558143 raw words (185890527 effective words) took 104.9s, 1771797 effective words/s\n",
      "INFO:root:Loss after epoch 94:38149004.0\n",
      "INFO:gensim.models.word2vec:EPOCH 95 - PROGRESS: at 0.97% examples, 1786882 words/s, in_qsize 9, out_qsize 0\n",
      "INFO:gensim.models.word2vec:EPOCH 95: training on 191558143 raw words (185892892 effective words) took 104.3s, 1782584 effective words/s\n",
      "INFO:root:Loss after epoch 95:38266144.0\n",
      "INFO:gensim.models.word2vec:EPOCH 96 - PROGRESS: at 0.95% examples, 1761399 words/s, in_qsize 9, out_qsize 0\n",
      "INFO:gensim.models.word2vec:EPOCH 96: training on 191558143 raw words (185892210 effective words) took 105.4s, 1763126 effective words/s\n",
      "INFO:root:Loss after epoch 96:36768348.0\n",
      "INFO:gensim.models.word2vec:EPOCH 97 - PROGRESS: at 0.92% examples, 1681816 words/s, in_qsize 8, out_qsize 1\n",
      "INFO:gensim.models.word2vec:EPOCH 97: training on 191558143 raw words (185894213 effective words) took 103.6s, 1793593 effective words/s\n",
      "INFO:root:Loss after epoch 97:36871968.0\n",
      "INFO:gensim.models.word2vec:EPOCH 98 - PROGRESS: at 0.90% examples, 1637850 words/s, in_qsize 9, out_qsize 0\n",
      "INFO:gensim.models.word2vec:EPOCH 98: training on 191558143 raw words (185889820 effective words) took 105.1s, 1769366 effective words/s\n",
      "INFO:root:Loss after epoch 98:37937388.0\n",
      "INFO:gensim.models.word2vec:EPOCH 99 - PROGRESS: at 0.97% examples, 1799668 words/s, in_qsize 9, out_qsize 0\n",
      "INFO:gensim.models.word2vec:EPOCH 99: training on 191558143 raw words (185894511 effective words) took 103.5s, 1796876 effective words/s\n",
      "INFO:root:Loss after epoch 99:37747692.0\n",
      "INFO:gensim.utils:Word2Vec lifecycle event {'msg': 'training on 19155814300 raw words (18589326095 effective words) took 10247.0s, 1814119 effective words/s', 'datetime': '2023-05-21T13:02:15.918044', 'gensim': '4.3.1', 'python': '3.11.3 | packaged by conda-forge | (main, Apr  6 2023, 08:58:31) [Clang 14.0.6 ]', 'platform': 'macOS-12.6-arm64-arm-64bit', 'event': 'train'}\n"
     ]
    },
    {
     "data": {
      "text/plain": [
       "(18589326095, 19155814300)"
      ]
     },
     "execution_count": 7,
     "metadata": {},
     "output_type": "execute_result"
    }
   ],
   "source": [
    "#we override alpha with small values, since default values result in poor train performance. See loss plot below\n",
    "model.train(sentences, epochs=100, start_alpha=0.0001, end_alpha=0.00001, total_examples=model.corpus_count, total_words=model.corpus_total_words, compute_loss=True, report_delay=300, callbacks=[Callback()])\n"
   ]
  },
  {
   "cell_type": "code",
   "execution_count": 8,
   "id": "d5e1b267",
   "metadata": {},
   "outputs": [
    {
     "data": {
      "text/plain": [
       "[<matplotlib.lines.Line2D at 0x15076f8d0>]"
      ]
     },
     "execution_count": 8,
     "metadata": {},
     "output_type": "execute_result"
    },
    {
     "data": {
      "image/png": "[encoded data removed]",
      "text/plain": [
       "<Figure size 640x480 with 1 Axes>"
      ]
     },
     "metadata": {},
     "output_type": "display_data"
    }
   ],
   "source": [
    "plt.plot(loss_list)"
   ]
  },
  {
   "cell_type": "markdown",
   "id": "a42f370d",
   "metadata": {},
   "source": [
    "For comaprison, below is the loss plot when using default (larger) values for alpha. Note, that during training alpha is decreasing linearly from start value to end value. With default values in use the loss goes down near the end, once alpha gets smaller values."
   ]
  },
  {
   "cell_type": "code",
   "execution_count": 9,
   "id": "56eaea48",
   "metadata": {},
   "outputs": [
    {
     "data": {
      "text/plain": [
       "[<matplotlib.lines.Line2D at 0x150892550>]"
      ]
     },
     "execution_count": 9,
     "metadata": {},
     "output_type": "execute_result"
    },
    {
     "data": {
      "image/png": "[encoded data removed]",
      "text/plain": [
       "<Figure size 640x480 with 1 Axes>"
      ]
     },
     "metadata": {},
     "output_type": "display_data"
    }
   ],
   "source": [
    "default_alpha_loss_list = [45621836.0, 44355904.0, 44249936.0, 44104492.0, 44107028.0, 44097436.0, 44270596.0, 44089604.0, 44185456.0, 44285424.0, 44182396.0, 44126032.0, 44408908.0, 44199988.0, 44425624.0, 44209516.0, 44227556.0, 44041368.0, 44373620.0, 44456688.0, 44070200.0, 43995008.0, 44134528.0, 44107632.0, 43802268.0, 44047244.0, 43904480.0, 43939264.0, 43987436.0, 43859148.0, 43961468.0, 44073332.0, 43907992.0, 43725336.0, 43849884.0, 43924944.0, 43826232.0, 43496588.0, 43605268.0, 43641544.0, 43543980.0, 43537204.0, 43491140.0, 43373268.0, 43624628.0, 43330720.0, 43449924.0, 43234040.0, 43097712.0, 44565932.0, 43416728.0, 43234072.0, 43260536.0, 43074152.0, 43096868.0, 42714596.0, 43268708.0, 42984456.0, 43917916.0, 43035192.0, 42818392.0, 42656488.0, 42411144.0, 42707748.0, 42523348.0, 42491780.0, 42605616.0, 42294312.0, 42310540.0, 42306532.0, 42327836.0, 42028380.0, 43780020.0, 41960848.0, 41753348.0, 41644528.0, 42072300.0, 41830796.0, 41535968.0, 41507712.0, 41336916.0, 41256888.0, 41069008.0, 40828812.0, 40791320.0, 40758012.0, 40487952.0, 40521400.0, 40385292.0, 40164828.0, 41217672.0, 39945608.0, 39633816.0, 39335348.0, 39096012.0, 39050096.0, 38497092.0, 38436708.0, 38193532.0, 37834140.0]\n",
    "plt.plot(default_alpha_loss_list)"
   ]
  },
  {
   "cell_type": "code",
   "execution_count": 10,
   "id": "47482d49",
   "metadata": {},
   "outputs": [
    {
     "data": {
      "text/plain": [
       "[('котка', 0.8491295576095581),\n",
       " ('кошка', 0.8478345274925232),\n",
       " ('кот', 0.8396984338760376),\n",
       " ('жывёліна', 0.8325167298316956),\n",
       " ('дзік', 0.8212528824806213),\n",
       " ('кацяня', 0.8191012740135193),\n",
       " ('сабачка', 0.8000214099884033),\n",
       " ('конь', 0.7966150641441345),\n",
       " ('пацук', 0.7885372042655945),\n",
       " ('авечка', 0.7855023741722107),\n",
       " ('муха', 0.7850183844566345),\n",
       " ('воўк', 0.7843751907348633),\n",
       " ('шчанюк', 0.7826115489006042),\n",
       " ('малпа', 0.7747521996498108),\n",
       " ('лісіца', 0.7739136219024658),\n",
       " ('каза', 0.7702525854110718),\n",
       " ('звер', 0.7693645358085632),\n",
       " ('асёл', 0.7642199993133545),\n",
       " ('свіння', 0.7625622749328613),\n",
       " ('зграя', 0.758644163608551)]"
      ]
     },
     "execution_count": 10,
     "metadata": {},
     "output_type": "execute_result"
    }
   ],
   "source": [
    "model.wv.most_similar('сабака', topn=20)"
   ]
  },
  {
   "cell_type": "code",
   "execution_count": 11,
   "id": "0090e873",
   "metadata": {},
   "outputs": [
    {
     "data": {
      "text/plain": [
       "['быць',\n",
       " 'год',\n",
       " 'беларускі',\n",
       " 'беларусь',\n",
       " 'чалавек',\n",
       " 'магчы',\n",
       " 'час',\n",
       " 'усё',\n",
       " 'дзень',\n",
       " 'большыць']"
      ]
     },
     "execution_count": 11,
     "metadata": {},
     "output_type": "execute_result"
    }
   ],
   "source": [
    "model.wv.index_to_key[:10]"
   ]
  },
  {
   "cell_type": "code",
   "execution_count": 12,
   "id": "ec534c05",
   "metadata": {},
   "outputs": [
    {
     "name": "stderr",
     "output_type": "stream",
     "text": [
      "INFO:gensim.utils:Word2Vec lifecycle event {'fname_or_handle': 'word2vec-cc100-cbow-d200-w3-min10.model', 'separately': 'None', 'sep_limit': 10485760, 'ignore': frozenset(), 'datetime': '2023-05-21T13:02:16.156349', 'gensim': '4.3.1', 'python': '3.11.3 | packaged by conda-forge | (main, Apr  6 2023, 08:58:31) [Clang 14.0.6 ]', 'platform': 'macOS-12.6-arm64-arm-64bit', 'event': 'saving'}\n",
      "INFO:gensim.utils:storing np array 'vectors' to word2vec-cc100-cbow-d200-w3-min10.model.wv.vectors.npy\n",
      "INFO:gensim.utils:storing np array 'syn1neg' to word2vec-cc100-cbow-d200-w3-min10.model.syn1neg.npy\n",
      "INFO:gensim.utils:not storing attribute cum_table\n",
      "INFO:gensim.utils:saved word2vec-cc100-cbow-d200-w3-min10.model\n"
     ]
    }
   ],
   "source": [
    "model.save(\"word2vec-cc100-cbow-d200-w3-min10.model\")"
   ]
  },
  {
   "cell_type": "code",
   "execution_count": 13,
   "id": "389e42e0",
   "metadata": {},
   "outputs": [
    {
     "name": "stderr",
     "output_type": "stream",
     "text": [
      "INFO:gensim.models.keyedvectors:storing 79373x200 projection weights into word2vec-cc100-cbow-d200-w3-min10.vectors\n"
     ]
    }
   ],
   "source": [
    "model.wv.save_word2vec_format('word2vec-cc100-cbow-d200-w3-min10.vectors')"
   ]
  }
 ],
 "metadata": {
  "kernelspec": {
   "display_name": "Python 3 (ipykernel)",
   "language": "python",
   "name": "python3"
  },
  "language_info": {
   "codemirror_mode": {
    "name": "ipython",
    "version": 3
   },
   "file_extension": ".py",
   "mimetype": "text/x-python",
   "name": "python",
   "nbconvert_exporter": "python",
   "pygments_lexer": "ipython3",
   "version": "3.11.3"
  }
 },
 "nbformat": 4,
 "nbformat_minor": 5
}
