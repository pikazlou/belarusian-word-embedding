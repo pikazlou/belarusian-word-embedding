{
 "cells": [
  {
   "cell_type": "code",
   "execution_count": 1,
   "id": "de7b8b0c",
   "metadata": {},
   "outputs": [],
   "source": [
    "from gensim.models.word2vec import LineSentence\n",
    "from gensim.models import FastText\n",
    "from gensim.models.callbacks import CallbackAny2Vec\n",
    "import matplotlib.pyplot as plt"
   ]
  },
  {
   "cell_type": "code",
   "execution_count": 2,
   "id": "7dc6904a",
   "metadata": {},
   "outputs": [
    {
     "name": "stderr",
     "output_type": "stream",
     "text": [
      "INFO:root:Logging initialized\n"
     ]
    }
   ],
   "source": [
    "import logging\n",
    "logging.basicConfig(level=logging.INFO, force = True)\n",
    "logger = logging.getLogger()\n",
    "logger.info(\"Logging initialized\")"
   ]
  },
  {
   "cell_type": "code",
   "execution_count": 3,
   "id": "ab9fc39e",
   "metadata": {},
   "outputs": [],
   "source": [
    "loss_list = []\n",
    "class Callback(CallbackAny2Vec):\n",
    "    def __init__(self):\n",
    "        self.epoch = 0\n",
    "\n",
    "    def on_epoch_end(self, model):\n",
    "        loss = model.get_latest_training_loss()\n",
    "        loss_list.append(loss)\n",
    "        logger.info('Loss after epoch {}:{}'.format(self.epoch, loss))\n",
    "        model.running_training_loss = 0.0\n",
    "        self.epoch = self.epoch + 1"
   ]
  },
  {
   "cell_type": "code",
   "execution_count": 4,
   "id": "61e8337d",
   "metadata": {},
   "outputs": [
    {
     "name": "stderr",
     "output_type": "stream",
     "text": [
      "INFO:gensim.utils:FastText lifecycle event {'params': 'FastText<vocab=0, vector_size=100, alpha=0.025>', 'datetime': '2023-05-20T13:18:43.498962', 'gensim': '4.3.1', 'python': '3.11.3 | packaged by conda-forge | (main, Apr  6 2023, 08:58:31) [Clang 14.0.6 ]', 'platform': 'macOS-12.6-arm64-arm-64bit', 'event': 'created'}\n"
     ]
    }
   ],
   "source": [
    "model = FastText(vector_size=100, window=3, min_count=10, workers=5)"
   ]
  },
  {
   "cell_type": "code",
   "execution_count": 5,
   "id": "35054bd1",
   "metadata": {},
   "outputs": [],
   "source": [
    "sentences = LineSentence('processed-corpus.txt')"
   ]
  },
  {
   "cell_type": "code",
   "execution_count": 6,
   "id": "615cf92b",
   "metadata": {},
   "outputs": [
    {
     "name": "stderr",
     "output_type": "stream",
     "text": [
      "INFO:gensim.models.word2vec:collecting all words and their counts\n",
      "INFO:gensim.models.word2vec:PROGRESS: at sentence #0, processed 0 words, keeping 0 word types\n",
      "INFO:gensim.models.word2vec:PROGRESS: at sentence #5000000, processed 40831628 words, keeping 101552 word types\n",
      "INFO:gensim.models.word2vec:PROGRESS: at sentence #10000000, processed 81753225 words, keeping 114802 word types\n",
      "INFO:gensim.models.word2vec:PROGRESS: at sentence #15000000, processed 122575037 words, keeping 122333 word types\n",
      "INFO:gensim.models.word2vec:PROGRESS: at sentence #20000000, processed 163439274 words, keeping 127317 word types\n",
      "INFO:gensim.models.word2vec:collected 130029 word types from a corpus of 191558143 raw words and 23453583 sentences\n",
      "INFO:gensim.models.word2vec:Creating a fresh vocabulary\n",
      "INFO:gensim.utils:FastText lifecycle event {'msg': 'effective_min_count=10 retains 79373 unique words (61.04% of original 130029, drops 50656)', 'datetime': '2023-05-20T13:19:29.175929', 'gensim': '4.3.1', 'python': '3.11.3 | packaged by conda-forge | (main, Apr  6 2023, 08:58:31) [Clang 14.0.6 ]', 'platform': 'macOS-12.6-arm64-arm-64bit', 'event': 'prepare_vocab'}\n",
      "INFO:gensim.utils:FastText lifecycle event {'msg': 'effective_min_count=10 leaves 191387939 word corpus (99.91% of original 191558143, drops 170204)', 'datetime': '2023-05-20T13:19:29.176377', 'gensim': '4.3.1', 'python': '3.11.3 | packaged by conda-forge | (main, Apr  6 2023, 08:58:31) [Clang 14.0.6 ]', 'platform': 'macOS-12.6-arm64-arm-64bit', 'event': 'prepare_vocab'}\n",
      "INFO:gensim.models.word2vec:deleting the raw counts dictionary of 130029 items\n",
      "INFO:gensim.models.word2vec:sample=0.001 downsamples 16 most-common words\n",
      "INFO:gensim.utils:FastText lifecycle event {'msg': 'downsampling leaves estimated 185893234.09818068 word corpus (97.1%% of prior 191387939)', 'datetime': '2023-05-20T13:19:29.320503', 'gensim': '4.3.1', 'python': '3.11.3 | packaged by conda-forge | (main, Apr  6 2023, 08:58:31) [Clang 14.0.6 ]', 'platform': 'macOS-12.6-arm64-arm-64bit', 'event': 'prepare_vocab'}\n",
      "INFO:gensim.models.fasttext:estimated required memory for 79373 words, 2000000 buckets and 100 dimensions: 920790916 bytes\n",
      "INFO:gensim.models.word2vec:resetting layer weights\n",
      "INFO:gensim.utils:FastText lifecycle event {'update': False, 'trim_rule': 'None', 'datetime': '2023-05-20T13:19:32.424481', 'gensim': '4.3.1', 'python': '3.11.3 | packaged by conda-forge | (main, Apr  6 2023, 08:58:31) [Clang 14.0.6 ]', 'platform': 'macOS-12.6-arm64-arm-64bit', 'event': 'build_vocab'}\n"
     ]
    }
   ],
   "source": [
    "model.build_vocab(sentences, progress_per=5000000)"
   ]
  },
  {
   "cell_type": "code",
   "execution_count": 7,
   "id": "867dc13c",
   "metadata": {},
   "outputs": [
    {
     "name": "stderr",
     "output_type": "stream",
     "text": [
      "INFO:gensim.utils:FastText lifecycle event {'msg': 'training model with 5 workers on 79373 vocabulary and 100 features, using sg=0 hs=0 sample=0.001 negative=5 window=3 shrink_windows=True', 'datetime': '2023-05-20T13:19:34.289790', 'gensim': '4.3.1', 'python': '3.11.3 | packaged by conda-forge | (main, Apr  6 2023, 08:58:31) [Clang 14.0.6 ]', 'platform': 'macOS-12.6-arm64-arm-64bit', 'event': 'train'}\n",
      "INFO:gensim.models.word2vec:EPOCH 0 - PROGRESS: at 0.40% examples, 732662 words/s, in_qsize 9, out_qsize 0\n",
      "INFO:gensim.models.word2vec:EPOCH 0: training on 191558143 raw words (185893888 effective words) took 246.6s, 753712 effective words/s\n",
      "INFO:gensim.models.word2vec:EPOCH 1 - PROGRESS: at 0.35% examples, 639675 words/s, in_qsize 9, out_qsize 0\n",
      "INFO:gensim.models.word2vec:EPOCH 1: training on 191558143 raw words (185893837 effective words) took 248.4s, 748253 effective words/s\n",
      "INFO:gensim.models.word2vec:EPOCH 2 - PROGRESS: at 0.42% examples, 763216 words/s, in_qsize 9, out_qsize 0\n",
      "INFO:gensim.models.word2vec:EPOCH 2: training on 191558143 raw words (185894235 effective words) took 240.2s, 774033 effective words/s\n",
      "INFO:gensim.models.word2vec:EPOCH 3 - PROGRESS: at 0.34% examples, 629072 words/s, in_qsize 9, out_qsize 0\n",
      "INFO:gensim.models.word2vec:EPOCH 3: training on 191558143 raw words (185890992 effective words) took 246.2s, 754952 effective words/s\n",
      "INFO:gensim.models.word2vec:EPOCH 4 - PROGRESS: at 0.41% examples, 750359 words/s, in_qsize 9, out_qsize 0\n",
      "INFO:gensim.models.word2vec:EPOCH 4: training on 191558143 raw words (185890441 effective words) took 241.2s, 770842 effective words/s\n",
      "INFO:gensim.models.word2vec:EPOCH 5 - PROGRESS: at 0.41% examples, 750080 words/s, in_qsize 9, out_qsize 0\n",
      "INFO:gensim.models.word2vec:EPOCH 5: training on 191558143 raw words (185890126 effective words) took 247.3s, 751552 effective words/s\n",
      "INFO:gensim.models.word2vec:EPOCH 6 - PROGRESS: at 0.40% examples, 743163 words/s, in_qsize 9, out_qsize 0\n",
      "INFO:gensim.models.word2vec:EPOCH 6: training on 191558143 raw words (185892707 effective words) took 242.5s, 766482 effective words/s\n",
      "INFO:gensim.models.word2vec:EPOCH 7 - PROGRESS: at 0.39% examples, 691352 words/s, in_qsize 9, out_qsize 0\n",
      "INFO:gensim.models.word2vec:EPOCH 7: training on 191558143 raw words (185893793 effective words) took 258.8s, 718180 effective words/s\n",
      "INFO:gensim.models.word2vec:EPOCH 8 - PROGRESS: at 0.39% examples, 719738 words/s, in_qsize 10, out_qsize 0\n",
      "INFO:gensim.models.word2vec:EPOCH 8: training on 191558143 raw words (185896409 effective words) took 250.4s, 742405 effective words/s\n",
      "INFO:gensim.models.word2vec:EPOCH 9 - PROGRESS: at 0.40% examples, 737367 words/s, in_qsize 9, out_qsize 0\n",
      "INFO:gensim.models.word2vec:EPOCH 9: training on 191558143 raw words (185892095 effective words) took 250.6s, 741785 effective words/s\n",
      "INFO:gensim.models.word2vec:EPOCH 10 - PROGRESS: at 0.40% examples, 736150 words/s, in_qsize 9, out_qsize 0\n",
      "INFO:gensim.models.word2vec:EPOCH 10: training on 191558143 raw words (185895399 effective words) took 243.3s, 763987 effective words/s\n",
      "INFO:gensim.models.word2vec:EPOCH 11 - PROGRESS: at 0.40% examples, 734045 words/s, in_qsize 9, out_qsize 0\n",
      "INFO:gensim.models.word2vec:EPOCH 11: training on 191558143 raw words (185895250 effective words) took 248.0s, 749498 effective words/s\n",
      "INFO:gensim.models.word2vec:EPOCH 12 - PROGRESS: at 0.40% examples, 740515 words/s, in_qsize 9, out_qsize 0\n",
      "INFO:gensim.models.word2vec:EPOCH 12: training on 191558143 raw words (185893425 effective words) took 246.4s, 754326 effective words/s\n",
      "INFO:gensim.models.word2vec:EPOCH 13 - PROGRESS: at 0.40% examples, 727007 words/s, in_qsize 7, out_qsize 3\n",
      "INFO:gensim.models.word2vec:EPOCH 13: training on 191558143 raw words (185892075 effective words) took 245.2s, 758260 effective words/s\n",
      "INFO:gensim.models.word2vec:EPOCH 14 - PROGRESS: at 0.38% examples, 698122 words/s, in_qsize 9, out_qsize 1\n",
      "INFO:gensim.models.word2vec:EPOCH 14: training on 191558143 raw words (185890270 effective words) took 256.6s, 724493 effective words/s\n",
      "INFO:gensim.models.word2vec:EPOCH 15 - PROGRESS: at 0.40% examples, 719637 words/s, in_qsize 9, out_qsize 0\n",
      "INFO:gensim.models.word2vec:EPOCH 15: training on 191558143 raw words (185893302 effective words) took 246.0s, 755807 effective words/s\n",
      "INFO:gensim.models.word2vec:EPOCH 16 - PROGRESS: at 0.39% examples, 721809 words/s, in_qsize 9, out_qsize 0\n",
      "INFO:gensim.models.word2vec:EPOCH 16: training on 191558143 raw words (185892818 effective words) took 245.0s, 758684 effective words/s\n",
      "INFO:gensim.models.word2vec:EPOCH 17 - PROGRESS: at 0.38% examples, 701565 words/s, in_qsize 9, out_qsize 0\n",
      "INFO:gensim.models.word2vec:EPOCH 17: training on 191558143 raw words (185894059 effective words) took 247.9s, 749848 effective words/s\n",
      "INFO:gensim.models.word2vec:EPOCH 18 - PROGRESS: at 0.40% examples, 733301 words/s, in_qsize 9, out_qsize 0\n",
      "INFO:gensim.models.word2vec:EPOCH 18: training on 191558143 raw words (185892897 effective words) took 248.0s, 749662 effective words/s\n",
      "INFO:gensim.models.word2vec:EPOCH 19 - PROGRESS: at 0.40% examples, 725989 words/s, in_qsize 9, out_qsize 0\n",
      "INFO:gensim.models.word2vec:EPOCH 19: training on 191558143 raw words (185892205 effective words) took 244.2s, 761154 effective words/s\n",
      "INFO:gensim.models.word2vec:EPOCH 20 - PROGRESS: at 0.40% examples, 738248 words/s, in_qsize 9, out_qsize 0\n",
      "INFO:gensim.models.word2vec:EPOCH 20: training on 191558143 raw words (185890685 effective words) took 240.6s, 772721 effective words/s\n",
      "INFO:gensim.models.word2vec:EPOCH 21 - PROGRESS: at 0.40% examples, 735542 words/s, in_qsize 9, out_qsize 0\n",
      "INFO:gensim.models.word2vec:EPOCH 21: training on 191558143 raw words (185893403 effective words) took 245.7s, 756622 effective words/s\n",
      "INFO:gensim.models.word2vec:EPOCH 22 - PROGRESS: at 0.38% examples, 697414 words/s, in_qsize 10, out_qsize 0\n",
      "INFO:gensim.models.word2vec:EPOCH 22: training on 191558143 raw words (185890384 effective words) took 252.2s, 737221 effective words/s\n",
      "INFO:gensim.models.word2vec:EPOCH 23 - PROGRESS: at 0.40% examples, 743094 words/s, in_qsize 9, out_qsize 0\n",
      "INFO:gensim.models.word2vec:EPOCH 23: training on 191558143 raw words (185896207 effective words) took 247.7s, 750561 effective words/s\n",
      "INFO:gensim.models.word2vec:EPOCH 24 - PROGRESS: at 0.39% examples, 713751 words/s, in_qsize 9, out_qsize 0\n",
      "INFO:gensim.models.word2vec:EPOCH 24: training on 191558143 raw words (185892717 effective words) took 246.8s, 753106 effective words/s\n",
      "INFO:gensim.models.word2vec:EPOCH 25 - PROGRESS: at 0.40% examples, 731958 words/s, in_qsize 9, out_qsize 0\n",
      "INFO:gensim.models.word2vec:EPOCH 25: training on 191558143 raw words (185892846 effective words) took 248.6s, 747640 effective words/s\n",
      "INFO:gensim.models.word2vec:EPOCH 26 - PROGRESS: at 0.39% examples, 721856 words/s, in_qsize 9, out_qsize 0\n",
      "INFO:gensim.models.word2vec:EPOCH 26: training on 191558143 raw words (185893431 effective words) took 252.3s, 736792 effective words/s\n",
      "INFO:gensim.models.word2vec:EPOCH 27 - PROGRESS: at 0.38% examples, 702053 words/s, in_qsize 9, out_qsize 0\n",
      "INFO:gensim.models.word2vec:EPOCH 27: training on 191558143 raw words (185892280 effective words) took 254.0s, 731789 effective words/s\n",
      "INFO:gensim.models.word2vec:EPOCH 28 - PROGRESS: at 0.39% examples, 715383 words/s, in_qsize 9, out_qsize 0\n",
      "INFO:gensim.models.word2vec:EPOCH 28: training on 191558143 raw words (185893233 effective words) took 251.0s, 740483 effective words/s\n",
      "INFO:gensim.models.word2vec:EPOCH 29 - PROGRESS: at 0.38% examples, 695485 words/s, in_qsize 10, out_qsize 0\n",
      "INFO:gensim.models.word2vec:EPOCH 29: training on 191558143 raw words (185898624 effective words) took 246.6s, 753899 effective words/s\n",
      "INFO:gensim.models.word2vec:EPOCH 30 - PROGRESS: at 0.38% examples, 705475 words/s, in_qsize 9, out_qsize 0\n",
      "INFO:gensim.models.word2vec:EPOCH 30: training on 191558143 raw words (185892814 effective words) took 257.2s, 722766 effective words/s\n",
      "INFO:gensim.models.word2vec:EPOCH 31 - PROGRESS: at 0.41% examples, 754860 words/s, in_qsize 9, out_qsize 0\n",
      "INFO:gensim.models.word2vec:EPOCH 31: training on 191558143 raw words (185893700 effective words) took 243.6s, 763217 effective words/s\n"
     ]
    },
    {
     "name": "stderr",
     "output_type": "stream",
     "text": [
      "INFO:gensim.models.word2vec:EPOCH 32 - PROGRESS: at 0.39% examples, 705844 words/s, in_qsize 9, out_qsize 0\n",
      "INFO:gensim.models.word2vec:EPOCH 32: training on 191558143 raw words (185895881 effective words) took 250.4s, 742544 effective words/s\n",
      "INFO:gensim.models.word2vec:EPOCH 33 - PROGRESS: at 0.38% examples, 688251 words/s, in_qsize 9, out_qsize 0\n",
      "INFO:gensim.models.word2vec:EPOCH 33: training on 191558143 raw words (185892281 effective words) took 259.9s, 715299 effective words/s\n",
      "INFO:gensim.models.word2vec:EPOCH 34 - PROGRESS: at 0.40% examples, 733238 words/s, in_qsize 9, out_qsize 0\n",
      "INFO:gensim.models.word2vec:EPOCH 34: training on 191558143 raw words (185895952 effective words) took 246.7s, 753456 effective words/s\n",
      "INFO:gensim.models.word2vec:EPOCH 35 - PROGRESS: at 0.41% examples, 755445 words/s, in_qsize 9, out_qsize 0\n",
      "INFO:gensim.models.word2vec:EPOCH 35: training on 191558143 raw words (185896154 effective words) took 240.5s, 772865 effective words/s\n",
      "INFO:gensim.models.word2vec:EPOCH 36 - PROGRESS: at 0.39% examples, 719089 words/s, in_qsize 9, out_qsize 0\n",
      "INFO:gensim.models.word2vec:EPOCH 36: training on 191558143 raw words (185893502 effective words) took 254.5s, 730425 effective words/s\n",
      "INFO:gensim.models.word2vec:EPOCH 37 - PROGRESS: at 0.38% examples, 682952 words/s, in_qsize 9, out_qsize 0\n",
      "INFO:gensim.models.word2vec:EPOCH 37: training on 191558143 raw words (185895765 effective words) took 253.9s, 732234 effective words/s\n",
      "INFO:gensim.models.word2vec:EPOCH 38 - PROGRESS: at 0.41% examples, 740628 words/s, in_qsize 9, out_qsize 0\n",
      "INFO:gensim.models.word2vec:EPOCH 38: training on 191558143 raw words (185892243 effective words) took 249.5s, 745020 effective words/s\n",
      "INFO:gensim.models.word2vec:EPOCH 39 - PROGRESS: at 0.39% examples, 713785 words/s, in_qsize 9, out_qsize 0\n",
      "INFO:gensim.models.word2vec:EPOCH 39: training on 191558143 raw words (185893956 effective words) took 250.8s, 741119 effective words/s\n",
      "INFO:gensim.models.word2vec:EPOCH 40 - PROGRESS: at 0.39% examples, 713711 words/s, in_qsize 9, out_qsize 0\n",
      "INFO:gensim.models.word2vec:EPOCH 40: training on 191558143 raw words (185894804 effective words) took 251.4s, 739318 effective words/s\n",
      "INFO:gensim.models.word2vec:EPOCH 41 - PROGRESS: at 0.40% examples, 723156 words/s, in_qsize 9, out_qsize 0\n",
      "INFO:gensim.models.word2vec:EPOCH 41: training on 191558143 raw words (185894912 effective words) took 247.2s, 752117 effective words/s\n",
      "INFO:gensim.models.word2vec:EPOCH 42 - PROGRESS: at 0.39% examples, 715083 words/s, in_qsize 9, out_qsize 0\n",
      "INFO:gensim.models.word2vec:EPOCH 42: training on 191558143 raw words (185895151 effective words) took 249.2s, 746078 effective words/s\n",
      "INFO:gensim.models.word2vec:EPOCH 43 - PROGRESS: at 0.39% examples, 721951 words/s, in_qsize 9, out_qsize 0\n",
      "INFO:gensim.models.word2vec:EPOCH 43: training on 191558143 raw words (185890344 effective words) took 248.3s, 748542 effective words/s\n",
      "INFO:gensim.models.word2vec:EPOCH 44 - PROGRESS: at 0.40% examples, 726582 words/s, in_qsize 9, out_qsize 0\n",
      "INFO:gensim.models.word2vec:EPOCH 44: training on 191558143 raw words (185893754 effective words) took 254.2s, 731198 effective words/s\n",
      "INFO:gensim.models.word2vec:EPOCH 45 - PROGRESS: at 0.40% examples, 735456 words/s, in_qsize 9, out_qsize 0\n",
      "INFO:gensim.models.word2vec:EPOCH 45: training on 191558143 raw words (185893715 effective words) took 239.9s, 774817 effective words/s\n",
      "INFO:gensim.models.word2vec:EPOCH 46 - PROGRESS: at 0.40% examples, 734742 words/s, in_qsize 9, out_qsize 0\n",
      "INFO:gensim.models.word2vec:EPOCH 46: training on 191558143 raw words (185893555 effective words) took 243.1s, 764833 effective words/s\n",
      "INFO:gensim.models.word2vec:EPOCH 47 - PROGRESS: at 0.40% examples, 738745 words/s, in_qsize 9, out_qsize 0\n",
      "INFO:gensim.models.word2vec:EPOCH 47: training on 191558143 raw words (185894930 effective words) took 242.3s, 767263 effective words/s\n",
      "INFO:gensim.models.word2vec:EPOCH 48 - PROGRESS: at 0.41% examples, 753330 words/s, in_qsize 9, out_qsize 0\n",
      "INFO:gensim.models.word2vec:EPOCH 48: training on 191558143 raw words (185893350 effective words) took 245.3s, 757957 effective words/s\n",
      "INFO:gensim.models.word2vec:EPOCH 49 - PROGRESS: at 0.41% examples, 756046 words/s, in_qsize 9, out_qsize 0\n",
      "INFO:gensim.models.word2vec:EPOCH 49: training on 191558143 raw words (185892651 effective words) took 294.1s, 632088 effective words/s\n",
      "INFO:gensim.models.word2vec:EPOCH 50 - PROGRESS: at 0.41% examples, 753620 words/s, in_qsize 9, out_qsize 0\n",
      "INFO:gensim.models.word2vec:EPOCH 50: training on 191558143 raw words (185893761 effective words) took 240.0s, 774504 effective words/s\n",
      "INFO:gensim.models.word2vec:EPOCH 51 - PROGRESS: at 0.41% examples, 752454 words/s, in_qsize 9, out_qsize 0\n",
      "INFO:gensim.models.word2vec:EPOCH 51: training on 191558143 raw words (185891959 effective words) took 240.7s, 772225 effective words/s\n",
      "INFO:gensim.models.word2vec:EPOCH 52 - PROGRESS: at 0.39% examples, 718024 words/s, in_qsize 9, out_qsize 0\n",
      "INFO:gensim.models.word2vec:EPOCH 52: training on 191558143 raw words (185895696 effective words) took 250.1s, 743278 effective words/s\n",
      "INFO:gensim.models.word2vec:EPOCH 53 - PROGRESS: at 0.39% examples, 713763 words/s, in_qsize 9, out_qsize 0\n",
      "INFO:gensim.models.word2vec:EPOCH 53: training on 191558143 raw words (185893056 effective words) took 252.4s, 736518 effective words/s\n",
      "INFO:gensim.models.word2vec:EPOCH 54 - PROGRESS: at 0.39% examples, 716035 words/s, in_qsize 9, out_qsize 0\n",
      "INFO:gensim.models.word2vec:EPOCH 54: training on 191558143 raw words (185896884 effective words) took 249.1s, 746329 effective words/s\n",
      "INFO:gensim.models.word2vec:EPOCH 55 - PROGRESS: at 0.40% examples, 725287 words/s, in_qsize 9, out_qsize 0\n",
      "INFO:gensim.models.word2vec:EPOCH 55: training on 191558143 raw words (185893986 effective words) took 245.5s, 757213 effective words/s\n",
      "INFO:gensim.models.word2vec:EPOCH 56 - PROGRESS: at 0.28% examples, 483023 words/s, in_qsize 10, out_qsize 0\n",
      "INFO:gensim.models.word2vec:EPOCH 56: training on 191558143 raw words (185892310 effective words) took 260.8s, 712908 effective words/s\n",
      "INFO:gensim.models.word2vec:EPOCH 57 - PROGRESS: at 0.40% examples, 728807 words/s, in_qsize 10, out_qsize 0\n",
      "INFO:gensim.models.word2vec:EPOCH 57: training on 191558143 raw words (185893967 effective words) took 243.2s, 764469 effective words/s\n",
      "INFO:gensim.models.word2vec:EPOCH 58 - PROGRESS: at 0.38% examples, 698777 words/s, in_qsize 9, out_qsize 0\n",
      "INFO:gensim.models.word2vec:EPOCH 58: training on 191558143 raw words (185892761 effective words) took 256.4s, 725043 effective words/s\n",
      "INFO:gensim.models.word2vec:EPOCH 59 - PROGRESS: at 0.40% examples, 737168 words/s, in_qsize 9, out_qsize 0\n",
      "INFO:gensim.models.word2vec:EPOCH 59: training on 191558143 raw words (185893210 effective words) took 244.2s, 761269 effective words/s\n",
      "INFO:gensim.models.word2vec:EPOCH 60 - PROGRESS: at 0.39% examples, 710586 words/s, in_qsize 9, out_qsize 0\n",
      "INFO:gensim.models.word2vec:EPOCH 60: training on 191558143 raw words (185891535 effective words) took 248.3s, 748706 effective words/s\n",
      "INFO:gensim.models.word2vec:EPOCH 61 - PROGRESS: at 0.40% examples, 725059 words/s, in_qsize 9, out_qsize 0\n",
      "INFO:gensim.models.word2vec:EPOCH 61: training on 191558143 raw words (185893404 effective words) took 249.6s, 744759 effective words/s\n",
      "INFO:gensim.models.word2vec:EPOCH 62 - PROGRESS: at 0.39% examples, 705728 words/s, in_qsize 9, out_qsize 0\n",
      "INFO:gensim.models.word2vec:EPOCH 62: training on 191558143 raw words (185896325 effective words) took 245.9s, 756084 effective words/s\n",
      "INFO:gensim.models.word2vec:EPOCH 63 - PROGRESS: at 0.41% examples, 750069 words/s, in_qsize 9, out_qsize 0\n",
      "INFO:gensim.models.word2vec:EPOCH 63: training on 191558143 raw words (185892335 effective words) took 242.4s, 766792 effective words/s\n",
      "INFO:gensim.models.word2vec:EPOCH 64 - PROGRESS: at 0.39% examples, 708854 words/s, in_qsize 9, out_qsize 0\n",
      "INFO:gensim.models.word2vec:EPOCH 64: training on 191558143 raw words (185894426 effective words) took 250.2s, 743130 effective words/s\n",
      "INFO:gensim.models.word2vec:EPOCH 65 - PROGRESS: at 0.41% examples, 747093 words/s, in_qsize 9, out_qsize 0\n",
      "INFO:gensim.models.word2vec:EPOCH 65: training on 191558143 raw words (185894043 effective words) took 240.6s, 772547 effective words/s\n"
     ]
    },
    {
     "name": "stderr",
     "output_type": "stream",
     "text": [
      "INFO:gensim.models.word2vec:EPOCH 66 - PROGRESS: at 0.40% examples, 742358 words/s, in_qsize 9, out_qsize 0\n",
      "INFO:gensim.models.word2vec:EPOCH 66: training on 191558143 raw words (185892490 effective words) took 247.1s, 752254 effective words/s\n",
      "INFO:gensim.models.word2vec:EPOCH 67 - PROGRESS: at 0.41% examples, 739470 words/s, in_qsize 8, out_qsize 1\n",
      "INFO:gensim.models.word2vec:EPOCH 67: training on 191558143 raw words (185893759 effective words) took 244.8s, 759357 effective words/s\n",
      "INFO:gensim.models.word2vec:EPOCH 68 - PROGRESS: at 0.39% examples, 724124 words/s, in_qsize 9, out_qsize 0\n",
      "INFO:gensim.models.word2vec:EPOCH 68: training on 191558143 raw words (185892726 effective words) took 242.7s, 765965 effective words/s\n",
      "INFO:gensim.models.word2vec:EPOCH 69 - PROGRESS: at 0.39% examples, 722224 words/s, in_qsize 9, out_qsize 0\n",
      "INFO:gensim.models.word2vec:EPOCH 69: training on 191558143 raw words (185891059 effective words) took 241.9s, 768550 effective words/s\n",
      "INFO:gensim.models.word2vec:EPOCH 70 - PROGRESS: at 0.40% examples, 743115 words/s, in_qsize 9, out_qsize 0\n",
      "INFO:gensim.models.word2vec:EPOCH 70: training on 191558143 raw words (185894141 effective words) took 245.9s, 755965 effective words/s\n",
      "INFO:gensim.models.word2vec:EPOCH 71 - PROGRESS: at 0.37% examples, 681118 words/s, in_qsize 9, out_qsize 0\n",
      "INFO:gensim.models.word2vec:EPOCH 71: training on 191558143 raw words (185896158 effective words) took 281.6s, 660188 effective words/s\n",
      "INFO:gensim.models.word2vec:EPOCH 72 - PROGRESS: at 0.31% examples, 559831 words/s, in_qsize 10, out_qsize 1\n",
      "INFO:gensim.models.word2vec:EPOCH 72 - PROGRESS: at 92.18% examples, 569516 words/s, in_qsize 9, out_qsize 1\n",
      "INFO:gensim.models.word2vec:EPOCH 72: training on 191558143 raw words (185892095 effective words) took 326.8s, 568812 effective words/s\n",
      "INFO:gensim.models.word2vec:EPOCH 73 - PROGRESS: at 0.26% examples, 478141 words/s, in_qsize 10, out_qsize 0\n",
      "INFO:gensim.models.word2vec:EPOCH 73 - PROGRESS: at 94.21% examples, 582028 words/s, in_qsize 10, out_qsize 0\n",
      "INFO:gensim.models.word2vec:EPOCH 73: training on 191558143 raw words (185894547 effective words) took 318.9s, 582939 effective words/s\n",
      "INFO:gensim.models.word2vec:EPOCH 74 - PROGRESS: at 0.34% examples, 606754 words/s, in_qsize 9, out_qsize 0\n",
      "INFO:gensim.models.word2vec:EPOCH 74: training on 191558143 raw words (185891836 effective words) took 284.8s, 652792 effective words/s\n",
      "INFO:gensim.models.word2vec:EPOCH 75 - PROGRESS: at 0.40% examples, 733103 words/s, in_qsize 9, out_qsize 0\n",
      "INFO:gensim.models.word2vec:EPOCH 75: training on 191558143 raw words (185893659 effective words) took 256.5s, 724670 effective words/s\n",
      "INFO:gensim.models.word2vec:EPOCH 76 - PROGRESS: at 0.39% examples, 710253 words/s, in_qsize 9, out_qsize 0\n",
      "INFO:gensim.models.word2vec:EPOCH 76: training on 191558143 raw words (185893646 effective words) took 246.5s, 754210 effective words/s\n",
      "INFO:gensim.models.word2vec:EPOCH 77 - PROGRESS: at 0.38% examples, 691692 words/s, in_qsize 9, out_qsize 0\n",
      "INFO:gensim.models.word2vec:EPOCH 77: training on 191558143 raw words (185892679 effective words) took 261.4s, 711258 effective words/s\n",
      "INFO:gensim.models.word2vec:EPOCH 78 - PROGRESS: at 0.40% examples, 733822 words/s, in_qsize 9, out_qsize 0\n",
      "INFO:gensim.models.word2vec:EPOCH 78: training on 191558143 raw words (185892868 effective words) took 241.1s, 771151 effective words/s\n",
      "INFO:gensim.models.word2vec:EPOCH 79 - PROGRESS: at 0.39% examples, 723611 words/s, in_qsize 9, out_qsize 0\n",
      "INFO:gensim.models.word2vec:EPOCH 79: training on 191558143 raw words (185893451 effective words) took 241.7s, 769015 effective words/s\n",
      "INFO:gensim.models.word2vec:EPOCH 80 - PROGRESS: at 0.40% examples, 737677 words/s, in_qsize 9, out_qsize 0\n",
      "INFO:gensim.models.word2vec:EPOCH 80: training on 191558143 raw words (185893558 effective words) took 242.4s, 766954 effective words/s\n",
      "INFO:gensim.models.word2vec:EPOCH 81 - PROGRESS: at 0.39% examples, 724830 words/s, in_qsize 9, out_qsize 0\n",
      "INFO:gensim.models.word2vec:EPOCH 81: training on 191558143 raw words (185890229 effective words) took 248.0s, 749477 effective words/s\n",
      "INFO:gensim.models.word2vec:EPOCH 82 - PROGRESS: at 0.41% examples, 748501 words/s, in_qsize 9, out_qsize 0\n",
      "INFO:gensim.models.word2vec:EPOCH 82: training on 191558143 raw words (185895642 effective words) took 252.0s, 737635 effective words/s\n",
      "INFO:gensim.models.word2vec:EPOCH 83 - PROGRESS: at 0.38% examples, 701703 words/s, in_qsize 9, out_qsize 0\n",
      "INFO:gensim.models.word2vec:EPOCH 83: training on 191558143 raw words (185894878 effective words) took 248.0s, 749437 effective words/s\n",
      "INFO:gensim.models.word2vec:EPOCH 84 - PROGRESS: at 0.40% examples, 730733 words/s, in_qsize 9, out_qsize 0\n",
      "INFO:gensim.models.word2vec:EPOCH 84: training on 191558143 raw words (185893781 effective words) took 245.4s, 757604 effective words/s\n",
      "INFO:gensim.models.word2vec:EPOCH 85 - PROGRESS: at 0.39% examples, 708757 words/s, in_qsize 9, out_qsize 0\n",
      "INFO:gensim.models.word2vec:EPOCH 85: training on 191558143 raw words (185891934 effective words) took 252.1s, 737327 effective words/s\n",
      "INFO:gensim.models.word2vec:EPOCH 86 - PROGRESS: at 0.39% examples, 707048 words/s, in_qsize 9, out_qsize 0\n",
      "INFO:gensim.models.word2vec:EPOCH 86: training on 191558143 raw words (185890679 effective words) took 255.6s, 727311 effective words/s\n",
      "INFO:gensim.models.word2vec:EPOCH 87 - PROGRESS: at 0.39% examples, 715195 words/s, in_qsize 9, out_qsize 0\n",
      "INFO:gensim.models.word2vec:EPOCH 87: training on 191558143 raw words (185891426 effective words) took 261.2s, 711620 effective words/s\n",
      "INFO:gensim.models.word2vec:EPOCH 88 - PROGRESS: at 0.38% examples, 695031 words/s, in_qsize 9, out_qsize 0\n",
      "INFO:gensim.models.word2vec:EPOCH 88: training on 191558143 raw words (185894080 effective words) took 258.3s, 719787 effective words/s\n",
      "INFO:gensim.models.word2vec:EPOCH 89 - PROGRESS: at 0.40% examples, 736253 words/s, in_qsize 9, out_qsize 0\n",
      "INFO:gensim.models.word2vec:EPOCH 89: training on 191558143 raw words (185893568 effective words) took 246.7s, 753607 effective words/s\n",
      "INFO:gensim.models.word2vec:EPOCH 90 - PROGRESS: at 0.39% examples, 723807 words/s, in_qsize 9, out_qsize 0\n",
      "INFO:gensim.models.word2vec:EPOCH 90: training on 191558143 raw words (185892502 effective words) took 242.2s, 767499 effective words/s\n",
      "INFO:gensim.models.word2vec:EPOCH 91 - PROGRESS: at 0.40% examples, 741589 words/s, in_qsize 9, out_qsize 0\n",
      "INFO:gensim.models.word2vec:EPOCH 91: training on 191558143 raw words (185891716 effective words) took 240.6s, 772613 effective words/s\n",
      "INFO:gensim.models.word2vec:EPOCH 92 - PROGRESS: at 0.41% examples, 761240 words/s, in_qsize 9, out_qsize 0\n",
      "INFO:gensim.models.word2vec:EPOCH 92: training on 191558143 raw words (185889409 effective words) took 239.9s, 774990 effective words/s\n",
      "INFO:gensim.models.word2vec:EPOCH 93 - PROGRESS: at 0.41% examples, 737012 words/s, in_qsize 9, out_qsize 2\n",
      "INFO:gensim.models.word2vec:EPOCH 93: training on 191558143 raw words (185891602 effective words) took 242.1s, 767839 effective words/s\n",
      "INFO:gensim.models.word2vec:EPOCH 94 - PROGRESS: at 0.39% examples, 724239 words/s, in_qsize 9, out_qsize 0\n",
      "INFO:gensim.models.word2vec:EPOCH 94: training on 191558143 raw words (185894760 effective words) took 243.7s, 762744 effective words/s\n",
      "INFO:gensim.models.word2vec:EPOCH 95 - PROGRESS: at 0.40% examples, 743937 words/s, in_qsize 9, out_qsize 0\n",
      "INFO:gensim.models.word2vec:EPOCH 95: training on 191558143 raw words (185893438 effective words) took 248.1s, 749118 effective words/s\n",
      "INFO:gensim.models.word2vec:EPOCH 96 - PROGRESS: at 0.41% examples, 743852 words/s, in_qsize 9, out_qsize 0\n",
      "INFO:gensim.models.word2vec:EPOCH 96: training on 191558143 raw words (185891265 effective words) took 242.3s, 767290 effective words/s\n",
      "INFO:gensim.models.word2vec:EPOCH 97 - PROGRESS: at 0.37% examples, 682028 words/s, in_qsize 9, out_qsize 0\n",
      "INFO:gensim.models.word2vec:EPOCH 97: training on 191558143 raw words (185888351 effective words) took 247.3s, 751815 effective words/s\n",
      "INFO:gensim.models.word2vec:EPOCH 98 - PROGRESS: at 0.39% examples, 724412 words/s, in_qsize 9, out_qsize 0\n",
      "INFO:gensim.models.word2vec:EPOCH 98: training on 191558143 raw words (185895507 effective words) took 246.6s, 753836 effective words/s\n"
     ]
    },
    {
     "name": "stderr",
     "output_type": "stream",
     "text": [
      "INFO:gensim.models.word2vec:EPOCH 99 - PROGRESS: at 0.39% examples, 716416 words/s, in_qsize 9, out_qsize 0\n",
      "INFO:gensim.models.word2vec:EPOCH 99: training on 191558143 raw words (185892329 effective words) took 245.7s, 756708 effective words/s\n",
      "INFO:gensim.utils:FastText lifecycle event {'msg': 'training on 19155814300 raw words (18589328873 effective words) took 25039.5s, 742399 effective words/s', 'datetime': '2023-05-20T22:13:49.995920', 'gensim': '4.3.1', 'python': '3.11.3 | packaged by conda-forge | (main, Apr  6 2023, 08:58:31) [Clang 14.0.6 ]', 'platform': 'macOS-12.6-arm64-arm-64bit', 'event': 'train'}\n"
     ]
    },
    {
     "data": {
      "text/plain": [
       "(18589328873, 19155814300)"
      ]
     },
     "execution_count": 7,
     "metadata": {},
     "output_type": "execute_result"
    }
   ],
   "source": [
    "# we override alpha with small values similar to word2vec models\n",
    "# 100 epochs is also empirical value from word2vec, since loss value is not reported for fasttext\n",
    "model.train(sentences, epochs=100, start_alpha=0.0001, end_alpha=0.00001, total_examples=model.corpus_count, total_words=model.corpus_total_words, compute_loss=True, report_delay=300)\n"
   ]
  },
  {
   "cell_type": "code",
   "execution_count": 16,
   "id": "47482d49",
   "metadata": {},
   "outputs": [
    {
     "data": {
      "text/plain": [
       "[('табака', 0.860010027885437),\n",
       " ('бабашка', 0.8290190100669861),\n",
       " ('бака', 0.8221210837364197),\n",
       " ('кармушка', 0.8011088967323303),\n",
       " ('мядзянка', 0.8001713752746582),\n",
       " ('лядзянка', 0.7990681529045105),\n",
       " ('мішка', 0.7979294657707214),\n",
       " ('ахранка', 0.7974076271057129),\n",
       " ('сашчэпка', 0.797387421131134),\n",
       " ('асірыйка', 0.7863711714744568),\n",
       " ('казашка', 0.786071240901947),\n",
       " ('кадушка', 0.7843467593193054),\n",
       " ('табакерка', 0.784105122089386),\n",
       " ('мігалка', 0.7837947607040405),\n",
       " ('башка', 0.7831396460533142),\n",
       " ('цыганка', 0.782363772392273),\n",
       " ('заглушка', 0.7811365127563477),\n",
       " ('фінціфлюшка', 0.7808333039283752),\n",
       " ('булавешка', 0.7807796597480774),\n",
       " ('сасёнка', 0.7807261347770691)]"
      ]
     },
     "execution_count": 16,
     "metadata": {},
     "output_type": "execute_result"
    }
   ],
   "source": [
    "model.wv.most_similar('сабака', topn=20)"
   ]
  },
  {
   "cell_type": "markdown",
   "id": "fc0a738c",
   "metadata": {},
   "source": [
    "What?! Looks very bad, just playing with letters :("
   ]
  },
  {
   "cell_type": "code",
   "execution_count": 12,
   "id": "0090e873",
   "metadata": {},
   "outputs": [
    {
     "data": {
      "text/plain": [
       "['быць',\n",
       " 'год',\n",
       " 'беларускі',\n",
       " 'беларусь',\n",
       " 'чалавек',\n",
       " 'магчы',\n",
       " 'час',\n",
       " 'усё',\n",
       " 'дзень',\n",
       " 'большыць']"
      ]
     },
     "execution_count": 12,
     "metadata": {},
     "output_type": "execute_result"
    }
   ],
   "source": [
    "model.wv.index_to_key[:10]"
   ]
  },
  {
   "cell_type": "code",
   "execution_count": 14,
   "id": "ec534c05",
   "metadata": {},
   "outputs": [
    {
     "name": "stderr",
     "output_type": "stream",
     "text": [
      "INFO:gensim.utils:FastText lifecycle event {'fname_or_handle': 'fasttext-cc100-d100-w3-min10.model', 'separately': 'None', 'sep_limit': 10485760, 'ignore': frozenset(), 'datetime': '2023-05-20T23:19:08.591239', 'gensim': '4.3.1', 'python': '3.11.3 | packaged by conda-forge | (main, Apr  6 2023, 08:58:31) [Clang 14.0.6 ]', 'platform': 'macOS-12.6-arm64-arm-64bit', 'event': 'saving'}\n",
      "INFO:gensim.utils:storing np array 'vectors_ngrams' to fasttext-cc100-d100-w3-min10.model.wv.vectors_ngrams.npy\n",
      "INFO:gensim.utils:not storing attribute vectors\n",
      "INFO:gensim.utils:not storing attribute buckets_word\n",
      "INFO:gensim.utils:not storing attribute cum_table\n",
      "INFO:gensim.utils:saved fasttext-cc100-d100-w3-min10.model\n"
     ]
    }
   ],
   "source": [
    "model.save(\"fasttext-cc100-d100-w3-min10.model\")"
   ]
  },
  {
   "cell_type": "code",
   "execution_count": 13,
   "id": "389e42e0",
   "metadata": {},
   "outputs": [
    {
     "name": "stderr",
     "output_type": "stream",
     "text": [
      "INFO:gensim.models.keyedvectors:storing 79373x100 projection weights into fasttext-cc100-d100-w3-min10.vectors\n"
     ]
    }
   ],
   "source": [
    "model.wv.save_word2vec_format('fasttext-cc100-d100-w3-min10.vectors')"
   ]
  },
  {
   "cell_type": "code",
   "execution_count": null,
   "id": "6939196b",
   "metadata": {},
   "outputs": [],
   "source": []
  }
 ],
 "metadata": {
  "kernelspec": {
   "display_name": "Python 3 (ipykernel)",
   "language": "python",
   "name": "python3"
  },
  "language_info": {
   "codemirror_mode": {
    "name": "ipython",
    "version": 3
   },
   "file_extension": ".py",
   "mimetype": "text/x-python",
   "name": "python",
   "nbconvert_exporter": "python",
   "pygments_lexer": "ipython3",
   "version": "3.11.3"
  }
 },
 "nbformat": 4,
 "nbformat_minor": 5
}
