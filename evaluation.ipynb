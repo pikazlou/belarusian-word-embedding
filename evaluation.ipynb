{
 "cells": [
  {
   "cell_type": "code",
   "execution_count": 1,
   "id": "e6377472",
   "metadata": {},
   "outputs": [],
   "source": [
    "import os\n",
    "import operator\n",
    "from typing import List\n",
    "from gensim.models import KeyedVectors\n",
    "from gensim.test.utils import datapath"
   ]
  },
  {
   "cell_type": "code",
   "execution_count": 2,
   "id": "2479aed8",
   "metadata": {},
   "outputs": [],
   "source": [
    "def load_dataset(path) -> List[tuple[List[str], str]]:\n",
    "    result = []\n",
    "    for file in os.listdir(path):\n",
    "        if file.endswith('.txt'):\n",
    "            with open(path + '/' + file) as f:\n",
    "                cluster_reading = True\n",
    "                cluster = []\n",
    "                outliers = []\n",
    "                for line in f:\n",
    "                    line = line.rstrip()\n",
    "                    if len(line) > 0:\n",
    "                        if not line.startswith('#'):\n",
    "                            if cluster_reading:\n",
    "                                cluster.append(line)\n",
    "                            else:\n",
    "                                outliers.append(line)\n",
    "                    else:\n",
    "                        cluster_reading = False\n",
    "                for outlier in outliers:\n",
    "                    result.append((cluster, outlier))\n",
    "    return result"
   ]
  },
  {
   "cell_type": "code",
   "execution_count": 3,
   "id": "d6587b34",
   "metadata": {},
   "outputs": [],
   "source": [
    "def compute_accuracy(dataset, sim_fun):\n",
    "    similarities = {}\n",
    "    correct_guesses = 0\n",
    "    total_guesses = 0\n",
    "    for sample in dataset:\n",
    "        cluster, outlier = sample\n",
    "        items = cluster + [outlier]\n",
    "        compactness = {}\n",
    "        for item1 in items:\n",
    "            compactness[item1] = 0.0\n",
    "            for item2 in items:\n",
    "                if item1 != item2:\n",
    "                    compactness[item1] += sim_fun(item1, item2)\n",
    "        least_compact = sorted(compactness.items(), key=operator.itemgetter(1))[0][0]\n",
    "        if least_compact == outlier:\n",
    "            correct_guesses += 1\n",
    "        total_guesses += 1\n",
    "    return correct_guesses / total_guesses"
   ]
  },
  {
   "cell_type": "code",
   "execution_count": 4,
   "id": "a64b6bd8",
   "metadata": {},
   "outputs": [],
   "source": [
    "wv = KeyedVectors.load_word2vec_format('word2vec-100-bel-cc100.vectors', binary=False)"
   ]
  },
  {
   "cell_type": "code",
   "execution_count": 5,
   "id": "6469aaca",
   "metadata": {},
   "outputs": [
    {
     "data": {
      "text/plain": [
       "0.8034666"
      ]
     },
     "execution_count": 5,
     "metadata": {},
     "output_type": "execute_result"
    }
   ],
   "source": [
    "wv.similarity('шчанюк', 'сабака')"
   ]
  },
  {
   "cell_type": "code",
   "execution_count": 6,
   "id": "2f39802f",
   "metadata": {},
   "outputs": [],
   "source": [
    "val_dataset = load_dataset('validation/outlier-detection')"
   ]
  },
  {
   "cell_type": "code",
   "execution_count": 8,
   "id": "0ad80457",
   "metadata": {},
   "outputs": [
    {
     "data": {
      "text/plain": [
       "0.84251968503937"
      ]
     },
     "execution_count": 8,
     "metadata": {},
     "output_type": "execute_result"
    }
   ],
   "source": [
    "compute_accuracy(val_dataset, lambda w1, w2: wv.similarity(w1, w2))"
   ]
  },
  {
   "cell_type": "code",
   "execution_count": null,
   "id": "ea7d4832",
   "metadata": {},
   "outputs": [],
   "source": [
    "c"
   ]
  }
 ],
 "metadata": {
  "kernelspec": {
   "display_name": "Python 3 (ipykernel)",
   "language": "python",
   "name": "python3"
  },
  "language_info": {
   "codemirror_mode": {
    "name": "ipython",
    "version": 3
   },
   "file_extension": ".py",
   "mimetype": "text/x-python",
   "name": "python",
   "nbconvert_exporter": "python",
   "pygments_lexer": "ipython3",
   "version": "3.11.3"
  }
 },
 "nbformat": 4,
 "nbformat_minor": 5
}
